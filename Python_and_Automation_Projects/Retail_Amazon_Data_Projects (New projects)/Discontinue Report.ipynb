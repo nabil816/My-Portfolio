{
 "cells": [
  {
   "cell_type": "code",
   "execution_count": 1,
   "id": "c0c31bff-2ad1-44dd-95a6-e665009c7050",
   "metadata": {},
   "outputs": [],
   "source": [
    "from os import listdir\n",
    "from os.path import isfile, join\n",
    "from openpyxl import load_workbook\n",
    "import os\n",
    "import pandas as pd\n",
    "import matplotlib.pyplot as plt\n",
    "import datetime \n",
    "from statsmodels.stats.proportion import proportions_ztest, proportion_confint\n",
    "from sklearn.cluster import KMeans\n",
    "import numpy as np\n",
    "import datetime\n",
    "import calendar\n",
    "import numpy as np\n",
    "import matplotlib.pyplot as plt\n",
    "from statsmodels.tsa.arima.model import ARIMA\n",
    "from sklearn.metrics import mean_absolute_error\n",
    "from sklearn.model_selection import train_test_split\n",
    "from sklearn.svm import SVR\n",
    "from sklearn.preprocessing import StandardScaler\n",
    "from sklearn.metrics import mean_squared_error, r2_score\n",
    "import matplotlib.pyplot as plt"
   ]
  },
  {
   "cell_type": "markdown",
   "id": "ca4ce0c5-21fc-4ec1-8566-46536e75cd6a",
   "metadata": {},
   "source": [
    "\n",
    "## Getting Sales Data For Last Date "
   ]
  },
  {
   "cell_type": "code",
   "execution_count": 3,
   "id": "ce4e670f-0c9d-4a98-bc82-f7ea0eeebdaa",
   "metadata": {},
   "outputs": [],
   "source": [
    "root_path = r\"C:\\Users\\K-M\\Desktop\\TL\\Final Shape of Files\"\n",
    "os.chdir(root_path)\n",
    "Sales_full = 'Sales_full'\n",
    "Sales_mini = 'Sales_mini'\n",
    "df_sf = pd.read_csv(Sales_full)\n",
    "df_sm = pd.read_csv(Sales_mini)\n",
    "df_sf.fillna(0, inplace = True)\n",
    "df_sm.fillna(0, inplace = True)\n",
    "df_sf['Date'] = pd.to_datetime(df_sf['Date'], format =  \"%d/%m/%Y\")\n",
    "df_sm['Date'] = pd.to_datetime(df_sm['Date'], format =  \"%d/%m/%Y\")"
   ]
  },
  {
   "cell_type": "code",
   "execution_count": 4,
   "id": "fa95e318-a2a3-4df6-80d8-ed03636d44f5",
   "metadata": {},
   "outputs": [],
   "source": [
    "root_path = r\"C:\\Users\\K-M\\Desktop\\discontinue\"\n",
    "os.chdir(root_path)\n",
    "df_tl = pd.read_excel('List of All Products - NEW.xlsx')"
   ]
  },
  {
   "cell_type": "code",
   "execution_count": 5,
   "id": "1446d0dc-5ccc-49dc-aa79-0dc1db65dfae",
   "metadata": {},
   "outputs": [],
   "source": [
    "workbook = load_workbook('List of All Products - NEW.xlsx')\n",
    "\n",
    "# Get all sheet names\n",
    "sheet_names = workbook.sheetnames\n",
    "df_tl = pd.DataFrame()\n",
    "for i in sheet_names[:4]:\n",
    "    df_t = pd.read_excel('List of All Products - NEW.xlsx', sheet_name = i)\n",
    "    df_t['Country'] = i\n",
    "    df_tl = pd.concat([df_tl, df_t])"
   ]
  },
  {
   "cell_type": "markdown",
   "id": "e492e05e-5fc9-4c3a-94e2-e5bcedee46bf",
   "metadata": {},
   "source": [
    "### Getting the start date of each product"
   ]
  },
  {
   "cell_type": "code",
   "execution_count": 7,
   "id": "2be186aa-0ba0-4a5e-9c86-3ae26099821a",
   "metadata": {},
   "outputs": [],
   "source": [
    "start_date = df_sm[['Date','ASIN','SKU', 'Marketplace']].sort_values(by = 'Date').drop_duplicates(subset =['ASIN','SKU', 'Marketplace'] ,keep = 'first')"
   ]
  },
  {
   "cell_type": "markdown",
   "id": "055be205-6ac1-42e0-95ca-076cd88ab6f0",
   "metadata": {},
   "source": [
    "## Getting Revenues and profit per year"
   ]
  },
  {
   "cell_type": "code",
   "execution_count": 9,
   "id": "942de563-46e0-4340-a0ce-e64dcf946b05",
   "metadata": {},
   "outputs": [],
   "source": [
    "df_sm = df_sm[df_sm['Date'].between('2023-01-01', '2024-12-31')]\n",
    "df_sf = df_sf[df_sf['Date'].between('2023-01-01', '2024-12-31')]\n",
    "df_sf['Gross Revenue'] = df_sf['SalesOrganic'] +  df_sf['SalesSponsoredProducts'] + df_sf['SalesSponsoredDisplay']\n",
    "df_sf['Units Sold'] = df_sf['UnitsOrganic'] + df_sf['UnitsPPC']\n",
    "df_sf['FBA storage fee'] = df_sf['FBALongTermStorageFee'] + df_sf['FBAStorageFee'] +  df_sf['FBAPerUnitFulfillmentFee']\n"
   ]
  },
  {
   "cell_type": "code",
   "execution_count": 10,
   "id": "e86e9ffa-710c-4217-a6a3-26b031175cb4",
   "metadata": {},
   "outputs": [],
   "source": [
    "df_sf.sort_values('Date')\n",
    "df_sf['year'] = df_sf['Date'].dt.year\n",
    "df_sm['year'] = df_sm['Date'].dt.year"
   ]
  },
  {
   "cell_type": "code",
   "execution_count": 11,
   "id": "a9cb0f0c-9f2a-488d-abfe-b7985f9732d1",
   "metadata": {},
   "outputs": [],
   "source": [
    "df_r = pd.pivot_table(df_sm,index=['SKU', 'ASIN', 'year', 'Marketplace'], values=(['RefundCost','NetProfit']), aggfunc = 'sum')\n",
    "df_r2 = pd.pivot_table(df_sf,index=['SKU', 'ASIN', 'year', 'Marketplace'], values=(['Gross Revenue','Units Sold']), aggfunc = 'sum')"
   ]
  },
  {
   "cell_type": "code",
   "execution_count": 12,
   "id": "cb57ed1b-4b13-48c5-ad4e-6e173fc2309e",
   "metadata": {},
   "outputs": [],
   "source": [
    "df_r = df_r.reset_index()\n",
    "df_r2 = df_r2.reset_index()"
   ]
  },
  {
   "cell_type": "code",
   "execution_count": 13,
   "id": "894858de-370b-4f6c-b93b-e6fe1a97fa12",
   "metadata": {},
   "outputs": [
    {
     "name": "stderr",
     "output_type": "stream",
     "text": [
      "C:\\Users\\K-M\\AppData\\Local\\Temp\\ipykernel_7104\\4051028930.py:3: SettingWithCopyWarning: \n",
      "A value is trying to be set on a copy of a slice from a DataFrame\n",
      "\n",
      "See the caveats in the documentation: https://pandas.pydata.org/pandas-docs/stable/user_guide/indexing.html#returning-a-view-versus-a-copy\n",
      "  df_r2023.rename(columns = {'NetProfit': 'NetProfit 2023', 'RefundCost': 'RefundCost 2023'}, inplace = True)\n",
      "C:\\Users\\K-M\\AppData\\Local\\Temp\\ipykernel_7104\\4051028930.py:4: SettingWithCopyWarning: \n",
      "A value is trying to be set on a copy of a slice from a DataFrame\n",
      "\n",
      "See the caveats in the documentation: https://pandas.pydata.org/pandas-docs/stable/user_guide/indexing.html#returning-a-view-versus-a-copy\n",
      "  df_r22023.rename(columns = {'Gross Revenue': 'Gross Revenue 2023', 'Units Sold': 'Units Sold 2023'}, inplace = True)\n",
      "C:\\Users\\K-M\\AppData\\Local\\Temp\\ipykernel_7104\\4051028930.py:9: SettingWithCopyWarning: \n",
      "A value is trying to be set on a copy of a slice from a DataFrame\n",
      "\n",
      "See the caveats in the documentation: https://pandas.pydata.org/pandas-docs/stable/user_guide/indexing.html#returning-a-view-versus-a-copy\n",
      "  df_r2024.rename(columns = {'NetProfit': 'NetProfit 2024', 'RefundCost': 'RefundCost 2024'}, inplace = True)\n",
      "C:\\Users\\K-M\\AppData\\Local\\Temp\\ipykernel_7104\\4051028930.py:10: SettingWithCopyWarning: \n",
      "A value is trying to be set on a copy of a slice from a DataFrame\n",
      "\n",
      "See the caveats in the documentation: https://pandas.pydata.org/pandas-docs/stable/user_guide/indexing.html#returning-a-view-versus-a-copy\n",
      "  df_r22024.rename(columns = {'Gross Revenue': 'Gross Revenue 2024', 'Units Sold': 'Units Sold 2024'}, inplace = True)\n"
     ]
    }
   ],
   "source": [
    "df_r2023 = df_r[df_r['year'] == 2023]\n",
    "df_r22023 = df_r2[df_r2['year'] == 2023]\n",
    "df_r2023.rename(columns = {'NetProfit': 'NetProfit 2023', 'RefundCost': 'RefundCost 2023'}, inplace = True)\n",
    "df_r22023.rename(columns = {'Gross Revenue': 'Gross Revenue 2023', 'Units Sold': 'Units Sold 2023'}, inplace = True)\n",
    "\n",
    "\n",
    "df_r2024 = df_r[df_r['year'] == 2024]\n",
    "df_r22024 = df_r2[df_r2['year'] == 2024]\n",
    "df_r2024.rename(columns = {'NetProfit': 'NetProfit 2024', 'RefundCost': 'RefundCost 2024'}, inplace = True)\n",
    "df_r22024.rename(columns = {'Gross Revenue': 'Gross Revenue 2024', 'Units Sold': 'Units Sold 2024'}, inplace = True)\n"
   ]
  },
  {
   "cell_type": "code",
   "execution_count": 14,
   "id": "75071ddc-6d87-4153-857a-3cd5fcbc688b",
   "metadata": {},
   "outputs": [],
   "source": [
    "df = df_r2024.merge(df_r22024.drop(columns = 'year'), on = ['Marketplace', 'ASIN', 'SKU'], how = 'left')\n",
    "df  =df.merge(df_r2023.drop(columns = 'year'), on = ['Marketplace', 'ASIN', 'SKU'], how = 'left')\n",
    "df = df.merge(df_r22023.drop(columns = 'year'), on = ['Marketplace', 'ASIN', 'SKU'], how = 'left')\n",
    "df = df.merge(start_date, on = ['Marketplace', 'ASIN', 'SKU'], how = 'left')"
   ]
  },
  {
   "cell_type": "markdown",
   "id": "92347b3a-ec0f-4ba1-afe0-8003961f5a2c",
   "metadata": {},
   "source": [
    "# Aggregating Based on Product Name\n"
   ]
  },
  {
   "cell_type": "code",
   "execution_count": 16,
   "id": "10c043bc-a261-480a-81ca-259310a6b27b",
   "metadata": {},
   "outputs": [],
   "source": [
    "df_sku_level = df.copy()"
   ]
  },
  {
   "cell_type": "code",
   "execution_count": 17,
   "id": "311ca0aa-2a69-4c6a-9a25-5920e2499b84",
   "metadata": {},
   "outputs": [],
   "source": [
    "df_A = pd.pivot_table(df,index=['Marketplace','ASIN'], values=(['NetProfit 2024',\n",
    "       'RefundCost 2024', 'Gross Revenue 2024', 'Units Sold 2024',\n",
    "       'NetProfit 2023', 'RefundCost 2023', 'Gross Revenue 2023',\n",
    "       'Units Sold 2023']), aggfunc = 'sum').reset_index()\n",
    "\n",
    "df_A = df_A.merge(start_date.drop(columns = 'SKU').drop_duplicates(subset = ['Marketplace', 'ASIN'], keep = 'first'), on = ['Marketplace', 'ASIN'], how = 'left')"
   ]
  },
  {
   "cell_type": "code",
   "execution_count": 18,
   "id": "f76b6151-6462-413a-a452-69bfcea6ac50",
   "metadata": {},
   "outputs": [],
   "source": [
    "df_A['Net Margin 2023'] = df_A['NetProfit 2023'] / df_A['Gross Revenue 2023']\n",
    "df_A['Net Margin 2024'] = df_A['NetProfit 2024'] / df_A['Gross Revenue 2024']\n",
    "df_A.replace([np.inf, -np.inf], 0, inplace=True)\n"
   ]
  },
  {
   "cell_type": "code",
   "execution_count": 19,
   "id": "f4e2ea02-b8de-49cc-93f6-1afd002e15c0",
   "metadata": {},
   "outputs": [
    {
     "name": "stderr",
     "output_type": "stream",
     "text": [
      "C:\\Users\\K-M\\AppData\\Local\\Temp\\ipykernel_7104\\3794279897.py:2: FutureWarning: A value is trying to be set on a copy of a DataFrame or Series through chained assignment using an inplace method.\n",
      "The behavior will change in pandas 3.0. This inplace method will never work because the intermediate object on which we are setting values always behaves as a copy.\n",
      "\n",
      "For example, when doing 'df[col].method(value, inplace=True)', try using 'df.method({col: value}, inplace=True)' or df[col] = df[col].method(value) instead, to perform the operation inplace on the original object.\n",
      "\n",
      "\n",
      "  df_A['Country'].replace( {'Amazon.ca':'CA', 'Amazon.co.uk': 'UK', 'Amazon.com': 'USA', 'Amazon.com.be': 'EU',\n"
     ]
    }
   ],
   "source": [
    "df_A['Country'] = df_A['Marketplace']\n",
    "df_A['Country'].replace( {'Amazon.ca':'CA', 'Amazon.co.uk': 'UK', 'Amazon.com': 'USA', 'Amazon.com.be': 'EU',\n",
    "       'Amazon.com.mx': 'USA', 'Amazon.com.tr': 'EU', 'Amazon.de': 'EU', 'Amazon.es': 'EU',\n",
    "       'Amazon.fr': 'EU', 'Amazon.it': 'EU', 'Amazon.nl': 'EU', 'Amazon.pl': 'EU', 'Amazon.se': 'EU'}, inplace = True)\n"
   ]
  },
  {
   "cell_type": "code",
   "execution_count": 20,
   "id": "43586532-e846-4424-ae0f-fc80ae62bede",
   "metadata": {},
   "outputs": [],
   "source": [
    "df_A.reset_index(inplace = True, drop = True)"
   ]
  },
  {
   "cell_type": "code",
   "execution_count": 21,
   "id": "f9fdbf2a-a684-4242-b038-320bd4a1749f",
   "metadata": {},
   "outputs": [],
   "source": [
    "for i in range(0, df_A.shape[0]):\n",
    "    try:\n",
    "        df_t = df_tl[(df_tl['ASIN'] == df_A.loc[i, 'ASIN']) & (df_tl['Country'] == df_A.loc[i, 'Country'])]\n",
    "        df_A.loc[i, 'Product Name'] = df_t['Products (Other name)'].unique()\n",
    "    except:\n",
    "        pass\n",
    "\n",
    "df_A = df_A[df_A['Product Name'].isna() == False]\n"
   ]
  },
  {
   "cell_type": "code",
   "execution_count": 22,
   "id": "12a17fa6-0464-4ce3-8e20-bfa3fd0680f9",
   "metadata": {},
   "outputs": [],
   "source": [
    "df_A.reset_index(inplace  = True, drop = True)\n",
    "df_A['Product Name'] = df_A['Product Name'].astype(str).str.strip()"
   ]
  },
  {
   "cell_type": "code",
   "execution_count": 23,
   "id": "d6831d67-42ad-45e4-81ba-d24ad1f5c59f",
   "metadata": {},
   "outputs": [],
   "source": [
    "df_A2 = pd.pivot_table(df_A,index=['Product Name', 'Marketplace'], values=(['NetProfit 2024',\n",
    "       'RefundCost 2024', 'Gross Revenue 2024', 'Units Sold 2024',\n",
    "       'NetProfit 2023', 'RefundCost 2023', 'Gross Revenue 2023',\n",
    "       'Units Sold 2023']), aggfunc = 'sum').reset_index()\n",
    "df_All = pd.pivot_table(df_A,index=['Product Name'], values=(['NetProfit 2024',\n",
    "       'RefundCost 2024', 'Gross Revenue 2024', 'Units Sold 2024',\n",
    "       'NetProfit 2023', 'RefundCost 2023', 'Gross Revenue 2023',\n",
    "       'Units Sold 2023']), aggfunc = 'sum').reset_index()"
   ]
  },
  {
   "cell_type": "code",
   "execution_count": 24,
   "id": "70447175-3007-4b4a-bf3c-6e42fe863c08",
   "metadata": {},
   "outputs": [],
   "source": [
    "start_date_new = df_A[['Product Name',\n",
    "                       'Date']].sort_values(by = 'Date').reset_index(drop = True).drop_duplicates(subset = 'Product Name',keep = 'first')\n",
    "df_All = df_All.merge(start_date_new, how = 'left', on = ['Product Name'])"
   ]
  },
  {
   "cell_type": "code",
   "execution_count": 25,
   "id": "5ae12205-8fa2-46b0-b730-b78af0b7fa85",
   "metadata": {},
   "outputs": [],
   "source": [
    "start_date_new = df_A[['Product Name', 'Marketplace',\n",
    "                       'Date']].sort_values(by = 'Date').reset_index(drop = True).drop_duplicates(subset = ['Product Name',\n",
    "                                                                                                            'Marketplace'],keep = 'first')\n",
    "df_A2 = df_A2.merge(start_date_new, how = 'left', on = ['Marketplace', 'Product Name'])"
   ]
  },
  {
   "cell_type": "code",
   "execution_count": 26,
   "id": "77ed0a4c-c6a0-442c-b907-3809a9b24423",
   "metadata": {},
   "outputs": [],
   "source": [
    "df_All['Net Margin 2023'] = df_All['NetProfit 2023'] / df_All['Gross Revenue 2023']\n",
    "df_All['Net Margin 2024'] = df_All['NetProfit 2024'] / df_All['Gross Revenue 2024']\n",
    "df_A2['Net Margin 2023'] = df_A2['NetProfit 2023'] / df_A2['Gross Revenue 2023']\n",
    "df_A2['Net Margin 2024'] = df_A2['NetProfit 2024'] / df_A2['Gross Revenue 2024']\n",
    "df_All.fillna(0, inplace = True)\n",
    "df_A2.fillna(0, inplace = True)"
   ]
  },
  {
   "cell_type": "code",
   "execution_count": 27,
   "id": "7a0916f0-273d-4a5f-9952-77f1b3edb22a",
   "metadata": {},
   "outputs": [],
   "source": [
    "df_A2['Sales more than 100 units'] = df_A2['Units Sold 2024'] > 100\n",
    "df_A2['Net Profit above $200'] = df_A2['NetProfit 2024'] > 200\n",
    "df_A2['Net Margin above 10%'] = df_A2['Net Margin 2024'] > 0.1\n",
    "\n",
    "df_All['Sales more than 100 units'] = df_All['Units Sold 2024'] > 100\n",
    "df_All['Net Profit above $200'] = df_All['NetProfit 2024'] > 200\n",
    "df_All['Net Margin above 10%'] = df_All['Net Margin 2024'] > 0.1"
   ]
  },
  {
   "cell_type": "code",
   "execution_count": 28,
   "id": "4e79aa3d-32af-422a-aa3e-d6caa6e99381",
   "metadata": {},
   "outputs": [
    {
     "name": "stderr",
     "output_type": "stream",
     "text": [
      "C:\\Users\\K-M\\AppData\\Local\\Temp\\ipykernel_7104\\2866378349.py:2: SettingWithCopyWarning: \n",
      "A value is trying to be set on a copy of a slice from a DataFrame.\n",
      "Try using .loc[row_indexer,col_indexer] = value instead\n",
      "\n",
      "See the caveats in the documentation: https://pandas.pydata.org/pandas-docs/stable/user_guide/indexing.html#returning-a-view-versus-a-copy\n",
      "  product_new['Yearly Gross Revenue growth'] = product_new['Gross Revenue 2024'] > product_new['Gross Revenue 2023']\n",
      "C:\\Users\\K-M\\AppData\\Local\\Temp\\ipykernel_7104\\2866378349.py:3: SettingWithCopyWarning: \n",
      "A value is trying to be set on a copy of a slice from a DataFrame.\n",
      "Try using .loc[row_indexer,col_indexer] = value instead\n",
      "\n",
      "See the caveats in the documentation: https://pandas.pydata.org/pandas-docs/stable/user_guide/indexing.html#returning-a-view-versus-a-copy\n",
      "  product_new['Yearly NetProfit growth'] = product_new['NetProfit 2024'] > product_new['NetProfit 2023']\n",
      "C:\\Users\\K-M\\AppData\\Local\\Temp\\ipykernel_7104\\2866378349.py:4: SettingWithCopyWarning: \n",
      "A value is trying to be set on a copy of a slice from a DataFrame.\n",
      "Try using .loc[row_indexer,col_indexer] = value instead\n",
      "\n",
      "See the caveats in the documentation: https://pandas.pydata.org/pandas-docs/stable/user_guide/indexing.html#returning-a-view-versus-a-copy\n",
      "  product_new['Score'] = product_new[['Sales more than 100 units', 'Net Profit above $200',\n"
     ]
    }
   ],
   "source": [
    "product_new = df_A2[df_A2['Date'] < '2024-01-01']\n",
    "product_new['Yearly Gross Revenue growth'] = product_new['Gross Revenue 2024'] > product_new['Gross Revenue 2023']\n",
    "product_new['Yearly NetProfit growth'] = product_new['NetProfit 2024'] > product_new['NetProfit 2023']\n",
    "product_new['Score'] = product_new[['Sales more than 100 units', 'Net Profit above $200',\n",
    "       'Net Margin above 10%', 'Yearly Gross Revenue growth',\n",
    "       'Yearly NetProfit growth']].sum(axis = 1)\n",
    "product_new =product_new [[ 'Product Name', 'Date', 'Marketplace',\n",
    "                       'Gross Revenue 2024', 'Gross Revenue 2023',\n",
    "                       'NetProfit 2024', 'NetProfit 2023', \n",
    "                       'RefundCost 2024', 'RefundCost 2023', \n",
    "                       'Units Sold 2024', 'Units Sold 2023',\n",
    "                       'Net Margin 2024','Net Margin 2023', \n",
    "                       'Sales more than 100 units', 'Net Profit above $200',\n",
    "                       'Net Margin above 10%', 'Yearly Gross Revenue growth',\n",
    "                       'Yearly NetProfit growth', 'Score']]\n",
    "#ind = df_A2[df_A2['Date'] > '2024-01-01'].index\n",
    "#df_A2.drop(ind, inplace = True)\n",
    "df_A2.reset_index(inplace = True, drop = True)\n",
    "product_new.reset_index(inplace = True, drop = True)\n",
    "product_new.drop(columns = ['NetProfit 2023', 'Gross Revenue 2023', 'RefundCost 2023', 'Units Sold 2023','Net Margin 2023' ], inplace = True)\n",
    "df_A2['Score'] = df_A2[['Sales more than 100 units', 'Net Profit above $200',\n",
    "       'Net Margin above 10%']].sum(axis = 1)"
   ]
  },
  {
   "cell_type": "code",
   "execution_count": 29,
   "id": "bbd9b699-435e-469d-9b3a-15f78639a3e4",
   "metadata": {},
   "outputs": [],
   "source": [
    "for i in range(0, product_new.shape[0]):\n",
    "    if product_new.loc[i, 'Score'] == 0 or product_new.loc[i, 'Score'] == 1:\n",
    "        product_new.loc[i, 'Class'] = 'D' \n",
    "    if product_new.loc[i, 'Score'] == 2 or product_new.loc[i, 'Score'] == 3:\n",
    "        product_new.loc[i, 'Class'] = 'C' \n",
    "    if product_new.loc[i, 'Score'] == 4:\n",
    "        product_new.loc[i, 'Class'] = 'B' \n",
    "    if product_new.loc[i, 'Score'] == 5:\n",
    "        product_new.loc[i, 'Class'] = 'A' \n",
    "\n",
    "\n",
    "for i in range(0, df_A2.shape[0]):\n",
    "    if df_A2.loc[i, 'Score'] == 0:\n",
    "        df_A2.loc[i, 'Class'] = 'D' \n",
    "    if df_A2.loc[i, 'Score'] == 1:\n",
    "        df_A2.loc[i, 'Class'] = 'C' \n",
    "    if df_A2.loc[i, 'Score'] == 2:\n",
    "        df_A2.loc[i, 'Class'] = 'B' \n",
    "    if df_A2.loc[i, 'Score'] == 3:\n",
    "        df_A2.loc[i, 'Class'] = 'A' "
   ]
  },
  {
   "cell_type": "code",
   "execution_count": 30,
   "id": "d5e45cdd-351a-41ce-97af-465bbc58090f",
   "metadata": {},
   "outputs": [],
   "source": [
    "df_A2 = df_A2[['Product Name', 'Marketplace', 'Date', 'Gross Revenue 2024',\n",
    "       'NetProfit 2024', 'Units Sold 2024',\n",
    "       'Net Margin 2024', 'Sales more than 100 units', 'Net Profit above $200',\n",
    "       'Net Margin above 10%', 'Score', 'Class']]"
   ]
  },
  {
   "cell_type": "code",
   "execution_count": 31,
   "id": "2226beda-aa8e-4c38-98f2-9cf25c15fc4e",
   "metadata": {},
   "outputs": [],
   "source": [
    "product_new.sort_values(by = ['Score',  'Class', 'Gross Revenue 2024'], ascending = False).to_excel('Discontinuation per marketplace Report.xlsx',\n",
    "                                                                                                   sheet_name = 'Old Products')\n",
    "with pd.ExcelWriter('Discontinuation per marketplace Report.xlsx', engine='openpyxl', mode='a') as writer:\n",
    "    for i in df_A['Marketplace'].unique():\n",
    "        df_t = df_A2[df_A2['Marketplace'] == i]\n",
    "        df_t.sort_values(by = ['Score',  'Class', 'Gross Revenue 2024'], ascending = False).to_excel(writer, sheet_name= i,  index = False)"
   ]
  },
  {
   "cell_type": "code",
   "execution_count": 32,
   "id": "d6892c5d-84ab-4f19-82fa-2bd9f05f03bd",
   "metadata": {},
   "outputs": [
    {
     "name": "stderr",
     "output_type": "stream",
     "text": [
      "C:\\Users\\K-M\\AppData\\Local\\Temp\\ipykernel_7104\\2547991594.py:2: SettingWithCopyWarning: \n",
      "A value is trying to be set on a copy of a slice from a DataFrame.\n",
      "Try using .loc[row_indexer,col_indexer] = value instead\n",
      "\n",
      "See the caveats in the documentation: https://pandas.pydata.org/pandas-docs/stable/user_guide/indexing.html#returning-a-view-versus-a-copy\n",
      "  product_new['Yearly Gross Revenue growth'] = product_new['Gross Revenue 2024'] > product_new['Gross Revenue 2023']\n",
      "C:\\Users\\K-M\\AppData\\Local\\Temp\\ipykernel_7104\\2547991594.py:3: SettingWithCopyWarning: \n",
      "A value is trying to be set on a copy of a slice from a DataFrame.\n",
      "Try using .loc[row_indexer,col_indexer] = value instead\n",
      "\n",
      "See the caveats in the documentation: https://pandas.pydata.org/pandas-docs/stable/user_guide/indexing.html#returning-a-view-versus-a-copy\n",
      "  product_new['Yearly NetProfit growth'] = product_new['NetProfit 2024'] > product_new['NetProfit 2023']\n",
      "C:\\Users\\K-M\\AppData\\Local\\Temp\\ipykernel_7104\\2547991594.py:4: SettingWithCopyWarning: \n",
      "A value is trying to be set on a copy of a slice from a DataFrame.\n",
      "Try using .loc[row_indexer,col_indexer] = value instead\n",
      "\n",
      "See the caveats in the documentation: https://pandas.pydata.org/pandas-docs/stable/user_guide/indexing.html#returning-a-view-versus-a-copy\n",
      "  product_new['Score'] = product_new[['Sales more than 100 units', 'Net Profit above $200',\n"
     ]
    }
   ],
   "source": [
    "product_new = df_All[df_All['Date'] < '2024-01-01']\n",
    "product_new['Yearly Gross Revenue growth'] = product_new['Gross Revenue 2024'] > product_new['Gross Revenue 2023']\n",
    "product_new['Yearly NetProfit growth'] = product_new['NetProfit 2024'] > product_new['NetProfit 2023']\n",
    "product_new['Score'] = product_new[['Sales more than 100 units', 'Net Profit above $200',\n",
    "       'Net Margin above 10%', 'Yearly Gross Revenue growth',\n",
    "       'Yearly NetProfit growth']].sum(axis = 1)\n",
    "product_new =product_new [[ 'Product Name', 'Date',\n",
    "                       'Gross Revenue 2024', 'Gross Revenue 2023',\n",
    "                       'NetProfit 2024', 'NetProfit 2023', \n",
    "                       'RefundCost 2024', 'RefundCost 2023', \n",
    "                       'Units Sold 2024', 'Units Sold 2023',\n",
    "                       'Net Margin 2024','Net Margin 2023', \n",
    "                       'Sales more than 100 units', 'Net Profit above $200',\n",
    "                       'Net Margin above 10%', 'Yearly Gross Revenue growth',\n",
    "                       'Yearly NetProfit growth', 'Score']]\n",
    "\n",
    "df_All.reset_index(inplace = True, drop = True)\n",
    "product_new.reset_index(inplace = True, drop = True)\n",
    "product_new.drop(columns = ['NetProfit 2023', 'Gross Revenue 2023', 'RefundCost 2023', 'Units Sold 2023','Net Margin 2023' ], inplace = True)\n",
    "df_All['Score'] = df_All[['Sales more than 100 units', 'Net Profit above $200',\n",
    "       'Net Margin above 10%']].sum(axis = 1)"
   ]
  },
  {
   "cell_type": "code",
   "execution_count": 33,
   "id": "59fcff75-d7ba-4641-bf15-dbbbe80f59bf",
   "metadata": {},
   "outputs": [],
   "source": [
    "for i in range(0, product_new.shape[0]):\n",
    "    if product_new.loc[i, 'Score'] == 0 or product_new.loc[i, 'Score'] == 1:\n",
    "        product_new.loc[i, 'Class'] = 'D' \n",
    "    if product_new.loc[i, 'Score'] == 2 or product_new.loc[i, 'Score'] == 3:\n",
    "        product_new.loc[i, 'Class'] = 'C' \n",
    "    if product_new.loc[i, 'Score'] == 4:\n",
    "        product_new.loc[i, 'Class'] = 'B' \n",
    "    if product_new.loc[i, 'Score'] == 5:\n",
    "        product_new.loc[i, 'Class'] = 'A' \n",
    "\n",
    "\n",
    "for i in range(0, df_All.shape[0]):\n",
    "    if df_All.loc[i, 'Score'] == 0:\n",
    "        df_All.loc[i, 'Class'] = 'D' \n",
    "    if df_All.loc[i, 'Score'] == 1:\n",
    "        df_All.loc[i, 'Class'] = 'C' \n",
    "    if df_All.loc[i, 'Score'] == 2:\n",
    "        df_All.loc[i, 'Class'] = 'B' \n",
    "    if df_All.loc[i, 'Score'] == 3:\n",
    "        df_All.loc[i, 'Class'] = 'A' \n",
    "\n",
    "\n",
    "df_All = df_A2[['Product Name', 'Date', 'Gross Revenue 2024',\n",
    "       'NetProfit 2024', 'Units Sold 2024',\n",
    "       'Net Margin 2024', 'Sales more than 100 units', 'Net Profit above $200',\n",
    "       'Net Margin above 10%', 'Score', 'Class']]"
   ]
  },
  {
   "cell_type": "code",
   "execution_count": 34,
   "id": "8f2adc7c-905c-4cca-b3f5-c6fb33988ea4",
   "metadata": {},
   "outputs": [],
   "source": [
    "product_new.sort_values(by = ['Score',  'Class', 'Gross Revenue 2024'], ascending = False).to_excel('Discontinuation Report.xlsx',\n",
    "                                                                                                   sheet_name = 'Old Products')\n",
    "with pd.ExcelWriter('Discontinuation Report.xlsx', engine='openpyxl', mode='a') as writer:\n",
    "        df_All.sort_values(by = ['Score',  'Class', 'Gross Revenue 2024'], ascending = False).to_excel(writer, sheet_name= 'New products',  index = False)"
   ]
  }
 ],
 "metadata": {
  "kernelspec": {
   "display_name": "Python [conda env:base] *",
   "language": "python",
   "name": "conda-base-py"
  },
  "language_info": {
   "codemirror_mode": {
    "name": "ipython",
    "version": 3
   },
   "file_extension": ".py",
   "mimetype": "text/x-python",
   "name": "python",
   "nbconvert_exporter": "python",
   "pygments_lexer": "ipython3",
   "version": "3.12.7"
  }
 },
 "nbformat": 4,
 "nbformat_minor": 5
}
