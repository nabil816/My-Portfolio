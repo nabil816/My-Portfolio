{
 "cells": [
  {
   "cell_type": "code",
   "execution_count": 1,
   "id": "ce49d457",
   "metadata": {},
   "outputs": [],
   "source": [
    "dataset = '22 April to 6 May.xlsx'"
   ]
  },
  {
   "cell_type": "markdown",
   "id": "3abec678",
   "metadata": {},
   "source": [
    "# Importing Data And Libraries"
   ]
  },
  {
   "cell_type": "code",
   "execution_count": 2,
   "id": "6003f850",
   "metadata": {},
   "outputs": [],
   "source": [
    "import os\n",
    "import pandas as pd\n",
    "import numpy as np\n",
    "import matplotlib.pyplot as plt\n",
    "from sklearn.cluster import KMeans"
   ]
  },
  {
   "cell_type": "markdown",
   "id": "082094f3",
   "metadata": {},
   "source": [
    "### Reading Our Datasets "
   ]
  },
  {
   "cell_type": "code",
   "execution_count": 3,
   "id": "19293a74",
   "metadata": {},
   "outputs": [],
   "source": [
    "dataset = pd.read_excel(dataset)\n",
    "df = dataset.copy()"
   ]
  },
  {
   "cell_type": "markdown",
   "id": "969e6b26",
   "metadata": {},
   "source": [
    "# Cleaning Part"
   ]
  },
  {
   "cell_type": "markdown",
   "id": "eb6b5745",
   "metadata": {},
   "source": [
    "### Extract the year and the month columns\n"
   ]
  },
  {
   "cell_type": "code",
   "execution_count": 4,
   "id": "9b4c8abc",
   "metadata": {},
   "outputs": [],
   "source": [
    "df.rename(columns = {\n",
    "    'Order Ref/Branch': 'Area'\n",
    "    , 'Receipt Number':'رقم الفاتوره'\n",
    "    , 'Order Date':  'Date'\n",
    "    ,'Order Ref/Sales Team': 'فريق المبيعات' \n",
    "    , 'Product/Barcode': 'Barcode'\n",
    "    ,'Product/Product Category': 'Product Category'\n",
    "    ,'Total cost': 'Cost'\n",
    "    , 'Order Ref/Employee/Employee Name': 'Order Ref/Cashier'\n",
    "    ,'Product/Barcode': 'Barcode'\n",
    "    ,'Total cost': 'Cost'\n",
    "    ,'Order Ref/Employee/Employee Name': 'Order Ref/Cashier'\n",
    "    ,'Product/Sales Price': 'Sales Price'\n",
    "}, inplace = True)\n",
    "\n",
    "\n"
   ]
  },
  {
   "cell_type": "code",
   "execution_count": 5,
   "id": "3698fdb8",
   "metadata": {},
   "outputs": [],
   "source": [
    "df['day'] = pd.to_datetime(df['Date']).dt.day\n",
    "d = list(df['day'].dropna().unique())\n",
    "\n",
    "df['month'] = pd.to_datetime(df['Date']).dt.month_name()\n",
    "m = list(df['month'].dropna().unique())\n",
    "\n",
    "df['year'] = pd.to_datetime(df['Date']).dt.year\n",
    "y = list(df['year'].dropna().unique())"
   ]
  },
  {
   "cell_type": "markdown",
   "id": "e504d381",
   "metadata": {},
   "source": [
    "### Change the directory in order to put all the excel files reports in the day folder"
   ]
  },
  {
   "cell_type": "code",
   "execution_count": 6,
   "id": "8a967b1a",
   "metadata": {},
   "outputs": [],
   "source": [
    "root_path = 'Desktop/'\n",
    "try:\n",
    "    os.mkdir(os.path.join(root_path, 'حملات اعلانية'))\n",
    "    os.chdir(os.path.join(root_path,  'حملات اعلانية'))\n",
    "except:\n",
    "    os.chdir(os.path.join(root_path,  'حملات اعلانية'))"
   ]
  },
  {
   "cell_type": "markdown",
   "id": "f4dbd318",
   "metadata": {},
   "source": [
    "### Split product cat Columns"
   ]
  },
  {
   "cell_type": "code",
   "execution_count": 7,
   "id": "8092766b",
   "metadata": {},
   "outputs": [],
   "source": [
    "df[['Cat1', 'Product origin', 'cat2', 'cat3', 'cat4']]= df['Product Category'].str.split(\"/\",expand=True)\n",
    "df.drop(columns= {'Product Category'}, inplace = True)"
   ]
  },
  {
   "cell_type": "markdown",
   "id": "88be6d1c",
   "metadata": {},
   "source": [
    "### Prepare the required Columns"
   ]
  },
  {
   "cell_type": "code",
   "execution_count": 8,
   "id": "f8b26324",
   "metadata": {},
   "outputs": [],
   "source": [
    "df['discount amount'] = df['Quantity'] * (df['Unit Price'] - df['Subtotal'])\n",
    "df['discount percentage'] = df['discount amount'] / df['Unit Price']\n",
    "df['Total discount'] = df['discount amount']  + df['discount percentage']\n",
    "df['price before discount'] = df['Unit Price'] * df['Quantity']\n",
    "df['Cost per unit'] = df['Cost'] * df['Quantity']\n",
    "df['vat'] = df['Subtotal'] / 1.15\n",
    "df['profit margin'] = df['vat'] - df['Cost'] \n",
    "df['Profit margin percentage'] = df['profit margin'] /df['vat']"
   ]
  },
  {
   "cell_type": "markdown",
   "id": "3e78382e",
   "metadata": {},
   "source": [
    "### Cleaning the values of the branches to be in a better shape"
   ]
  },
  {
   "cell_type": "code",
   "execution_count": 9,
   "id": "9d371740",
   "metadata": {},
   "outputs": [],
   "source": [
    "df['فريق المبيعات'].replace({ 'مبيعات نقاط بيع راحتي الإحساء' : 'الإحساء',\n",
    "                             'مبيعات نقاط بيع راحتي الرس' : 'الرس' ,\n",
    "                             'مبيعات نقاط بيع راحتي بريدة 2' : \"بريدة 2\",\n",
    "                             'مبيعات نقاط بيع راحتي الدمام' : \"الدمام\",\n",
    "                             'مبيعات نقاط بيع فرع بريدة 1' : 'بريدة 1',\n",
    "                             'مبيعات نقاط بيع راحتي الطائف 1' : ' الطائف 1',\n",
    "                              'مبيعات نقاط بيع راحتي البدائع': 'البدائع',\n",
    "                             'مبيعات نقاط بيع راحتي حائل 1': 'حائل 1',\n",
    "                             'مبيعات نقاط بيع راحتي حفر الباطن': 'حفر الباطن',\n",
    "                             'مبيعات نقاط بيع راحتي حائل 2': 'حائل 2',\n",
    "                             'مبيعات متجر قصر البيان الإلكتروني': 'قصر البيان الإلكتروني',\n",
    "                             'مبيعات نقاط بيع قصر البيان حائل': 'قصر البيان حائل',\n",
    "                             'مبيعات نقاط بيع فرع تبوك': 'فرع تبوك',\n",
    "                             'مبيعات نقاط بيع راحتي الرياض': 'الرياض',\n",
    "                             'مبيعات نقاط بيع متجر راحتي الالكتروني': 'متجر راحتي الالكتروني',\n",
    "                             'مبيعات نقاط بيع راحتي الطائف 2': 'راحتي الطائف 2'}, inplace = True)"
   ]
  },
  {
   "cell_type": "markdown",
   "id": "6ee63bd5",
   "metadata": {},
   "source": [
    "### Prepare different pages "
   ]
  },
  {
   "cell_type": "markdown",
   "id": "6382ec21",
   "metadata": {},
   "source": [
    "#### Final Total"
   ]
  },
  {
   "cell_type": "code",
   "execution_count": 10,
   "id": "eca5dbc4",
   "metadata": {},
   "outputs": [],
   "source": [
    "df_final_total = df[df['Product'] == 'الإجمالي النهائي' ]\n",
    "df.drop(df_final_total.index, inplace = True)\n"
   ]
  },
  {
   "cell_type": "code",
   "execution_count": 11,
   "id": "0d6e062c",
   "metadata": {},
   "outputs": [],
   "source": [
    "services = df[df['Cat1'] == 'خدمات ']\n",
    "df_s = df.copy()\n",
    "df.drop(services.index, inplace = True)"
   ]
  },
  {
   "cell_type": "code",
   "execution_count": 12,
   "id": "9ac5290e",
   "metadata": {},
   "outputs": [],
   "source": [
    "branch = df[df['فريق المبيعات'] == 'مبيعات فرع الجملة' ]\n",
    "df.drop(branch.index, inplace = True)"
   ]
  },
  {
   "cell_type": "markdown",
   "id": "643957e1",
   "metadata": {},
   "source": [
    "# Analytical Part"
   ]
  },
  {
   "cell_type": "markdown",
   "id": "0f1b646e",
   "metadata": {},
   "source": [
    "## Your Choices (Branch and date)"
   ]
  },
  {
   "cell_type": "code",
   "execution_count": 13,
   "id": "e96c0db2",
   "metadata": {},
   "outputs": [
    {
     "name": "stdout",
     "output_type": "stream",
     "text": [
      "Enter the compaign nameالماركتنج - قصر البيان حائل - عروض حائل\n"
     ]
    }
   ],
   "source": [
    "compaign_name= input(\"Enter the compaign name\")\n"
   ]
  },
  {
   "cell_type": "code",
   "execution_count": 14,
   "id": "c83627c6",
   "metadata": {},
   "outputs": [
    {
     "name": "stdout",
     "output_type": "stream",
     "text": [
      "['الدمام' 'حائل 2' 'الرس' 'فرع تبوك' ' الطائف 1' 'بريدة 1' 'حفر الباطن'\n",
      " 'حائل 1' 'قصر البيان حائل' 'بريدة 2' 'الإحساء' 'البدائع' 'راحتي الطائف 2'\n",
      " 'الرياض' 'قصر البيان الإلكتروني' 'متجر راحتي الالكتروني']\n",
      "Enter the branch nameقصر البيان حائل\n"
     ]
    }
   ],
   "source": [
    "print(df['فريق المبيعات'].unique())\n",
    "branch = input('Enter the branch name')"
   ]
  },
  {
   "cell_type": "code",
   "execution_count": 15,
   "id": "159b92e4",
   "metadata": {},
   "outputs": [
    {
     "name": "stdout",
     "output_type": "stream",
     "text": [
      "Enter the beginning of 3 days before24\n",
      "Enter the month4\n",
      "Enter the end of 3 days before27\n",
      "Enter the month4\n"
     ]
    }
   ],
   "source": [
    "import datetime\n",
    "begin_day_before = int(input('Enter the beginning of 3 days before'))\n",
    "begin_month_before = int(input('Enter the month'))\n",
    "\n",
    "sdate_before = datetime.date(2024, begin_month_before, begin_day_before)\n",
    "\n",
    "end_day_before = int(input('Enter the end of 3 days before'))\n",
    "end_month_before = int(input('Enter the month'))\n",
    "edate_before = datetime.date(2024,end_month_before,end_day_before) "
   ]
  },
  {
   "cell_type": "code",
   "execution_count": 16,
   "id": "21fef5f7",
   "metadata": {},
   "outputs": [
    {
     "name": "stdout",
     "output_type": "stream",
     "text": [
      "Enter the beginning of 3 days after28\n",
      "Enter the month4\n",
      "Enter the end of 3 days after1\n",
      "Enter the month5\n"
     ]
    }
   ],
   "source": [
    "begin_day_after = int(input('Enter the beginning of 3 days after'))\n",
    "begin_month_after = int(input('Enter the month'))\n",
    "\n",
    "sdate_after = datetime.date(2024, begin_month_after ,begin_day_after)\n",
    "\n",
    "end_day_after = int(input('Enter the end of 3 days after'))\n",
    "end_month_after = int(input('Enter the month'))\n",
    "edate_after = datetime.date(2024, end_month_after, end_day_after )"
   ]
  },
  {
   "cell_type": "markdown",
   "id": "30e7adfb",
   "metadata": {},
   "source": [
    "## Before"
   ]
  },
  {
   "cell_type": "markdown",
   "id": "28465a05",
   "metadata": {},
   "source": [
    "### Product Analysis"
   ]
  },
  {
   "cell_type": "code",
   "execution_count": 29,
   "id": "58f8ed73",
   "metadata": {},
   "outputs": [],
   "source": [
    "df2 = df.copy()\n",
    "df2['Date'] = pd.to_datetime(df['Date']).dt.date\n",
    "df2 = df2[df2.Date.between(sdate_before, edate_before)]\n",
    "df2 = df2[df2['فريق المبيعات'] == branch]\n",
    "df_s = df_s[df_s['فريق المبيعات'] == branch]"
   ]
  },
  {
   "cell_type": "code",
   "execution_count": 31,
   "id": "cae7232c",
   "metadata": {},
   "outputs": [],
   "source": [
    "try:\n",
    "    branch_team = df2[df2['فريق المبيعات'] == branch]\n",
    "    Total_sold = pd.pivot_table(branch_team, index=['فريق المبيعات', 'Product'], values=(['Quantity']), aggfunc = 'sum')\n",
    "    Total_sold.rename(columns ={'Quantity':'sold units'}, inplace = True)\n",
    "    Total_sold = Total_sold.sort_values(by= 'sold units', ascending = False).head(10)\n",
    "except:\n",
    "    pass\n",
    "\n",
    "mean_discounts = pd.pivot_table(branch_team, index=['فريق المبيعات', 'Product'], values=(['discount amount']), aggfunc = 'mean')\n",
    "mean_discounts.rename(columns ={'discount amount':'Total discounts'}, inplace = True)        \n",
    "    \n",
    "\n",
    "total_sales = pd.pivot_table(branch_team, index=['فريق المبيعات', 'Product'], values=(['Subtotal']), aggfunc = 'sum')\n",
    "total_sales.rename(columns ={'Subtotal':'Total sales'}, inplace = True)\n",
    "\n",
    "\n",
    "\n",
    "total_profit = pd.pivot_table(branch_team, index=['فريق المبيعات', 'Product'], values=(['profit margin']), aggfunc = 'sum')\n",
    "total_profit.rename(columns ={'profit margin':'Total Profit'}, inplace = True)\n",
    "\n",
    "total_vat = pd.pivot_table(branch_team, index=['فريق المبيعات', 'Product'], values=(['vat']), aggfunc = 'sum')\n",
    "total_vat.rename(columns ={'vat':'Total Vat'}, inplace = True)\n",
    "\n",
    "\n",
    "\n",
    "margin = total_profit.merge(total_vat, on= ['فريق المبيعات', 'Product'], how= 'inner')\n",
    "margin['هامش الربح'] = margin['Total Profit'] / margin['Total Vat']\n",
    "\n",
    "\n",
    "\n",
    "\n",
    "sales_profit = Total_sold.merge(mean_discounts, on= ['فريق المبيعات', 'Product'], how= 'inner')\n",
    "sales_profit = sales_profit.merge(total_sales, on= ['فريق المبيعات', 'Product'], how= 'inner')\n",
    "sales_profit = sales_profit.merge(margin['هامش الربح'], on= ['فريق المبيعات', 'Product'], how= 'inner')\n",
    "\n",
    "\n",
    "sales_profit.reset_index(inplace = True)\n",
    "sales_profit.reset_index(inplace = True)\n",
    "\n",
    "sales_profit.rename(columns = {\n",
    "    'index': 'الترتيب',\n",
    "    'Product': 'المنتج',\n",
    "    'sold units': \"عدد الوحدات\",\n",
    "    'Total discounts': \"إجمالي الخصومات\",\n",
    "    'Total sales': \"اجمالي قيمة المبيعات\",    \n",
    "}, inplace = True)\n",
    "\n",
    "sales_profit.sort_values(by= ['عدد الوحدات', 'اجمالي قيمة المبيعات'], ascending = [False, False], inplace = True)\n",
    "\n",
    "sales_profit['الترتيب'] = sales_profit['الترتيب'] + 1 \n",
    "sales_profit.drop(columns =  {'فريق المبيعات'}, inplace = True)\n",
    "sales_profit.set_index(\"الترتيب\", inplace = True)\n",
    "\n",
    "sales_profit.loc['الإجمالي', 'المنتج'] =  sales_profit['المنتج'].count()\n",
    "sales_profit.loc['الإجمالي', 'عدد الوحدات'] =  sales_profit['عدد الوحدات'].sum()\n",
    "sales_profit.loc['الإجمالي', 'إجمالي الخصومات'] =  sales_profit['إجمالي الخصومات'].sum()\n",
    "sales_profit.loc['الإجمالي', 'اجمالي قيمة المبيعات'] =  sales_profit['اجمالي قيمة المبيعات'].sum()\n",
    "\n",
    "\n",
    "\n",
    "sales_profit.to_excel(compaign_name + '.xlsx' , sheet_name= 'المنتجات قبل' )"
   ]
  },
  {
   "cell_type": "markdown",
   "id": "17ffd9fb",
   "metadata": {},
   "source": [
    "### Days Analysis"
   ]
  },
  {
   "cell_type": "code",
   "execution_count": 32,
   "id": "611dbd22",
   "metadata": {},
   "outputs": [
    {
     "name": "stderr",
     "output_type": "stream",
     "text": [
      "C:\\Users\\Rahaty Store\\AppData\\Local\\Temp\\ipykernel_11888\\1342146987.py:14: RuntimeWarning: divide by zero encountered in scalar divide\n",
      "  Margin_p = (total_sales['Total sales'][0] - margin_p) /margin_p\n"
     ]
    }
   ],
   "source": [
    "data_sales = pd.DataFrame()\n",
    "margin_p = 0 \n",
    "for day in list(df2['day'].unique()):\n",
    "    try:\n",
    "        branch_team = df2[df2['day'] == day]\n",
    "        invoices_num = pd.pivot_table(branch_team, index=['فريق المبيعات'], values=(['رقم الفاتوره']), aggfunc = 'nunique')\n",
    "        invoices_num.rename(columns ={'رقم الفاتوره':'Number of invoices'}, inplace = True)\n",
    "    except:\n",
    "        pass\n",
    "    \n",
    "    total_sales = pd.pivot_table(df_s[df_s['day'] == day], index=['فريق المبيعات'], values=(['Subtotal']), aggfunc = 'sum')\n",
    "    total_sales.rename(columns ={'Subtotal':'Total sales'}, inplace = True)\n",
    "\n",
    "    Margin_p = (total_sales['Total sales'][0] - margin_p) /margin_p    \n",
    "    margin_p = total_sales['Total sales']\n",
    "    \n",
    "    total_sold = pd.pivot_table(branch_team, index=['فريق المبيعات'], values=(['Quantity']), aggfunc = 'sum')\n",
    "    total_sold.rename(columns ={'Quantity':'sold units'}, inplace = True)\n",
    "    \n",
    "    total_profit = pd.pivot_table(df_s[df_s['day'] == day], index=['فريق المبيعات'], values=(['profit margin']), aggfunc = 'sum')\n",
    "    total_profit.rename(columns ={'profit margin':'Total Profit'}, inplace = True)\n",
    "    total_vat = pd.pivot_table(df_s[df_s['day'] == day], index=['فريق المبيعات'], values=(['vat']), aggfunc = 'sum')\n",
    "    \n",
    "    total_vat.rename(columns ={'vat':'Total Vat'}, inplace = True)\n",
    "    margin = total_profit.merge(total_vat, on= ['فريق المبيعات'], how= 'inner')\n",
    "    margin['هامش الربح'] = margin['Total Profit'] / margin['Total Vat']\n",
    "    \n",
    "    sales_profit = total_sold.merge(invoices_num, on= ['فريق المبيعات'], how= 'inner')\n",
    "    sales_profit = sales_profit.merge(total_sales, on= ['فريق المبيعات'], how= 'inner')\n",
    "    sales_profit = sales_profit.merge(margin, on= ['فريق المبيعات'], how= 'inner')\n",
    "    sales_profit['التاريخ'] = branch_team['Date'].unique()[0]\n",
    "    sales_profit['النغير في هامش الربح']= Margin_p\n",
    "    data_sales =pd.concat([data_sales, sales_profit.loc[: ]])\n",
    "    \n",
    "data_sales.reset_index(inplace = True)\n",
    "data_sales.reset_index(inplace = True)\n",
    "data_sales.rename(columns = {'index': \"الترتيب\",\n",
    "                            'sold units': 'عدد القطع المباعة',\n",
    "                            'Total sales': 'اجمالي المبيعات (شامل الخدمات)',\n",
    "                            'Number of invoices': 'عدد الفواتير'}, inplace = True)\n",
    "data_sales.drop(columns = {'فريق المبيعات'}, inplace = True)\n",
    "data_sales['الترتيب'] = data_sales['الترتيب'] + 1\n",
    "data_sales.set_index('الترتيب', inplace = True)\n",
    "\n",
    "data_sales.loc['الإجمالي', 'التاريخ'] =  data_sales['هامش الربح'].count()\n",
    "data_sales.loc['الإجمالي', 'عدد القطع المباعة'] =  data_sales['عدد القطع المباعة'].sum()\n",
    "data_sales.loc['الإجمالي', 'عدد الفواتير'] = data_sales['عدد الفواتير'].sum()\n",
    "data_sales.loc['الإجمالي', 'اجمالي المبيعات (شامل الخدمات)'] =  data_sales['اجمالي المبيعات (شامل الخدمات)'].sum()\n",
    "data_sales.loc['الإجمالي','هامش الربح'] =data_sales['Total Profit'].sum() / data_sales['Total Vat'].sum()\n",
    "data_sales.drop(columns = {'Total Profit', 'Total Vat'}, inplace = True)\n",
    "data_sales = data_sales[['التاريخ', 'عدد الفواتير', 'اجمالي المبيعات (شامل الخدمات)', 'هامش الربح', 'عدد القطع المباعة', 'النغير في هامش الربح']]\n",
    "days_before = data_sales['اجمالي المبيعات (شامل الخدمات)'].sum()\n",
    "\n",
    "\n",
    "with pd.ExcelWriter(compaign_name + '.xlsx', engine='openpyxl', mode='a') as writer:\n",
    "    data_sales.to_excel(writer, sheet_name= 'الايام قبل')"
   ]
  },
  {
   "cell_type": "markdown",
   "id": "5498d98e",
   "metadata": {},
   "source": [
    "## After"
   ]
  },
  {
   "cell_type": "markdown",
   "id": "aa5f16c7",
   "metadata": {},
   "source": [
    "### Product Analysis\n"
   ]
  },
  {
   "cell_type": "code",
   "execution_count": 33,
   "id": "61468ba7",
   "metadata": {},
   "outputs": [],
   "source": [
    "df3 = df.copy()\n",
    "df3['Date'] = pd.to_datetime(df['Date']).dt.date\n",
    "df3 = df3[df3['فريق المبيعات'] == branch]\n",
    "df3 = df3[df3.Date.between(sdate_after, edate_after)]\n",
    "try:\n",
    "    branch_team = df3.copy()\n",
    "    Total_sold = pd.pivot_table(branch_team, index=['فريق المبيعات', 'Product'], values=(['Quantity']), aggfunc = 'sum')\n",
    "    Total_sold.rename(columns ={'Quantity':'sold units'}, inplace = True)\n",
    "    Total_sold = Total_sold.sort_values(by= 'sold units', ascending = False).head(10)\n",
    "except:\n",
    "    pass\n",
    "\n",
    "mean_discounts = pd.pivot_table(branch_team, index=['فريق المبيعات', 'Product'], values=(['discount amount']), aggfunc = 'mean')\n",
    "mean_discounts.rename(columns ={'discount amount':'Total discounts'}, inplace = True)        \n",
    "    \n",
    "\n",
    "total_sales = pd.pivot_table(branch_team, index=['فريق المبيعات', 'Product'], values=(['Subtotal']), aggfunc = 'sum')\n",
    "total_sales.rename(columns ={'Subtotal':'Total sales'}, inplace = True)\n",
    "\n",
    "total_profit = pd.pivot_table(branch_team, index=['فريق المبيعات', 'Product'], values=(['profit margin']), aggfunc = 'sum')\n",
    "total_profit.rename(columns ={'profit margin':'Total Profit'}, inplace = True)\n",
    "\n",
    "total_vat = pd.pivot_table(branch_team, index=['فريق المبيعات', 'Product'], values=(['vat']), aggfunc = 'sum')\n",
    "total_vat.rename(columns ={'vat':'Total Vat'}, inplace = True)\n",
    "\n",
    "\n",
    "margin = total_profit.merge(total_vat, on= ['فريق المبيعات', 'Product'], how= 'inner')\n",
    "margin['هامش الربح'] = margin['Total Profit'] / margin['Total Vat']\n",
    "\n",
    "sales_profit = Total_sold.merge(mean_discounts, on= ['فريق المبيعات', 'Product'], how= 'inner')\n",
    "sales_profit = sales_profit.merge(total_sales, on= ['فريق المبيعات', 'Product'], how= 'inner')\n",
    "sales_profit = sales_profit.merge(margin['هامش الربح'], on= ['فريق المبيعات', 'Product'], how= 'inner')\n",
    "\n",
    "\n",
    "sales_profit.reset_index(inplace = True)\n",
    "sales_profit.reset_index(inplace = True)\n",
    "\n",
    "sales_profit.rename(columns = {\n",
    "    'index': 'الترتيب',\n",
    "    'Product': 'المنتج',\n",
    "    'sold units': \"عدد الوحدات\",\n",
    "    'Total discounts': \"إجمالي الخصومات\",\n",
    "    'Total sales': \"اجمالي قيمة المبيعات\",    \n",
    "}, inplace = True)\n",
    "\n",
    "sales_profit.sort_values(by= ['عدد الوحدات', 'اجمالي قيمة المبيعات'], ascending = [False, False], inplace = True)\n",
    "\n",
    "\n",
    "sales_profit['الترتيب'] = sales_profit['الترتيب'] + 1 \n",
    "sales_profit.drop(columns =  {'فريق المبيعات'}, inplace = True)\n",
    "sales_profit.set_index(\"الترتيب\", inplace = True)\n",
    "\n",
    "sales_profit.loc['الإجمالي', 'المنتج'] =  sales_profit['المنتج'].count()\n",
    "sales_profit.loc['الإجمالي', 'عدد الوحدات'] =  sales_profit['عدد الوحدات'].sum()\n",
    "sales_profit.loc['الإجمالي', 'إجمالي الخصومات'] =  sales_profit['إجمالي الخصومات'].sum()\n",
    "sales_profit.loc['الإجمالي', 'اجمالي قيمة المبيعات'] =  sales_profit['اجمالي قيمة المبيعات'].sum()\n",
    "\n",
    "with pd.ExcelWriter(compaign_name + '.xlsx', engine='openpyxl', mode='a') as writer:\n",
    "    sales_profit.to_excel(writer, sheet_name= 'المنتجات بعد')\n"
   ]
  },
  {
   "cell_type": "markdown",
   "id": "7e320805",
   "metadata": {},
   "source": [
    "### Days Analysis"
   ]
  },
  {
   "cell_type": "code",
   "execution_count": 34,
   "id": "8e5148ca",
   "metadata": {},
   "outputs": [],
   "source": [
    "data_sales = pd.DataFrame()\n",
    "for day in list(df3['day'].unique()):\n",
    "    try:\n",
    "        branch_team = df3[df3['day'] == day]\n",
    "        invoices_num = pd.pivot_table(branch_team, index=['فريق المبيعات'], values=(['رقم الفاتوره']), aggfunc = 'nunique')\n",
    "        invoices_num.rename(columns ={'رقم الفاتوره':'Number of invoices'}, inplace = True)\n",
    "    except:\n",
    "        pass\n",
    "            \n",
    "    total_sales = pd.pivot_table(df_s[df_s['day'] == day], index=['فريق المبيعات'], values=(['Subtotal']), aggfunc = 'sum')\n",
    "    total_sales.rename(columns ={'Subtotal':'Total sales'}, inplace = True)\n",
    "   \n",
    "    Margin_p = (total_sales['Total sales'][0] - margin_p) /margin_p    \n",
    "    margin_p = total_sales['Total sales']\n",
    "        \n",
    "    total_sold = pd.pivot_table(branch_team, index=['فريق المبيعات'], values=(['Quantity']), aggfunc = 'sum')\n",
    "    total_sold.rename(columns ={'Quantity':'sold units'}, inplace = True)\n",
    "    \n",
    "    total_profit = pd.pivot_table(df_s[df_s['day'] == day], index=['فريق المبيعات'], values=(['profit margin']), aggfunc = 'sum')\n",
    "    total_profit.rename(columns ={'profit margin':'Total Profit'}, inplace = True)\n",
    "    total_vat = pd.pivot_table(df_s[df_s['day'] == day], index=['فريق المبيعات'], values=(['vat']), aggfunc = 'sum')\n",
    "    total_vat.rename(columns ={'vat':'Total Vat'}, inplace = True)\n",
    "    margin = total_profit.merge(total_vat, on= ['فريق المبيعات'], how= 'inner')\n",
    "    margin['هامش الربح'] = margin['Total Profit'] / margin['Total Vat']\n",
    "    \n",
    "    sales_profit = total_sold.merge(invoices_num, on= ['فريق المبيعات'], how= 'inner')\n",
    "    sales_profit = sales_profit.merge(total_sales, on= ['فريق المبيعات'], how= 'inner')\n",
    "    sales_profit = sales_profit.merge(margin, on= ['فريق المبيعات'], how= 'inner')\n",
    "    sales_profit['التاريخ'] = branch_team['Date'].unique()[0]\n",
    "    sales_profit['النغير في هامش الربح']= Margin_p\n",
    "    data_sales =pd.concat([data_sales, sales_profit.loc[: ]])\n",
    "    \n",
    "data_sales.reset_index(inplace = True)\n",
    "data_sales.reset_index(inplace = True)\n",
    "data_sales.rename(columns = {'index': \"الترتيب\",\n",
    "                            'sold units': 'عدد القطع المباعة',\n",
    "                            'Total sales': 'اجمالي المبيعات (شامل الخدمات)',\n",
    "                            'Number of invoices': 'عدد الفواتير'}, inplace = True)\n",
    "data_sales.drop(columns = {'فريق المبيعات'}, inplace = True)\n",
    "data_sales['الترتيب'] = data_sales['الترتيب'] + 1\n",
    "data_sales.set_index('الترتيب', inplace = True)\n",
    "\n",
    "data_sales.loc['الإجمالي', 'التاريخ'] =  data_sales['هامش الربح'].count()\n",
    "data_sales.loc['الإجمالي', 'عدد القطع المباعة'] =  data_sales['عدد القطع المباعة'].sum()\n",
    "data_sales.loc['الإجمالي', 'عدد الفواتير'] = data_sales['عدد الفواتير'].sum()\n",
    "data_sales.loc['الإجمالي', 'اجمالي المبيعات (شامل الخدمات)'] =  data_sales['اجمالي المبيعات (شامل الخدمات)'].sum()\n",
    "data_sales.loc['الإجمالي','هامش الربح'] =data_sales['Total Profit'].sum() / data_sales['Total Vat'].sum()\n",
    "data_sales.loc['الإجمالي','النغير في هامش الربح'] =(data_sales['اجمالي المبيعات (شامل الخدمات)'].sum() -  days_before)/ days_before\n",
    "\n",
    "data_sales.drop(columns = {'Total Profit', 'Total Vat'}, inplace = True)\n",
    "data_sales = data_sales[['التاريخ', 'عدد الفواتير', 'اجمالي المبيعات (شامل الخدمات)', 'هامش الربح', 'عدد القطع المباعة', 'النغير في هامش الربح']]\n",
    "\n",
    "with pd.ExcelWriter(compaign_name + '.xlsx', engine='openpyxl', mode='a') as writer:\n",
    "    data_sales.to_excel(writer, sheet_name= 'الايام بعد')"
   ]
  }
 ],
 "metadata": {
  "kernelspec": {
   "display_name": "Python 3 (ipykernel)",
   "language": "python",
   "name": "python3"
  },
  "language_info": {
   "codemirror_mode": {
    "name": "ipython",
    "version": 3
   },
   "file_extension": ".py",
   "mimetype": "text/x-python",
   "name": "python",
   "nbconvert_exporter": "python",
   "pygments_lexer": "ipython3",
   "version": "3.11.5"
  }
 },
 "nbformat": 4,
 "nbformat_minor": 5
}
