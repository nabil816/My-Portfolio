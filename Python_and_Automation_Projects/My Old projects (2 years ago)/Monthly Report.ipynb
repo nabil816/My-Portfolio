{
 "cells": [
  {
   "cell_type": "code",
   "execution_count": 1,
   "id": "ce49d457",
   "metadata": {},
   "outputs": [],
   "source": [
    "dataset_this_month = '26 Feb to 20 Mar.xlsx'\n",
    "dataset_pervious_month = 'Feb 2023.xlsx'"
   ]
  },
  {
   "cell_type": "code",
   "execution_count": 2,
   "id": "cc7c3656",
   "metadata": {},
   "outputs": [],
   "source": [
    "def categorize(list_of_num, n):\n",
    "    \"\"\"\n",
    "    <What this function do>\n",
    "    This function takes a list of numbers and categorize each number of them into A, B, C, D, F.\n",
    "    \n",
    "    <what it takes>\n",
    "    it takes two parameters:\n",
    "    1. list_of_num: the list of numbers you need to categorize \n",
    "    2. n: number of items in the list\n",
    "    \n",
    "    <what it returns>\n",
    "    It returns a dictionary. In this dictionary, the ids of numbers in the passed list represented as a keys,\n",
    "    and The categories values represented as values \n",
    "\n",
    "    \"\"\"\n",
    "    series = pd.Series(list_of_num)\n",
    "    list_of_categories = ['A', 'B', 'C', 'D', 'F']\n",
    "    list_of_categories = list_of_categories[: n]\n",
    "    dict1 = {}\n",
    "    categories_dict= {}\n",
    "    \n",
    "    dict1[list_of_categories[0]]= series.idxmax()\n",
    "    series.drop(pd.Series(series).idxmax(), inplace = True)\n",
    "    \n",
    "    dict1[list_of_categories[1]]= series.idxmax()\n",
    "    series.drop(pd.Series(series).idxmax(), inplace = True)\n",
    "    \n",
    "    try: \n",
    "        dict1[list_of_categories[2]]= series.idxmax()\n",
    "        series.drop(pd.Series(series).idxmax(), inplace = True)\n",
    "    except:\n",
    "        pass\n",
    "    \n",
    "    try:\n",
    "        dict1[list_of_categories[3]]= series.idxmax()\n",
    "        series.drop(pd.Series(series).idxmax(), inplace = True)\n",
    "    except:\n",
    "        pass\n",
    "    \n",
    "    try:\n",
    "        dict1[list_of_categories[1]]= series.idxmax()\n",
    "        series.drop(pd.Series(series).idxmax(), inplace = True)\n",
    "    except:\n",
    "        pass\n",
    "    for key, value in dict1.items():\n",
    "        categories_dict[value] = key\n",
    "    return categories_dict "
   ]
  },
  {
   "cell_type": "code",
   "execution_count": 3,
   "id": "a6b6a3ed",
   "metadata": {},
   "outputs": [],
   "source": [
    "def Max_Min_Standardization(df, col):\n",
    "    \n",
    "    \"\"\"\n",
    "    <What this function do>\n",
    "    This function standardizes the columns we need. It makes the scale of our column from 0 to 1. \n",
    "    It deals also with precentages columns\n",
    "    \n",
    "    <what it takes>\n",
    "    It takes two parameters:\n",
    "    1. col: the column we need to standarize\n",
    "    2. df: the dataFrame our column in \n",
    "    \"\"\"\n",
    "    if abs(df[col].max()) <= 1 and abs(df[col].min()) <= 0:\n",
    "        print((df[col].max() <= 0))\n",
    "        print(df)\n",
    "        pass\n",
    "    else:\n",
    "        try:\n",
    "            df[col] = (df[col] -  df[col].min()) / ( df[col].max() -  df[col].min())\n",
    "        except:\n",
    "             pass"
   ]
  },
  {
   "cell_type": "code",
   "execution_count": 4,
   "id": "3ee08aa3",
   "metadata": {},
   "outputs": [],
   "source": [
    "def Degree_From(df, col_name = 'النسبة'):\n",
    "    \"\"\" \n",
    "    <What this function do>\n",
    "    Take a dataframe and sum up all the columns values into a column. It also get the mean of all of these columns  \n",
    "    <what it takes>\n",
    "    1. df: the dataframe\n",
    "    2. col_name: the name of the mean column\n",
    "    \"\"\"\n",
    "    num_cols = len(list(df.columns))\n",
    "    name= 'الدرجة من ' + str(num_cols)\n",
    "    df[name] = 0\n",
    "    for col in list(df.columns):\n",
    "        df[name] = df[name] + df[col]\n",
    "        df[col_name] = df[name] / num_cols\n",
    "    return name"
   ]
  },
  {
   "cell_type": "markdown",
   "id": "dcc77273",
   "metadata": {},
   "source": [
    "# Importing Data And Libraries"
   ]
  },
  {
   "cell_type": "code",
   "execution_count": 5,
   "id": "6003f850",
   "metadata": {},
   "outputs": [],
   "source": [
    "import os\n",
    "import pandas as pd\n",
    "import numpy as np\n",
    "import matplotlib.pyplot as plt\n",
    "from sklearn.cluster import KMeans\n",
    "from apyori import apriori"
   ]
  },
  {
   "cell_type": "markdown",
   "id": "cac906d2",
   "metadata": {},
   "source": [
    "### Reading Our Datasets "
   ]
  },
  {
   "cell_type": "code",
   "execution_count": 6,
   "id": "19293a74",
   "metadata": {},
   "outputs": [],
   "source": [
    "dataset = pd.read_excel(dataset_this_month)\n",
    "df = dataset.copy()"
   ]
  },
  {
   "cell_type": "code",
   "execution_count": 7,
   "id": "eb05d21a",
   "metadata": {},
   "outputs": [],
   "source": [
    "dataset = pd.read_excel(dataset_pervious_month)\n",
    "df_pervious = dataset.copy()"
   ]
  },
  {
   "cell_type": "markdown",
   "id": "969e6b26",
   "metadata": {},
   "source": [
    "# Cleaning Part"
   ]
  },
  {
   "cell_type": "markdown",
   "id": "31c83d74",
   "metadata": {},
   "source": [
    "### Extract the year and the month columns\n"
   ]
  },
  {
   "cell_type": "code",
   "execution_count": 8,
   "id": "439b0c35",
   "metadata": {},
   "outputs": [],
   "source": [
    "df['day'] = pd.to_datetime(df['Date']).dt.day\n",
    "d = list(df['day'].dropna().unique())\n",
    "\n",
    "df['month'] = pd.to_datetime(df['Date']).dt.month_name()\n",
    "m = list(df['month'].dropna().unique())\n",
    "\n",
    "df['year'] = pd.to_datetime(df['Date']).dt.year\n",
    "y = list(df['year'].dropna().unique())"
   ]
  },
  {
   "cell_type": "markdown",
   "id": "0625fec6",
   "metadata": {},
   "source": [
    "### Change the directory in order to put all the excel files reports in the day folder"
   ]
  },
  {
   "cell_type": "code",
   "execution_count": 9,
   "id": "fb15fce0",
   "metadata": {},
   "outputs": [],
   "source": [
    "root_path = 'Desktop/'\n",
    "os.mkdir(os.path.join(root_path, ('from '+  str(d[0]) + ' ' + str(m[0]) + ' to ' + str(m[0]) + ' '+ str(d[-1]) + ' ' +str(int(y[0])))))\n",
    "os.chdir(os.path.join(root_path,  ('from '+  str(d[0]) + ' ' + str(m[0]) + ' to ' + str(m[0]) + ' '+ str(d[-1]) + ' ' +str(int(y[0])))))"
   ]
  },
  {
   "cell_type": "markdown",
   "id": "f4dbd318",
   "metadata": {},
   "source": [
    "### Split product cat Columns"
   ]
  },
  {
   "cell_type": "code",
   "execution_count": 10,
   "id": "8092766b",
   "metadata": {},
   "outputs": [],
   "source": [
    "df[['Product origin', 'Cat1', 'cat2', 'cat3']]= df['Product Category'].str.split(\"/\",expand=True)\n",
    "df.drop(columns= {'Product Category','Unnamed: 14' }, inplace = True, errors = 'ignore')\n",
    "df_pervious[['Product origin', 'Cat1', 'cat2', 'cat3', 'Unnamed: 14']]= df_pervious['Product Category'].str.split(\"/\",expand=True)\n",
    "df_pervious.drop(columns= {'Product Category'}, inplace = True)\n",
    "\n"
   ]
  },
  {
   "cell_type": "markdown",
   "id": "88be6d1c",
   "metadata": {},
   "source": [
    "### Prepare the required Columns"
   ]
  },
  {
   "cell_type": "code",
   "execution_count": 11,
   "id": "f8b26324",
   "metadata": {},
   "outputs": [],
   "source": [
    "df['discount amount'] = df['Quantity'] * df['Discount per Unit (abs)']\n",
    "df['discount percentage'] = ((df['Discount (%)'] / 100) * df['Unit Price']) *df['Quantity']\n",
    "df['Total discount'] = df['discount amount']  + df['discount percentage']\n",
    "df['price before discount'] = df['Unit Price'] * df['Quantity']\n",
    "df['Cost per unit'] = df['Cost'] * df['Quantity']\n",
    "df['vat'] = df['Subtotal'] / 1.15\n",
    "df['profit margin'] = df['vat'] - df['Cost'] \n",
    "df['Profit margin percentage'] = df['profit margin'] /df['vat']"
   ]
  },
  {
   "cell_type": "code",
   "execution_count": 12,
   "id": "6a9c56fe",
   "metadata": {},
   "outputs": [],
   "source": [
    "df_pervious['discount amount'] = df_pervious['Quantity'] * df_pervious['Discount per Unit (abs)']\n",
    "df_pervious['discount percentage'] = ((df_pervious['Discount (%)'] / 100) * df_pervious['Unit Price']) *df_pervious['Quantity']\n",
    "df_pervious['Total discount'] = df_pervious['discount amount']  + df_pervious['discount percentage']\n",
    "df_pervious['price before discount'] = df_pervious['Unit Price'] * df_pervious['Quantity']\n",
    "df_pervious['Cost per unit'] = df_pervious['Cost'] * df_pervious['Quantity']\n",
    "df_pervious['vat'] = df_pervious['Subtotal'] / 1.15\n",
    "df_pervious['profit margin'] = df_pervious['vat'] - df_pervious['Cost'] \n",
    "df_pervious['Profit margin percentage'] = df_pervious['profit margin'] /df_pervious['vat']"
   ]
  },
  {
   "cell_type": "markdown",
   "id": "3e78382e",
   "metadata": {},
   "source": [
    "### Cleaning the values of the branches to be in a better shape"
   ]
  },
  {
   "cell_type": "code",
   "execution_count": 13,
   "id": "9d371740",
   "metadata": {},
   "outputs": [],
   "source": [
    "df['فريق المبيعات'].replace({ 'مبيعات نقاط بيع راحتي الدمام': 'راحتي الدمام'\n",
    "                             ,'مبيعات نقاط بيع فرع بريدة الكبير 1' : 'فرع بريدة الكبير 1', \n",
    "                            'مبيعات نقاط بيع راحتي الرس': 'راحتي الرس',\n",
    "                            'مبيعات نقاط  بيع راحتي  الرياض 1 اثاث': 'راحتي  الرياض 1 اثاث',\n",
    "                             'مبيعات نقاط بيع راحتي حائل 1' : 'راحتي حائل 1',\n",
    "                            'مبيعات نقاط بيع راحتي الطائف الكبير 1' : ' راحتي الطائف الكبير 1', \n",
    "                            'مبيعات نقاط بيع راحتي بريدة الكبير 2' : ' راحتي بريدة الكبير 2',\n",
    "                            'مبيعات نقاط بيع قصر البيان حائل': 'قصر البيان حائل', \n",
    "                            'مبيعات نقاط بيع راحتي حفر الباطن': 'راحتي حفر الباطن',\n",
    "                            'مبيعات نقاط بيع راحتي حائل 2' : 'بيع راحتي حائل 2', \n",
    "                            'مبيعات نقاط بيع راحتي البدائع': 'راحتي البدائع',\n",
    "                             'مبيعات نقاط بيع متجر راحتي الالكتروني': 'متجر راحتي الالكتروني',\n",
    "                             'مبيعات نقاط بيع راحتي الرياض2 مفروشات': 'راحتي الرياض2 مفروشات',\n",
    "                            'مبيعات نقاط بيع راحتي الطائف الصغير 2' : 'راحتي الطائف الصغير 2',\n",
    "                             'مبيعات نقاط بيع قصر البيان الرس': 'قصر البيان الرس',\n",
    "                             'مبيعات متجر قصر البيان الإلكتروني': 'قصر البيان الإلكتروني', \n",
    "                             'مبيعات فرع تبوك': 'فرع تبوك',\n",
    "                            'مبيعات الموقع تبوك': 'الموقع تبوك'}, inplace = True)"
   ]
  },
  {
   "cell_type": "code",
   "execution_count": 14,
   "id": "7792461b",
   "metadata": {},
   "outputs": [],
   "source": [
    "df_pervious['فريق المبيعات'].replace({ 'مبيعات نقاط بيع راحتي الدمام': 'راحتي الدمام'\n",
    "                             ,'مبيعات نقاط بيع فرع بريدة الكبير 1' : 'فرع بريدة الكبير 1', \n",
    "                            'مبيعات نقاط بيع راحتي الرس': 'راحتي الرس',\n",
    "                            'مبيعات نقاط  بيع راحتي  الرياض 1 اثاث': 'راحتي  الرياض 1 اثاث',\n",
    "                             'مبيعات نقاط بيع راحتي حائل 1' : 'راحتي حائل 1',\n",
    "                            'مبيعات نقاط بيع راحتي الطائف الكبير 1' : ' راحتي الطائف الكبير 1', \n",
    "                            'مبيعات نقاط بيع راحتي بريدة الكبير 2' : ' راحتي بريدة الكبير 2',\n",
    "                            'مبيعات نقاط بيع قصر البيان حائل': 'قصر البيان حائل', \n",
    "                            'مبيعات نقاط بيع راحتي حفر الباطن': 'راحتي حفر الباطن',\n",
    "                            'مبيعات نقاط بيع راحتي حائل 2' : 'بيع راحتي حائل 2', \n",
    "                            'مبيعات نقاط بيع راحتي البدائع': 'راحتي البدائع',\n",
    "                             'مبيعات نقاط بيع متجر راحتي الالكتروني': 'متجر راحتي الالكتروني',\n",
    "                             'مبيعات نقاط بيع راحتي الرياض2 مفروشات': 'راحتي الرياض2 مفروشات',\n",
    "                            'مبيعات نقاط بيع راحتي الطائف الصغير 2' : 'راحتي الطائف الصغير 2',\n",
    "                             'مبيعات نقاط بيع قصر البيان الرس': 'قصر البيان الرس',\n",
    "                             'مبيعات متجر قصر البيان الإلكتروني': 'قصر البيان الإلكتروني', \n",
    "                             'مبيعات فرع تبوك': 'فرع تبوك',\n",
    "                            'مبيعات الموقع تبوك': 'الموقع تبوك'}, inplace = True)"
   ]
  },
  {
   "cell_type": "markdown",
   "id": "6ee63bd5",
   "metadata": {},
   "source": [
    "### Prepare different pages "
   ]
  },
  {
   "cell_type": "markdown",
   "id": "070b5377",
   "metadata": {},
   "source": [
    "#### Page of Deposits"
   ]
  },
  {
   "cell_type": "code",
   "execution_count": 15,
   "id": "6f74cb9e",
   "metadata": {},
   "outputs": [],
   "source": [
    "df_deposit = df[df['Product origin'] == 'منتجات مصروفات الشركة']\n",
    "df_deposit.to_excel('Service and other things report.xlsx', sheet_name='منتجات مصروفات الشركة',  index = False)\n",
    "df.loc[df_deposit.index,\"Quantity\"] = 1"
   ]
  },
  {
   "cell_type": "markdown",
   "id": "a67ab2b8",
   "metadata": {},
   "source": [
    "#### Page of services and installment"
   ]
  },
  {
   "cell_type": "code",
   "execution_count": 16,
   "id": "172bc7d4",
   "metadata": {},
   "outputs": [],
   "source": [
    "df_services = df[df['Product origin'] == 'خدمات-44 ']\n",
    "with pd.ExcelWriter('Service and other things report.xlsx', engine='openpyxl', mode='a') as writer:\n",
    "    df_services.to_excel(writer, sheet_name= 'خدمات-44',  index = False)\n"
   ]
  },
  {
   "cell_type": "code",
   "execution_count": 17,
   "id": "30f14059",
   "metadata": {},
   "outputs": [],
   "source": [
    "df_installment = df[df['Product origin'] == 'خدمات التقسيط']\n",
    "with pd.ExcelWriter('Service and other things report.xlsx', engine='openpyxl', mode='a') as writer:\n",
    "    df_installment.to_excel(writer, sheet_name= 'خدمات التقسيط',  index = False)\n",
    "df_services =pd.concat([df_services, df_installment])"
   ]
  },
  {
   "cell_type": "markdown",
   "id": "2f761dcb",
   "metadata": {},
   "source": [
    "#### Get the additional discounts rows, put it in dataframe and save it as a file"
   ]
  },
  {
   "cell_type": "code",
   "execution_count": 18,
   "id": "fd8906bf",
   "metadata": {},
   "outputs": [
    {
     "name": "stderr",
     "output_type": "stream",
     "text": [
      "C:\\Users\\Rahaty Store\\AppData\\Local\\Temp\\ipykernel_14608\\3686595714.py:3: SettingWithCopyWarning: \n",
      "A value is trying to be set on a copy of a slice from a DataFrame\n",
      "\n",
      "See the caveats in the documentation: https://pandas.pydata.org/pandas-docs/stable/user_guide/indexing.html#returning-a-view-versus-a-copy\n",
      "  df_all.drop(df_addition_discount.index, inplace = True)\n"
     ]
    }
   ],
   "source": [
    "df_all = df[df['Product origin'] == 'All']\n",
    "df_addition_discount = df_all[df_all['Product'] == '[11223344] RS خصم اضافي للعميل']\n",
    "df_all.drop(df_addition_discount.index, inplace = True)\n",
    "df_services = pd.concat([df_services, df_all])\n",
    "df_addition_discount.to_excel('addition_discount report.xlsx',  index = False)"
   ]
  },
  {
   "cell_type": "code",
   "execution_count": 19,
   "id": "5596940b",
   "metadata": {},
   "outputs": [
    {
     "name": "stderr",
     "output_type": "stream",
     "text": [
      "C:\\Users\\Rahaty Store\\AppData\\Local\\Temp\\ipykernel_14608\\111177.py:3: SettingWithCopyWarning: \n",
      "A value is trying to be set on a copy of a slice from a DataFrame\n",
      "\n",
      "See the caveats in the documentation: https://pandas.pydata.org/pandas-docs/stable/user_guide/indexing.html#returning-a-view-versus-a-copy\n",
      "  df_all_pervious.drop(df_addition_discount_pervious.index, inplace = True)\n"
     ]
    }
   ],
   "source": [
    "df_all_pervious = df_pervious[df_pervious['Product origin'] == 'All']\n",
    "df_addition_discount_pervious = df_pervious[df_pervious['Product'] == '[11223344] RS خصم اضافي للعميل']\n",
    "df_all_pervious.drop(df_addition_discount_pervious.index, inplace = True)"
   ]
  },
  {
   "cell_type": "markdown",
   "id": "182cdd71",
   "metadata": {},
   "source": [
    "#### Page of zero qunatity"
   ]
  },
  {
   "cell_type": "code",
   "execution_count": 20,
   "id": "87764b7f",
   "metadata": {},
   "outputs": [],
   "source": [
    "df_0 = df[df['Quantity'] == 0 ]\n",
    "with pd.ExcelWriter('Service and other things report.xlsx', engine='openpyxl', mode='a') as writer:\n",
    "    df_0.to_excel(writer, sheet_name= 'صفر كمية',  index = False)\n",
    "df.drop(df_0.index, inplace = True)"
   ]
  },
  {
   "cell_type": "code",
   "execution_count": 21,
   "id": "ae865b63",
   "metadata": {},
   "outputs": [],
   "source": [
    "df_0 = df_pervious[df_pervious['Quantity'] == 0 ]\n",
    "df_pervious.drop(df_0.index, inplace = True)"
   ]
  },
  {
   "cell_type": "markdown",
   "id": "643957e1",
   "metadata": {},
   "source": [
    "# Analytical Part"
   ]
  },
  {
   "cell_type": "markdown",
   "id": "0f1b646e",
   "metadata": {},
   "source": [
    "## Sales Report For Branches "
   ]
  },
  {
   "cell_type": "markdown",
   "id": "84268f10",
   "metadata": {},
   "source": [
    "### Sales Worksheet"
   ]
  },
  {
   "cell_type": "code",
   "execution_count": 22,
   "id": "b4bc0a77",
   "metadata": {},
   "outputs": [],
   "source": [
    "# Getting the sales of each branch in the company\n",
    "df_sales= pd.pivot_table(df,index=['فريق المبيعات'], values=(['Subtotal']), aggfunc = 'sum')\n",
    "df_sales.rename(columns ={'Subtotal':'total sales'}, inplace = True)\n",
    "\n",
    "# Getting the branch contribution of the sales of the company\n",
    "df_sales['Sales Percent from the company'] = df_sales['total sales']/ df_sales['total sales'].sum()\n",
    "df_sales.rename(columns = {'total sales': \"إجمالي المبيعات\"\n",
    "                           , 'Sales Percent from the company': 'نسبة الفرع من إجمالي المبيعات' },inplace = True)\n",
    "\n",
    "# Getting the sales of each branch in the company in the previous day\n",
    "df_pervious_sales = pd.pivot_table(df_pervious,index=['فريق المبيعات'], values=(['Subtotal']), aggfunc = 'sum')\n",
    "df_pervious_sales.rename(columns ={'Subtotal':'إجمالي مبيعات الشهر السابق'}, inplace = True)\n",
    "\n",
    "# Merging both the sales of the day and the sales of the previous day\n",
    "df_sales = df_sales.merge(df_pervious_sales, on ='فريق المبيعات', how = 'left')\n",
    "\n",
    "\n",
    "# getting the change of sales for each branch\n",
    "df_sales['معدل التغير عن الشهر السابق'] = (df_sales['إجمالي المبيعات'] - df_sales['إجمالي مبيعات الشهر السابق']) / df_sales['إجمالي مبيعات الشهر السابق']\n",
    "df_sales.drop(columns = {'إجمالي مبيعات الشهر السابق'}, inplace = True)\n",
    "\n",
    "# filling the nan values for the branches that didn't sale anything or the branches that didn't exist in the previous Month\n",
    "df_sales.fillna(0, inplace =  True)\n",
    "\n",
    "\n",
    "# sorting the branches based on their performance\n",
    "df_sales = df_sales.sort_values(by= ['إجمالي المبيعات'], ascending = False)\n",
    "df_sales.reset_index(inplace = True)\n",
    "\n",
    "\n",
    "# encoding the last column in the dataset and summarize the results of all branches \n",
    "df_sales_final = df_sales.copy()\n",
    "df_sales_final.loc['الاجمالي', 'فريق المبيعات'] =  df_sales['فريق المبيعات'].count()\n",
    "df_sales_final.loc['الاجمالي', 'معدل التغير عن الشهر السابق'] =(df_sales['إجمالي المبيعات'].sum() - df_pervious_sales['إجمالي مبيعات الشهر السابق'].sum())/ df_pervious_sales['إجمالي مبيعات الشهر السابق'].sum()\n",
    "df_sales_final.loc['الاجمالي', 'نسبة الفرع من إجمالي المبيعات'] = df_sales['نسبة الفرع من إجمالي المبيعات'].sum()\n",
    "df_sales_final.loc['الاجمالي', 'إجمالي المبيعات'] = df_sales['إجمالي المبيعات'].sum()\n",
    "df_sales_final.loc['الاجمالي', 'إجمالي المبيعات'] = df_sales['إجمالي المبيعات'].sum()\n",
    "\n",
    "# getting the order column\n",
    "df_sales_final.reset_index(inplace = True)\n",
    "df_sales_final.rename(columns = {'index': 'الترتيب'}, inplace = True)\n",
    "df_sales_final.set_index('الترتيب', inplace = True)\n",
    "\n",
    "# saving the insights in the sales report \n",
    "df_sales_final.to_excel('sales report.xlsx', sheet_name='مبيعات الفروع')"
   ]
  },
  {
   "cell_type": "markdown",
   "id": "8378bb74",
   "metadata": {},
   "source": [
    "### Profit Worksheet"
   ]
  },
  {
   "cell_type": "code",
   "execution_count": 23,
   "id": "41d881ee",
   "metadata": {},
   "outputs": [],
   "source": [
    "# Getting the profit of each branch in the company\n",
    "df_profit= pd.pivot_table(df,index=['فريق المبيعات'], values=(['profit margin']), aggfunc = 'sum')\n",
    "df_profit.rename(columns ={'profit margin':'total Profit'}, inplace = True)\n",
    "\n",
    "# Getting the branch contribution of the profit of the company\n",
    "df_profit['Profit Percent from the company'] = df_profit['total Profit']/ df_profit['total Profit'].sum()\n",
    "df_profit.rename(columns = {'total Profit': \"إجمالي الربح\"\n",
    "                           , 'Profit Percent from the company': 'نسبة الفرع من إجمالي الأرباح' },inplace = True)\n",
    "\n",
    "# Getting the vat for each branch\n",
    "df_margin_p= pd.pivot_table(df,index=['فريق المبيعات'], values=(['vat']), aggfunc = 'sum')\n",
    "df_margin_p.rename(columns ={'vat':'الربح قبل الضريبة'}, inplace = True)\n",
    "\n",
    "# Adding the vat to the profit dataframe\n",
    "df_profit = df_profit.merge(df_margin_p, on ='فريق المبيعات', how = 'inner')\n",
    "\n",
    "# getting the profit margin\n",
    "df_profit['هامش الربح من المبيعات'] =df_profit['إجمالي الربح'] /  df_profit['الربح قبل الضريبة']  \n",
    "df_profit.drop(columns = {'الربح قبل الضريبة'}, inplace = True)\n",
    "\n",
    "# Getting the profit of each branch in the company in the previous day\n",
    "df_pervious_profit = pd.pivot_table(df_pervious,index=['فريق المبيعات'], values=(['profit margin']), aggfunc = 'sum')\n",
    "df_pervious_profit.rename(columns ={'profit margin':'إجمالي ربح الشهر السابق'}, inplace = True)\n",
    "\n",
    "# Merging both the profit of the day and the profit of the previous day\n",
    "df_profit = df_profit.merge(df_pervious_profit, on ='فريق المبيعات', how = 'inner')\n",
    "\n",
    "# getting the change of profit for each branch\n",
    "df_profit['معدل التغير عن الشهر السابق'] = (df_profit['إجمالي الربح'] - df_pervious_profit['إجمالي ربح الشهر السابق']) / df_pervious_profit['إجمالي ربح الشهر السابق']\n",
    "df_profit.drop(columns = {'إجمالي ربح الشهر السابق'}, inplace = True)\n",
    "\n",
    "# filling the nan values for the branches that didn't sale anything\n",
    "df_profit.fillna(0, inplace =  True)\n",
    "\n",
    "# sorting the branches based on their performance\n",
    "df_profit = df_profit.sort_values(by= ['إجمالي الربح'])\n",
    "df_profit.reset_index(inplace = True)\n",
    "\n",
    "# making a copy of the profit data in order to safely make changes \n",
    "df_profit_final = df_profit.copy()\n",
    "\n",
    "# encoding the last column in the dataset and summarize the results of all branches \n",
    "df_profit_final.loc['الاجمالي', 'فريق المبيعات'] =  df_profit['فريق المبيعات'].count()\n",
    "df_profit_final.loc['الاجمالي', 'معدل التغير عن الشهر السابق'] =(df_profit['إجمالي الربح'].sum() - df_pervious_profit['إجمالي ربح الشهر السابق'].sum())/ df_pervious_profit['إجمالي ربح الشهر السابق'].sum()\n",
    "df_profit_final.loc['الاجمالي', 'هامش الربح من المبيعات'] = df_profit['إجمالي الربح'].sum() / (df_sales['إجمالي المبيعات'].sum()/1.15)\n",
    "df_profit_final.loc['الاجمالي', 'نسبة الفرع من إجمالي الأرباح'] = df_profit['نسبة الفرع من إجمالي الأرباح'].sum()\n",
    "df_profit_final.loc['الاجمالي', 'إجمالي الربح'] = df_profit['إجمالي الربح'].sum()\n",
    "\n",
    "# getting the order column\n",
    "df_profit_final.reset_index(inplace = True)\n",
    "df_profit_final.rename(columns = {'index': 'الترتيب'}, inplace = True)\n",
    "df_profit_final.set_index('الترتيب', inplace = True)\n",
    "\n",
    "# saving the profit insights in the sales report \n",
    "with pd.ExcelWriter('sales report.xlsx', engine='openpyxl', mode='a') as writer:\n",
    "    df_profit_final.to_excel(writer, sheet_name= 'اكثر المنتجات ربحا')"
   ]
  },
  {
   "cell_type": "markdown",
   "id": "43404c94",
   "metadata": {},
   "source": [
    "### Categorizing The Branches "
   ]
  },
  {
   "cell_type": "code",
   "execution_count": 24,
   "id": "42f3bffe",
   "metadata": {},
   "outputs": [],
   "source": [
    "# Getting the profit and the sales for each branch\n",
    "branches_all= pd.pivot_table(df, index = ['فريق المبيعات'], values = ['Subtotal' , 'profit margin'], aggfunc = 'sum')\n",
    "branches_all.reset_index(inplace = True)\n",
    "branches_all.rename(columns = {'Subtotal': 'إجمالي المبيعات',\n",
    "                               'profit margin': 'إجمالي الربح'}, inplace = True)\n",
    "\n",
    "\n",
    "# Getting the total discounts these branches made\n",
    "total_additional_discounts =  pd.pivot_table(df_addition_discount,\n",
    "                                             index = ['فريق المبيعات'], values = ['Subtotal'], aggfunc = 'sum')\n",
    "total_additional_discounts.reset_index(inplace = True)\n",
    "total_additional_discounts.rename(columns = {'Subtotal': 'إجمالي الخصومات الاضافية'}, inplace = True)\n",
    "\n",
    "\n",
    "# Getting the number of products our branches sold\n",
    "products_varriety = pd.pivot_table(df, index = ['فريق المبيعات'], values = ['Product'], aggfunc = 'nunique')\n",
    "products_varriety.reset_index(inplace = True)\n",
    "products_varriety.rename(columns = {'Product': 'عدد المنتجات المختلفة المباعة'}, inplace = True)\n",
    "\n",
    "# add the total discounts and the number of sold products to branches_all dataframe\n",
    "branches_all = branches_all.merge(total_additional_discounts, on = 'فريق المبيعات', how = 'inner')\n",
    "branches_all = branches_all.merge(products_varriety, on = 'فريق المبيعات', how = 'inner')"
   ]
  },
  {
   "cell_type": "code",
   "execution_count": 25,
   "id": "5052141c",
   "metadata": {},
   "outputs": [
    {
     "data": {
      "text/plain": [
       "'الدرجة من 4'"
      ]
     },
     "execution_count": 25,
     "metadata": {},
     "output_type": "execute_result"
    }
   ],
   "source": [
    "# Standarizing our columns \n",
    "percent = branches_all.copy()\n",
    "y = percent['فريق المبيعات']\n",
    "percent.drop(columns = 'فريق المبيعات', inplace = True)\n",
    "Branches = list(percent.columns)\n",
    "\n",
    "# standrizing the columns of the dataframe\n",
    "for x in Branches: \n",
    "    Max_Min_Standardization(percent, x)\n",
    "\n",
    "# getting the performance indicater columns\n",
    "Degree_From(percent)"
   ]
  },
  {
   "cell_type": "code",
   "execution_count": 26,
   "id": "6a5b4280",
   "metadata": {},
   "outputs": [],
   "source": [
    "### Running the Clustering Algorithm"
   ]
  },
  {
   "cell_type": "code",
   "execution_count": 27,
   "id": "8b9d8cff",
   "metadata": {},
   "outputs": [
    {
     "name": "stderr",
     "output_type": "stream",
     "text": [
      "C:\\Users\\Rahaty Store\\anaconda3\\Lib\\site-packages\\sklearn\\cluster\\_kmeans.py:1412: FutureWarning: The default value of `n_init` will change from 10 to 'auto' in 1.4. Set the value of `n_init` explicitly to suppress the warning\n",
      "  super()._check_params_vs_input(X, default_n_init=10)\n",
      "C:\\Users\\Rahaty Store\\anaconda3\\Lib\\site-packages\\sklearn\\cluster\\_kmeans.py:1436: UserWarning: KMeans is known to have a memory leak on Windows with MKL, when there are less chunks than available threads. You can avoid it by setting the environment variable OMP_NUM_THREADS=1.\n",
      "  warnings.warn(\n"
     ]
    }
   ],
   "source": [
    "#initializing the kmeans algorithm\n",
    "kmeans = KMeans(n_clusters = 3, init = 'k-means++', random_state = 42)\n",
    "y_kmeans = kmeans.fit_predict(percent)\n"
   ]
  },
  {
   "cell_type": "markdown",
   "id": "f4b68602",
   "metadata": {},
   "source": [
    "### Visualizing The Results"
   ]
  },
  {
   "cell_type": "code",
   "execution_count": 28,
   "id": "0af5c6fa",
   "metadata": {},
   "outputs": [
    {
     "data": {
      "image/png": "[encoded data removed]",
      "text/plain": [
       "<Figure size 640x480 with 1 Axes>"
      ]
     },
     "metadata": {},
     "output_type": "display_data"
    }
   ],
   "source": [
    "# Visualizing the clusters \n",
    "X = np.array(percent)\n",
    "plt.scatter(X[y_kmeans == 0,0], X[y_kmeans == 0, 1], c = 'red', label = 'Cluster 0')\n",
    "plt.scatter(X[y_kmeans == 1, 0], X[y_kmeans == 1, 1], c = 'blue', label = 'Cluster 1')\n",
    "plt.scatter(X[y_kmeans == 2, 0], X[y_kmeans == 2, 1], c = 'green', label = 'Cluster 2')\n",
    "plt.scatter(kmeans.cluster_centers_[:, 0], kmeans.cluster_centers_[:, 1], s = 300, c = 'yellow', label = 'Centroids')\n",
    "plt.title('Clusters Of Branches') \n",
    "plt.xlabel(\"Total sales\")\n",
    "plt.ylabel(\"Total Profit\")\n",
    "plt.legend()\n",
    "plt.show()"
   ]
  },
  {
   "cell_type": "code",
   "execution_count": 29,
   "id": "d1de8d06",
   "metadata": {},
   "outputs": [],
   "source": [
    "# put the results in a column\n",
    "percent['التصنيف الشهري'] = y_kmeans\n",
    "\n",
    "# Replace the values with the appropriate category\n",
    "percent['التصنيف الشهري'].replace(categorize(kmeans.cluster_centers_[:, 1], 3), inplace = True) \n",
    "\n",
    "percent['فريق المبيعات'] = y \n",
    "#Replace the standarized values with the real values\n",
    "percent[['إجمالي المبيعات', 'إجمالي الربح','إجمالي الخصومات الاضافية', 'عدد المنتجات المختلفة المباعة']] =  branches_all[['إجمالي المبيعات', 'إجمالي الربح','إجمالي الخصومات الاضافية', 'عدد المنتجات المختلفة المباعة']]\n",
    "\n",
    "# ordering the columns\n",
    "cols_list = ['فريق المبيعات', 'إجمالي المبيعات', 'إجمالي الربح', 'إجمالي الخصومات الاضافية', 'عدد المنتجات المختلفة المباعة']\n",
    "percent[cols_list] = branches_all[cols_list].copy() \n",
    "\n",
    "#set the branches as an index\n",
    "percent.set_index('فريق المبيعات', inplace = True)\n",
    "\n",
    "# Save the report\n",
    "percent.sort_values(by = 'النسبة', ascending = False).to_excel('تصنيف الفروع.xlsx')"
   ]
  },
  {
   "cell_type": "markdown",
   "id": "5497d2af",
   "metadata": {},
   "source": [
    "## Product Reports"
   ]
  },
  {
   "cell_type": "markdown",
   "id": "dcc87b46",
   "metadata": {},
   "source": [
    "### Drop additional discounts, services, and deposits from dataframe in order to get accurate results"
   ]
  },
  {
   "cell_type": "code",
   "execution_count": 30,
   "id": "965b392b",
   "metadata": {},
   "outputs": [],
   "source": [
    "# perparing our new dataframe that we will work on \n",
    "df2 = df.copy()\n",
    "\n",
    "# In the Products report, we don't want any additional discounts, deposits, and services to appear. So, we will drop them\n",
    "df2.drop(df_addition_discount.index, inplace = True)\n",
    "df2.drop(df_services.index, errors= 'ignore', inplace = True)\n",
    "df2.drop(df_deposit.index, errors= 'ignore', inplace = True)"
   ]
  },
  {
   "cell_type": "code",
   "execution_count": 31,
   "id": "6b0543a7",
   "metadata": {},
   "outputs": [],
   "source": [
    "# getting the returned orders and put it in a special dataframe\n",
    "return_order = df2[df2['Quantity'] < 0]\n",
    "\n",
    "# making a pivot to know the value of returned orders side by side with the quantity returned from each product \n",
    "most_return=pd.pivot_table(return_order, index = ['Barcode', 'Product'], values= ['Quantity', 'Subtotal'], aggfunc = 'sum').sort_values(by = ['Quantity'])\n",
    "most_return.reset_index(inplace = True)\n",
    "\n",
    "# changing the names of the columns \n",
    "most_return.rename(columns = {'Product': 'المنتج', 'Barcode': 'باركود',\n",
    "                    'Quantity': 'عدد الوحدات المسترجعة', \n",
    "                     'Subtotal': 'إجمالي المبيعات'}, inplace = True)\n",
    "\n",
    "# making the barcode is the index of the returned orders  \n",
    "most_return.set_index('باركود' ,inplace = True)\n",
    "\n",
    "# sorting the returned products data frame by the quantity returned and the subtotal of each product\n",
    "most_return = most_return.sort_values(by = ['عدد الوحدات المسترجعة', 'إجمالي المبيعات'])\n",
    "\n",
    "# Saving the returned products data frame\n",
    "most_return.to_excel('متراجعات.xlsx')"
   ]
  },
  {
   "cell_type": "markdown",
   "id": "e51df54b",
   "metadata": {},
   "source": [
    "### Most Sold Worksheet"
   ]
  },
  {
   "cell_type": "code",
   "execution_count": 32,
   "id": "bf61c0fb",
   "metadata": {},
   "outputs": [],
   "source": [
    "# Getting the most sold products \n",
    "df_Product_sold_units = pd.pivot_table(df2,index=['Product'], values=(['Quantity']), aggfunc = 'sum')\n",
    "df_Product_sold_units.rename(columns ={'Quantity':'Sold units'}, inplace = True)\n",
    "\n",
    "# Getting the barcode of the products\n",
    "df_Product_sold_units = df_Product_sold_units.merge(df[['Barcode', 'Product']].drop_duplicates(), how = 'inner', on = 'Product')"
   ]
  },
  {
   "cell_type": "markdown",
   "id": "6cd9a406",
   "metadata": {},
   "source": [
    "#### Total Sales Worksheet"
   ]
  },
  {
   "cell_type": "code",
   "execution_count": 33,
   "id": "a5802303",
   "metadata": {},
   "outputs": [],
   "source": [
    "# Getting the products according to the revenues we got from selling it\n",
    "df_Product_sales = pd.pivot_table(df2,index=['Product'], values=(['Subtotal']), aggfunc = 'sum')\n",
    "\n",
    "# Change the names of our columns\n",
    "df_Product_sales.rename(columns ={'Subtotal':'Total Sales'}, inplace = True)"
   ]
  },
  {
   "cell_type": "markdown",
   "id": "57713bf2",
   "metadata": {},
   "source": [
    "#### Merging the most sold with the total sales "
   ]
  },
  {
   "cell_type": "code",
   "execution_count": 34,
   "id": "5460a005",
   "metadata": {},
   "outputs": [],
   "source": [
    "# adding the number of our sold units to our total sales column\n",
    "df_Product_sold= df_Product_sold_units.merge(df_Product_sales, how = 'inner', on = 'Product').sort_values(by = ['Sold units'])\n",
    "\n",
    "# reordering the columns for a better appearance \n",
    "df_Product_sold = df_Product_sold[['Product', 'Barcode', 'Sold units', 'Total Sales']]"
   ]
  },
  {
   "cell_type": "code",
   "execution_count": 35,
   "id": "668e9dc5",
   "metadata": {},
   "outputs": [],
   "source": [
    "product_units_sales = df_Product_sold.copy()\n",
    "product_units_sales.rename(columns = {'Product': 'المنتج', 'Barcode': 'باركود',\n",
    "                    'Sold units': 'عدد الوحدات المرتجعة', 'Total Sales': 'إجمالي المبيعات'}, inplace = True)"
   ]
  },
  {
   "cell_type": "markdown",
   "id": "9433bb9d",
   "metadata": {},
   "source": [
    "#### Save Top product according to its Sales"
   ]
  },
  {
   "cell_type": "code",
   "execution_count": 36,
   "id": "3afbe62e",
   "metadata": {},
   "outputs": [],
   "source": [
    "product_units_sales = df_Product_sold\n",
    "product_units_sales.rename(columns = {'Product': 'المنتج', 'Barcode': 'باركود',\n",
    "                    'Sold units': 'عدد الوحدات', 'Total Sales': 'إجمالي المبيعات'}, inplace = True)\n",
    "\n",
    "product_units_sales.set_index('باركود', inplace = True)\n",
    "product_units_sales.sort_values(by= 'إجمالي المبيعات', ascending = False).head(10).to_excel('Products report.xlsx',\n",
    "                                                                                            sheet_name= 'اكثر المنتجات من حيث القيمة')"
   ]
  },
  {
   "cell_type": "markdown",
   "id": "6e736282",
   "metadata": {},
   "source": [
    "#### Save Top product according to its sold units"
   ]
  },
  {
   "cell_type": "code",
   "execution_count": 37,
   "id": "02452925",
   "metadata": {},
   "outputs": [],
   "source": [
    "with pd.ExcelWriter('Products report.xlsx', engine='openpyxl', mode='a') as writer:\n",
    "    product_units_sales.sort_values(by= 'عدد الوحدات', ascending = False).head(10).to_excel(writer, sheet_name= 'اكثر المنتجات مبيعا')"
   ]
  },
  {
   "cell_type": "markdown",
   "id": "89ad3477",
   "metadata": {},
   "source": [
    "#### Save most returned products "
   ]
  },
  {
   "cell_type": "code",
   "execution_count": 38,
   "id": "781c7f49",
   "metadata": {},
   "outputs": [],
   "source": [
    "# save Returned products \n",
    "with pd.ExcelWriter('Products report.xlsx', engine='openpyxl', mode='a') as writer:\n",
    "    most_return.head(5).to_excel(writer, sheet_name= 'اكثر المنتجات ارجاعا')"
   ]
  },
  {
   "cell_type": "markdown",
   "id": "a5aa78e3",
   "metadata": {},
   "source": [
    "#### Save least product sales according to its sold units"
   ]
  },
  {
   "cell_type": "code",
   "execution_count": 39,
   "id": "12f84a1f",
   "metadata": {},
   "outputs": [],
   "source": [
    "least_products = product_units_sales[product_units_sales['عدد الوحدات'] > 0]\n",
    "with pd.ExcelWriter('Products report.xlsx', engine='openpyxl', mode='a') as writer:\n",
    "    least_products.sort_values(by= ['عدد الوحدات', 'إجمالي المبيعات']).head(10).to_excel(writer, sheet_name= 'اقل المنتجات مبيعا')"
   ]
  },
  {
   "cell_type": "markdown",
   "id": "9cba4edb",
   "metadata": {},
   "source": [
    "#### Save least product according to its Sales"
   ]
  },
  {
   "cell_type": "code",
   "execution_count": 40,
   "id": "650856a8",
   "metadata": {},
   "outputs": [
    {
     "name": "stderr",
     "output_type": "stream",
     "text": [
      "C:\\Users\\Rahaty Store\\anaconda3\\Lib\\site-packages\\openpyxl\\workbook\\child.py:99: UserWarning: Title is more than 31 characters. Some applications may not be able to read the file\n",
      "  warnings.warn(\"Title is more than 31 characters. Some applications may not be able to read the file\")\n"
     ]
    }
   ],
   "source": [
    "with pd.ExcelWriter('Products report.xlsx', engine='openpyxl', mode='a') as writer:\n",
    "    least_products[least_products['إجمالي المبيعات'] > 0].sort_values(by= ['إجمالي المبيعات']).head(5).to_excel(writer, sheet_name= 'اقل المنتجات مبيعا من حيث القيمة')"
   ]
  },
  {
   "cell_type": "markdown",
   "id": "54e39211",
   "metadata": {},
   "source": [
    "#### Top products accroding to its profit"
   ]
  },
  {
   "cell_type": "code",
   "execution_count": 41,
   "id": "ac0b0c37",
   "metadata": {},
   "outputs": [
    {
     "name": "stderr",
     "output_type": "stream",
     "text": [
      "C:\\Users\\Rahaty Store\\anaconda3\\Lib\\site-packages\\openpyxl\\workbook\\child.py:99: UserWarning: Title is more than 31 characters. Some applications may not be able to read the file\n",
      "  warnings.warn(\"Title is more than 31 characters. Some applications may not be able to read the file\")\n"
     ]
    }
   ],
   "source": [
    "df_Product_profit = pd.pivot_table(df2,index=['Product'], values=(['profit margin']), aggfunc = 'sum')\n",
    "df_Product_profit.rename(columns ={'profit margin':'Total profit'}, inplace = True)\n",
    "\n",
    "# adding the sold units columns in the dataframe of the profit\n",
    "df_Product_profit = df_Product_sold_units.merge(df_Product_profit, how = 'inner', on = 'Product').sort_values(by = ['Sold units'])\n",
    "df_Product_profit.rename(columns = {'Product': 'المنتج', 'Barcode': 'باركود',\n",
    "                    'Sold units': 'عدد الوحدات المرتجعة', 'Total profit': 'إجمالي الربح'}, inplace = True)\n",
    "\n",
    "# Setting the product and its barcode as an index to our dataframe\n",
    "df_Product_profit.set_index(['باركود', 'المنتج'], inplace = True)\n",
    "\n",
    "#saving the top profit products as a worksheet in the excel file \"products reports\"  \n",
    "with pd.ExcelWriter('Products report.xlsx', engine='openpyxl', mode='a') as writer:\n",
    "    df_Product_profit.sort_values(by= 'إجمالي الربح', ascending = False).head(10).to_excel(writer, sheet_name= 'اكثر المنتجات ربحا')"
   ]
  },
  {
   "cell_type": "markdown",
   "id": "be280b8c",
   "metadata": {},
   "source": [
    "## Service Report"
   ]
  },
  {
   "cell_type": "markdown",
   "id": "ede8b5e2",
   "metadata": {},
   "source": [
    "#### Aggregate products based on sold units"
   ]
  },
  {
   "cell_type": "code",
   "execution_count": 42,
   "id": "11193601",
   "metadata": {},
   "outputs": [],
   "source": [
    "df_services_sold_units = pd.pivot_table(df_services,index=['Product'], values=(['Quantity']), aggfunc = 'sum')\n",
    "df_services_sold_units.rename(columns ={'Quantity':'Sold units'}, inplace = True)\n",
    "\n",
    "#add the barcodes to the products in our dataframe\n",
    "df_services_sold_units = df_services_sold_units.merge(df[['Barcode', 'Product']].drop_duplicates(), how = 'inner', on = 'Product')"
   ]
  },
  {
   "cell_type": "markdown",
   "id": "638ea2d2",
   "metadata": {},
   "source": [
    "#### Aggregate services based on our sold units\n"
   ]
  },
  {
   "cell_type": "code",
   "execution_count": 43,
   "id": "b7867d7b",
   "metadata": {},
   "outputs": [],
   "source": [
    "df_services_sales = pd.pivot_table(df_services,index=['Product'], values=(['Subtotal']), aggfunc = 'sum')\n",
    "df_services_sales.rename(columns ={'Subtotal':'Total Sales'}, inplace = True)"
   ]
  },
  {
   "cell_type": "markdown",
   "id": "cfcee04d",
   "metadata": {},
   "source": [
    "#### Save all products ordered by its sales "
   ]
  },
  {
   "cell_type": "code",
   "execution_count": 44,
   "id": "3da0f62e",
   "metadata": {},
   "outputs": [
    {
     "name": "stderr",
     "output_type": "stream",
     "text": [
      "C:\\Users\\Rahaty Store\\anaconda3\\Lib\\site-packages\\openpyxl\\workbook\\child.py:99: UserWarning: Title is more than 31 characters. Some applications may not be able to read the file\n",
      "  warnings.warn(\"Title is more than 31 characters. Some applications may not be able to read the file\")\n"
     ]
    }
   ],
   "source": [
    "# adding the sold units column to the total sales column\n",
    "df_service_sold= df_services_sold_units.merge(df_services_sales, how = 'inner', on = 'Product').sort_values(by = ['Sold units'])\n",
    "\n",
    "#For better appearance\n",
    "df_service_sold = df_service_sold[['Product', 'Barcode', 'Sold units', 'Total Sales']]\n",
    "\n",
    "# renaming our columns\n",
    "df_service_sold.rename(columns = {'Product': 'الخدمة', 'Barcode': 'باركود',\n",
    "                    'Sold units': 'عدد مرات طلب الخدمة', 'Total Sales': 'إجمالي المبيعات'}, inplace = True)\n",
    "\n",
    "# setting the service as an index\n",
    "df_service_sold.set_index('الخدمة', inplace = True)\n",
    "\n",
    "# saving our report\n",
    "with pd.ExcelWriter('Products report.xlsx', engine='openpyxl', mode='a') as writer:\n",
    "    df_service_sold.sort_values(by= 'إجمالي المبيعات', ascending = False).to_excel(writer, sheet_name= 'ااكثر الخدمات طلبا')"
   ]
  },
  {
   "cell_type": "markdown",
   "id": "44b5d957",
   "metadata": {},
   "source": [
    "# Employees Reports"
   ]
  },
  {
   "cell_type": "markdown",
   "id": "822b3c03",
   "metadata": {},
   "source": [
    "#### Perpare the dataFrame we will work with "
   ]
  },
  {
   "cell_type": "code",
   "execution_count": 45,
   "id": "adfeb2f7",
   "metadata": {},
   "outputs": [],
   "source": [
    "# Setting the quantity column for all additional discounts to zero\n",
    "df_addition_discount.loc[ : ,'Quantity'] = 0\n",
    "df3 =df.copy()\n",
    "df3.loc[list(df_addition_discount.index) ,'Quantity'] = 0\n",
    "\n",
    "# Removve the deposits and services from the dataframe\n",
    "df3.drop(df_services.index, errors= 'ignore', inplace = True)\n",
    "df3.drop(df_deposit.index, errors= 'ignore', inplace = True)"
   ]
  },
  {
   "cell_type": "markdown",
   "id": "81fbb160",
   "metadata": {},
   "source": [
    "#### Remove the Websites sales"
   ]
  },
  {
   "cell_type": "code",
   "execution_count": 46,
   "id": "5f9c9a67",
   "metadata": {},
   "outputs": [],
   "source": [
    "xx = df3[df3['Branch'] == 'مبيعات نقاط بيع متجر راحتي الالكتروني']\n",
    "df3.drop(xx.index, axis = 0, inplace = True)\n",
    "xx = df3[df3['Branch'] == 'المتجر الإلكتروني']\n",
    "df3.drop(xx.index, axis = 0, inplace = True)\n"
   ]
  },
  {
   "cell_type": "code",
   "execution_count": 47,
   "id": "e198dfea",
   "metadata": {},
   "outputs": [],
   "source": [
    "xx = df3[df3['فريق المبيعات'] == 'قصر البيان الإلكتروني']\n",
    "df3.drop(xx.index, axis = 0, inplace = True)\n",
    "xx = df3[df3['فريق المبيعات'] == 'الموقع تبوك']\n",
    "df3.drop(xx.index, axis = 0, inplace = True)"
   ]
  },
  {
   "cell_type": "markdown",
   "id": "fa75a43f",
   "metadata": {},
   "source": [
    "#### Remove Branch Whatsup accounts from employees"
   ]
  },
  {
   "cell_type": "code",
   "execution_count": 48,
   "id": "2a119f60",
   "metadata": {},
   "outputs": [],
   "source": [
    "df3.drop(df3[df3['Order Ref/Cashier'].isna()].index, inplace = True)\n",
    "whatsup = df3[df3['Order Ref/Cashier'].str.contains('واتس')]\n",
    "df3.drop(whatsup.index, inplace = True)\n",
    "cashier = df3[df3['Order Ref/Cashier'].str.contains('كاشير')]\n",
    "df3.drop(cashier.index, inplace = True)\n"
   ]
  },
  {
   "cell_type": "markdown",
   "id": "544022c8",
   "metadata": {},
   "source": [
    "##### Employees Sold unit"
   ]
  },
  {
   "cell_type": "code",
   "execution_count": 49,
   "id": "e1d57452",
   "metadata": {},
   "outputs": [],
   "source": [
    "Employee_sold_units = pd.pivot_table(df3,index=['Order Ref/Cashier'], values=(['Quantity']), aggfunc = 'sum')\n",
    "Employee_sold_units.rename(columns ={'Quantity':'Sold units'}, inplace = True)\n",
    "df_Employee_sold_units= Employee_sold_units.merge(df3[['فريق المبيعات',\n",
    "                                                'Order Ref/Cashier']].drop_duplicates(), on ='Order Ref/Cashier', how= 'inner')"
   ]
  },
  {
   "cell_type": "markdown",
   "id": "a6d39078",
   "metadata": {},
   "source": [
    "##### solve the problem of the movement of salesmen from one branch to another at the same week"
   ]
  },
  {
   "cell_type": "code",
   "execution_count": 50,
   "id": "c0e8b2d3",
   "metadata": {},
   "outputs": [],
   "source": [
    "# Aggregating all branches each employee worked for\n",
    "emp_duplicates_df = pd.DataFrame(df_Employee_sold_units.groupby('Order Ref/Cashier')['فريق المبيعات'].apply(lambda x: list(x)))\n",
    "emp_duplicates_df.reset_index(inplace = True)\n",
    "\n",
    "# Mereging the emp_duplicates dataframe with the Employee_sold_units dataframe \n",
    "emp_duplicates_df = emp_duplicates_df.merge(Employee_sold_units, on ='Order Ref/Cashier', how= 'inner')\n",
    "emp_duplicates_df = emp_duplicates_df[['Order Ref/Cashier', 'Sold units', 'فريق المبيعات']]"
   ]
  },
  {
   "cell_type": "code",
   "execution_count": 51,
   "id": "af2d5ac7",
   "metadata": {},
   "outputs": [],
   "source": [
    "list_employee_cor = []\n",
    "employee_dup_index = []\n",
    "employee_dup_indexes = list(df_Employee_sold_units[df_Employee_sold_units['Order Ref/Cashier'].duplicated()].index)\n",
    "employee_dup_names = df_Employee_sold_units.loc[employee_dup_indexes, 'Order Ref/Cashier']\n",
    "\n",
    "# Getting the employees that worked in more than branc from emp_duplicates dataframe\n",
    "for e in employee_dup_names:\n",
    "    list_employee_cor.append(emp_duplicates_df[emp_duplicates_df['Order Ref/Cashier'] == e].index[0])\n",
    "\n",
    "# Getting the employees that worked in more than branch from df_Employee_sold_units dataframe    \n",
    "for u in range(0, len(employee_dup_indexes)):\n",
    "    employee_dup_index.append(employee_dup_indexes[u])    \n",
    "\n",
    "# corecting the duplicates in the df_Employee_sold_units dataframe\n",
    "for i in range(0 , len(list_employee_cor)):\n",
    "    o = list_employee_cor[i]\n",
    "    p = employee_dup_index[i]\n",
    "    df_Employee_sold_units.loc[p, 'فريق المبيعات'] = str(emp_duplicates_df.loc[o, 'فريق المبيعات'])\n",
    "\n",
    "# Dropping the duplicates so that our data frame becomes ready for our analysis\n",
    "df_Employee_sold_units.drop_duplicates(subset = ['Order Ref/Cashier'], keep = 'last', inplace = True)"
   ]
  },
  {
   "cell_type": "markdown",
   "id": "2fc0d320",
   "metadata": {},
   "source": [
    "## Employees Sales Report"
   ]
  },
  {
   "cell_type": "code",
   "execution_count": 52,
   "id": "d71db11a",
   "metadata": {},
   "outputs": [],
   "source": [
    "# aggregating the sales for each employee\n",
    "df_Employee_sales= pd.pivot_table(df,index=['Order Ref/Cashier'],values=(['Subtotal']), aggfunc = 'sum')\n",
    "df_Employee_sales.rename(columns ={'Subtotal':'total sales'}, inplace = True)\n",
    "\n",
    "# add the sold units column for each employee and remove the duplicates by 'inner'\n",
    "df_Employee_sales = df_Employee_sales.merge(df_Employee_sold_units, on= 'Order Ref/Cashier', how = 'inner')\n",
    "\n",
    "# Ordering the columns of our dataframe for better appearance\n",
    "df_Employee_sales = df_Employee_sales[['Order Ref/Cashier', 'فريق المبيعات', 'Sold units', 'total sales']]\n",
    "df_Employee_sales.sort_values(by= 'total sales', ascending = False).head(10)\n",
    "df_Employee_sales.rename(columns = {\"Order Ref/Cashier\": 'موظف المبيعات',\n",
    "                          'Sold units': 'عدد الوحدات المباعة', \n",
    "                          'total sales': 'اجمالي المبيعات'}, inplace = True)"
   ]
  },
  {
   "cell_type": "markdown",
   "id": "3246be1d",
   "metadata": {},
   "source": [
    "#### Save top seller employees according to sold units"
   ]
  },
  {
   "cell_type": "code",
   "execution_count": 53,
   "id": "31bc2878",
   "metadata": {},
   "outputs": [],
   "source": [
    "# aggregating the sold units for each employee\n",
    "Most_sold= pd.pivot_table(df3,index=['Order Ref/Cashier'], values=(['Subtotal']), aggfunc = 'sum')\n",
    "Most_sold.rename(columns ={'Subtotal':'total sales'}, inplace = True)\n",
    "\n",
    "# remove the duplicates \n",
    "Most_sold = Most_sold.merge(df_Employee_sold_units, on= 'Order Ref/Cashier', how = 'inner')\n",
    "\n",
    "# Ordering the columns of our dataframe for better appearance\n",
    "Most_sold = Most_sold[['Order Ref/Cashier', 'فريق المبيعات', 'Sold units', 'total sales']]\n",
    "Most_sold.sort_values(by= 'total sales', ascending = False).head(10)\n",
    "\n",
    "# Renaming the columns for better readability\n",
    "Most_sold.rename(columns = {\"Order Ref/Cashier\": 'موظف المبيعات',\n",
    "                          'Sold units': 'عدد الوحدات المباعة', \n",
    "                          'total sales': 'اجمالي المبيعات'}, inplace = True)\n",
    "\n",
    "# Set the employees column as an index\n",
    "Most_sold.set_index('موظف المبيعات', inplace = True)\n",
    "\n",
    "# sace the top 10 seller employees accroding to their sold units\n",
    "Most_sold.sort_values(by= 'عدد الوحدات المباعة', ascending = False).head(10).to_excel('Employees report.xlsx',\n",
    "                                                                                    sheet_name='اكثر الموظفين بيعا')"
   ]
  },
  {
   "cell_type": "markdown",
   "id": "cfd9695d",
   "metadata": {},
   "source": [
    "#### Save least seller employees"
   ]
  },
  {
   "cell_type": "code",
   "execution_count": 54,
   "id": "6b7a1265",
   "metadata": {},
   "outputs": [],
   "source": [
    "# aggregating the returned products for each employee\n",
    "most_return= pd.pivot_table(df3[df3['Quantity'] < 0],index=['Order Ref/Cashier'], values=['Subtotal', 'Quantity'], aggfunc = 'sum')\n",
    "most_return = most_return.merge(df_Employee_sold_units[['Order Ref/Cashier', 'فريق المبيعات']], on= 'Order Ref/Cashier', how = 'inner')\n",
    "\n",
    "# Rename the columns for better readability\n",
    "most_return.rename(columns = {'Quantity': 'عدد الوحدات المسترجعة',                              \n",
    "                              'Subtotal': 'اجمالي المبلغ',\n",
    "                   'Order Ref/Cashier': 'موظف المبيعات',\n",
    "                   'Sold units': 'عدد الوحدات المسترجعة'}, inplace = True)\n",
    "\n",
    "\n",
    "# Set the employees column as an index\n",
    "most_return.set_index('موظف المبيعات', inplace = True)\n",
    "\n",
    "# sace the top 10 seller employees accroding to their returned products\n",
    "with pd.ExcelWriter('Employees report.xlsx', engine='openpyxl', mode='a') as writer:\n",
    "    most_return.sort_values(by= ['عدد الوحدات المسترجعة', 'اجمالي المبلغ'], ascending = True).head(10).to_excel(writer, sheet_name= 'اكثر الموظفين ارجاعا')"
   ]
  },
  {
   "cell_type": "markdown",
   "id": "dcaaf760",
   "metadata": {},
   "source": [
    "#### Save top seller employees according to amount of money Gained "
   ]
  },
  {
   "cell_type": "code",
   "execution_count": 55,
   "id": "5e639db8",
   "metadata": {},
   "outputs": [
    {
     "name": "stderr",
     "output_type": "stream",
     "text": [
      "C:\\Users\\Rahaty Store\\anaconda3\\Lib\\site-packages\\openpyxl\\workbook\\child.py:99: UserWarning: Title is more than 31 characters. Some applications may not be able to read the file\n",
      "  warnings.warn(\"Title is more than 31 characters. Some applications may not be able to read the file\")\n"
     ]
    }
   ],
   "source": [
    "# sace the top 10 seller employees accroding to their sales\n",
    "with pd.ExcelWriter('Employees report.xlsx', engine='openpyxl', mode='a') as writer:\n",
    "    df_Employee_sales.set_index('موظف المبيعات', inplace = True)\n",
    "    df_Employee_sales.sort_values(by= 'اجمالي المبيعات', ascending = False).head(10).to_excel(writer, sheet_name= 'اكثر الموظفين مبيعا من حيث القيمة')\n",
    "    "
   ]
  },
  {
   "cell_type": "markdown",
   "id": "490facd6",
   "metadata": {},
   "source": [
    "#### Save least seller employees according to amount of money Gained "
   ]
  },
  {
   "cell_type": "code",
   "execution_count": 56,
   "id": "55e48637",
   "metadata": {},
   "outputs": [
    {
     "name": "stderr",
     "output_type": "stream",
     "text": [
      "C:\\Users\\Rahaty Store\\AppData\\Local\\Temp\\ipykernel_14608\\970185673.py:7: SettingWithCopyWarning: \n",
      "A value is trying to be set on a copy of a slice from a DataFrame\n",
      "\n",
      "See the caveats in the documentation: https://pandas.pydata.org/pandas-docs/stable/user_guide/indexing.html#returning-a-view-versus-a-copy\n",
      "  least_seller.drop(whatsup, inplace = True)\n",
      "C:\\Users\\Rahaty Store\\anaconda3\\Lib\\site-packages\\openpyxl\\workbook\\child.py:99: UserWarning: Title is more than 31 characters. Some applications may not be able to read the file\n",
      "  warnings.warn(\"Title is more than 31 characters. Some applications may not be able to read the file\")\n"
     ]
    }
   ],
   "source": [
    "# getting all the employees that sold more than one order\n",
    "least_seller= df_Employee_sales[df_Employee_sales['اجمالي المبيعات'] > 0]\n",
    "least_seller.reset_index(inplace = True)\n",
    "\n",
    "# Removing the whatsup value from the dataframe\n",
    "whatsup= list(least_seller[least_seller['موظف المبيعات'].str.contains('واتس')].index)\n",
    "least_seller.drop(whatsup, inplace = True)\n",
    "\n",
    "# Set the employees column as an index\n",
    "least_seller.set_index('موظف المبيعات', inplace = True)\n",
    "\n",
    "# sace the least 10 employees accroding to their sales\n",
    "with pd.ExcelWriter('Employees report.xlsx', engine='openpyxl', mode='a') as writer:\n",
    "    least_seller.sort_values(by='اجمالي المبيعات').head(10).to_excel(writer, sheet_name= 'اقل الموظفين مبيعا من حيث القيمة')\n",
    "    "
   ]
  },
  {
   "cell_type": "markdown",
   "id": "1335b024",
   "metadata": {},
   "source": [
    "### Best Employee In Each Branch"
   ]
  },
  {
   "cell_type": "code",
   "execution_count": 57,
   "id": "23e06f10",
   "metadata": {},
   "outputs": [],
   "source": [
    "#parpare the table of the whole employees allowing duplication for the salesmen who sell in two places\n",
    "Best_employees = pd.pivot_table(df3,index=['فريق المبيعات','Order Ref/Cashier'], values=['Quantity'], aggfunc = 'sum')\n",
    "Best_employees.reset_index(inplace = True)\n",
    "\n",
    "# aggregating the sales for each employee\n",
    "Best_employees_total = pd.pivot_table(df,index=['فريق المبيعات','Order Ref/Cashier'], values=['Subtotal'], aggfunc = 'sum')\n",
    "Best_employees_total.reset_index(inplace = True)\n",
    "\n",
    "#adding the sold units column\n",
    "Best_employees = Best_employees.merge(Best_employees_total, on =['فريق المبيعات','Order Ref/Cashier'], how = 'inner')\n",
    "\n",
    "# Renaming the columns for better readability\n",
    "Best_employees.rename(columns = {'Quantity': 'عدد الوحدات',\n",
    "                   'Subtotal': 'اجمالي المبيعات',\n",
    "                   'Order Ref/Cashier': 'الموظف'}, inplace = True)\n",
    "\n",
    "# perparing the data dataframe that will store the best employee in eaach branch\n",
    "df_best_per_branch = pd.DataFrame()\n",
    "\n",
    "#getting the list of branches we have\n",
    "listbranches = list(Best_employees['فريق المبيعات'].unique())\n",
    "\n",
    "\n",
    "# getting the top seller in each branch \n",
    "for b in listbranches:\n",
    "    df_best_per_branch = pd.concat([df_best_per_branch, Best_employees[Best_employees['فريق المبيعات'] == b].set_index('الموظف').sort_values(by = 'اجمالي المبيعات', ascending = False).head(1)])"
   ]
  },
  {
   "cell_type": "markdown",
   "id": "2fc79265",
   "metadata": {},
   "source": [
    "#### Save the top seller employee in each branch "
   ]
  },
  {
   "cell_type": "code",
   "execution_count": 58,
   "id": "35b6993c",
   "metadata": {},
   "outputs": [
    {
     "name": "stderr",
     "output_type": "stream",
     "text": [
      "C:\\Users\\Rahaty Store\\anaconda3\\Lib\\site-packages\\openpyxl\\workbook\\child.py:99: UserWarning: Title is more than 31 characters. Some applications may not be able to read the file\n",
      "  warnings.warn(\"Title is more than 31 characters. Some applications may not be able to read the file\")\n"
     ]
    }
   ],
   "source": [
    "with pd.ExcelWriter('Employees report.xlsx', engine='openpyxl', mode='a') as writer:\n",
    "    df_best_per_branch.to_excel(writer, sheet_name= 'افضل بائع في كل فرع')"
   ]
  },
  {
   "cell_type": "markdown",
   "id": "04c9f14f",
   "metadata": {},
   "source": [
    "### Ordering the employees acccording to their branches and their sales amount of money"
   ]
  },
  {
   "cell_type": "code",
   "execution_count": 59,
   "id": "2af6d542",
   "metadata": {},
   "outputs": [],
   "source": [
    "#getting the list of branches we have\n",
    "Branches = list(df3['فريق المبيعات'].unique())\n",
    "\n",
    "# perparing the data dataframe that will store the best employee in eaach branch\n",
    "df_branch_emp = pd.DataFrame()\n",
    "\n",
    "# put the best employees in the df_branch_emp dataframe\n",
    "for b in listbranches:\n",
    "    df_branch_emp = pd.concat([df_branch_emp, Best_employees[Best_employees['فريق المبيعات'] == b].sort_values(by = 'اجمالي المبيعات', ascending = False)])\n",
    "\n",
    "# aggregating the sales for each employee\n",
    "total_branch_sales = pd.DataFrame(pd.pivot_table(df, index=['فريق المبيعات'], values=(['Subtotal']), aggfunc = 'sum'))\n",
    "df_best_per_branch = df_branch_emp.merge(total_branch_sales, how ='inner', on = 'فريق المبيعات')\n",
    "\n",
    "# calculating the percent of sales column\n",
    "df_best_per_branch['نسبة البيع من اجمالي المبيعات'] = df_best_per_branch['اجمالي المبيعات'] / df_best_per_branch['Subtotal'] \n",
    "df_best_per_branch.drop(columns = 'Subtotal', inplace = True )\n",
    "df_best_per_branch.to_excel('Employees per Branch.xlsx')\n",
    "\n",
    "#storing each branch employees in a worksheet in the excel file\n",
    "for b in Branches:\n",
    "    data = df_best_per_branch[df_best_per_branch['فريق المبيعات'] == b]\n",
    "    data.set_index('الموظف', inplace = True)\n",
    "    with pd.ExcelWriter('Employees per Branch.xlsx', engine='openpyxl', mode='a') as writer:\n",
    "        data.sort_values(by= 'اجمالي المبيعات', ascending = False).head(10).to_excel(writer, sheet_name= b) "
   ]
  },
  {
   "cell_type": "markdown",
   "id": "29e37498",
   "metadata": {},
   "source": [
    "## Employees Profit Report"
   ]
  },
  {
   "cell_type": "code",
   "execution_count": 60,
   "id": "fbab44df",
   "metadata": {},
   "outputs": [],
   "source": [
    "# aggregating the porfit for each employee\n",
    "df_Employee_profit= pd.pivot_table(df,index=['Order Ref/Cashier'], values=(['profit margin']), aggfunc = 'sum')\n",
    "df_Employee_profit.rename(columns ={'profit margin':'total profit'}, inplace = True)\n",
    "\n",
    "#adding the sold units column\n",
    "df_Employee_profit = df_Employee_profit.merge(df_Employee_sold_units, on= 'Order Ref/Cashier', how = 'inner')\n",
    "\n",
    "# Ordering the columns of our dataframe for better appearance\n",
    "df_Employee_profit = df_Employee_profit[['Order Ref/Cashier', 'فريق المبيعات', 'Sold units', 'total profit']]\n",
    "\n",
    "# Set the profit column as an index\n",
    "df_Employee_profit.sort_values(by= 'total profit', ascending = False)\n",
    "\n",
    "# Renaming the columns for better readability\n",
    "df_Employee_profit.rename(columns = {\"Order Ref/Cashier\": 'موظف المبيعات',\n",
    "                          'Sold units': 'عدد الوحدات المباعة', \n",
    "                          'total profit': 'اجمالي الربح'}, inplace = True)"
   ]
  },
  {
   "cell_type": "markdown",
   "id": "1f1634e0",
   "metadata": {},
   "source": [
    "#### Save top total sales\n"
   ]
  },
  {
   "cell_type": "code",
   "execution_count": 61,
   "id": "f8d02ce8",
   "metadata": {},
   "outputs": [
    {
     "name": "stderr",
     "output_type": "stream",
     "text": [
      "C:\\Users\\Rahaty Store\\anaconda3\\Lib\\site-packages\\openpyxl\\workbook\\child.py:99: UserWarning: Title is more than 31 characters. Some applications may not be able to read the file\n",
      "  warnings.warn(\"Title is more than 31 characters. Some applications may not be able to read the file\")\n"
     ]
    }
   ],
   "source": [
    "with pd.ExcelWriter('Employees report.xlsx', engine='openpyxl', mode='a') as writer:\n",
    "    df_Employee_profit.set_index('موظف المبيعات', inplace = True)\n",
    "    df_Employee_profit.sort_values(by= 'اجمالي الربح', ascending = False).head(10).to_excel(writer, sheet_name= 'اكثر الموظفين من حيث الربح')"
   ]
  },
  {
   "cell_type": "markdown",
   "id": "f2823130",
   "metadata": {},
   "source": [
    "## Employees Clustering Report"
   ]
  },
  {
   "cell_type": "markdown",
   "id": "454a7a91",
   "metadata": {},
   "source": [
    "### Calculating the variety measure "
   ]
  },
  {
   "cell_type": "code",
   "execution_count": 62,
   "id": "bcb6009f",
   "metadata": {},
   "outputs": [],
   "source": [
    "# Calculating the number of categories each employee sold at least one product from\n",
    "var =  pd.DataFrame(df3.groupby(['Order Ref/Cashier', 'Cat1'])['Cat1'].nunique())\n",
    "var.rename(columns = {'Cat1': 'عدد الوحدات المباعة'}, inplace = True)\n",
    "var.reset_index(inplace = True)\n",
    "values_list = []\n",
    "employees_nameslist= list(var['Order Ref/Cashier'].unique())\n",
    "\n",
    "# Calculating the variety for each employee and put it in the values_list\n",
    "for n in employees_nameslist:\n",
    "    df_temp = var[var['Order Ref/Cashier'] == n]\n",
    "    val = (1- (df_temp['عدد الوحدات المباعة'].max() /  df_temp['عدد الوحدات المباعة'].sum()))\n",
    "    values_list.append(val)"
   ]
  },
  {
   "cell_type": "code",
   "execution_count": 63,
   "id": "ba2da65a",
   "metadata": {},
   "outputs": [],
   "source": [
    "# take a copy of the var dataframe and delete the number of sold units\n",
    "variety = var.copy()\n",
    "variety.drop(columns = {'Cat1', 'عدد الوحدات المباعة'}, inplace = True)\n",
    "variety.drop_duplicates(inplace = True)\n",
    "\n",
    "# put the variety measure in the variety dataframe\n",
    "variety['مقياس التنوع'] = values_list\n",
    "\n",
    "# Renaming the columns for better readability\n",
    "variety.rename(columns = {'Order Ref/Cashier': 'موظف المبيعات'}, inplace = True)"
   ]
  },
  {
   "cell_type": "markdown",
   "id": "69a8653a",
   "metadata": {},
   "source": [
    "### Calculating all the factors, we will assess the salesmen based on"
   ]
  },
  {
   "cell_type": "code",
   "execution_count": 64,
   "id": "8287133d",
   "metadata": {},
   "outputs": [],
   "source": [
    "work_days= pd.pivot_table(df3,\n",
    "                          index = ['Order Ref/Cashier'],\n",
    "                          values = ['day'],\n",
    "                          aggfunc = 'nunique')\n",
    "work_days.reset_index(inplace = True)\n",
    "work_days.rename(columns = {'Order Ref/Cashier':'موظف المبيعات',\n",
    "                               'day': 'عدد ايام العمل'}, inplace = True)\n",
    "\n",
    "profit= pd.pivot_table(df3,\n",
    "                       index = ['Order Ref/Cashier'],\n",
    "                       values = ['profit margin'],\n",
    "                       aggfunc = 'sum')\n",
    "profit.reset_index(inplace = True)\n",
    "profit.rename(columns = {'Order Ref/Cashier':'موظف المبيعات',\n",
    "                               'profit margin': 'الربح'}, inplace = True)\n",
    "\n",
    "\n",
    "mean_profit= pd.pivot_table(df3,\n",
    "                       index = ['Order Ref/Cashier'],\n",
    "                       values = ['profit margin'],\n",
    "                       aggfunc = 'mean')\n",
    "mean_profit.reset_index(inplace = True)\n",
    "mean_profit.rename(columns = {'Order Ref/Cashier':'موظف المبيعات',\n",
    "                              'profit margin': 'متوسط الربح اليومي'}, inplace = True)\n",
    "\n",
    "\n",
    "\n",
    "total_discounts= pd.pivot_table(df3,\n",
    "                       index = ['Order Ref/Cashier'],\n",
    "                       values = ['Total discount'],\n",
    "                       aggfunc = 'sum')\n",
    "total_discounts.reset_index(inplace = True)\n",
    "total_discounts.rename(columns = {'Order Ref/Cashier':'موظف المبيعات',\n",
    "                              'Total discount': 'إجمالي الخصم'}, inplace = True)\n",
    "\n",
    "\n",
    "\n",
    "variety_products= pd.pivot_table(df3,\n",
    "                       index = ['Order Ref/Cashier'],\n",
    "                       values = ['Product'],\n",
    "                       aggfunc = 'nunique')\n",
    "variety_products.reset_index(inplace = True)\n",
    "variety_products.rename(columns = {'Order Ref/Cashier':'موظف المبيعات',\n",
    "                              'Product': 'عدد الاصناف المباعة'}, inplace = True)\n",
    "\n",
    "\n",
    "variety_cat= pd.pivot_table(df3,\n",
    "                       index = ['Order Ref/Cashier'],\n",
    "                       values = ['cat3'],\n",
    "                       aggfunc = 'nunique')\n",
    "variety_cat.reset_index(inplace = True)\n",
    "variety_cat.rename(columns = {'Order Ref/Cashier':'موظف المبيعات',\n",
    "                              'cat3': 'عدد الفئات المباعة'}, inplace = True)\n",
    "\n",
    "\n",
    "\n",
    "total_cost= pd.pivot_table(df3,\n",
    "                       index = ['Order Ref/Cashier'],\n",
    "                       values = ['Cost'],\n",
    "                       aggfunc = 'sum')\n",
    "total_cost.reset_index(inplace = True)\n",
    "total_cost.rename(columns = {'Order Ref/Cashier':'موظف المبيعات',\n",
    "                              'Cost': 'إجمالي تكلفة المنتجات'}, inplace = True)\n",
    "\n",
    "\n",
    "df_addition_discount.loc[:, 'Quantity'] = 1\n",
    "employees_discounts = pd.pivot_table(df_addition_discount,\n",
    "                                     index = ['Order Ref/Cashier', 'فريق المبيعات'],\n",
    "                                     values = ['Quantity','Subtotal'], aggfunc = 'sum')\n",
    "\n",
    "employees_discounts.reset_index(inplace = True)\n",
    "employees_discounts.rename(columns = {'Order Ref/Cashier':'موظف المبيعات',\n",
    "                               'Quantity': 'عدد مرات استخدام الخصم الاضافي',\n",
    "                               'Subtotal': 'إجمالي الخصومات الاضافية'}, inplace = True)\n"
   ]
  },
  {
   "cell_type": "code",
   "execution_count": 65,
   "id": "73223984",
   "metadata": {},
   "outputs": [],
   "source": [
    "# merge all the factors in one dataFrame called all_employees\n",
    "all_employees = df_Employee_sales.merge(work_days, on = 'موظف المبيعات', how = 'inner')\n",
    "all_employees = all_employees.merge(profit, on = ['موظف المبيعات'], how = 'left')\n",
    "all_employees = all_employees.merge(mean_profit, on = ['موظف المبيعات'], how = 'left')\n",
    "all_employees = all_employees.merge(total_discounts, on = ['موظف المبيعات'], how = 'left')\n",
    "all_employees = all_employees.merge(variety_products, on = ['موظف المبيعات'], how = 'left')\n",
    "all_employees = all_employees.merge(variety_cat, on = ['موظف المبيعات'], how = 'left')\n",
    "all_employees = all_employees.merge(total_cost, on = ['موظف المبيعات'], how = 'left')\n",
    "all_employees = all_employees.merge(employees_discounts, on = ['موظف المبيعات', 'فريق المبيعات'], how = 'left')\n",
    "all_employees = all_employees.merge(variety, on = 'موظف المبيعات', how = 'inner')"
   ]
  },
  {
   "cell_type": "code",
   "execution_count": 66,
   "id": "5e8ab45c",
   "metadata": {},
   "outputs": [],
   "source": [
    "# Solve the problem of returned discounts\n",
    "for r in list(all_employees.index):\n",
    "    if all_employees.loc[ r ,'إجمالي الخصومات الاضافية'] == 0:\n",
    "        all_employees.loc[ r ,'عدد مرات استخدام الخصم الاضافي'] = 0\n",
    "        \n",
    "all_employees.fillna(0, inplace = True)"
   ]
  },
  {
   "cell_type": "code",
   "execution_count": 67,
   "id": "cbab88bb",
   "metadata": {},
   "outputs": [],
   "source": [
    "# Calculating extra factors\n",
    "all_employees['إجمالي الخصم'] = all_employees['إجمالي الخصم'] * -1\n",
    "all_employees['إجمالي الخصومات بالخصم الاضافي'] = all_employees['إجمالي الخصومات الاضافية'] + all_employees['إجمالي الخصم'] \n",
    "all_employees['معدل الخصم'] = all_employees['إجمالي الخصومات بالخصم الاضافي'] / all_employees['اجمالي المبيعات']\n",
    "all_employees['معدل الربح'] = (all_employees['اجمالي المبيعات'] - all_employees['إجمالي تكلفة المنتجات']) / all_employees['اجمالي المبيعات']\n",
    "all_employees['متوسط ميبعات اليوم'] = all_employees['اجمالي المبيعات'] / all_employees['عدد ايام العمل']\n",
    "all_employees['متوسط الوحدات المباعة في اليوم'] = all_employees['عدد الوحدات المباعة'] / all_employees['عدد ايام العمل']\n",
    "all_employees['متوسط عدد الفئات المباعة في اليوم'] = all_employees['عدد الفئات المباعة'] / all_employees['عدد ايام العمل']\n",
    "all_employees['متوسط الاصناف المباعة في اليوم'] = all_employees['عدد الاصناف المباعة'] / all_employees['عدد ايام العمل']"
   ]
  },
  {
   "cell_type": "code",
   "execution_count": 68,
   "id": "0f910856",
   "metadata": {},
   "outputs": [],
   "source": [
    "# Solve the problem of returned orders\n",
    "for r in list(all_employees.index):\n",
    "    if all_employees.loc[ r, 'اجمالي المبيعات']   == 0:\n",
    "        all_employees.loc[ r , 'معدل الخصم'] =0\n",
    "        all_employees.loc[ r , 'معدل الربح'] = 0"
   ]
  },
  {
   "cell_type": "markdown",
   "id": "3e26cd32",
   "metadata": {},
   "source": [
    "## Potential Assessment "
   ]
  },
  {
   "cell_type": "code",
   "execution_count": 69,
   "id": "deb55dad",
   "metadata": {},
   "outputs": [],
   "source": [
    "# put all the factors, we will assess the potentail based on\n",
    "assess = all_employees[['متوسط ميبعات اليوم',\n",
    "                         'متوسط الوحدات المباعة في اليوم',\n",
    "                         'معدل الخصم',\n",
    "                         'معدل الربح',\n",
    "                         'متوسط عدد الفئات المباعة في اليوم',\n",
    "                         'متوسط الاصناف المباعة في اليوم']]"
   ]
  },
  {
   "cell_type": "code",
   "execution_count": 70,
   "id": "4426c4e4",
   "metadata": {},
   "outputs": [],
   "source": [
    "# getting a standarized copy of the assess_rate dataframe\n",
    "assess_rate = assess.copy()\n",
    "for f in list(assess_rate.columns):\n",
    "    try:\n",
    "        Max_Min_Standardization(f,assess_rate)\n",
    "    except:\n",
    "        continue\n",
    "\n",
    "name1 = '(نسبة)التمييز الوظيفي'\n",
    "name2 = Degree_From(assess_rate, name1)"
   ]
  },
  {
   "cell_type": "code",
   "execution_count": 71,
   "id": "3ce6e392",
   "metadata": {},
   "outputs": [],
   "source": [
    "# putting the unuse factors in the y dataframe\n",
    "y = assess_rate[[name1, name2]]\n",
    "assess_rate.drop(columns = {name1, name2}, inplace = True)"
   ]
  },
  {
   "cell_type": "markdown",
   "id": "b236f2a3",
   "metadata": {},
   "source": [
    "### Running the Clustering Algorithm"
   ]
  },
  {
   "cell_type": "code",
   "execution_count": 72,
   "id": "d0db2c78",
   "metadata": {},
   "outputs": [
    {
     "name": "stderr",
     "output_type": "stream",
     "text": [
      "C:\\Users\\Rahaty Store\\anaconda3\\Lib\\site-packages\\sklearn\\cluster\\_kmeans.py:1412: FutureWarning: The default value of `n_init` will change from 10 to 'auto' in 1.4. Set the value of `n_init` explicitly to suppress the warning\n",
      "  super()._check_params_vs_input(X, default_n_init=10)\n",
      "C:\\Users\\Rahaty Store\\anaconda3\\Lib\\site-packages\\sklearn\\cluster\\_kmeans.py:1436: UserWarning: KMeans is known to have a memory leak on Windows with MKL, when there are less chunks than available threads. You can avoid it by setting the environment variable OMP_NUM_THREADS=1.\n",
      "  warnings.warn(\n"
     ]
    }
   ],
   "source": [
    "kmeans = KMeans(n_clusters = 3, init = 'k-means++', random_state = 42)\n",
    "y_kmeans = kmeans.fit_predict(assess_rate)"
   ]
  },
  {
   "cell_type": "markdown",
   "id": "ecdd68d2",
   "metadata": {},
   "source": [
    "### Visualizing The Results"
   ]
  },
  {
   "cell_type": "code",
   "execution_count": 73,
   "id": "92ae8568",
   "metadata": {},
   "outputs": [
    {
     "data": {
      "image/png": "[encoded data removed]",
      "text/plain": [
       "<Figure size 640x480 with 1 Axes>"
      ]
     },
     "metadata": {},
     "output_type": "display_data"
    }
   ],
   "source": [
    "X = np.array(assess_rate)\n",
    "plt.scatter(X[y_kmeans == 0,0], X[y_kmeans == 0, 1], c = 'red', label = 'Cluster 1')\n",
    "plt.scatter(X[y_kmeans == 1, 0], X[y_kmeans == 1, 1], c = 'blue', label = 'Cluster 2')\n",
    "plt.scatter(X[y_kmeans == 2, 0], X[y_kmeans == 2, 1], c = 'green', label = 'Cluster 3')\n",
    "plt.scatter(kmeans.cluster_centers_[:, 0], kmeans.cluster_centers_[:, 1], s = 300, c = 'yellow', label = 'Centroids')\n",
    "plt.title('Clusters Of Branches')\n",
    "plt.xlabel('Total Sales')\n",
    "plt.ylabel('number of transactions')\n",
    "plt.legend()\n",
    "plt.show()"
   ]
  },
  {
   "cell_type": "code",
   "execution_count": 74,
   "id": "59cf6ec4",
   "metadata": {},
   "outputs": [],
   "source": [
    "# Putting and replacing the values of the clustering algorithm with our categorize values in the assess_rate dataframe\n",
    "assess_rate['التصنيف الشهري للتميز'] = y_kmeans\n",
    "assess_rate['التصنيف الشهري للتميز'].replace(categorize(kmeans.cluster_centers_[:, 1], 3), inplace = True) \n",
    "assess_rate[list(y.columns)] = y\n",
    "\n",
    "# replacing the standardized values with original values\n",
    "all_employees['التصنيف الشهري للتميز'] = assess_rate['التصنيف الشهري للتميز']"
   ]
  },
  {
   "cell_type": "code",
   "execution_count": 75,
   "id": "381d13bd",
   "metadata": {},
   "outputs": [],
   "source": [
    "#Copy the columns names from assess dataframe to assess_rate dataframe \n",
    "assess_rate[assess.columns] = assess[assess.columns]\n",
    "\n",
    "# remove the duplication of the employees\n",
    "assess_rate[['فريق المبيعات', 'موظف المبيعات']] = all_employees[['فريق المبيعات', 'موظف المبيعات']]\n",
    "\n",
    "# putting the '(نسبة)التمييز الوظيفي' in all_employees dataframe\n",
    "all_employees[['(نسبة)التمييز الوظيفي']] = assess_rate[['(نسبة)التمييز الوظيفي']]\n",
    "\n",
    "# Ordering the columns of the assess_rate dataframe\n",
    "assess_rate = assess_rate[['موظف المبيعات',\n",
    "                         'فريق المبيعات',\n",
    "                         'متوسط ميبعات اليوم',\n",
    "                         'متوسط الوحدات المباعة في اليوم',\n",
    "                         'معدل الخصم',\n",
    "                         'معدل الربح',\n",
    "                         'متوسط عدد الفئات المباعة في اليوم',\n",
    "                         'متوسط الاصناف المباعة في اليوم',\n",
    "                         'الدرجة من 6',\n",
    "                         '(نسبة)التمييز الوظيفي',\n",
    "                         'التصنيف الشهري للتميز']]\n",
    "\n",
    "# ordering the dataset\n",
    "assess_rate = assess_rate.sort_values(by =['التصنيف الشهري للتميز'])"
   ]
  },
  {
   "cell_type": "markdown",
   "id": "f47b6539",
   "metadata": {},
   "source": [
    "## Performance Assessment "
   ]
  },
  {
   "cell_type": "code",
   "execution_count": 76,
   "id": "4400b7b0",
   "metadata": {},
   "outputs": [],
   "source": [
    "Performance = all_employees[['عدد الوحدات المباعة'\n",
    "                , 'اجمالي المبيعات'\n",
    "                ,'الربح'\n",
    "                ,'إجمالي الخصومات الاضافية'\n",
    "                ,'إجمالي الخصومات بالخصم الاضافي'\n",
    "                ,'عدد الاصناف المباعة'\n",
    "                ,'عدد الفئات المباعة']]"
   ]
  },
  {
   "cell_type": "code",
   "execution_count": 77,
   "id": "213963c7",
   "metadata": {},
   "outputs": [],
   "source": [
    "# getting a standarized copy of the assess_rate dataframe\n",
    "Performance_assess = Performance.copy()\n",
    "for x in list(Performance_assess.columns):\n",
    "    try:\n",
    "        Max_Min_Standardization(x,Performance_assess)\n",
    "    except:\n",
    "        continue\n",
    "\n",
    "name1 = '(نسبة)الاداء الوظيفي'\n",
    "name2 = Degree_From(Performance_assess, name1)"
   ]
  },
  {
   "cell_type": "code",
   "execution_count": 78,
   "id": "8c551986",
   "metadata": {},
   "outputs": [
    {
     "name": "stderr",
     "output_type": "stream",
     "text": [
      "C:\\Users\\Rahaty Store\\AppData\\Local\\Temp\\ipykernel_14608\\992025686.py:2: SettingWithCopyWarning: \n",
      "A value is trying to be set on a copy of a slice from a DataFrame.\n",
      "Try using .loc[row_indexer,col_indexer] = value instead\n",
      "\n",
      "See the caveats in the documentation: https://pandas.pydata.org/pandas-docs/stable/user_guide/indexing.html#returning-a-view-versus-a-copy\n",
      "  y[['موظف المبيعات', 'فريق المبيعات']] = all_employees[['موظف المبيعات', 'فريق المبيعات']]\n",
      "C:\\Users\\Rahaty Store\\AppData\\Local\\Temp\\ipykernel_14608\\992025686.py:2: SettingWithCopyWarning: \n",
      "A value is trying to be set on a copy of a slice from a DataFrame.\n",
      "Try using .loc[row_indexer,col_indexer] = value instead\n",
      "\n",
      "See the caveats in the documentation: https://pandas.pydata.org/pandas-docs/stable/user_guide/indexing.html#returning-a-view-versus-a-copy\n",
      "  y[['موظف المبيعات', 'فريق المبيعات']] = all_employees[['موظف المبيعات', 'فريق المبيعات']]\n"
     ]
    }
   ],
   "source": [
    "y = Performance_assess[[name1, name2]] \n",
    "y[['موظف المبيعات', 'فريق المبيعات']] = all_employees[['موظف المبيعات', 'فريق المبيعات']]\n",
    "Performance_assess.drop(columns = {name1, name2}, inplace = True)"
   ]
  },
  {
   "cell_type": "markdown",
   "id": "e710f037",
   "metadata": {},
   "source": [
    "### Running the Clustering Algorithm"
   ]
  },
  {
   "cell_type": "code",
   "execution_count": 79,
   "id": "79148e6b",
   "metadata": {},
   "outputs": [
    {
     "name": "stderr",
     "output_type": "stream",
     "text": [
      "C:\\Users\\Rahaty Store\\anaconda3\\Lib\\site-packages\\sklearn\\cluster\\_kmeans.py:1412: FutureWarning: The default value of `n_init` will change from 10 to 'auto' in 1.4. Set the value of `n_init` explicitly to suppress the warning\n",
      "  super()._check_params_vs_input(X, default_n_init=10)\n",
      "C:\\Users\\Rahaty Store\\anaconda3\\Lib\\site-packages\\sklearn\\cluster\\_kmeans.py:1436: UserWarning: KMeans is known to have a memory leak on Windows with MKL, when there are less chunks than available threads. You can avoid it by setting the environment variable OMP_NUM_THREADS=1.\n",
      "  warnings.warn(\n"
     ]
    }
   ],
   "source": [
    "kmeans = KMeans(n_clusters = 3, init = 'k-means++', random_state = 42)\n",
    "y_kmeans = kmeans.fit_predict(Performance_assess)"
   ]
  },
  {
   "cell_type": "markdown",
   "id": "00381e51",
   "metadata": {},
   "source": [
    "### Visualizing The Results"
   ]
  },
  {
   "cell_type": "code",
   "execution_count": 80,
   "id": "daae9a22",
   "metadata": {},
   "outputs": [
    {
     "data": {
      "image/png": "[encoded data removed]",
      "text/plain": [
       "<Figure size 640x480 with 1 Axes>"
      ]
     },
     "metadata": {},
     "output_type": "display_data"
    }
   ],
   "source": [
    "X = np.array(Performance_assess)\n",
    "plt.scatter(X[y_kmeans == 0,0], X[y_kmeans == 0, 1], c = 'red', label = 'Cluster 1')\n",
    "plt.scatter(X[y_kmeans == 1, 0], X[y_kmeans == 1, 1], c = 'blue', label = 'Cluster 2')\n",
    "plt.scatter(X[y_kmeans == 2, 0], X[y_kmeans == 2, 1], c = 'green', label = 'Cluster 3')\n",
    "plt.scatter(kmeans.cluster_centers_[:, 0], kmeans.cluster_centers_[:, 1], s = 300, c = 'yellow', label = 'Centroids')\n",
    "plt.title('Clusters Of Branches')\n",
    "plt.xlabel('Total Sales')\n",
    "plt.ylabel('number of transactions')\n",
    "plt.legend()\n",
    "plt.show()"
   ]
  },
  {
   "cell_type": "code",
   "execution_count": 81,
   "id": "e3c460ff",
   "metadata": {},
   "outputs": [],
   "source": [
    "# Putting and replacing the values of the clustering algorithm with our categorize values in the assess_rate dataframe\n",
    "Performance_assess['التصنيف الشهري للاداء'] = y_kmeans\n",
    "Performance_assess['التصنيف الشهري للاداء'].replace(categorize(kmeans.cluster_centers_[:, 1], 3), inplace = True) \n",
    "Performance_assess[y.columns] = y\n",
    "\n",
    "# replacing the standardized values with original values\n",
    "all_employees[['التصنيف الشهري للاداء', '(نسبة)الاداء الوظيفي']] = Performance_assess[['التصنيف الشهري للاداء', '(نسبة)الاداء الوظيفي']]"
   ]
  },
  {
   "cell_type": "code",
   "execution_count": 82,
   "id": "c515eeb0",
   "metadata": {},
   "outputs": [],
   "source": [
    "# ordering the dataframe for a better appearance\n",
    "Performance_assess = Performance_assess[['موظف المبيعات',\n",
    "                                    'فريق المبيعات',\n",
    "                                   'عدد الوحدات المباعة',\n",
    "                                    'اجمالي المبيعات',\n",
    "                                    'الربح',\n",
    "                                    'إجمالي الخصومات الاضافية',\n",
    "                                    'إجمالي الخصومات بالخصم الاضافي',\n",
    "                                    'عدد الاصناف المباعة',\n",
    "                                    'عدد الفئات المباعة',\n",
    "                                    'التصنيف الشهري للاداء',\n",
    "                                    '(نسبة)الاداء الوظيفي',\n",
    "                                    'الدرجة من 7']]"
   ]
  },
  {
   "cell_type": "code",
   "execution_count": 83,
   "id": "b3b973a7",
   "metadata": {},
   "outputs": [],
   "source": [
    "# putting some columns from all_employees to Performance_assess\n",
    "columns = ['عدد الوحدات المباعة'\n",
    "                , 'اجمالي المبيعات'\n",
    "                ,'الربح'\n",
    "                ,'إجمالي الخصومات الاضافية'\n",
    "                ,'إجمالي الخصومات بالخصم الاضافي'\n",
    "                ,'عدد الاصناف المباعة'\n",
    "                ,'عدد الفئات المباعة']\n",
    "\n",
    "Performance_assess[columns] = all_employees[columns]"
   ]
  },
  {
   "cell_type": "code",
   "execution_count": 84,
   "id": "18fc5d6b",
   "metadata": {},
   "outputs": [],
   "source": [
    "# ordering the values of Performance_assess dataframe\n",
    "Performance_assess = Performance_assess.sort_values(by = '(نسبة)الاداء الوظيفي', ascending =  False)\n",
    "\n",
    "# merging all the information from the Performance_assess and assess_rate datasets to a new dataset called clustering_agg \n",
    "clustering_agg = Performance_assess.merge(assess_rate, on = ['موظف المبيعات', 'فريق المبيعات'], how = 'inner')\n",
    "clustering_agg = clustering_agg[[ 'موظف المبيعات',\n",
    "                                 'فريق المبيعات', \n",
    "                                 'التصنيف الشهري للتميز',\n",
    "                                 '(نسبة)التمييز الوظيفي',\n",
    "                                 'التصنيف الشهري للاداء',\n",
    "                                '(نسبة)الاداء الوظيفي']]\n",
    "clustering_agg['التقيم النهائي'] = (clustering_agg['(نسبة)التمييز الوظيفي'] + clustering_agg['(نسبة)الاداء الوظيفي'])/2\n",
    "clustering_agg = clustering_agg.sort_values(by = ['التقيم النهائي'], ascending = False)"
   ]
  },
  {
   "cell_type": "code",
   "execution_count": 85,
   "id": "485c26f2",
   "metadata": {},
   "outputs": [],
   "source": [
    "# setting the employee column as an index for our four dataframes\n",
    "Performance_assess.set_index('موظف المبيعات', inplace = True)\n",
    "assess_rate.set_index('موظف المبيعات', inplace = True)\n",
    "all_employees.set_index('موظف المبيعات', inplace = True)\n",
    "clustering_agg.set_index('موظف المبيعات', inplace = True)"
   ]
  },
  {
   "cell_type": "code",
   "execution_count": 86,
   "id": "c7a6900e",
   "metadata": {},
   "outputs": [],
   "source": [
    "# ordering the values of all_employees dataframe\n",
    "all_employees = all_employees.sort_values(by = ['(نسبة)الاداء الوظيفي',\n",
    "                                '(نسبة)التمييز الوظيفي'], ascending = False)"
   ]
  },
  {
   "cell_type": "markdown",
   "id": "1a1f063a",
   "metadata": {},
   "source": [
    "#### Save all our datasets"
   ]
  },
  {
   "cell_type": "code",
   "execution_count": 87,
   "id": "52a5219e",
   "metadata": {},
   "outputs": [],
   "source": [
    "assess_rate.to_excel('clustering employees.xlsx', sheet_name = '(التميز) عوامل التقييم')\n",
    "\n",
    "with pd.ExcelWriter('clustering employees.xlsx', engine='openpyxl', mode='a') as writer:\n",
    "    Performance_assess.to_excel(writer, sheet_name= 'عوامل التقييم (الاداء)') \n",
    "    \n",
    "with pd.ExcelWriter('clustering employees.xlsx', engine='openpyxl', mode='a') as writer:\n",
    "    clustering_agg.to_excel(writer, sheet_name= 'التقييم مجمع')\n",
    "    \n",
    "with pd.ExcelWriter('clustering employees.xlsx', engine='openpyxl', mode='a') as writer:\n",
    "    all_employees.to_excel(writer, sheet_name= 'بيانات تفصلية عن الموظفين')\n"
   ]
  },
  {
   "cell_type": "markdown",
   "id": "296f23cf",
   "metadata": {},
   "source": [
    "## Get the top five products for each branch"
   ]
  },
  {
   "cell_type": "markdown",
   "id": "487d3015",
   "metadata": {},
   "source": [
    "#### Cleaning the main data frame from deposits, services, etc"
   ]
  },
  {
   "cell_type": "code",
   "execution_count": 88,
   "id": "ebfa0c85",
   "metadata": {},
   "outputs": [],
   "source": [
    "df4 = df.copy()\n",
    "df4.drop(df_deposit.index, inplace =True, errors = 'ignore')\n",
    "df4.drop(df_addition_discount.index, inplace = True, errors = 'ignore')\n",
    "df4.drop(df_services.index, inplace = True, errors = 'ignore')\n",
    "df4.drop(df_0.index, inplace = True, errors = 'ignore')"
   ]
  },
  {
   "cell_type": "markdown",
   "id": "5f7c0dfc",
   "metadata": {},
   "source": [
    "### Get the top five products for each branch according to sales "
   ]
  },
  {
   "cell_type": "code",
   "execution_count": 89,
   "id": "e3d7c3e6",
   "metadata": {},
   "outputs": [],
   "source": [
    "data_sales = pd.DataFrame()\n",
    "Branches = list(df4['فريق المبيعات'].unique())\n",
    "df.to_excel((str(m[0]) + ' products Per Branch' +'.xlsx'), sheet_name = 'Data')\n",
    "for x in Branches: \n",
    "    try:\n",
    "        branch_team = df3[df3['فريق المبيعات'] == x]\n",
    "        Total_sold = pd.pivot_table(branch_team, index=['فريق المبيعات', 'Product'], values=(['Quantity']), aggfunc = 'sum')\n",
    "        Total_sold.rename(columns ={'Quantity':'sold units'}, inplace = True)\n",
    "        Total_sold = Total_sold.sort_values(by= 'sold units', ascending = False).head(5)\n",
    "    except:\n",
    "        continue\n",
    "    mean_discounts = pd.pivot_table(branch_team, index=['فريق المبيعات', 'Product'], values=(['Total discount']), aggfunc = 'mean')\n",
    "    mean_discounts.rename(columns ={'Total discount':'mean discounts'}, inplace = True)        \n",
    "    total_sales = pd.pivot_table(branch_team, index=['فريق المبيعات', 'Product'], values=(['Subtotal']), aggfunc = 'sum')\n",
    "    total_sales.rename(columns ={'profit margin':'Total sales'}, inplace = True)\n",
    "    df2 = Total_sold.merge(mean_discounts, on= ['فريق المبيعات', 'Product'], how= 'inner')\n",
    "    df2 = df2.merge(total_sales, on= ['فريق المبيعات', 'Product'], how= 'inner')\n",
    "    df2.sort_values(by= 'sold units', ascending = False)\n",
    "    \n",
    "    h = len(df2) + 1\n",
    "    df2.loc[' ', df2.columns] = ' '\n",
    "    df2.loc['  ', df2.columns] = ' '\n",
    "    df2.loc[('فريق المبيعات', 'Product'), df2.columns] = df2.columns\n",
    "    data_sales  = pd.concat([df2, data_sales], ignore_index=False)\n",
    "\n",
    "\n",
    "with pd.ExcelWriter((str(m[0]) + ' products Per Branch' +'.xlsx'), engine='openpyxl', mode='a') as writer:\n",
    "    data_sales.to_excel(writer, sheet_name= 'Sales')   "
   ]
  },
  {
   "cell_type": "markdown",
   "id": "99165777",
   "metadata": {},
   "source": [
    "### Get the top five products for each branch according to sales and profit (individually) "
   ]
  },
  {
   "cell_type": "code",
   "execution_count": 90,
   "id": "07b9f943",
   "metadata": {},
   "outputs": [],
   "source": [
    "temp = pd.DataFrame()\n",
    "Branches = list(df4['فريق المبيعات'].unique())\n",
    "temp.to_excel((str(m[0]) + ' products Per Branch' +'.xlsx'), sheet_name = 'Data')\n",
    "for x in Branches: \n",
    "    try:\n",
    "        branch_team = df3[df3['فريق المبيعات'] == x]\n",
    "        Total_sold = pd.pivot_table(branch_team, index=['فريق المبيعات', 'Product'], values=(['Quantity']), aggfunc = 'sum')\n",
    "        Total_sold.rename(columns ={'Quantity':'sold units'}, inplace = True)\n",
    "        Total_sold = Total_sold.sort_values(by= 'sold units', ascending = False).head(5)\n",
    "    except:\n",
    "        continue\n",
    "    mean_discounts = pd.pivot_table(branch_team, index=['فريق المبيعات', 'Product'], values=(['Total discount']), aggfunc = 'mean')\n",
    "    mean_discounts.rename(columns ={'Total discount':'mean discounts'}, inplace = True)        \n",
    "    total_sales = pd.pivot_table(branch_team, index=['فريق المبيعات', 'Product'], values=(['Subtotal']), aggfunc = 'sum')\n",
    "    total_sales.rename(columns ={'profit margin':'Total sales'}, inplace = True)\n",
    "    total_profit = pd.pivot_table(branch_team, index=['فريق المبيعات', 'Product'], values=(['profit margin']), aggfunc = 'sum')\n",
    "    total_profit.rename(columns ={'profit margin':'Total profit'}, inplace = True)\n",
    "    \n",
    "    df2 = Total_sold.merge(mean_discounts, on= ['فريق المبيعات', 'Product'], how= 'inner')\n",
    "    df2 = df2.merge(total_sales, on= ['فريق المبيعات', 'Product'], how= 'inner')\n",
    "    df2 = df2.merge(total_profit, on= ['فريق المبيعات', 'Product'], how= 'inner')\n",
    "    df2.sort_values(by= 'sold units', ascending = False)\n",
    "    with pd.ExcelWriter((str(m[0]) + ' products Per Branch' +'.xlsx'), engine='openpyxl', mode='a') as writer:\n",
    "        df2.to_excel(writer, sheet_name= x)   \n",
    "    \n",
    "\n"
   ]
  },
  {
   "cell_type": "markdown",
   "id": "5e686b60",
   "metadata": {},
   "source": [
    "### Get the top five products for each branch according to profit "
   ]
  },
  {
   "cell_type": "code",
   "execution_count": 91,
   "id": "76e22c4e",
   "metadata": {},
   "outputs": [],
   "source": [
    "data_profit = pd.DataFrame()\n",
    "for x in Branches: \n",
    "    try:\n",
    "        branch_team = df3[df3['فريق المبيعات'] == x]\n",
    "        Total_sold = pd.pivot_table(branch_team, index=['فريق المبيعات', 'Product'], values=(['Quantity']), aggfunc = 'sum')\n",
    "        Total_sold.rename(columns ={'Quantity':'sold units'}, inplace = True)\n",
    "        Total_sold = Total_sold.sort_values(by= 'sold units', ascending = False).head(5)\n",
    "    except:\n",
    "        continue\n",
    "    mean_discounts = pd.pivot_table(branch_team, index=['فريق المبيعات', 'Product'], values=(['Total discount']), aggfunc = 'mean')\n",
    "    mean_discounts.rename(columns ={'Total discount':'mean discounts'}, inplace = True)        \n",
    "    total_profit = pd.pivot_table(branch_team, index=['فريق المبيعات', 'Product'], values=(['profit margin']), aggfunc = 'sum')\n",
    "    total_profit.rename(columns ={'profit margin':'Total sales'}, inplace = True)\n",
    "    df2 = Total_sold.merge(mean_discounts, on= ['فريق المبيعات', 'Product'], how= 'inner')\n",
    "    df2 = df2.merge(total_profit, on= ['فريق المبيعات', 'Product'], how= 'inner')\n",
    "    df2.sort_values(by= 'sold units', ascending = False)\n",
    "    h = len(df2) + 1\n",
    "    df2.loc[' ', df2.columns] = ' '\n",
    "    df2.loc['  ', df2.columns] = ' '\n",
    "    df2.loc[('فريق المبيعات', 'Product'), df2.columns] = df2.columns\n",
    "    data_profit  = pd.concat([df2, data_profit], ignore_index=False)\n",
    "\n",
    "with pd.ExcelWriter((str(m[0]) + ' products Per Branch' +'.xlsx'), engine='openpyxl', mode='a') as writer:\n",
    "    data_profit.to_excel(writer, sheet_name= 'Profit')  "
   ]
  },
  {
   "cell_type": "markdown",
   "id": "dd2e9d06",
   "metadata": {},
   "source": [
    "# Association Analysis"
   ]
  },
  {
   "cell_type": "markdown",
   "id": "3602680e",
   "metadata": {},
   "source": [
    "## Without Services"
   ]
  },
  {
   "cell_type": "code",
   "execution_count": 92,
   "id": "aa76637e",
   "metadata": {},
   "outputs": [],
   "source": [
    "# Aggregating Products Based On The Order ID and put in list of lists called transaction\n",
    "x = pd.DataFrame(df4.groupby(['Date','رقم الفاتوره'])['Product'].apply(lambda x: list(x)))\n",
    "transactions = x['Product'].values.tolist()\n"
   ]
  },
  {
   "cell_type": "markdown",
   "id": "542529ad",
   "metadata": {},
   "source": [
    "#### Running the apriori"
   ]
  },
  {
   "cell_type": "code",
   "execution_count": 93,
   "id": "ee898cab",
   "metadata": {},
   "outputs": [],
   "source": [
    "rules = apriori(transactions, min_support=0.00030,min_confidence = 0.05,min_lift = 2,min_length = 2)\n",
    "results = list(rules)"
   ]
  },
  {
   "cell_type": "markdown",
   "id": "f8641fc3",
   "metadata": {},
   "source": [
    "#### Cleaning and putting the results in a dataframe"
   ]
  },
  {
   "cell_type": "code",
   "execution_count": 94,
   "id": "987dcae0",
   "metadata": {},
   "outputs": [
    {
     "data": {
      "text/html": [
       "<div>\n",
       "<style scoped>\n",
       "    .dataframe tbody tr th:only-of-type {\n",
       "        vertical-align: middle;\n",
       "    }\n",
       "\n",
       "    .dataframe tbody tr th {\n",
       "        vertical-align: top;\n",
       "    }\n",
       "\n",
       "    .dataframe thead th {\n",
       "        text-align: right;\n",
       "    }\n",
       "</style>\n",
       "<table border=\"1\" class=\"dataframe\">\n",
       "  <thead>\n",
       "    <tr style=\"text-align: right;\">\n",
       "      <th></th>\n",
       "      <th>Left Hand Side</th>\n",
       "      <th>Right Hand Side</th>\n",
       "      <th>Support</th>\n",
       "      <th>Confidence</th>\n",
       "      <th>Lift</th>\n",
       "    </tr>\n",
       "  </thead>\n",
       "  <tbody>\n",
       "    <tr>\n",
       "      <th>34</th>\n",
       "      <td>[M0472] مرتبة هيبى مون 120*190*18سم M0472</td>\n",
       "      <td>[الشرابية] سرير خشب شرائح  120*190</td>\n",
       "      <td>0.001384</td>\n",
       "      <td>0.755556</td>\n",
       "      <td>185.624889</td>\n",
       "    </tr>\n",
       "    <tr>\n",
       "      <th>13</th>\n",
       "      <td>[1161476] طقم طاولات خدمة بني CT CX2213 SET BR</td>\n",
       "      <td>[1161561] طاولة شاي وسط بني CT CX2219 BR</td>\n",
       "      <td>0.000366</td>\n",
       "      <td>0.692308</td>\n",
       "      <td>459.692308</td>\n",
       "    </tr>\n",
       "    <tr>\n",
       "      <th>36</th>\n",
       "      <td>[M0655] مرتبة  تركى لباد 120*190 - M0655</td>\n",
       "      <td>[الشرابية] سرير خشب شرائح  120*190</td>\n",
       "      <td>0.000326</td>\n",
       "      <td>0.666667</td>\n",
       "      <td>163.786667</td>\n",
       "    </tr>\n",
       "    <tr>\n",
       "      <th>15</th>\n",
       "      <td>[BBE-06] سرير أطفال - BBE-06</td>\n",
       "      <td>[M0459] مرتبة هيبي مون 60*120*10سم M0459</td>\n",
       "      <td>0.000733</td>\n",
       "      <td>0.666667</td>\n",
       "      <td>233.980952</td>\n",
       "    </tr>\n",
       "    <tr>\n",
       "      <th>29</th>\n",
       "      <td>[FBB-09Y] سرير أطفال - logburly wood-FBB-09Y</td>\n",
       "      <td>[M0459] مرتبة هيبي مون 60*120*10سم M0459</td>\n",
       "      <td>0.000488</td>\n",
       "      <td>0.600000</td>\n",
       "      <td>210.582857</td>\n",
       "    </tr>\n",
       "  </tbody>\n",
       "</table>\n",
       "</div>"
      ],
      "text/plain": [
       "                                    Left Hand Side  \\\n",
       "34       [M0472] مرتبة هيبى مون 120*190*18سم M0472   \n",
       "13  [1161476] طقم طاولات خدمة بني CT CX2213 SET BR   \n",
       "36        [M0655] مرتبة  تركى لباد 120*190 - M0655   \n",
       "15                    [BBE-06] سرير أطفال - BBE-06   \n",
       "29    [FBB-09Y] سرير أطفال - logburly wood-FBB-09Y   \n",
       "\n",
       "                             Right Hand Side   Support  Confidence        Lift  \n",
       "34       [الشرابية] سرير خشب شرائح  120*190   0.001384    0.755556  185.624889  \n",
       "13  [1161561] طاولة شاي وسط بني CT CX2219 BR  0.000366    0.692308  459.692308  \n",
       "36       [الشرابية] سرير خشب شرائح  120*190   0.000326    0.666667  163.786667  \n",
       "15  [M0459] مرتبة هيبي مون 60*120*10سم M0459  0.000733    0.666667  233.980952  \n",
       "29  [M0459] مرتبة هيبي مون 60*120*10سم M0459  0.000488    0.600000  210.582857  "
      ]
     },
     "execution_count": 94,
     "metadata": {},
     "output_type": "execute_result"
    }
   ],
   "source": [
    "def inspect(results):\n",
    "    lhs         = [tuple(result[2][0][0])[0] for result in results]\n",
    "    rhs         = [tuple(result[2][0][1])[0] for result in results]\n",
    "    supports    = [result[1] for result in results]\n",
    "    confidences = [result[2][0][2] for result in results]\n",
    "    lifts       = [result[2][0][3] for result in results]\n",
    "    return list(zip(lhs, rhs, supports, confidences, lifts))\n",
    "ordered_results = pd.DataFrame(inspect(results), columns = ['Left Hand Side', 'Right Hand Side', 'Support', 'Confidence', 'Lift'])\n",
    "ordered_results.sort_values(by =['Confidence', 'Lift'], ascending = False).head(5)"
   ]
  },
  {
   "cell_type": "markdown",
   "id": "025b000f",
   "metadata": {},
   "source": [
    "#### Getting how many times each pairs appeared together in the orders"
   ]
  },
  {
   "cell_type": "code",
   "execution_count": 95,
   "id": "7c72695b",
   "metadata": {},
   "outputs": [],
   "source": [
    "count = [0 for i in range(0, ordered_results.shape[0])]\n",
    "for i in ordered_results.index:\n",
    "    for t in transactions:\n",
    "            if ordered_results.iloc[i, 0] in t:\n",
    "                if ordered_results.iloc[i, 1] in t:\n",
    "                    count[i] +=1\n",
    "\n",
    "                \n",
    "x =  count[0: ordered_results.shape[0]]\n",
    "ordered_results['times together algorithm'] = x"
   ]
  },
  {
   "cell_type": "markdown",
   "id": "711420c3",
   "metadata": {},
   "source": [
    "#### Putting the results in ordered_results dataset"
   ]
  },
  {
   "cell_type": "code",
   "execution_count": 96,
   "id": "1f7aa1f2",
   "metadata": {},
   "outputs": [],
   "source": [
    "ordered_results['times in invoice together'] = round(ordered_results['Support'] * len(transactions))\n",
    "ordered_results['times in invoice together'] = ordered_results['times in invoice together'].astype(int)"
   ]
  },
  {
   "cell_type": "markdown",
   "id": "cfb6f1cc",
   "metadata": {},
   "source": [
    "#### Save the ordered_results dataset"
   ]
  },
  {
   "cell_type": "code",
   "execution_count": 97,
   "id": "3d44c930",
   "metadata": {},
   "outputs": [],
   "source": [
    "ordered_results.sort_values(by =['Confidence', 'Lift']).to_excel('Basket_market_analysis.xlsx', sheet_name= 'بدون خدمات', index = False)"
   ]
  },
  {
   "cell_type": "markdown",
   "id": "18ee5c9c",
   "metadata": {},
   "source": [
    "## With Products"
   ]
  },
  {
   "cell_type": "code",
   "execution_count": 98,
   "id": "ff28ba5c",
   "metadata": {},
   "outputs": [],
   "source": [
    "# Aggregating Products Based On The Order ID and put in list of lists called transaction\n",
    "x = pd.DataFrame(df.groupby(['Date','رقم الفاتوره'])['Product'].apply(lambda x: list(x)))\n",
    "transactions = x['Product'].values.tolist()"
   ]
  },
  {
   "cell_type": "markdown",
   "id": "e5737a67",
   "metadata": {},
   "source": [
    "#### Running the apriori"
   ]
  },
  {
   "cell_type": "code",
   "execution_count": 99,
   "id": "e775ac9f",
   "metadata": {},
   "outputs": [],
   "source": [
    "rules = apriori(transactions, min_support=0.00030,min_confidence = 0.05,min_lift = 2,min_length = 2)\n",
    "results = list(rules)"
   ]
  },
  {
   "cell_type": "markdown",
   "id": "ef862dab",
   "metadata": {},
   "source": [
    "#### Cleaning and putting the results in a dataframe"
   ]
  },
  {
   "cell_type": "code",
   "execution_count": 100,
   "id": "6d10e691",
   "metadata": {},
   "outputs": [
    {
     "data": {
      "text/html": [
       "<div>\n",
       "<style scoped>\n",
       "    .dataframe tbody tr th:only-of-type {\n",
       "        vertical-align: middle;\n",
       "    }\n",
       "\n",
       "    .dataframe tbody tr th {\n",
       "        vertical-align: top;\n",
       "    }\n",
       "\n",
       "    .dataframe thead th {\n",
       "        text-align: right;\n",
       "    }\n",
       "</style>\n",
       "<table border=\"1\" class=\"dataframe\">\n",
       "  <thead>\n",
       "    <tr style=\"text-align: right;\">\n",
       "      <th></th>\n",
       "      <th>Left Hand Side</th>\n",
       "      <th>Right Hand Side</th>\n",
       "      <th>Support</th>\n",
       "      <th>Confidence</th>\n",
       "      <th>Lift</th>\n",
       "    </tr>\n",
       "  </thead>\n",
       "  <tbody>\n",
       "    <tr>\n",
       "      <th>419</th>\n",
       "      <td>قسيمة التخفيض(RA10)</td>\n",
       "      <td>الإجمالي النهائي</td>\n",
       "      <td>0.001397</td>\n",
       "      <td>1.000000</td>\n",
       "      <td>11.106466</td>\n",
       "    </tr>\n",
       "    <tr>\n",
       "      <th>309</th>\n",
       "      <td>[90309245] خزانة 6 درج ابيض 140x72سم 90309245</td>\n",
       "      <td>الإجمالي النهائي</td>\n",
       "      <td>0.001475</td>\n",
       "      <td>0.950000</td>\n",
       "      <td>10.551142</td>\n",
       "    </tr>\n",
       "    <tr>\n",
       "      <th>378</th>\n",
       "      <td>[S01] مرايا ابيض -WHITE -S01</td>\n",
       "      <td>الإجمالي النهائي</td>\n",
       "      <td>0.000582</td>\n",
       "      <td>0.937500</td>\n",
       "      <td>10.412311</td>\n",
       "    </tr>\n",
       "    <tr>\n",
       "      <th>6</th>\n",
       "      <td>[00030118] طاولة طعام رخام 8ك M005-1 GREY</td>\n",
       "      <td>[11223344] RS خصم اضافي للعميل</td>\n",
       "      <td>0.000349</td>\n",
       "      <td>0.900000</td>\n",
       "      <td>11.323389</td>\n",
       "    </tr>\n",
       "    <tr>\n",
       "      <th>243</th>\n",
       "      <td>[3820] سرير راحتى 90*190 شرائح الوان ابيض 3820</td>\n",
       "      <td>[575730] تركيب مجاني</td>\n",
       "      <td>0.000388</td>\n",
       "      <td>0.833333</td>\n",
       "      <td>6.094947</td>\n",
       "    </tr>\n",
       "  </tbody>\n",
       "</table>\n",
       "</div>"
      ],
      "text/plain": [
       "                                     Left Hand Side  \\\n",
       "419                             قسيمة التخفيض(RA10)   \n",
       "309   [90309245] خزانة 6 درج ابيض 140x72سم 90309245   \n",
       "378                    [S01] مرايا ابيض -WHITE -S01   \n",
       "6         [00030118] طاولة طعام رخام 8ك M005-1 GREY   \n",
       "243  [3820] سرير راحتى 90*190 شرائح الوان ابيض 3820   \n",
       "\n",
       "                    Right Hand Side   Support  Confidence       Lift  \n",
       "419                الإجمالي النهائي  0.001397    1.000000  11.106466  \n",
       "309                الإجمالي النهائي  0.001475    0.950000  10.551142  \n",
       "378                الإجمالي النهائي  0.000582    0.937500  10.412311  \n",
       "6    [11223344] RS خصم اضافي للعميل  0.000349    0.900000  11.323389  \n",
       "243            [575730] تركيب مجاني  0.000388    0.833333   6.094947  "
      ]
     },
     "execution_count": 100,
     "metadata": {},
     "output_type": "execute_result"
    }
   ],
   "source": [
    "ordered_results = pd.DataFrame(inspect(results), columns = ['Left Hand Side', 'Right Hand Side', 'Support', 'Confidence', 'Lift'])\n",
    "ordered_results.sort_values(by =['Confidence', 'Lift'], ascending = False).head(5)"
   ]
  },
  {
   "cell_type": "markdown",
   "id": "5cf64210",
   "metadata": {},
   "source": [
    "#### Getting how many times each pairs appeared together in the orders"
   ]
  },
  {
   "cell_type": "code",
   "execution_count": 101,
   "id": "3bd251ab",
   "metadata": {},
   "outputs": [],
   "source": [
    "count = [0 for i in range(0, ordered_results.shape[0])]\n",
    "for i in ordered_results.index:\n",
    "    for t in transactions:\n",
    "            if ordered_results.iloc[i, 0] in t:\n",
    "                if ordered_results.iloc[i, 1] in t:\n",
    "                    count[i] +=1\n",
    "\n",
    "                \n",
    "x =  count[0: ordered_results.shape[0]]\n",
    "ordered_results['times together algorithm'] = x"
   ]
  },
  {
   "cell_type": "markdown",
   "id": "28e1a4bc",
   "metadata": {},
   "source": [
    "#### Putting the results in ordered_results dataset"
   ]
  },
  {
   "cell_type": "code",
   "execution_count": 102,
   "id": "b6172bfa",
   "metadata": {},
   "outputs": [],
   "source": [
    "ordered_results['times in invoice together'] = round(ordered_results['Support'] * len(transactions))\n",
    "ordered_results['times in invoice together'] = ordered_results['times in invoice together'].astype(int)"
   ]
  },
  {
   "cell_type": "markdown",
   "id": "c6a89598",
   "metadata": {},
   "source": [
    "#### Save the ordered_results dataset"
   ]
  },
  {
   "cell_type": "code",
   "execution_count": 103,
   "id": "763c7e6a",
   "metadata": {},
   "outputs": [],
   "source": [
    "with pd.ExcelWriter('Basket_market_analysis.xlsx', engine='openpyxl', mode='a') as writer:\n",
    "    ordered_results.sort_values(by =['Confidence', 'Lift']).to_excel(writer, sheet_name= 'بخدمات', index = False)"
   ]
  }
 ],
 "metadata": {
  "kernelspec": {
   "display_name": "Python 3 (ipykernel)",
   "language": "python",
   "name": "python3"
  },
  "language_info": {
   "codemirror_mode": {
    "name": "ipython",
    "version": 3
   },
   "file_extension": ".py",
   "mimetype": "text/x-python",
   "name": "python",
   "nbconvert_exporter": "python",
   "pygments_lexer": "ipython3",
   "version": "3.11.5"
  }
 },
 "nbformat": 4,
 "nbformat_minor": 5
}
