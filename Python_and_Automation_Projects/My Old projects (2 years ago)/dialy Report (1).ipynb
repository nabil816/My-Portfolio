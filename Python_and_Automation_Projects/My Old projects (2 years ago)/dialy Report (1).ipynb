{
 "cells": [
  {
   "cell_type": "code",
   "execution_count": 1,
   "id": "ce49d457",
   "metadata": {},
   "outputs": [],
   "source": [
    "dataset_today = '22 May.xlsx'\n",
    "dataset_pervious_day = '21 May.xlsx'\n"
   ]
  },
  {
   "cell_type": "markdown",
   "id": "3abec678",
   "metadata": {},
   "source": [
    "# Importing Data And Libraries"
   ]
  },
  {
   "cell_type": "code",
   "execution_count": 2,
   "id": "6003f850",
   "metadata": {},
   "outputs": [],
   "source": [
    "import os\n",
    "import pandas as pd\n",
    "import numpy as np\n",
    "import matplotlib.pyplot as plt\n",
    "from sklearn.cluster import KMeans"
   ]
  },
  {
   "cell_type": "markdown",
   "id": "082094f3",
   "metadata": {},
   "source": [
    "### Reading Our Datasets "
   ]
  },
  {
   "cell_type": "code",
   "execution_count": 3,
   "id": "19293a74",
   "metadata": {},
   "outputs": [],
   "source": [
    "dataset = pd.read_excel(dataset_today)\n",
    "df = dataset.copy()"
   ]
  },
  {
   "cell_type": "code",
   "execution_count": 4,
   "id": "eb05d21a",
   "metadata": {},
   "outputs": [],
   "source": [
    "dataset = pd.read_excel(dataset_pervious_day)\n",
    "df_pervious = dataset.copy()"
   ]
  },
  {
   "cell_type": "markdown",
   "id": "969e6b26",
   "metadata": {},
   "source": [
    "# Cleaning Part"
   ]
  },
  {
   "cell_type": "markdown",
   "id": "eb6b5745",
   "metadata": {},
   "source": [
    "### Extract the year and the month columns\n"
   ]
  },
  {
   "cell_type": "code",
   "execution_count": 5,
   "id": "9b4c8abc",
   "metadata": {},
   "outputs": [],
   "source": [
    "df.rename(columns = {\n",
    "    'Order Ref/Branch': 'Area'\n",
    "    , 'Receipt Number':'رقم الفاتوره'\n",
    "    , 'Order Date':  'Date'\n",
    "    ,'Order Ref/Sales Team': 'فريق المبيعات' \n",
    "    , 'Product/Barcode': 'Barcode'\n",
    "    ,'Product/Product Category': 'Product Category'\n",
    "    ,'Total cost': 'Cost'\n",
    "    , 'Order Ref/Employee/Employee Name': 'Order Ref/Cashier'\n",
    "    ,'Product/Barcode': 'Barcode'\n",
    "    ,'Total cost': 'Cost'\n",
    "    ,'Order Ref/Employee/Employee Name': 'Order Ref/Cashier'\n",
    "    ,'Product/Sales Price': 'Sales Price'\n",
    "}, inplace = True)\n",
    "\n",
    "df_pervious.rename(columns = {\n",
    "    'Order Ref/Branch': 'Area'\n",
    "    , 'Receipt Number':'رقم الفاتوره'\n",
    "    , 'Order Date':  'Date'\n",
    "    ,'Order Ref/Sales Team': 'فريق المبيعات' \n",
    "    , 'Product/Barcode': 'Barcode'\n",
    "    ,'Product/Product Category': 'Product Category'\n",
    "    ,'Total cost': 'Cost'\n",
    "    , 'Order Ref/Employee/Employee Name': 'Order Ref/Cashier'\n",
    "    ,'Product/Barcode': 'Barcode'\n",
    "    ,'Total cost': 'Cost'\n",
    "    ,'Order Ref/Employee/Employee Name': 'Order Ref/Cashier'\n",
    "    ,'Product/Sales Price': 'Sales Price'\n",
    "}, inplace = True)"
   ]
  },
  {
   "cell_type": "code",
   "execution_count": 6,
   "id": "3698fdb8",
   "metadata": {},
   "outputs": [],
   "source": [
    "df['day'] = pd.to_datetime(df['Date']).dt.day\n",
    "d = list(df['day'].dropna().unique())\n",
    "\n",
    "df['month'] = pd.to_datetime(df['Date']).dt.month_name()\n",
    "m = list(df['month'].dropna().unique())\n",
    "\n",
    "df['year'] = pd.to_datetime(df['Date']).dt.year\n",
    "y = list(df['year'].dropna().unique())"
   ]
  },
  {
   "cell_type": "markdown",
   "id": "e504d381",
   "metadata": {},
   "source": [
    "### Change the directory in order to put all the excel files reports in the day folder"
   ]
  },
  {
   "cell_type": "code",
   "execution_count": 7,
   "id": "8a967b1a",
   "metadata": {},
   "outputs": [],
   "source": [
    "root_path = 'Desktop/'\n",
    "os.mkdir(os.path.join(root_path, (str(int(d[0])) + ' ' + m[0] + ' '+str(int(y[0]))) ))\n",
    "os.chdir(os.path.join(root_path, (str(int(d[0])) + ' ' + m[0] + ' '+ str(int(y[0]))) ))"
   ]
  },
  {
   "cell_type": "markdown",
   "id": "f4dbd318",
   "metadata": {},
   "source": [
    "### Split product cat Columns"
   ]
  },
  {
   "cell_type": "code",
   "execution_count": 8,
   "id": "8092766b",
   "metadata": {},
   "outputs": [],
   "source": [
    "df[['Cat1', 'Product origin', 'cat2', 'cat3', 'cat4']]= df['Product Category'].str.split(\"/\",expand=True)\n",
    "df.drop(columns= {'Product Category'}, inplace = True)\n",
    "df_pervious[['Cat1', 'Product origin', 'cat2', 'cat3', 'cat4']]= df_pervious['Product Category'].str.split(\"/\",expand=True)\n",
    "df_pervious.drop(columns= {'Product Category'}, inplace = True)\n",
    "\n",
    "#df_pervious[['Product origin', 'Cat1', 'cat2', 'cat3']]= df_pervious['Product Category'].str.split(\"/\",expand=True)\n",
    "#df_pervious.drop(columns= {'Product Category'}, inplace = True)\n",
    "\n"
   ]
  },
  {
   "cell_type": "markdown",
   "id": "88be6d1c",
   "metadata": {},
   "source": [
    "### Prepare the required Columns"
   ]
  },
  {
   "cell_type": "code",
   "execution_count": 9,
   "id": "f8b26324",
   "metadata": {},
   "outputs": [],
   "source": [
    "df['discount amount'] = df['Quantity'] * (df['Unit Price'] - df['Subtotal'])\n",
    "df['discount percentage'] = df['discount amount'] / df['Unit Price']\n",
    "df['Total discount'] = df['discount amount']  + df['discount percentage']\n",
    "df['price before discount'] = df['Unit Price'] * df['Quantity']\n",
    "df['Cost per unit'] = df['Cost'] * df['Quantity']\n",
    "df['vat'] = df['Subtotal'] / 1.15\n",
    "df['profit margin'] = df['vat'] - df['Cost'] \n",
    "df['Profit margin percentage'] = df['profit margin'] /df['vat']"
   ]
  },
  {
   "cell_type": "code",
   "execution_count": 10,
   "id": "6a9c56fe",
   "metadata": {},
   "outputs": [],
   "source": [
    "df_pervious['discount amount'] =  df_pervious['Quantity'] * (df_pervious['Unit Price'] - df_pervious['Subtotal'])\n",
    "df_pervious['discount percentage'] = df_pervious['discount amount'] / df_pervious['Unit Price']\n",
    "df_pervious['Total discount'] = df_pervious['discount amount']  + df_pervious['discount percentage']\n",
    "df_pervious['price before discount'] = df_pervious['Unit Price'] * df_pervious['Quantity']\n",
    "df_pervious['Cost per unit'] = df_pervious['Cost'] * df_pervious['Quantity']\n",
    "df_pervious['vat'] = df_pervious['Subtotal'] / 1.15\n",
    "df_pervious['profit margin'] = df_pervious['vat'] - df_pervious['Cost'] \n",
    "df_pervious['Profit margin percentage'] = df_pervious['profit margin'] /df_pervious['vat']"
   ]
  },
  {
   "cell_type": "markdown",
   "id": "3e78382e",
   "metadata": {},
   "source": [
    "### Cleaning the values of the branches to be in a better shape"
   ]
  },
  {
   "cell_type": "code",
   "execution_count": 11,
   "id": "1d47f321",
   "metadata": {},
   "outputs": [],
   "source": [
    "df['فريق المبيعات'].replace({ 'مبيعات نقاط بيع راحتي الإحساء' : 'الإحساء',\n",
    "                             'مبيعات نقاط بيع راحتي الرس' : 'الرس' ,\n",
    "                             'مبيعات نقاط بيع راحتي بريدة 2' : \"بريدة 2\",\n",
    "                             'مبيعات نقاط بيع راحتي الدمام' : \"الدمام\",\n",
    "                             'مبيعات نقاط بيع فرع بريدة 1' : 'بريدة 1',\n",
    "                             'مبيعات نقاط بيع راحتي الطائف 1' : ' الطائف 1',\n",
    "                              'مبيعات نقاط بيع راحتي البدائع': 'البدائع',\n",
    "                             'مبيعات نقاط بيع راحتي حائل 1': 'حائل 1',\n",
    "                             'مبيعات نقاط بيع راحتي حفر الباطن': 'حفر الباطن',\n",
    "                             'مبيعات نقاط بيع راحتي حائل 2': 'حائل 2',\n",
    "                             'مبيعات متجر قصر البيان الإلكتروني': 'قصر البيان الإلكتروني',\n",
    "                             'مبيعات نقاط بيع قصر البيان حائل': 'قصر البيان حائل',\n",
    "                             'مبيعات نقاط بيع فرع تبوك': 'فرع تبوك',\n",
    "                             'مبيعات نقاط بيع راحتي الرياض': 'الرياض',\n",
    "                             'مبيعات نقاط بيع متجر راحتي الالكتروني': 'متجر راحتي الالكتروني',\n",
    "                             'مبيعات نقاط بيع راحتي الطائف 2': 'راحتي الطائف 2',\n",
    "                            'مبيعات نقاط بيع خميس مشيط': 'خميس مشيط'}, inplace = True)\n"
   ]
  },
  {
   "cell_type": "code",
   "execution_count": 12,
   "id": "7792461b",
   "metadata": {},
   "outputs": [],
   "source": [
    "df_pervious['فريق المبيعات'].replace({ 'مبيعات نقاط بيع راحتي الإحساء' : 'الإحساء',\n",
    "                             'مبيعات نقاط بيع راحتي الرس' : 'الرس' ,\n",
    "                             'مبيعات نقاط بيع راحتي بريدة 2' : \"بريدة 2\",\n",
    "                             'مبيعات نقاط بيع راحتي الدمام' : \"الدمام\",\n",
    "                             'مبيعات نقاط بيع فرع بريدة 1' : 'بريدة 1',\n",
    "                             'مبيعات نقاط بيع راحتي الطائف 1' : ' الطائف 1',\n",
    "                              'مبيعات نقاط بيع راحتي البدائع': 'البدائع',\n",
    "                             'مبيعات نقاط بيع راحتي حائل 1': 'حائل 1',\n",
    "                             'مبيعات نقاط بيع راحتي حفر الباطن': 'حفر الباطن',\n",
    "                             'مبيعات نقاط بيع راحتي حائل 2': 'حائل 2',\n",
    "                             'مبيعات متجر قصر البيان الإلكتروني': 'قصر البيان الإلكتروني',\n",
    "                             'مبيعات نقاط بيع قصر البيان حائل': 'قصر البيان حائل',\n",
    "                             'مبيعات نقاط بيع فرع تبوك': 'فرع تبوك',\n",
    "                             'مبيعات نقاط بيع راحتي الرياض': 'الرياض',\n",
    "                             'مبيعات نقاط بيع متجر راحتي الالكتروني': 'متجر راحتي الالكتروني',\n",
    "                             'مبيعات نقاط بيع راحتي الطائف 2': 'راحتي الطائف 2', \n",
    "                            'مبيعات نقاط بيع خميس مشيط': 'خميس مشيط'}, inplace = True)"
   ]
  },
  {
   "cell_type": "markdown",
   "id": "6ee63bd5",
   "metadata": {},
   "source": [
    "### Prepare different pages "
   ]
  },
  {
   "cell_type": "markdown",
   "id": "070b5377",
   "metadata": {},
   "source": [
    "#### Page of Deposits"
   ]
  },
  {
   "cell_type": "code",
   "execution_count": 13,
   "id": "6f74cb9e",
   "metadata": {},
   "outputs": [],
   "source": [
    "df_deposit = df[df['Product origin'] == 'منتجات مصروفات الشركة']\n",
    "df_deposit.to_excel('Service and other things report.xlsx', sheet_name='منتجات مصروفات الشركة',  index = False)\n",
    "df.loc[df_deposit.index,\"Quantity\"] = 1"
   ]
  },
  {
   "cell_type": "markdown",
   "id": "a67ab2b8",
   "metadata": {},
   "source": [
    "#### Page of services and installment"
   ]
  },
  {
   "cell_type": "code",
   "execution_count": 14,
   "id": "172bc7d4",
   "metadata": {},
   "outputs": [],
   "source": [
    "df_services = df[df['Cat1'] == 'خدمات ']\n",
    "with pd.ExcelWriter('Service and other things report.xlsx', engine='openpyxl', mode='a') as writer:\n",
    "    df_services.to_excel(writer, sheet_name= 'خدمات',  index = False)\n"
   ]
  },
  {
   "cell_type": "code",
   "execution_count": 15,
   "id": "30f14059",
   "metadata": {},
   "outputs": [],
   "source": [
    "df_installment = df[df['Product origin'] == 'خدمات التقسيط']\n",
    "with pd.ExcelWriter('Service and other things report.xlsx', engine='openpyxl', mode='a') as writer:\n",
    "    df_installment.to_excel(writer, sheet_name= 'خدمات التقسيط',  index = False)\n",
    "df_services =pd.concat([df_services, df_installment])"
   ]
  },
  {
   "cell_type": "markdown",
   "id": "2f761dcb",
   "metadata": {},
   "source": [
    "#### Get the additional discounts rows, put it in dataframe and save it as a file"
   ]
  },
  {
   "cell_type": "code",
   "execution_count": 16,
   "id": "fd8906bf",
   "metadata": {},
   "outputs": [
    {
     "name": "stderr",
     "output_type": "stream",
     "text": [
      "C:\\Users\\Rahaty Store\\AppData\\Local\\Temp\\ipykernel_18108\\3686595714.py:3: SettingWithCopyWarning: \n",
      "A value is trying to be set on a copy of a slice from a DataFrame\n",
      "\n",
      "See the caveats in the documentation: https://pandas.pydata.org/pandas-docs/stable/user_guide/indexing.html#returning-a-view-versus-a-copy\n",
      "  df_all.drop(df_addition_discount.index, inplace = True)\n"
     ]
    }
   ],
   "source": [
    "df_all = df[df['Product origin'] == 'All']\n",
    "df_addition_discount = df_all[df_all['Product'] == '[11223344] RS خصم اضافي للعميل']\n",
    "df_all.drop(df_addition_discount.index, inplace = True)\n",
    "df_services = pd.concat([df_services, df_all])\n",
    "df_addition_discount.to_excel('addition_discount report.xlsx',  index = False)"
   ]
  },
  {
   "cell_type": "markdown",
   "id": "182cdd71",
   "metadata": {},
   "source": [
    "#### Page of zero qunatity"
   ]
  },
  {
   "cell_type": "code",
   "execution_count": 17,
   "id": "87764b7f",
   "metadata": {},
   "outputs": [],
   "source": [
    "df_0 = df[df['Quantity'] == 0 ]\n",
    "with pd.ExcelWriter('Service and other things report.xlsx', engine='openpyxl', mode='a') as writer:\n",
    "    df_0.to_excel(writer, sheet_name= 'صفر كمية',  index = False)\n",
    "df.drop(df_0.index, inplace = True)"
   ]
  },
  {
   "cell_type": "code",
   "execution_count": 18,
   "id": "ae865b63",
   "metadata": {},
   "outputs": [],
   "source": [
    "df_0 = df_pervious[df_pervious['Quantity'] == 0 ]\n",
    "df_pervious.drop(df_0.index, inplace = True)"
   ]
  },
  {
   "cell_type": "markdown",
   "id": "6382ec21",
   "metadata": {},
   "source": [
    "#### Final Total"
   ]
  },
  {
   "cell_type": "code",
   "execution_count": 19,
   "id": "eca5dbc4",
   "metadata": {},
   "outputs": [],
   "source": [
    "df_final_total = df[df['Product'] == 'الإجمالي النهائي' ]\n",
    "df.drop(df_final_total.index, inplace = True)\n"
   ]
  },
  {
   "cell_type": "code",
   "execution_count": 20,
   "id": "08d2e33e",
   "metadata": {},
   "outputs": [],
   "source": [
    "df_final_total = df_pervious[df_pervious['Product'] == 'الإجمالي النهائي' ]\n",
    "df_pervious.drop(df_final_total.index, inplace = True)"
   ]
  },
  {
   "cell_type": "code",
   "execution_count": 21,
   "id": "18a65406",
   "metadata": {},
   "outputs": [],
   "source": [
    "branch = df[df['فريق المبيعات'] == 'مبيعات فرع الجملة' ]\n",
    "df.drop(branch.index, inplace = True)"
   ]
  },
  {
   "cell_type": "markdown",
   "id": "643957e1",
   "metadata": {},
   "source": [
    "# Analytical Part"
   ]
  },
  {
   "cell_type": "markdown",
   "id": "0f1b646e",
   "metadata": {},
   "source": [
    "## Sales Report For Branches "
   ]
  },
  {
   "cell_type": "markdown",
   "id": "84268f10",
   "metadata": {},
   "source": [
    "### Sales Worksheet"
   ]
  },
  {
   "cell_type": "code",
   "execution_count": 22,
   "id": "b4bc0a77",
   "metadata": {},
   "outputs": [],
   "source": [
    "# Getting the sales of each branch in the company\n",
    "df_sales= pd.pivot_table(df,index=['فريق المبيعات'], values=(['Subtotal']), aggfunc = 'sum')\n",
    "df_sales.rename(columns ={'Subtotal':'total sales'}, inplace = True)\n",
    "\n",
    "# Getting the branch contribution of the sales of the company\n",
    "df_sales['Sales Percent from the company'] = df_sales['total sales']/ df_sales['total sales'].sum()\n",
    "df_sales.rename(columns = {'total sales': \"إجمالي المبيعات\"\n",
    "                           , 'Sales Percent from the company': 'نسبة الفرع من إجمالي المبيعات' },inplace = True)\n",
    "\n",
    "# Getting the sales of each branch in the company in the previous day\n",
    "df_pervious_sales = pd.pivot_table(df_pervious,index=['فريق المبيعات'], values=(['Subtotal']), aggfunc = 'sum')\n",
    "df_pervious_sales.rename(columns ={'Subtotal':'إجمالي مبيعات اليوم السابق'}, inplace = True)\n",
    "\n",
    "# Merging both the sales of the day and the sales of the previous day\n",
    "df_sales = df_sales.merge(df_pervious_sales, on ='فريق المبيعات', how = 'left')\n",
    "\n",
    "\n",
    "# getting the change of sales for each branch\n",
    "df_sales['معدل التغير عن اليوم السابق'] = (df_sales['إجمالي المبيعات'] - df_sales['إجمالي مبيعات اليوم السابق']) / df_sales['إجمالي مبيعات اليوم السابق']\n",
    "df_sales.drop(columns = {'إجمالي مبيعات اليوم السابق'}, inplace = True)\n",
    "\n",
    "# filling the nan values for the branches that didn't sale anything\n",
    "df_sales.fillna(0, inplace =  True)\n",
    "\n",
    "# sorting the branches based on their performance\n",
    "df_sales = df_sales.sort_values(by= \"إجمالي المبيعات\", ascending = False)\n",
    "df_sales.reset_index(inplace = True)\n",
    "\n",
    "# making a copy of the sales data in order to safely make changes \n",
    "df_sales_final = df_sales.copy()\n",
    "\n",
    "# encoding the last column in the dataset and summarize the results of all branches \n",
    "df_sales_final.loc['الاجمالي', 'فريق المبيعات'] =  df_sales['فريق المبيعات'].count()\n",
    "df_sales_final.loc['الاجمالي', 'معدل التغير عن اليوم السابق'] =(df_sales['إجمالي المبيعات'].sum() - df_pervious_sales['إجمالي مبيعات اليوم السابق'].sum())/ df_pervious_sales['إجمالي مبيعات اليوم السابق'].sum()\n",
    "df_sales_final.loc['الاجمالي', 'نسبة الفرع من إجمالي المبيعات'] = df_sales['نسبة الفرع من إجمالي المبيعات'].sum()\n",
    "df_sales_final.loc['الاجمالي', 'إجمالي المبيعات'] = df_sales['إجمالي المبيعات'].sum()\n",
    "df_sales_final.loc['الاجمالي', 'إجمالي المبيعات'] = df_sales['إجمالي المبيعات'].sum()\n",
    "\n",
    "# getting the order column\n",
    "df_sales_final.reset_index(inplace = True)\n",
    "df_sales_final.rename(columns = {'index': 'الترتيب'}, inplace = True)\n",
    "df_sales_final.set_index('الترتيب', inplace = True)\n",
    "\n",
    "# saving the insights in the sales report \n",
    "df_sales_final.to_excel('sales report.xlsx', sheet_name='مبيعات الفروع')"
   ]
  },
  {
   "cell_type": "markdown",
   "id": "800b579e",
   "metadata": {},
   "source": [
    "### Profit Worksheet"
   ]
  },
  {
   "cell_type": "code",
   "execution_count": 23,
   "id": "41d881ee",
   "metadata": {},
   "outputs": [],
   "source": [
    "# Getting the profit of each branch in the company\n",
    "df_profit= pd.pivot_table(df.drop(list(df_deposit.index)),index=['فريق المبيعات'], values=(['profit margin']), aggfunc = 'sum')\n",
    "df_profit.rename(columns ={'profit margin':'total Profit'}, inplace = True)\n",
    "\n",
    "# Getting the branch contribution of the profit of the company\n",
    "df_profit['Profit Percent from the company'] = df_profit['total Profit']/ df_profit['total Profit'].sum()\n",
    "df_profit.rename(columns = {'total Profit': \"إجمالي الربح\"\n",
    "                           , 'Profit Percent from the company': 'نسبة الفرع من إجمالي الأرباح' },inplace = True)\n",
    "\n",
    "# Getting the vat for each branch\n",
    "df_margin_p= pd.pivot_table(df.drop(list(df_deposit.index)),index=['فريق المبيعات'], values=(['vat']), aggfunc = 'sum')\n",
    "df_margin_p.rename(columns ={'vat':'الربح قبل الضريبة'}, inplace = True)\n",
    "\n",
    "# Adding the vat to the profit dataframe\n",
    "df_profit = df_profit.merge(df_margin_p, on ='فريق المبيعات', how = 'inner')\n",
    "\n",
    "# getting the profit margin\n",
    "df_profit['هامش الربح من المبيعات'] =df_profit['إجمالي الربح'] /  df_profit['الربح قبل الضريبة']  \n",
    "df_profit.drop(columns = {'الربح قبل الضريبة'}, inplace = True)\n",
    "\n",
    "# Getting the profit of each branch in the company in the previous day\n",
    "df_pervious_profit = pd.pivot_table(df_pervious,index=['فريق المبيعات'], values=(['profit margin']), aggfunc = 'sum')\n",
    "df_pervious_profit.rename(columns ={'profit margin':'إجمالي ربح اليوم السابق'}, inplace = True)\n",
    "\n",
    "# Merging both the profit of the day and the profit of the previous day\n",
    "df_profit = df_profit.merge(df_pervious_profit, on ='فريق المبيعات', how = 'left')\n",
    "\n",
    "# getting the change of profit for each branch\n",
    "df_profit['معدل التغير عن اليوم السابق'] = (df_profit['إجمالي الربح'] - df_profit['إجمالي ربح اليوم السابق']) / df_profit['إجمالي ربح اليوم السابق']\n",
    "df_profit.drop(columns = {'إجمالي ربح اليوم السابق'}, inplace = True)\n",
    "\n",
    "# filling the nan values for the branches that didn't sale anything\n",
    "df_profit.fillna(0, inplace =  True)\n",
    "\n",
    "# sorting the branches based on their performance\n",
    "df_profit = df_profit.sort_values(by= \"إجمالي الربح\", ascending = False)\n",
    "df_profit.reset_index(inplace = True)\n",
    "\n",
    "# making a copy of the profit data in order to safely make changes \n",
    "df_profit_final = df_profit.copy()\n",
    "\n",
    "# encoding the last column in the dataset and summarize the results of all branches \n",
    "df_profit_final.loc['الاجمالي', 'فريق المبيعات'] =  df_profit['فريق المبيعات'].count()\n",
    "df_profit_final.loc['الاجمالي', 'معدل التغير عن اليوم السابق'] =(df_profit['إجمالي الربح'].sum() - df_pervious_profit['إجمالي ربح اليوم السابق'].sum())/ df_pervious_profit['إجمالي ربح اليوم السابق'].sum()\n",
    "df_profit_final.loc['الاجمالي', 'هامش الربح من المبيعات'] = df_profit['إجمالي الربح'].sum() / (df_sales['إجمالي المبيعات'].sum()/1.15)\n",
    "df_profit_final.loc['الاجمالي', 'نسبة الفرع من إجمالي الأرباح'] = df_profit['نسبة الفرع من إجمالي الأرباح'].sum()\n",
    "df_profit_final.loc['الاجمالي', 'إجمالي الربح'] = df_profit['إجمالي الربح'].sum()\n",
    "\n",
    "# getting the order column\n",
    "df_profit_final.reset_index(inplace = True)\n",
    "df_profit_final.rename(columns = {'index': 'الترتيب'}, inplace = True)\n",
    "df_profit_final.set_index('الترتيب', inplace = True)\n",
    "\n",
    "# saving the profit insights in the sales report \n",
    "with pd.ExcelWriter('sales report.xlsx', engine='openpyxl', mode='a') as writer:\n",
    "    df_profit_final.to_excel(writer, sheet_name= 'اكثر الفروع ربحا')"
   ]
  },
  {
   "cell_type": "markdown",
   "id": "eb3ceefb",
   "metadata": {},
   "source": [
    "### Worst Performance branches in terms of Profit Margin "
   ]
  },
  {
   "cell_type": "code",
   "execution_count": 24,
   "id": "89b5a8a6",
   "metadata": {},
   "outputs": [],
   "source": [
    "# Getting the data of branches with profit margins less than 30% \n",
    "df_bad_performance = df_profit_final[df_profit_final['هامش الربح من المبيعات'] < .30]\n",
    "\n",
    "with pd.ExcelWriter('sales report.xlsx', engine='openpyxl', mode='a') as writer:\n",
    "    df_bad_performance.to_excel(writer, sheet_name= 'اقل هامش ربح')"
   ]
  },
  {
   "cell_type": "markdown",
   "id": "5497d2af",
   "metadata": {},
   "source": [
    "## Product Reports"
   ]
  },
  {
   "cell_type": "markdown",
   "id": "dcc87b46",
   "metadata": {},
   "source": [
    "### Drop additional discounts, services, and deposits from dataframe in order to get accurate results"
   ]
  },
  {
   "cell_type": "code",
   "execution_count": 25,
   "id": "965b392b",
   "metadata": {},
   "outputs": [],
   "source": [
    "# perparing our new dataframe that we will work on \n",
    "df2 = df.copy()\n",
    "\n",
    "# In the Products report, we don't want any additional discounts, deposits, and services to appear. So, we will drop them\n",
    "df2.drop(df_addition_discount.index, inplace = True)\n",
    "df2.drop(df_services.index, errors= 'ignore', inplace = True)\n",
    "df2.drop(df_deposit.index, errors= 'ignore', inplace = True)"
   ]
  },
  {
   "cell_type": "markdown",
   "id": "c3c1d910",
   "metadata": {},
   "source": [
    "### Extract the returned orders and save it "
   ]
  },
  {
   "cell_type": "code",
   "execution_count": 26,
   "id": "6b0543a7",
   "metadata": {},
   "outputs": [],
   "source": [
    "# getting the returned orders and put it in a special dataframe\n",
    "return_order = df2[df2['Quantity'] < 0]\n",
    "\n",
    "# making a pivot to know the value of returned orders side by side with the quantity returned from each product \n",
    "try:\n",
    "    most_return=pd.pivot_table(return_order, index = ['Barcode', 'Product'], values= ['Quantity', 'Subtotal'], aggfunc = 'sum').sort_values(by = ['Quantity'])\n",
    "    most_return.reset_index(inplace = True)\n",
    "# changing the names of the columns \n",
    "    most_return.rename(columns = {'Product': 'المنتج', 'Barcode': 'باركود',\n",
    "                    'Quantity': 'عدد الوحدات المسترجعة', \n",
    "                     'Subtotal': 'إجمالي المبيعات'}, inplace = True)    \n",
    "# making the barcode is the index of the returned orders  \n",
    "    most_return.set_index('باركود' ,inplace = True)\n",
    "\n",
    "# sorting the returned products data frame by the quantity returned and the subtotal of each product\n",
    "    most_return = most_return.sort_values(by = ['عدد الوحدات المسترجعة', 'إجمالي المبيعات'])\n",
    "\n",
    "# Saving the returned products data frame \n",
    "    most_return.to_excel('متراجعات.xlsx')\n",
    "except:\n",
    "    pass"
   ]
  },
  {
   "cell_type": "markdown",
   "id": "e51df54b",
   "metadata": {},
   "source": [
    "### Most Sold And Most sales Worksheets"
   ]
  },
  {
   "cell_type": "code",
   "execution_count": 27,
   "id": "bf61c0fb",
   "metadata": {},
   "outputs": [],
   "source": [
    "# Getting the most sold products \n",
    "df_Product_sold_units = pd.pivot_table(df2,index=['Product'], values=('Quantity'), aggfunc = 'sum')\n",
    "df_Product_sold_units.rename(columns ={'Quantity':'Sold units'}, inplace = True)\n",
    "\n",
    "# Getting the barcode of the products\n",
    "df_Product_sold_units = df_Product_sold_units.merge(df[['Barcode', 'Product']].drop_duplicates(), how = 'inner', on = 'Product')"
   ]
  },
  {
   "cell_type": "markdown",
   "id": "6cd9a406",
   "metadata": {},
   "source": [
    "#### Total Sales Worksheet"
   ]
  },
  {
   "cell_type": "code",
   "execution_count": 28,
   "id": "a5802303",
   "metadata": {},
   "outputs": [],
   "source": [
    "# Getting the products according to the revenues we got from selling it\n",
    "df_Product_sales = pd.pivot_table(df2,index=['Product'], values=(['Subtotal']), aggfunc = 'sum')\n",
    "\n",
    "# Change the names of our columns\n",
    "df_Product_sales.rename(columns ={'Subtotal':'Total Sales'}, inplace = True)"
   ]
  },
  {
   "cell_type": "markdown",
   "id": "57713bf2",
   "metadata": {},
   "source": [
    "#### Merging the most sold with the total sales "
   ]
  },
  {
   "cell_type": "code",
   "execution_count": 29,
   "id": "5460a005",
   "metadata": {},
   "outputs": [],
   "source": [
    "# adding the number of our sold units to our total sales column\n",
    "df_Product_sold= df_Product_sold_units.merge(df_Product_sales, how = 'inner', on = 'Product').sort_values(by = ['Sold units'])\n",
    "\n",
    "# reordering the columns for a better appearance \n",
    "df_Product_sold = df_Product_sold[['Product', 'Barcode', 'Sold units', 'Total Sales']]"
   ]
  },
  {
   "cell_type": "code",
   "execution_count": 30,
   "id": "668e9dc5",
   "metadata": {},
   "outputs": [],
   "source": [
    "product_units_sales = df_Product_sold.copy()\n",
    "product_units_sales.rename(columns = {'Product': 'المنتج', 'Barcode': 'باركود',\n",
    "                    'Sold units': 'عدد الوحدات المرتجعة', 'Total Sales': 'إجمالي المبيعات'}, inplace = True)"
   ]
  },
  {
   "cell_type": "markdown",
   "id": "9433bb9d",
   "metadata": {},
   "source": [
    "#### Save Top product according to its Sales"
   ]
  },
  {
   "cell_type": "code",
   "execution_count": 31,
   "id": "3afbe62e",
   "metadata": {},
   "outputs": [],
   "source": [
    "product_units_sales = df_Product_sold\n",
    "product_units_sales.rename(columns = {'Product': 'المنتج', 'Barcode': 'باركود',\n",
    "                    'Sold units': 'عدد الوحدات', 'Total Sales': 'إجمالي المبيعات'}, inplace = True)\n",
    "\n",
    "product_units_sales.set_index('باركود', inplace = True)\n",
    "product_units_sales.sort_values(by= 'إجمالي المبيعات', ascending = False).head(5).to_excel('Products report.xlsx',\n",
    "                                                                                           sheet_name= 'اكثر المنتجات من حيث القيمة')"
   ]
  },
  {
   "cell_type": "markdown",
   "id": "6e736282",
   "metadata": {},
   "source": [
    "#### Save Top product according to its sold units"
   ]
  },
  {
   "cell_type": "code",
   "execution_count": 33,
   "id": "02452925",
   "metadata": {},
   "outputs": [],
   "source": [
    "with pd.ExcelWriter('Products report.xlsx', engine='openpyxl', mode='a') as writer:\n",
    "    product_units_sales.sort_values(by= 'عدد الوحدات', ascending = False).head(5).to_excel(writer, sheet_name= 'اكثر المنتجات مبيعا')"
   ]
  },
  {
   "cell_type": "markdown",
   "id": "89ad3477",
   "metadata": {},
   "source": [
    "#### Save most returned products "
   ]
  },
  {
   "cell_type": "code",
   "execution_count": 34,
   "id": "781c7f49",
   "metadata": {},
   "outputs": [],
   "source": [
    "try:\n",
    "    with pd.ExcelWriter('Products report.xlsx', engine='openpyxl', mode='a') as writer:\n",
    "        most_return.head(5).to_excel(writer, sheet_name= 'اكثر المنتجات ارجاعا')\n",
    "except:\n",
    "    pass"
   ]
  },
  {
   "cell_type": "markdown",
   "id": "a5aa78e3",
   "metadata": {},
   "source": [
    "#### Save least product sales according to its sold units "
   ]
  },
  {
   "cell_type": "code",
   "execution_count": 35,
   "id": "12f84a1f",
   "metadata": {},
   "outputs": [],
   "source": [
    "least_products= product_units_sales[product_units_sales['عدد الوحدات'] > 0]\n",
    "with pd.ExcelWriter('Products report.xlsx', engine='openpyxl', mode='a') as writer:\n",
    "    least_products.sort_values(by= ['عدد الوحدات', 'إجمالي المبيعات']).head(5).to_excel(writer, sheet_name= 'اقل المنتجات مبيعا')"
   ]
  },
  {
   "cell_type": "markdown",
   "id": "9cba4edb",
   "metadata": {},
   "source": [
    "#### Save least product according to its Sales"
   ]
  },
  {
   "cell_type": "code",
   "execution_count": 36,
   "id": "650856a8",
   "metadata": {},
   "outputs": [
    {
     "name": "stderr",
     "output_type": "stream",
     "text": [
      "C:\\Users\\Rahaty Store\\anaconda3\\Lib\\site-packages\\openpyxl\\workbook\\child.py:99: UserWarning: Title is more than 31 characters. Some applications may not be able to read the file\n",
      "  warnings.warn(\"Title is more than 31 characters. Some applications may not be able to read the file\")\n"
     ]
    }
   ],
   "source": [
    "with pd.ExcelWriter('Products report.xlsx', engine='openpyxl', mode='a') as writer:\n",
    "    least_products[least_products['إجمالي المبيعات'] > 0].sort_values(by= ['إجمالي المبيعات']).head(5).to_excel(writer, sheet_name= 'اقل المنتجات مبيعا من حيث القيمة')"
   ]
  },
  {
   "cell_type": "markdown",
   "id": "54e39211",
   "metadata": {},
   "source": [
    "#### Top products accroding to its profit"
   ]
  },
  {
   "cell_type": "code",
   "execution_count": 37,
   "id": "ac0b0c37",
   "metadata": {},
   "outputs": [
    {
     "name": "stderr",
     "output_type": "stream",
     "text": [
      "C:\\Users\\Rahaty Store\\anaconda3\\Lib\\site-packages\\openpyxl\\workbook\\child.py:99: UserWarning: Title is more than 31 characters. Some applications may not be able to read the file\n",
      "  warnings.warn(\"Title is more than 31 characters. Some applications may not be able to read the file\")\n"
     ]
    }
   ],
   "source": [
    "df_Product_profit = pd.pivot_table(df2,index=['Product'], values=(['profit margin']), aggfunc = 'sum')\n",
    "df_Product_profit.rename(columns ={'profit margin':'Total profit'}, inplace = True)\n",
    "\n",
    "# adding the sold units columns in the dataframe of the profit\n",
    "df_Product_profit = df_Product_sold_units.merge(df_Product_profit, how = 'inner', on = 'Product').sort_values(by = ['Sold units'])\n",
    "df_Product_profit.rename(columns = {'Product': 'المنتج', 'Barcode': 'باركود',\n",
    "                    'Sold units': 'عدد الوحدات المرتجعة', 'Total profit': 'إجمالي الربح'}, inplace = True)\n",
    "\n",
    "# Setting the product and its barcode as an index to our dataframe\n",
    "df_Product_profit.set_index(['باركود', 'المنتج'], inplace = True)\n",
    "\n",
    "#saving the top profit products as a worksheet in the excel file \"products reports\"  \n",
    "with pd.ExcelWriter('Products report.xlsx', engine='openpyxl', mode='a') as writer:\n",
    "    df_Product_profit.sort_values(by= 'إجمالي الربح', ascending = False).head(5).to_excel(writer, sheet_name= 'اكثر المنتجات ربحا')"
   ]
  },
  {
   "cell_type": "markdown",
   "id": "be280b8c",
   "metadata": {},
   "source": [
    "## Service Report"
   ]
  },
  {
   "cell_type": "markdown",
   "id": "ede8b5e2",
   "metadata": {},
   "source": [
    "#### Aggregate services based on our sold units"
   ]
  },
  {
   "cell_type": "code",
   "execution_count": 38,
   "id": "11193601",
   "metadata": {},
   "outputs": [],
   "source": [
    "df_services_sold_units = pd.pivot_table(df_services,index=['Product'], values=(['Quantity']), aggfunc = 'sum')\n",
    "df_services_sold_units.rename(columns ={'Quantity':'Sold units'}, inplace = True)\n",
    "\n",
    "#add the barcodes to the products in our dataframe\n",
    "df_services_sold_units = df_services_sold_units.merge(df[['Barcode', 'Product']].drop_duplicates(), how = 'inner', on = 'Product')"
   ]
  },
  {
   "cell_type": "markdown",
   "id": "638ea2d2",
   "metadata": {},
   "source": [
    "#### Aggregate services based on our sold units"
   ]
  },
  {
   "cell_type": "code",
   "execution_count": 39,
   "id": "b7867d7b",
   "metadata": {},
   "outputs": [],
   "source": [
    "df_services_sales = pd.pivot_table(df_services,index=['Product'], values=(['Subtotal']), aggfunc = 'sum')\n",
    "df_services_sales.rename(columns ={'Subtotal':'Total Sales'}, inplace = True)"
   ]
  },
  {
   "cell_type": "markdown",
   "id": "cfcee04d",
   "metadata": {},
   "source": [
    "#### Save all products ordered by its sales"
   ]
  },
  {
   "cell_type": "code",
   "execution_count": 40,
   "id": "3da0f62e",
   "metadata": {},
   "outputs": [
    {
     "name": "stderr",
     "output_type": "stream",
     "text": [
      "C:\\Users\\Rahaty Store\\anaconda3\\Lib\\site-packages\\openpyxl\\workbook\\child.py:99: UserWarning: Title is more than 31 characters. Some applications may not be able to read the file\n",
      "  warnings.warn(\"Title is more than 31 characters. Some applications may not be able to read the file\")\n"
     ]
    }
   ],
   "source": [
    "# adding the sold units column to the total sales column\n",
    "df_service_sold= df_services_sold_units.merge(df_services_sales, how = 'inner', on = 'Product').sort_values(by = ['Sold units'])\n",
    "\n",
    "#For better appearance\n",
    "df_service_sold = df_service_sold[['Product', 'Barcode', 'Sold units', 'Total Sales']]\n",
    "\n",
    "\n",
    "#renaming our columns\n",
    "df_service_sold.rename(columns = {'Product': 'الخدمة', 'Barcode': 'باركود',\n",
    "                    'Sold units': 'عدد مرات طلب الخدمة', 'Total Sales': 'إجمالي المبيعات'}, inplace = True)\n",
    "\n",
    "# setting the service as an index\n",
    "df_service_sold.set_index('الخدمة', inplace = True)\n",
    "\n",
    "# saving our report\n",
    "with pd.ExcelWriter('Products report.xlsx', engine='openpyxl', mode='a') as writer:\n",
    "    df_service_sold.sort_values(by= 'إجمالي المبيعات', ascending = False).to_excel(writer, sheet_name= 'ااكثر الخدمات طلبا')"
   ]
  },
  {
   "cell_type": "markdown",
   "id": "44b5d957",
   "metadata": {},
   "source": [
    "# Employees Reports"
   ]
  },
  {
   "cell_type": "markdown",
   "id": "7de463b2",
   "metadata": {},
   "source": [
    "#### Perparing the dataFrame we will work with "
   ]
  },
  {
   "cell_type": "code",
   "execution_count": 41,
   "id": "8a3693d9",
   "metadata": {},
   "outputs": [],
   "source": [
    "# Setting the quantity column for all additional discounts to zero\n",
    "df_addition_discount.loc[ : ,'Quantity'] = 0\n",
    "df3 =df.copy()\n",
    "df3.loc[list(df_addition_discount.index) ,'Quantity'] = 0\n",
    "\n",
    "# Removve the deposits and services from the dataframe\n",
    "df3.drop(df_deposit.index, inplace =True, errors = 'ignore') \n",
    "df3.drop(df_services.index, inplace =True, errors = 'ignore') \n"
   ]
  },
  {
   "cell_type": "markdown",
   "id": "81fbb160",
   "metadata": {},
   "source": [
    "#### Removing the Websites sales"
   ]
  },
  {
   "cell_type": "code",
   "execution_count": 42,
   "id": "5f9c9a67",
   "metadata": {},
   "outputs": [],
   "source": [
    "xx = df3[df3['فريق المبيعات'] == 'متجر راحتي الالكتروني']\n",
    "df3.drop(xx.index, axis = 0, inplace = True)\n",
    "xx = df3[df3['فريق المبيعات'] == 'المتجر الإلكتروني']\n",
    "df3.drop(xx.index, axis = 0, inplace = True)"
   ]
  },
  {
   "cell_type": "code",
   "execution_count": 43,
   "id": "e198dfea",
   "metadata": {},
   "outputs": [],
   "source": [
    "xx = df3[df3['فريق المبيعات'] == 'قصر البيان الإلكتروني']\n",
    "df3.drop(xx.index, axis = 0, inplace = True)\n",
    "xx = df3[df3['فريق المبيعات'] == 'الموقع تبوك']\n",
    "df3.drop(xx.index, axis = 0, inplace = True)"
   ]
  },
  {
   "cell_type": "markdown",
   "id": "fa75a43f",
   "metadata": {},
   "source": [
    "#### Removing Branch Whatsup accounts from employees"
   ]
  },
  {
   "cell_type": "code",
   "execution_count": 44,
   "id": "2a119f60",
   "metadata": {},
   "outputs": [],
   "source": [
    "df3.drop(df3[df3['Order Ref/Cashier'].isna()].index, inplace = True)\n",
    "whatsup = df3[df3['Order Ref/Cashier'].str.contains('واتس')]\n",
    "df3.drop(whatsup.index, inplace = True)"
   ]
  },
  {
   "cell_type": "markdown",
   "id": "544022c8",
   "metadata": {},
   "source": [
    "##### Aggregating Employees Based On Their Sold Units "
   ]
  },
  {
   "cell_type": "code",
   "execution_count": 45,
   "id": "e1d57452",
   "metadata": {},
   "outputs": [],
   "source": [
    "Employee_sold_units = pd.pivot_table(df3,index=['Order Ref/Cashier'], values=(['Quantity']), aggfunc = 'sum')\n",
    "Employee_sold_units.rename(columns ={'Quantity':'Sold units'}, inplace = True)\n",
    "df_Employee_sold_units= Employee_sold_units.merge(df3[['فريق المبيعات',\n",
    "                                                'Order Ref/Cashier']].drop_duplicates(), on ='Order Ref/Cashier', how= 'inner')"
   ]
  },
  {
   "cell_type": "markdown",
   "id": "a6d39078",
   "metadata": {},
   "source": [
    "##### solve the problem of the movement of salesmen from one branch to another at the same week"
   ]
  },
  {
   "cell_type": "code",
   "execution_count": 46,
   "id": "c0e8b2d3",
   "metadata": {},
   "outputs": [],
   "source": [
    "# Aggregating all branches each employee worked for\n",
    "emp_duplicates_df = pd.DataFrame(df_Employee_sold_units.groupby('Order Ref/Cashier')['فريق المبيعات'].apply(lambda x: list(x)))\n",
    "emp_duplicates_df.reset_index(inplace = True)\n",
    "\n",
    "# Mereging the emp_duplicates dataframe with the Employee_sold_units dataframe \n",
    "emp_duplicates_df = emp_duplicates_df.merge(Employee_sold_units, on ='Order Ref/Cashier', how= 'inner')\n",
    "emp_duplicates_df = emp_duplicates_df[['Order Ref/Cashier', 'Sold units', 'فريق المبيعات']]"
   ]
  },
  {
   "cell_type": "code",
   "execution_count": 47,
   "id": "af2d5ac7",
   "metadata": {},
   "outputs": [],
   "source": [
    "list_employee_cor = []\n",
    "employee_dup_index = []\n",
    "employee_dup_indexes = list(df_Employee_sold_units[df_Employee_sold_units['Order Ref/Cashier'].duplicated()].index)\n",
    "employee_dup_names = df_Employee_sold_units.loc[employee_dup_indexes, 'Order Ref/Cashier']\n",
    "\n",
    "# Getting the employees that worked in more than branc from emp_duplicates dataframe\n",
    "for e in employee_dup_names:\n",
    "    list_employee_cor.append(emp_duplicates_df[emp_duplicates_df['Order Ref/Cashier'] == e].index[0])\n",
    "\n",
    "# Getting the employees that worked in more than branch from df_Employee_sold_units dataframe    \n",
    "for u in range(0, len(employee_dup_indexes)):\n",
    "    employee_dup_index.append(employee_dup_indexes[u])    \n",
    "\n",
    "# corecting the duplicates in the df_Employee_sold_units dataframe\n",
    "for i in range(0 , len(list_employee_cor)):\n",
    "    o = list_employee_cor[i]\n",
    "    p = employee_dup_index[i]\n",
    "    df_Employee_sold_units.loc[p, 'فريق المبيعات'] = str(emp_duplicates_df.loc[o, 'فريق المبيعات'])\n",
    "\n",
    "# Dropping the duplicates so that our data frame becomes ready for our analysis\n",
    "df_Employee_sold_units.drop_duplicates(subset = ['Order Ref/Cashier'], keep = 'last', inplace = True)"
   ]
  },
  {
   "cell_type": "markdown",
   "id": "2fc0d320",
   "metadata": {},
   "source": [
    "## Employees Sales Report"
   ]
  },
  {
   "cell_type": "code",
   "execution_count": 48,
   "id": "d71db11a",
   "metadata": {},
   "outputs": [],
   "source": [
    "# aggregating the sales for each employee\n",
    "df_Employee_sales= pd.pivot_table(df,index=['Order Ref/Cashier'],values=(['Subtotal']), aggfunc = 'sum')\n",
    "df_Employee_sales.rename(columns ={'Subtotal':'total sales'}, inplace = True)\n",
    "\n",
    "# add the sold units column for each employee and remove the duplicates by 'inner'\n",
    "df_Employee_sales = df_Employee_sales.merge(df_Employee_sold_units, on= 'Order Ref/Cashier', how = 'inner')\n",
    "\n",
    "# Ordering the columns of our dataframe for better appearance\n",
    "df_Employee_sales = df_Employee_sales[['Order Ref/Cashier', 'فريق المبيعات', 'Sold units', 'total sales']]\n",
    "df_Employee_sales.sort_values(by= 'total sales', ascending = False).head(10)\n",
    "df_Employee_sales.rename(columns = {\"Order Ref/Cashier\": 'موظف المبيعات',\n",
    "                          'Sold units': 'عدد الوحدات المباعة', \n",
    "                          'total sales': 'اجمالي المبيعات'}, inplace = True)"
   ]
  },
  {
   "cell_type": "markdown",
   "id": "3246be1d",
   "metadata": {},
   "source": [
    "#### Save top seller employees according to sold units"
   ]
  },
  {
   "cell_type": "code",
   "execution_count": 49,
   "id": "31bc2878",
   "metadata": {},
   "outputs": [],
   "source": [
    "# aggregating the sold units for each employee\n",
    "Most_sold= pd.pivot_table(df3,index=['Order Ref/Cashier'], values=(['Subtotal']), aggfunc = 'sum')\n",
    "Most_sold.rename(columns ={'Subtotal':'total sales'}, inplace = True)\n",
    "\n",
    "# remove the duplicates \n",
    "Most_sold = Most_sold.merge(df_Employee_sold_units, on= 'Order Ref/Cashier', how = 'inner')\n",
    "\n",
    "\n",
    "# Ordering the columns of our dataframe for better appearance\n",
    "Most_sold = Most_sold[['Order Ref/Cashier', 'فريق المبيعات', 'Sold units', 'total sales']]\n",
    "\n",
    "# Renaming the columns for better readability\n",
    "Most_sold.rename(columns = {\"Order Ref/Cashier\": 'موظف المبيعات',\n",
    "                          'Sold units': 'عدد الوحدات المباعة', \n",
    "                          'total sales': 'اجمالي المبيعات'}, inplace = True)\n",
    "\n",
    "# Set the employees column as an index\n",
    "Most_sold.set_index('موظف المبيعات', inplace = True)\n",
    "\n",
    "\n",
    "# sace the top 10 seller employees accroding to their sold units\n",
    "Most_sold.sort_values(by= 'عدد الوحدات المباعة', ascending = False).head(10).to_excel('Employees report.xlsx',\n",
    "                                                                                    sheet_name='اكثر الموظفين بيعا')"
   ]
  },
  {
   "cell_type": "markdown",
   "id": "cfd9695d",
   "metadata": {},
   "source": [
    "#### Save least seller employees"
   ]
  },
  {
   "cell_type": "code",
   "execution_count": 50,
   "id": "7cb6587b",
   "metadata": {},
   "outputs": [],
   "source": [
    "# aggregating the returned products for each employee\n",
    "most_return= pd.pivot_table(df3[df3['Quantity'] < 0],index=['Order Ref/Cashier'], values=['Subtotal', 'Quantity'], aggfunc = 'sum')\n",
    "most_return = most_return.merge(df_Employee_sold_units[['Order Ref/Cashier', 'فريق المبيعات']], on= 'Order Ref/Cashier', how = 'inner')\n",
    "\n",
    "# Rename the columns for better readability\n",
    "most_return.rename(columns = {'Quantity': 'عدد الوحدات المسترجعة',                              \n",
    "                              'Subtotal': 'اجمالي المبلغ',\n",
    "                   'Order Ref/Cashier': 'موظف المبيعات',\n",
    "                   'Sold units': 'عدد الوحدات المسترجعة'}, inplace = True)\n",
    "\n",
    "\n",
    "# Set the employees column as an index\n",
    "most_return.set_index('موظف المبيعات', inplace = True)\n",
    "\n",
    "# sace the top 10 seller employees accroding to their returned products\n",
    "with pd.ExcelWriter('Employees report.xlsx', engine='openpyxl', mode='a') as writer:\n",
    "    most_return.sort_values(by= ['عدد الوحدات المسترجعة', 'اجمالي المبلغ'], ascending = True).head(10).to_excel(writer, sheet_name= 'اكثر الموظفين ارجاعا')"
   ]
  },
  {
   "cell_type": "markdown",
   "id": "dcaaf760",
   "metadata": {},
   "source": [
    "#### Save top seller employees according to amount of money Gained "
   ]
  },
  {
   "cell_type": "code",
   "execution_count": 51,
   "id": "5e639db8",
   "metadata": {},
   "outputs": [
    {
     "name": "stderr",
     "output_type": "stream",
     "text": [
      "C:\\Users\\Rahaty Store\\anaconda3\\Lib\\site-packages\\openpyxl\\workbook\\child.py:99: UserWarning: Title is more than 31 characters. Some applications may not be able to read the file\n",
      "  warnings.warn(\"Title is more than 31 characters. Some applications may not be able to read the file\")\n"
     ]
    }
   ],
   "source": [
    "# sace the top 10 seller employees accroding to their sales\n",
    "with pd.ExcelWriter('Employees report.xlsx', engine='openpyxl', mode='a') as writer:\n",
    "    df_Employee_sales.set_index('موظف المبيعات', inplace = True)\n",
    "    df_Employee_sales.sort_values(by= 'اجمالي المبيعات', ascending = False).head(10).to_excel(writer, sheet_name= 'اكثر الموظفين مبيعا من حيث القيمة')\n",
    "    "
   ]
  },
  {
   "cell_type": "markdown",
   "id": "490facd6",
   "metadata": {},
   "source": [
    "#### Save least seller employees according to amount of money Gained "
   ]
  },
  {
   "cell_type": "code",
   "execution_count": 52,
   "id": "55e48637",
   "metadata": {},
   "outputs": [
    {
     "name": "stderr",
     "output_type": "stream",
     "text": [
      "C:\\Users\\Rahaty Store\\AppData\\Local\\Temp\\ipykernel_18108\\4026112519.py:7: SettingWithCopyWarning: \n",
      "A value is trying to be set on a copy of a slice from a DataFrame\n",
      "\n",
      "See the caveats in the documentation: https://pandas.pydata.org/pandas-docs/stable/user_guide/indexing.html#returning-a-view-versus-a-copy\n",
      "  least_seller.drop(whatsup, inplace = True)\n",
      "C:\\Users\\Rahaty Store\\anaconda3\\Lib\\site-packages\\openpyxl\\workbook\\child.py:99: UserWarning: Title is more than 31 characters. Some applications may not be able to read the file\n",
      "  warnings.warn(\"Title is more than 31 characters. Some applications may not be able to read the file\")\n"
     ]
    }
   ],
   "source": [
    "# getting all the employees that sold more than one order\n",
    "least_seller= df_Employee_sales[df_Employee_sales['اجمالي المبيعات'] > 0]\n",
    "least_seller.reset_index(inplace = True)\n",
    "\n",
    "# Removing the whatsup value from the dataframe\n",
    "whatsup= list(least_seller[least_seller['موظف المبيعات'].str.contains('واتس')].index)\n",
    "least_seller.drop(whatsup, inplace = True)\n",
    "least_seller = least_seller[least_seller['عدد الوحدات المباعة']> 0]\n",
    "# Set the employees column as an index\n",
    "least_seller.set_index('موظف المبيعات', inplace = True)\n",
    "\n",
    "# sace the least 10 employees accroding to their sales\n",
    "with pd.ExcelWriter('Employees report.xlsx', engine='openpyxl', mode='a') as writer:\n",
    "    least_seller.sort_values(by='اجمالي المبيعات').head(10).to_excel(writer, sheet_name= 'اقل الموظفين مبيعا من حيث القيمة')\n",
    "    "
   ]
  },
  {
   "cell_type": "markdown",
   "id": "1335b024",
   "metadata": {},
   "source": [
    "### Best Employee In Each Branch"
   ]
  },
  {
   "cell_type": "code",
   "execution_count": 53,
   "id": "23e06f10",
   "metadata": {},
   "outputs": [],
   "source": [
    "#parpare the table of the whole employees allowing duplication for the salesmen who sell in two places\n",
    "Best_employees = pd.pivot_table(df3,index=['فريق المبيعات','Order Ref/Cashier'], values=['Quantity'], aggfunc = 'sum')\n",
    "Best_employees.reset_index(inplace = True)\n",
    "\n",
    "# aggregating the sales for each employee\n",
    "Best_employees_total = pd.pivot_table(df,index=['فريق المبيعات','Order Ref/Cashier'], values=['Subtotal'], aggfunc = 'sum')\n",
    "Best_employees_total.reset_index(inplace = True)\n",
    "\n",
    "#adding the sold units column\n",
    "Best_employees = Best_employees.merge(Best_employees_total, on =['فريق المبيعات','Order Ref/Cashier'], how = 'inner')\n",
    "\n",
    "# Renaming the columns for better readability\n",
    "Best_employees.rename(columns = {'Quantity': 'عدد الوحدات',\n",
    "                   'Subtotal': 'اجمالي المبيعات',\n",
    "                   'Order Ref/Cashier': 'الموظف'}, inplace = True)\n",
    "\n",
    "# perparing the data dataframe that will store the best employee in eaach branch\n",
    "df_best_per_branch = pd.DataFrame()\n",
    "\n",
    "#getting the list of branches we have\n",
    "listbranches = list(Best_employees['فريق المبيعات'].unique())\n",
    "\n",
    "\n",
    "# getting the top seller in each branch \n",
    "for b in listbranches:\n",
    "    df_best_per_branch = pd.concat([df_best_per_branch, Best_employees[Best_employees['فريق المبيعات'] == b].set_index('الموظف').sort_values(by = 'اجمالي المبيعات', ascending = False).head(1)])"
   ]
  },
  {
   "cell_type": "markdown",
   "id": "2fc79265",
   "metadata": {},
   "source": [
    "#### Save the top seller employee in each branch "
   ]
  },
  {
   "cell_type": "code",
   "execution_count": 54,
   "id": "35b6993c",
   "metadata": {},
   "outputs": [
    {
     "name": "stderr",
     "output_type": "stream",
     "text": [
      "C:\\Users\\Rahaty Store\\anaconda3\\Lib\\site-packages\\openpyxl\\workbook\\child.py:99: UserWarning: Title is more than 31 characters. Some applications may not be able to read the file\n",
      "  warnings.warn(\"Title is more than 31 characters. Some applications may not be able to read the file\")\n"
     ]
    }
   ],
   "source": [
    "with pd.ExcelWriter('Employees report.xlsx', engine='openpyxl', mode='a') as writer:\n",
    "    df_best_per_branch.to_excel(writer, sheet_name= 'افضل بائع في كل فرع')\n",
    "    "
   ]
  },
  {
   "cell_type": "markdown",
   "id": "04c9f14f",
   "metadata": {},
   "source": [
    "### Ordering the employees acccording to their branches and their sales amount of money"
   ]
  },
  {
   "cell_type": "code",
   "execution_count": 55,
   "id": "2af6d542",
   "metadata": {},
   "outputs": [],
   "source": [
    "#getting the list of branches we have\n",
    "Branches = list(df3['فريق المبيعات'].unique())\n",
    "\n",
    "# perparing the data dataframe that will store the best employee in eaach branch\n",
    "df_branch_emp = pd.DataFrame()\n",
    "\n",
    "# put the best employees in the df_branch_emp dataframe\n",
    "for b in listbranches:\n",
    "    df_branch_emp = pd.concat([df_branch_emp, Best_employees[Best_employees['فريق المبيعات'] == b].sort_values(by = 'اجمالي المبيعات', ascending = False)])\n",
    "\n",
    "# aggregating the sales for each employee\n",
    "total_branch_sales = pd.DataFrame(pd.pivot_table(df, index=['فريق المبيعات'], values=(['Subtotal']), aggfunc = 'sum'))\n",
    "df_best_per_branch = df_branch_emp.merge(total_branch_sales, how ='inner', on = 'فريق المبيعات')\n",
    "\n",
    "# calculating the percent of sales column\n",
    "df_best_per_branch['نسبة البيع من اجمالي المبيعات'] = df_best_per_branch['اجمالي المبيعات'] / df_best_per_branch['Subtotal'] \n",
    "df_best_per_branch.drop(columns = 'Subtotal', inplace = True )\n",
    "df_best_per_branch.to_excel('Employees per Branch.xlsx')\n",
    "\n",
    "#storing each branch employees in a worksheet in the excel file\n",
    "for b in Branches:\n",
    "    data = df_best_per_branch[df_best_per_branch['فريق المبيعات'] == b]\n",
    "    data.set_index('الموظف', inplace = True)\n",
    "    with pd.ExcelWriter('Employees per Branch.xlsx', engine='openpyxl', mode='a') as writer:\n",
    "        data.sort_values(by= 'اجمالي المبيعات', ascending = False).head(10).to_excel(writer, sheet_name= b) "
   ]
  },
  {
   "cell_type": "markdown",
   "id": "29e37498",
   "metadata": {},
   "source": [
    "## Employees Profit Report"
   ]
  },
  {
   "cell_type": "code",
   "execution_count": 56,
   "id": "fbab44df",
   "metadata": {},
   "outputs": [],
   "source": [
    "# aggregating the porfit for each employee\n",
    "df_Employee_profit= pd.pivot_table(df,index=['Order Ref/Cashier'], values=(['profit margin']), aggfunc = 'sum')\n",
    "df_Employee_profit.rename(columns ={'profit margin':'total profit'}, inplace = True)\n",
    "\n",
    "#adding the sold units column\n",
    "df_Employee_profit = df_Employee_profit.merge(df_Employee_sold_units, on= 'Order Ref/Cashier', how = 'inner')\n",
    "\n",
    "# Ordering the columns of our dataframe for better appearance\n",
    "df_Employee_profit = df_Employee_profit[['Order Ref/Cashier', 'فريق المبيعات', 'Sold units', 'total profit']]\n",
    "\n",
    "# Set the profit column as an index\n",
    "df_Employee_profit.sort_values(by= 'total profit', ascending = False)\n",
    "\n",
    "# Renaming the columns for better readability\n",
    "df_Employee_profit.rename(columns = {\"Order Ref/Cashier\": 'موظف المبيعات',\n",
    "                          'Sold units': 'عدد الوحدات المباعة', \n",
    "                          'total profit': 'اجمالي الربح'}, inplace = True)"
   ]
  },
  {
   "cell_type": "markdown",
   "id": "1f1634e0",
   "metadata": {},
   "source": [
    "#### Save top total sales\n"
   ]
  },
  {
   "cell_type": "code",
   "execution_count": 57,
   "id": "f8d02ce8",
   "metadata": {},
   "outputs": [
    {
     "name": "stderr",
     "output_type": "stream",
     "text": [
      "C:\\Users\\Rahaty Store\\anaconda3\\Lib\\site-packages\\openpyxl\\workbook\\child.py:99: UserWarning: Title is more than 31 characters. Some applications may not be able to read the file\n",
      "  warnings.warn(\"Title is more than 31 characters. Some applications may not be able to read the file\")\n"
     ]
    }
   ],
   "source": [
    "with pd.ExcelWriter('Employees report.xlsx', engine='openpyxl', mode='a') as writer:\n",
    "    df_Employee_profit.set_index('موظف المبيعات', inplace = True)\n",
    "    df_Employee_profit.sort_values(by= 'اجمالي الربح', ascending = False).head(10).to_excel(writer, sheet_name= 'اكثر الموظفين من حيث الربح')"
   ]
  }
 ],
 "metadata": {
  "kernelspec": {
   "display_name": "Python 3 (ipykernel)",
   "language": "python",
   "name": "python3"
  },
  "language_info": {
   "codemirror_mode": {
    "name": "ipython",
    "version": 3
   },
   "file_extension": ".py",
   "mimetype": "text/x-python",
   "name": "python",
   "nbconvert_exporter": "python",
   "pygments_lexer": "ipython3",
   "version": "3.11.5"
  }
 },
 "nbformat": 4,
 "nbformat_minor": 5
}
