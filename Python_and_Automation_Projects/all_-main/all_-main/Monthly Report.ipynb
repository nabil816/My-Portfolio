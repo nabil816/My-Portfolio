{
 "cells": [
  {
   "cell_type": "code",
   "execution_count": 12,
   "id": "ce49d457",
   "metadata": {},
   "outputs": [],
   "source": [
    "dataset_this_month = '26 فبراير الى 25 مارس.xlsx'\n",
    "dataset_pervious_month = 'March 2024.xlsx'\n",
    "dataset_pervious_monthyear = 'April 2023.xlsx'"
   ]
  },
  {
   "cell_type": "code",
   "execution_count": 13,
   "id": "cc7c3656",
   "metadata": {},
   "outputs": [],
   "source": [
    "def categorize(list_of_num, n):\n",
    "    \"\"\"\n",
    "    <What this function do>\n",
    "    This function takes a list of numbers and categorize each number of them into A, B, C, D, F.\n",
    "    \n",
    "    <what it takes>\n",
    "    it takes two parameters:\n",
    "    1. list_of_num: the list of numbers you need to categorize \n",
    "    2. n: number of items in the list\n",
    "    \n",
    "    <what it returns>\n",
    "    It returns a dictionary. In this dictionary, the ids of numbers in the passed list represented as a keys,\n",
    "    and The categories values represented as values \n",
    "\n",
    "    \"\"\"\n",
    "    series = pd.Series(list_of_num)\n",
    "    list_of_categories = ['A', 'B', 'C', 'D', 'F']\n",
    "    list_of_categories = list_of_categories[: n]\n",
    "    dict1 = {}\n",
    "    categories_dict= {}\n",
    "    \n",
    "    dict1[list_of_categories[0]]= series.idxmax()\n",
    "    series.drop(pd.Series(series).idxmax(), inplace = True)\n",
    "    \n",
    "    dict1[list_of_categories[1]]= series.idxmax()\n",
    "    series.drop(pd.Series(series).idxmax(), inplace = True)\n",
    "    \n",
    "    try: \n",
    "        dict1[list_of_categories[2]]= series.idxmax()\n",
    "        series.drop(pd.Series(series).idxmax(), inplace = True)\n",
    "    except:\n",
    "        pass\n",
    "    \n",
    "    try:\n",
    "        dict1[list_of_categories[3]]= series.idxmax()\n",
    "        series.drop(pd.Series(series).idxmax(), inplace = True)\n",
    "    except:\n",
    "        pass\n",
    "    \n",
    "    try:\n",
    "        dict1[list_of_categories[1]]= series.idxmax()\n",
    "        series.drop(pd.Series(series).idxmax(), inplace = True)\n",
    "    except:\n",
    "        pass\n",
    "    for key, value in dict1.items():\n",
    "        categories_dict[value] = key\n",
    "    return categories_dict "
   ]
  },
  {
   "cell_type": "code",
   "execution_count": 14,
   "id": "a6b6a3ed",
   "metadata": {},
   "outputs": [],
   "source": [
    "def Max_Min_Standardization(df, col):\n",
    "    \n",
    "    \"\"\"\n",
    "    <What this function do>\n",
    "    This function standardizes the columns we need. It makes the scale of our column from 0 to 1. \n",
    "    It deals also with precentages columns\n",
    "    \n",
    "    <what it takes>\n",
    "    It takes two parameters:\n",
    "    1. col: the column we need to standarize\n",
    "    2. df: the dataFrame our column in \n",
    "    \"\"\"\n",
    "    if abs(df[col].max()) <= 1 and abs(df[col].min()) <= 0:\n",
    "        print((df[col].max() <= 0))\n",
    "        print(df)\n",
    "        pass\n",
    "    else:\n",
    "        try:\n",
    "            df[col] = (df[col] -  df[col].min()) / ( df[col].max() -  df[col].min())\n",
    "        except:\n",
    "             pass"
   ]
  },
  {
   "cell_type": "code",
   "execution_count": 15,
   "id": "3ee08aa3",
   "metadata": {},
   "outputs": [],
   "source": [
    "def Degree_From(df, col_name = 'النسبة'):\n",
    "    \"\"\" \n",
    "    <What this function do>\n",
    "    Take a dataframe and sum up all the columns values into a column. It also get the mean of all of these columns  \n",
    "    <what it takes>\n",
    "    1. df: the dataframe\n",
    "    2. col_name: the name of the mean column\n",
    "    \"\"\"\n",
    "    num_cols = len(list(df.columns))\n",
    "    name= 'الدرجة من ' + str(num_cols)\n",
    "    df[name] = 0\n",
    "    for col in list(df.columns):\n",
    "        df[name] = df[name] + df[col]\n",
    "        df[col_name] = df[name] / num_cols\n",
    "    return name"
   ]
  },
  {
   "cell_type": "markdown",
   "id": "dcc77273",
   "metadata": {},
   "source": [
    "# Importing Data And Libraries"
   ]
  },
  {
   "cell_type": "code",
   "execution_count": 16,
   "id": "6003f850",
   "metadata": {},
   "outputs": [],
   "source": [
    "import os\n",
    "import pandas as pd\n",
    "import numpy as np\n",
    "import matplotlib.pyplot as plt\n",
    "from sklearn.cluster import KMeans\n",
    "from apyori import apriori"
   ]
  },
  {
   "cell_type": "markdown",
   "id": "cac906d2",
   "metadata": {},
   "source": [
    "### Reading Our Datasets "
   ]
  },
  {
   "cell_type": "code",
   "execution_count": 17,
   "id": "19293a74",
   "metadata": {},
   "outputs": [],
   "source": [
    "dataset = pd.read_excel(dataset_this_month)\n",
    "df = dataset.copy()"
   ]
  },
  {
   "cell_type": "code",
   "execution_count": 18,
   "id": "eb05d21a",
   "metadata": {},
   "outputs": [],
   "source": [
    "dataset = pd.read_excel(dataset_pervious_month)\n",
    "df_pervious = dataset.copy()"
   ]
  },
  {
   "cell_type": "code",
   "execution_count": 19,
   "id": "844e891e",
   "metadata": {},
   "outputs": [],
   "source": [
    "dataset = pd.read_excel(dataset_pervious_monthyear)\n",
    "dataset_pervious_monthyear = dataset.copy()"
   ]
  },
  {
   "cell_type": "markdown",
   "id": "969e6b26",
   "metadata": {},
   "source": [
    "# Cleaning Part"
   ]
  },
  {
   "cell_type": "markdown",
   "id": "31c83d74",
   "metadata": {},
   "source": [
    "### Extract the year and the month columns\n"
   ]
  },
  {
   "cell_type": "code",
   "execution_count": 20,
   "id": "439b0c35",
   "metadata": {},
   "outputs": [],
   "source": [
    "df['day'] = pd.to_datetime(df['Date']).dt.day\n",
    "d = list(df['day'].dropna().unique())\n",
    "\n",
    "df['month'] = pd.to_datetime(df['Date']).dt.month_name()\n",
    "m = list(df['month'].dropna().unique())\n",
    "\n",
    "df['year'] = pd.to_datetime(df['Date']).dt.year\n",
    "y = list(df['year'].dropna().unique())"
   ]
  },
  {
   "cell_type": "markdown",
   "id": "0625fec6",
   "metadata": {},
   "source": [
    "### Change the directory in order to put all the excel files reports in the day folder"
   ]
  },
  {
   "cell_type": "code",
   "execution_count": 21,
   "id": "fb15fce0",
   "metadata": {},
   "outputs": [],
   "source": [
    "root_path = 'Desktop/'\n",
    "os.mkdir(os.path.join(root_path, ('from '+  str(d[0]) + ' ' + str(m[0]) + ' to ' + str(m[-1]) + ' '+ str(d[-1]) + ' ' +str(int(y[0])))))\n",
    "os.chdir(os.path.join(root_path,  ('from '+  str(d[0]) + ' ' + str(m[0]) + ' to ' + str(m[-1]) + ' '+ str(d[-1]) + ' ' +str(int(y[0])))))"
   ]
  },
  {
   "cell_type": "markdown",
   "id": "f4dbd318",
   "metadata": {},
   "source": [
    "### Split product cat Columns"
   ]
  },
  {
   "cell_type": "code",
   "execution_count": 22,
   "id": "f06903b1",
   "metadata": {},
   "outputs": [
    {
     "ename": "ValueError",
     "evalue": "Columns must be same length as key",
     "output_type": "error",
     "traceback": [
      "\u001b[1;31m---------------------------------------------------------------------------\u001b[0m",
      "\u001b[1;31mValueError\u001b[0m                                Traceback (most recent call last)",
      "Cell \u001b[1;32mIn[22], line 4\u001b[0m\n\u001b[0;32m      1\u001b[0m df_pervious[[\u001b[38;5;124m'\u001b[39m\u001b[38;5;124mProduct origin\u001b[39m\u001b[38;5;124m'\u001b[39m, \u001b[38;5;124m'\u001b[39m\u001b[38;5;124mCat1\u001b[39m\u001b[38;5;124m'\u001b[39m, \u001b[38;5;124m'\u001b[39m\u001b[38;5;124mcat2\u001b[39m\u001b[38;5;124m'\u001b[39m, \u001b[38;5;124m'\u001b[39m\u001b[38;5;124mcat3\u001b[39m\u001b[38;5;124m'\u001b[39m]]\u001b[38;5;241m=\u001b[39m  df_pervious[\u001b[38;5;124m'\u001b[39m\u001b[38;5;124mProduct Category\u001b[39m\u001b[38;5;124m'\u001b[39m]\u001b[38;5;241m.\u001b[39mstr\u001b[38;5;241m.\u001b[39msplit(\u001b[38;5;124m\"\u001b[39m\u001b[38;5;124m/\u001b[39m\u001b[38;5;124m\"\u001b[39m,expand\u001b[38;5;241m=\u001b[39m\u001b[38;5;28;01mTrue\u001b[39;00m)\n\u001b[0;32m      2\u001b[0m df_pervious\u001b[38;5;241m.\u001b[39mdrop(columns\u001b[38;5;241m=\u001b[39m {\u001b[38;5;124m'\u001b[39m\u001b[38;5;124mProduct Category\u001b[39m\u001b[38;5;124m'\u001b[39m}, inplace \u001b[38;5;241m=\u001b[39m \u001b[38;5;28;01mTrue\u001b[39;00m)\n\u001b[1;32m----> 4\u001b[0m df[[\u001b[38;5;124m'\u001b[39m\u001b[38;5;124mProduct origin\u001b[39m\u001b[38;5;124m'\u001b[39m, \u001b[38;5;124m'\u001b[39m\u001b[38;5;124mCat1\u001b[39m\u001b[38;5;124m'\u001b[39m, \u001b[38;5;124m'\u001b[39m\u001b[38;5;124mcat2\u001b[39m\u001b[38;5;124m'\u001b[39m, \u001b[38;5;124m'\u001b[39m\u001b[38;5;124mcat3\u001b[39m\u001b[38;5;124m'\u001b[39m, \u001b[38;5;124m'\u001b[39m\u001b[38;5;124mnone\u001b[39m\u001b[38;5;124m'\u001b[39m]]\u001b[38;5;241m=\u001b[39m df[\u001b[38;5;124m'\u001b[39m\u001b[38;5;124mProduct Category\u001b[39m\u001b[38;5;124m'\u001b[39m]\u001b[38;5;241m.\u001b[39mstr\u001b[38;5;241m.\u001b[39msplit(\u001b[38;5;124m\"\u001b[39m\u001b[38;5;124m/\u001b[39m\u001b[38;5;124m\"\u001b[39m,expand\u001b[38;5;241m=\u001b[39m\u001b[38;5;28;01mTrue\u001b[39;00m)\n\u001b[0;32m      5\u001b[0m df\u001b[38;5;241m.\u001b[39mdrop(columns\u001b[38;5;241m=\u001b[39m {\u001b[38;5;124m'\u001b[39m\u001b[38;5;124mProduct Category\u001b[39m\u001b[38;5;124m'\u001b[39m,\u001b[38;5;124m'\u001b[39m\u001b[38;5;124mUnnamed: 14\u001b[39m\u001b[38;5;124m'\u001b[39m }, inplace \u001b[38;5;241m=\u001b[39m \u001b[38;5;28;01mTrue\u001b[39;00m, errors \u001b[38;5;241m=\u001b[39m \u001b[38;5;124m'\u001b[39m\u001b[38;5;124mignore\u001b[39m\u001b[38;5;124m'\u001b[39m)\n",
      "File \u001b[1;32m~\\anaconda3\\Lib\\site-packages\\pandas\\core\\frame.py:3938\u001b[0m, in \u001b[0;36mDataFrame.__setitem__\u001b[1;34m(self, key, value)\u001b[0m\n\u001b[0;32m   3936\u001b[0m     \u001b[38;5;28mself\u001b[39m\u001b[38;5;241m.\u001b[39m_setitem_frame(key, value)\n\u001b[0;32m   3937\u001b[0m \u001b[38;5;28;01melif\u001b[39;00m \u001b[38;5;28misinstance\u001b[39m(key, (Series, np\u001b[38;5;241m.\u001b[39mndarray, \u001b[38;5;28mlist\u001b[39m, Index)):\n\u001b[1;32m-> 3938\u001b[0m     \u001b[38;5;28mself\u001b[39m\u001b[38;5;241m.\u001b[39m_setitem_array(key, value)\n\u001b[0;32m   3939\u001b[0m \u001b[38;5;28;01melif\u001b[39;00m \u001b[38;5;28misinstance\u001b[39m(value, DataFrame):\n\u001b[0;32m   3940\u001b[0m     \u001b[38;5;28mself\u001b[39m\u001b[38;5;241m.\u001b[39m_set_item_frame_value(key, value)\n",
      "File \u001b[1;32m~\\anaconda3\\Lib\\site-packages\\pandas\\core\\frame.py:3980\u001b[0m, in \u001b[0;36mDataFrame._setitem_array\u001b[1;34m(self, key, value)\u001b[0m\n\u001b[0;32m   3975\u001b[0m \u001b[38;5;28;01melse\u001b[39;00m:\n\u001b[0;32m   3976\u001b[0m     \u001b[38;5;66;03m# Note: unlike self.iloc[:, indexer] = value, this will\u001b[39;00m\n\u001b[0;32m   3977\u001b[0m     \u001b[38;5;66;03m#  never try to overwrite values inplace\u001b[39;00m\n\u001b[0;32m   3979\u001b[0m     \u001b[38;5;28;01mif\u001b[39;00m \u001b[38;5;28misinstance\u001b[39m(value, DataFrame):\n\u001b[1;32m-> 3980\u001b[0m         check_key_length(\u001b[38;5;28mself\u001b[39m\u001b[38;5;241m.\u001b[39mcolumns, key, value)\n\u001b[0;32m   3981\u001b[0m         \u001b[38;5;28;01mfor\u001b[39;00m k1, k2 \u001b[38;5;129;01min\u001b[39;00m \u001b[38;5;28mzip\u001b[39m(key, value\u001b[38;5;241m.\u001b[39mcolumns):\n\u001b[0;32m   3982\u001b[0m             \u001b[38;5;28mself\u001b[39m[k1] \u001b[38;5;241m=\u001b[39m value[k2]\n",
      "File \u001b[1;32m~\\anaconda3\\Lib\\site-packages\\pandas\\core\\indexers\\utils.py:392\u001b[0m, in \u001b[0;36mcheck_key_length\u001b[1;34m(columns, key, value)\u001b[0m\n\u001b[0;32m    390\u001b[0m \u001b[38;5;28;01mif\u001b[39;00m columns\u001b[38;5;241m.\u001b[39mis_unique:\n\u001b[0;32m    391\u001b[0m     \u001b[38;5;28;01mif\u001b[39;00m \u001b[38;5;28mlen\u001b[39m(value\u001b[38;5;241m.\u001b[39mcolumns) \u001b[38;5;241m!=\u001b[39m \u001b[38;5;28mlen\u001b[39m(key):\n\u001b[1;32m--> 392\u001b[0m         \u001b[38;5;28;01mraise\u001b[39;00m \u001b[38;5;167;01mValueError\u001b[39;00m(\u001b[38;5;124m\"\u001b[39m\u001b[38;5;124mColumns must be same length as key\u001b[39m\u001b[38;5;124m\"\u001b[39m)\n\u001b[0;32m    393\u001b[0m \u001b[38;5;28;01melse\u001b[39;00m:\n\u001b[0;32m    394\u001b[0m     \u001b[38;5;66;03m# Missing keys in columns are represented as -1\u001b[39;00m\n\u001b[0;32m    395\u001b[0m     \u001b[38;5;28;01mif\u001b[39;00m \u001b[38;5;28mlen\u001b[39m(columns\u001b[38;5;241m.\u001b[39mget_indexer_non_unique(key)[\u001b[38;5;241m0\u001b[39m]) \u001b[38;5;241m!=\u001b[39m \u001b[38;5;28mlen\u001b[39m(value\u001b[38;5;241m.\u001b[39mcolumns):\n",
      "\u001b[1;31mValueError\u001b[0m: Columns must be same length as key"
     ]
    }
   ],
   "source": [
    "df_pervious[['Product origin', 'Cat1', 'cat2', 'cat3']]=  df_pervious['Product Category'].str.split(\"/\",expand=True)\n",
    "df_pervious.drop(columns= {'Product Category'}, inplace = True)\n",
    "\n",
    "df[['Product origin', 'Cat1', 'cat2', 'cat3', 'none']]= df['Product Category'].str.split(\"/\",expand=True)\n",
    "df.drop(columns= {'Product Category','Unnamed: 14' }, inplace = True, errors = 'ignore')"
   ]
  },
  {
   "cell_type": "code",
   "execution_count": null,
   "id": "e9a24eff",
   "metadata": {},
   "outputs": [],
   "source": [
    "\n",
    "dataset_pervious_monthyear[['Product origin', 'Cat1', 'cat2', 'cat3']]= dataset_pervious_monthyear['Product Category'].str.split(\"/\",expand=True)\n",
    "dataset_pervious_monthyear.drop(columns= {'Product Category','Unnamed: 14' }, inplace = True, errors = 'ignore')"
   ]
  },
  {
   "cell_type": "code",
   "execution_count": null,
   "id": "8092766b",
   "metadata": {},
   "outputs": [],
   "source": [
    "#try:\n",
    "#    df[['Product origin', 'Cat1', 'cat2', 'cat3']]= df['Product Category'].str.split(\"/\",expand=True)\n",
    "#    df.drop(columns= {'Product Category','Unnamed: 14' }, inplace = True, errors = 'ignore')\n",
    "#except:\n",
    "#    df[['Product origin', 'Cat1', 'cat2', 'cat3']]= df['Product Category'].str.split(\"/\",expand=True)\n",
    "#    df.drop(columns= {'Product Category','Unnamed: 14' }, inplace = True, errors = 'ignore')\n",
    "\n",
    "#try:\n",
    "#    df_pervious[['Product origin', 'Cat1', 'cat2', 'cat3', 'Unnamed: 14']]= df_pervious['Product Category'].str.split(\"/\",expand=True)\n",
    "#    df_pervious.drop(columns= {'Product Category'}, inplace = True)\n",
    "#except: \n",
    "#    df_pervious[['Product origin', 'Cat1', 'cat2', 'cat3']]= df_pervious['Product Category'].str.split(\"/\",expand=True)\n",
    "#    df_pervious.drop(columns= {'Product Category'}, inplace = True)\n",
    "    \n",
    "#try:\n",
    "#    dataset_pervious_monthyear[['Product origin', 'Cat1', 'cat2', 'cat3', 'Unnamed: 14']]= dataset_pervious_monthyear['Product Category'].str.split(\"/\",expand=True)\n",
    "#    dataset_pervious_monthyear.drop(columns= {'Product Category'}, inplace = True)\n",
    "#except: \n",
    "#    dataset_pervious_monthyear[['Product origin', 'Cat1', 'cat2', 'cat3']]= dataset_pervious_monthyear['Product Category'].str.split(\"/\",expand=True)\n",
    "#    dataset_pervious_monthyear.drop(columns= {'Product Category'}, inplace = True)"
   ]
  },
  {
   "cell_type": "markdown",
   "id": "88be6d1c",
   "metadata": {},
   "source": [
    "### Prepare the required Columns"
   ]
  },
  {
   "cell_type": "code",
   "execution_count": 23,
   "id": "f8b26324",
   "metadata": {},
   "outputs": [],
   "source": [
    "df['discount amount'] = df['Quantity'] * df['Discount per Unit (abs)']\n",
    "df['discount percentage'] = ((df['Discount (%)'] / 100) * df['Unit Price']) *df['Quantity']\n",
    "df['Total discount'] = df['discount amount']  + df['discount percentage']\n",
    "df['price before discount'] = df['Unit Price'] * df['Quantity']\n",
    "df['Cost per unit'] = df['Cost'] * df['Quantity']\n",
    "df['vat'] = df['Subtotal'] / 1.15\n",
    "df['profit margin'] = df['vat'] - df['Cost'] \n",
    "df['Profit margin percentage'] = df['profit margin'] /df['vat']"
   ]
  },
  {
   "cell_type": "code",
   "execution_count": 24,
   "id": "6a9c56fe",
   "metadata": {},
   "outputs": [],
   "source": [
    "df_pervious['discount amount'] = df_pervious['Quantity'] * df_pervious['Discount per Unit (abs)']\n",
    "df_pervious['discount percentage'] = ((df_pervious['Discount (%)'] / 100) * df_pervious['Unit Price']) *df_pervious['Quantity']\n",
    "df_pervious['Total discount'] = df_pervious['discount amount']  + df_pervious['discount percentage']\n",
    "df_pervious['price before discount'] = df_pervious['Unit Price'] * df_pervious['Quantity']\n",
    "df_pervious['Cost per unit'] = df_pervious['Cost'] * df_pervious['Quantity']\n",
    "df_pervious['vat'] = df_pervious['Subtotal'] / 1.15\n",
    "df_pervious['profit margin'] = df_pervious['vat'] - df_pervious['Cost'] \n",
    "df_pervious['Profit margin percentage'] = df_pervious['profit margin'] /df_pervious['vat']"
   ]
  },
  {
   "cell_type": "code",
   "execution_count": 25,
   "id": "846a57f3",
   "metadata": {},
   "outputs": [],
   "source": [
    "dataset_pervious_monthyear['discount amount'] = dataset_pervious_monthyear['Quantity'] * dataset_pervious_monthyear['Discount per Unit (abs)']\n",
    "dataset_pervious_monthyear['discount percentage'] = ((dataset_pervious_monthyear['Discount (%)'] / 100) * dataset_pervious_monthyear['Unit Price']) *dataset_pervious_monthyear['Quantity']\n",
    "dataset_pervious_monthyear['Total discount'] = dataset_pervious_monthyear['discount amount']  + dataset_pervious_monthyear['discount percentage']\n",
    "dataset_pervious_monthyear['price before discount'] = dataset_pervious_monthyear['Unit Price'] * dataset_pervious_monthyear['Quantity']\n",
    "dataset_pervious_monthyear['Cost per unit'] = dataset_pervious_monthyear['Cost'] * dataset_pervious_monthyear['Quantity']\n",
    "dataset_pervious_monthyear['vat'] = dataset_pervious_monthyear['Subtotal'] / 1.15\n",
    "dataset_pervious_monthyear['profit margin'] = dataset_pervious_monthyear['vat'] - dataset_pervious_monthyear['Cost'] \n",
    "dataset_pervious_monthyear['Profit margin percentage'] = dataset_pervious_monthyear['profit margin'] /dataset_pervious_monthyear['vat']"
   ]
  },
  {
   "cell_type": "markdown",
   "id": "3e78382e",
   "metadata": {},
   "source": [
    "### Cleaning the values of the branches to be in a better shape"
   ]
  },
  {
   "cell_type": "code",
   "execution_count": 26,
   "id": "9d371740",
   "metadata": {},
   "outputs": [],
   "source": [
    "df['فريق المبيعات'].replace({ 'مبيعات نقاط بيع راحتي الدمام': 'الدمام'\n",
    "                             ,'مبيعات نقاط بيع فرع بريدة الكبير 1' : 'بريدة الكبير 1', \n",
    "                            'مبيعات نقاط بيع راحتي الرس': 'الرس',\n",
    "                            'مبيعات نقاط  بيع راحتي  الرياض 1 اثاث': 'الرياض 1 اثاث',\n",
    "                             'مبيعات نقاط بيع راحتي حائل 1' : 'حائل 1',\n",
    "                            'مبيعات نقاط بيع راحتي الطائف الكبير 1' : 'الطائف الكبير 1', \n",
    "                            'مبيعات نقاط بيع راحتي بريدة الكبير 2' : 'بريدة الكبير 2',\n",
    "                            'مبيعات نقاط بيع قصر البيان حائل': 'قصر البيان حائل', \n",
    "                            'مبيعات نقاط بيع راحتي حفر الباطن': 'حفر الباطن',\n",
    "                            'مبيعات نقاط بيع راحتي حائل 2' : 'حائل 2', \n",
    "                            'مبيعات نقاط بيع راحتي البدائع': 'البدائع',\n",
    "                             'مبيعات نقاط بيع متجر راحتي الالكتروني': 'متجر راحتي الالكتروني',\n",
    "                             'مبيعات نقاط بيع راحتي الرياض2 مفروشات': 'الرياض2 مفروشات',\n",
    "                            'مبيعات نقاط بيع راحتي الطائف الصغير 2' : 'الطائف الصغير 2',\n",
    "                             'مبيعات نقاط بيع قصر البيان الرس': 'قصر البيان الرس',\n",
    "                             'مبيعات متجر قصر البيان الإلكتروني': 'قصر البيان الإلكتروني', \n",
    "                             'مبيعات فرع تبوك': 'فرع تبوك',\n",
    "                            'مبيعات الموقع تبوك': 'الموقع تبوك'}, inplace = True)"
   ]
  },
  {
   "cell_type": "code",
   "execution_count": 27,
   "id": "7792461b",
   "metadata": {},
   "outputs": [],
   "source": [
    "df_pervious['فريق المبيعات'].replace({ 'مبيعات نقاط بيع راحتي الدمام': 'الدمام'\n",
    "                             ,'مبيعات نقاط بيع فرع بريدة الكبير 1' : 'بريدة الكبير 1', \n",
    "                            'مبيعات نقاط بيع راحتي الرس': 'الرس',\n",
    "                            'مبيعات نقاط  بيع راحتي  الرياض 1 اثاث': 'الرياض 1 اثاث',\n",
    "                             'مبيعات نقاط بيع راحتي حائل 1' : 'حائل 1',\n",
    "                            'مبيعات نقاط بيع راحتي الطائف الكبير 1' : 'الطائف الكبير 1', \n",
    "                            'مبيعات نقاط بيع راحتي بريدة الكبير 2' : 'بريدة الكبير 2',\n",
    "                            'مبيعات نقاط بيع قصر البيان حائل': 'قصر البيان حائل', \n",
    "                            'مبيعات نقاط بيع راحتي حفر الباطن': 'حفر الباطن',\n",
    "                            'مبيعات نقاط بيع راحتي حائل 2' : 'حائل 2', \n",
    "                            'مبيعات نقاط بيع راحتي البدائع': 'البدائع',\n",
    "                             'مبيعات نقاط بيع متجر راحتي الالكتروني': 'متجر راحتي الالكتروني',\n",
    "                             'مبيعات نقاط بيع راحتي الرياض2 مفروشات': 'الرياض2 مفروشات',\n",
    "                            'مبيعات نقاط بيع راحتي الطائف الصغير 2' : 'الطائف الصغير 2',\n",
    "                             'مبيعات نقاط بيع قصر البيان الرس': 'قصر البيان الرس',\n",
    "                             'مبيعات متجر قصر البيان الإلكتروني': 'قصر البيان الإلكتروني', \n",
    "                             'مبيعات فرع تبوك': 'فرع تبوك',\n",
    "                            'مبيعات الموقع تبوك': 'الموقع تبوك'}, inplace = True)"
   ]
  },
  {
   "cell_type": "code",
   "execution_count": 28,
   "id": "0281e46c",
   "metadata": {},
   "outputs": [],
   "source": [
    "dataset_pervious_monthyear['فريق المبيعات'].replace({ 'مبيعات نقاط بيع راحتي الدمام': 'الدمام'\n",
    "                             ,'مبيعات نقاط بيع فرع بريدة الكبير 1' : 'بريدة الكبير 1', \n",
    "                            'مبيعات نقاط بيع راحتي الرس': 'الرس',\n",
    "                            'مبيعات نقاط  بيع راحتي  الرياض 1 اثاث': 'الرياض 1 اثاث',\n",
    "                             'مبيعات نقاط بيع راحتي حائل 1' : 'حائل 1',\n",
    "                            'مبيعات نقاط بيع راحتي الطائف الكبير 1' : 'الطائف الكبير 1', \n",
    "                            'مبيعات نقاط بيع راحتي بريدة الكبير 2' : 'بريدة الكبير 2',\n",
    "                            'مبيعات نقاط بيع قصر البيان حائل': 'قصر البيان حائل', \n",
    "                            'مبيعات نقاط بيع راحتي حفر الباطن': 'حفر الباطن',\n",
    "                            'مبيعات نقاط بيع راحتي حائل 2' : 'حائل 2', \n",
    "                            'مبيعات نقاط بيع راحتي البدائع': 'البدائع',\n",
    "                             'مبيعات نقاط بيع متجر راحتي الالكتروني': 'متجر راحتي الالكتروني',\n",
    "                             'مبيعات نقاط بيع راحتي الرياض2 مفروشات': 'الرياض2 مفروشات',\n",
    "                            'مبيعات نقاط بيع راحتي الطائف الصغير 2' : 'الطائف الصغير 2',\n",
    "                             'مبيعات نقاط بيع قصر البيان الرس': 'قصر البيان الرس',\n",
    "                             'مبيعات متجر قصر البيان الإلكتروني': 'قصر البيان الإلكتروني', \n",
    "                             'مبيعات فرع تبوك': 'فرع تبوك',\n",
    "                            'مبيعات الموقع تبوك': 'الموقع تبوك'}, inplace = True)"
   ]
  },
  {
   "cell_type": "markdown",
   "id": "6ee63bd5",
   "metadata": {},
   "source": [
    "### Prepare different pages "
   ]
  },
  {
   "cell_type": "markdown",
   "id": "070b5377",
   "metadata": {},
   "source": [
    "#### Page of Deposits"
   ]
  },
  {
   "cell_type": "code",
   "execution_count": 29,
   "id": "6f74cb9e",
   "metadata": {},
   "outputs": [
    {
     "ename": "KeyError",
     "evalue": "'Product origin'",
     "output_type": "error",
     "traceback": [
      "\u001b[1;31m---------------------------------------------------------------------------\u001b[0m",
      "\u001b[1;31mKeyError\u001b[0m                                  Traceback (most recent call last)",
      "File \u001b[1;32m~\\anaconda3\\Lib\\site-packages\\pandas\\core\\indexes\\base.py:3653\u001b[0m, in \u001b[0;36mIndex.get_loc\u001b[1;34m(self, key)\u001b[0m\n\u001b[0;32m   3652\u001b[0m \u001b[38;5;28;01mtry\u001b[39;00m:\n\u001b[1;32m-> 3653\u001b[0m     \u001b[38;5;28;01mreturn\u001b[39;00m \u001b[38;5;28mself\u001b[39m\u001b[38;5;241m.\u001b[39m_engine\u001b[38;5;241m.\u001b[39mget_loc(casted_key)\n\u001b[0;32m   3654\u001b[0m \u001b[38;5;28;01mexcept\u001b[39;00m \u001b[38;5;167;01mKeyError\u001b[39;00m \u001b[38;5;28;01mas\u001b[39;00m err:\n",
      "File \u001b[1;32m~\\anaconda3\\Lib\\site-packages\\pandas\\_libs\\index.pyx:147\u001b[0m, in \u001b[0;36mpandas._libs.index.IndexEngine.get_loc\u001b[1;34m()\u001b[0m\n",
      "File \u001b[1;32m~\\anaconda3\\Lib\\site-packages\\pandas\\_libs\\index.pyx:176\u001b[0m, in \u001b[0;36mpandas._libs.index.IndexEngine.get_loc\u001b[1;34m()\u001b[0m\n",
      "File \u001b[1;32mpandas\\_libs\\hashtable_class_helper.pxi:7080\u001b[0m, in \u001b[0;36mpandas._libs.hashtable.PyObjectHashTable.get_item\u001b[1;34m()\u001b[0m\n",
      "File \u001b[1;32mpandas\\_libs\\hashtable_class_helper.pxi:7088\u001b[0m, in \u001b[0;36mpandas._libs.hashtable.PyObjectHashTable.get_item\u001b[1;34m()\u001b[0m\n",
      "\u001b[1;31mKeyError\u001b[0m: 'Product origin'",
      "\nThe above exception was the direct cause of the following exception:\n",
      "\u001b[1;31mKeyError\u001b[0m                                  Traceback (most recent call last)",
      "Cell \u001b[1;32mIn[29], line 1\u001b[0m\n\u001b[1;32m----> 1\u001b[0m df_deposit \u001b[38;5;241m=\u001b[39m df[df[\u001b[38;5;124m'\u001b[39m\u001b[38;5;124mProduct origin\u001b[39m\u001b[38;5;124m'\u001b[39m] \u001b[38;5;241m==\u001b[39m \u001b[38;5;124m'\u001b[39m\u001b[38;5;124mمنتجات مصروفات الشركة\u001b[39m\u001b[38;5;124m'\u001b[39m]\n\u001b[0;32m      2\u001b[0m df_deposit\u001b[38;5;241m.\u001b[39mto_excel(\u001b[38;5;124m'\u001b[39m\u001b[38;5;124mService and other things report.xlsx\u001b[39m\u001b[38;5;124m'\u001b[39m, sheet_name\u001b[38;5;241m=\u001b[39m\u001b[38;5;124m'\u001b[39m\u001b[38;5;124mمنتجات مصروفات الشركة\u001b[39m\u001b[38;5;124m'\u001b[39m,  index \u001b[38;5;241m=\u001b[39m \u001b[38;5;28;01mFalse\u001b[39;00m)\n\u001b[0;32m      3\u001b[0m df\u001b[38;5;241m.\u001b[39mloc[df_deposit\u001b[38;5;241m.\u001b[39mindex,\u001b[38;5;124m\"\u001b[39m\u001b[38;5;124mQuantity\u001b[39m\u001b[38;5;124m\"\u001b[39m] \u001b[38;5;241m=\u001b[39m \u001b[38;5;241m1\u001b[39m\n",
      "File \u001b[1;32m~\\anaconda3\\Lib\\site-packages\\pandas\\core\\frame.py:3761\u001b[0m, in \u001b[0;36mDataFrame.__getitem__\u001b[1;34m(self, key)\u001b[0m\n\u001b[0;32m   3759\u001b[0m \u001b[38;5;28;01mif\u001b[39;00m \u001b[38;5;28mself\u001b[39m\u001b[38;5;241m.\u001b[39mcolumns\u001b[38;5;241m.\u001b[39mnlevels \u001b[38;5;241m>\u001b[39m \u001b[38;5;241m1\u001b[39m:\n\u001b[0;32m   3760\u001b[0m     \u001b[38;5;28;01mreturn\u001b[39;00m \u001b[38;5;28mself\u001b[39m\u001b[38;5;241m.\u001b[39m_getitem_multilevel(key)\n\u001b[1;32m-> 3761\u001b[0m indexer \u001b[38;5;241m=\u001b[39m \u001b[38;5;28mself\u001b[39m\u001b[38;5;241m.\u001b[39mcolumns\u001b[38;5;241m.\u001b[39mget_loc(key)\n\u001b[0;32m   3762\u001b[0m \u001b[38;5;28;01mif\u001b[39;00m is_integer(indexer):\n\u001b[0;32m   3763\u001b[0m     indexer \u001b[38;5;241m=\u001b[39m [indexer]\n",
      "File \u001b[1;32m~\\anaconda3\\Lib\\site-packages\\pandas\\core\\indexes\\base.py:3655\u001b[0m, in \u001b[0;36mIndex.get_loc\u001b[1;34m(self, key)\u001b[0m\n\u001b[0;32m   3653\u001b[0m     \u001b[38;5;28;01mreturn\u001b[39;00m \u001b[38;5;28mself\u001b[39m\u001b[38;5;241m.\u001b[39m_engine\u001b[38;5;241m.\u001b[39mget_loc(casted_key)\n\u001b[0;32m   3654\u001b[0m \u001b[38;5;28;01mexcept\u001b[39;00m \u001b[38;5;167;01mKeyError\u001b[39;00m \u001b[38;5;28;01mas\u001b[39;00m err:\n\u001b[1;32m-> 3655\u001b[0m     \u001b[38;5;28;01mraise\u001b[39;00m \u001b[38;5;167;01mKeyError\u001b[39;00m(key) \u001b[38;5;28;01mfrom\u001b[39;00m \u001b[38;5;21;01merr\u001b[39;00m\n\u001b[0;32m   3656\u001b[0m \u001b[38;5;28;01mexcept\u001b[39;00m \u001b[38;5;167;01mTypeError\u001b[39;00m:\n\u001b[0;32m   3657\u001b[0m     \u001b[38;5;66;03m# If we have a listlike key, _check_indexing_error will raise\u001b[39;00m\n\u001b[0;32m   3658\u001b[0m     \u001b[38;5;66;03m#  InvalidIndexError. Otherwise we fall through and re-raise\u001b[39;00m\n\u001b[0;32m   3659\u001b[0m     \u001b[38;5;66;03m#  the TypeError.\u001b[39;00m\n\u001b[0;32m   3660\u001b[0m     \u001b[38;5;28mself\u001b[39m\u001b[38;5;241m.\u001b[39m_check_indexing_error(key)\n",
      "\u001b[1;31mKeyError\u001b[0m: 'Product origin'"
     ]
    }
   ],
   "source": [
    "df_deposit = df[df['Product origin'] == 'منتجات مصروفات الشركة']\n",
    "df_deposit.to_excel('Service and other things report.xlsx', sheet_name='منتجات مصروفات الشركة',  index = False)\n",
    "df.loc[df_deposit.index,\"Quantity\"] = 1"
   ]
  },
  {
   "cell_type": "markdown",
   "id": "a67ab2b8",
   "metadata": {},
   "source": [
    "#### Page of services and installment"
   ]
  },
  {
   "cell_type": "code",
   "execution_count": null,
   "id": "172bc7d4",
   "metadata": {},
   "outputs": [],
   "source": [
    "#df_services = df[df['Product origin'] == 'خدمات-44 ']\n",
    "df_services = df[df['Product'].str.contains('خدمات') | df['Product'].str.contains('تركيب') | df['Product'].str.contains('خصم') ]\n",
    "\n",
    "with pd.ExcelWriter('Service and other things report.xlsx', engine='openpyxl', mode='a') as writer:\n",
    "    df_services.to_excel(writer, sheet_name= 'خدمات-44',  index = False)\n"
   ]
  },
  {
   "cell_type": "code",
   "execution_count": null,
   "id": "30f14059",
   "metadata": {},
   "outputs": [],
   "source": [
    "df_installment = df[df['Product origin'] == 'خدمات التقسيط']\n",
    "with pd.ExcelWriter('Service and other things report.xlsx', engine='openpyxl', mode='a') as writer:\n",
    "    df_installment.to_excel(writer, sheet_name= 'خدمات التقسيط',  index = False)\n",
    "df_services =pd.concat([df_services, df_installment])"
   ]
  },
  {
   "cell_type": "markdown",
   "id": "2f761dcb",
   "metadata": {},
   "source": [
    "#### Get the additional discounts rows, put it in dataframe and save it as a file"
   ]
  },
  {
   "cell_type": "code",
   "execution_count": 30,
   "id": "fd8906bf",
   "metadata": {},
   "outputs": [
    {
     "ename": "KeyError",
     "evalue": "'Product origin'",
     "output_type": "error",
     "traceback": [
      "\u001b[1;31m---------------------------------------------------------------------------\u001b[0m",
      "\u001b[1;31mKeyError\u001b[0m                                  Traceback (most recent call last)",
      "File \u001b[1;32m~\\anaconda3\\Lib\\site-packages\\pandas\\core\\indexes\\base.py:3653\u001b[0m, in \u001b[0;36mIndex.get_loc\u001b[1;34m(self, key)\u001b[0m\n\u001b[0;32m   3652\u001b[0m \u001b[38;5;28;01mtry\u001b[39;00m:\n\u001b[1;32m-> 3653\u001b[0m     \u001b[38;5;28;01mreturn\u001b[39;00m \u001b[38;5;28mself\u001b[39m\u001b[38;5;241m.\u001b[39m_engine\u001b[38;5;241m.\u001b[39mget_loc(casted_key)\n\u001b[0;32m   3654\u001b[0m \u001b[38;5;28;01mexcept\u001b[39;00m \u001b[38;5;167;01mKeyError\u001b[39;00m \u001b[38;5;28;01mas\u001b[39;00m err:\n",
      "File \u001b[1;32m~\\anaconda3\\Lib\\site-packages\\pandas\\_libs\\index.pyx:147\u001b[0m, in \u001b[0;36mpandas._libs.index.IndexEngine.get_loc\u001b[1;34m()\u001b[0m\n",
      "File \u001b[1;32m~\\anaconda3\\Lib\\site-packages\\pandas\\_libs\\index.pyx:176\u001b[0m, in \u001b[0;36mpandas._libs.index.IndexEngine.get_loc\u001b[1;34m()\u001b[0m\n",
      "File \u001b[1;32mpandas\\_libs\\hashtable_class_helper.pxi:7080\u001b[0m, in \u001b[0;36mpandas._libs.hashtable.PyObjectHashTable.get_item\u001b[1;34m()\u001b[0m\n",
      "File \u001b[1;32mpandas\\_libs\\hashtable_class_helper.pxi:7088\u001b[0m, in \u001b[0;36mpandas._libs.hashtable.PyObjectHashTable.get_item\u001b[1;34m()\u001b[0m\n",
      "\u001b[1;31mKeyError\u001b[0m: 'Product origin'",
      "\nThe above exception was the direct cause of the following exception:\n",
      "\u001b[1;31mKeyError\u001b[0m                                  Traceback (most recent call last)",
      "Cell \u001b[1;32mIn[30], line 1\u001b[0m\n\u001b[1;32m----> 1\u001b[0m df_all \u001b[38;5;241m=\u001b[39m df[df[\u001b[38;5;124m'\u001b[39m\u001b[38;5;124mProduct origin\u001b[39m\u001b[38;5;124m'\u001b[39m] \u001b[38;5;241m==\u001b[39m \u001b[38;5;124m'\u001b[39m\u001b[38;5;124mAll\u001b[39m\u001b[38;5;124m'\u001b[39m]\n\u001b[0;32m      2\u001b[0m df_addition_discount \u001b[38;5;241m=\u001b[39m df_all[df_all[\u001b[38;5;124m'\u001b[39m\u001b[38;5;124mProduct\u001b[39m\u001b[38;5;124m'\u001b[39m] \u001b[38;5;241m==\u001b[39m \u001b[38;5;124m'\u001b[39m\u001b[38;5;124m[11223344] RS خصم اضافي للعميل\u001b[39m\u001b[38;5;124m'\u001b[39m]\n\u001b[0;32m      3\u001b[0m df_all\u001b[38;5;241m.\u001b[39mdrop(df_addition_discount\u001b[38;5;241m.\u001b[39mindex, inplace \u001b[38;5;241m=\u001b[39m \u001b[38;5;28;01mTrue\u001b[39;00m)\n",
      "File \u001b[1;32m~\\anaconda3\\Lib\\site-packages\\pandas\\core\\frame.py:3761\u001b[0m, in \u001b[0;36mDataFrame.__getitem__\u001b[1;34m(self, key)\u001b[0m\n\u001b[0;32m   3759\u001b[0m \u001b[38;5;28;01mif\u001b[39;00m \u001b[38;5;28mself\u001b[39m\u001b[38;5;241m.\u001b[39mcolumns\u001b[38;5;241m.\u001b[39mnlevels \u001b[38;5;241m>\u001b[39m \u001b[38;5;241m1\u001b[39m:\n\u001b[0;32m   3760\u001b[0m     \u001b[38;5;28;01mreturn\u001b[39;00m \u001b[38;5;28mself\u001b[39m\u001b[38;5;241m.\u001b[39m_getitem_multilevel(key)\n\u001b[1;32m-> 3761\u001b[0m indexer \u001b[38;5;241m=\u001b[39m \u001b[38;5;28mself\u001b[39m\u001b[38;5;241m.\u001b[39mcolumns\u001b[38;5;241m.\u001b[39mget_loc(key)\n\u001b[0;32m   3762\u001b[0m \u001b[38;5;28;01mif\u001b[39;00m is_integer(indexer):\n\u001b[0;32m   3763\u001b[0m     indexer \u001b[38;5;241m=\u001b[39m [indexer]\n",
      "File \u001b[1;32m~\\anaconda3\\Lib\\site-packages\\pandas\\core\\indexes\\base.py:3655\u001b[0m, in \u001b[0;36mIndex.get_loc\u001b[1;34m(self, key)\u001b[0m\n\u001b[0;32m   3653\u001b[0m     \u001b[38;5;28;01mreturn\u001b[39;00m \u001b[38;5;28mself\u001b[39m\u001b[38;5;241m.\u001b[39m_engine\u001b[38;5;241m.\u001b[39mget_loc(casted_key)\n\u001b[0;32m   3654\u001b[0m \u001b[38;5;28;01mexcept\u001b[39;00m \u001b[38;5;167;01mKeyError\u001b[39;00m \u001b[38;5;28;01mas\u001b[39;00m err:\n\u001b[1;32m-> 3655\u001b[0m     \u001b[38;5;28;01mraise\u001b[39;00m \u001b[38;5;167;01mKeyError\u001b[39;00m(key) \u001b[38;5;28;01mfrom\u001b[39;00m \u001b[38;5;21;01merr\u001b[39;00m\n\u001b[0;32m   3656\u001b[0m \u001b[38;5;28;01mexcept\u001b[39;00m \u001b[38;5;167;01mTypeError\u001b[39;00m:\n\u001b[0;32m   3657\u001b[0m     \u001b[38;5;66;03m# If we have a listlike key, _check_indexing_error will raise\u001b[39;00m\n\u001b[0;32m   3658\u001b[0m     \u001b[38;5;66;03m#  InvalidIndexError. Otherwise we fall through and re-raise\u001b[39;00m\n\u001b[0;32m   3659\u001b[0m     \u001b[38;5;66;03m#  the TypeError.\u001b[39;00m\n\u001b[0;32m   3660\u001b[0m     \u001b[38;5;28mself\u001b[39m\u001b[38;5;241m.\u001b[39m_check_indexing_error(key)\n",
      "\u001b[1;31mKeyError\u001b[0m: 'Product origin'"
     ]
    }
   ],
   "source": [
    "df_all = df[df['Product origin'] == 'All']\n",
    "df_addition_discount = df_all[df_all['Product'] == '[11223344] RS خصم اضافي للعميل']\n",
    "df_all.drop(df_addition_discount.index, inplace = True)\n",
    "df_services = pd.concat([df_services, df_all])\n",
    "df_addition_discount.to_excel('addition_discount report.xlsx',  index = False)"
   ]
  },
  {
   "cell_type": "code",
   "execution_count": 31,
   "id": "5596940b",
   "metadata": {},
   "outputs": [
    {
     "name": "stderr",
     "output_type": "stream",
     "text": [
      "C:\\Users\\Rahaty Store\\AppData\\Local\\Temp\\ipykernel_15324\\111177.py:3: SettingWithCopyWarning: \n",
      "A value is trying to be set on a copy of a slice from a DataFrame\n",
      "\n",
      "See the caveats in the documentation: https://pandas.pydata.org/pandas-docs/stable/user_guide/indexing.html#returning-a-view-versus-a-copy\n",
      "  df_all_pervious.drop(df_addition_discount_pervious.index, inplace = True)\n"
     ]
    }
   ],
   "source": [
    "df_all_pervious = df_pervious[df_pervious['Product origin'] == 'All']\n",
    "df_addition_discount_pervious = df_pervious[df_pervious['Product'] == '[11223344] RS خصم اضافي للعميل']\n",
    "df_all_pervious.drop(df_addition_discount_pervious.index, inplace = True)"
   ]
  },
  {
   "cell_type": "code",
   "execution_count": 32,
   "id": "c7250568",
   "metadata": {},
   "outputs": [
    {
     "ename": "KeyError",
     "evalue": "'Product origin'",
     "output_type": "error",
     "traceback": [
      "\u001b[1;31m---------------------------------------------------------------------------\u001b[0m",
      "\u001b[1;31mKeyError\u001b[0m                                  Traceback (most recent call last)",
      "File \u001b[1;32m~\\anaconda3\\Lib\\site-packages\\pandas\\core\\indexes\\base.py:3653\u001b[0m, in \u001b[0;36mIndex.get_loc\u001b[1;34m(self, key)\u001b[0m\n\u001b[0;32m   3652\u001b[0m \u001b[38;5;28;01mtry\u001b[39;00m:\n\u001b[1;32m-> 3653\u001b[0m     \u001b[38;5;28;01mreturn\u001b[39;00m \u001b[38;5;28mself\u001b[39m\u001b[38;5;241m.\u001b[39m_engine\u001b[38;5;241m.\u001b[39mget_loc(casted_key)\n\u001b[0;32m   3654\u001b[0m \u001b[38;5;28;01mexcept\u001b[39;00m \u001b[38;5;167;01mKeyError\u001b[39;00m \u001b[38;5;28;01mas\u001b[39;00m err:\n",
      "File \u001b[1;32m~\\anaconda3\\Lib\\site-packages\\pandas\\_libs\\index.pyx:147\u001b[0m, in \u001b[0;36mpandas._libs.index.IndexEngine.get_loc\u001b[1;34m()\u001b[0m\n",
      "File \u001b[1;32m~\\anaconda3\\Lib\\site-packages\\pandas\\_libs\\index.pyx:176\u001b[0m, in \u001b[0;36mpandas._libs.index.IndexEngine.get_loc\u001b[1;34m()\u001b[0m\n",
      "File \u001b[1;32mpandas\\_libs\\hashtable_class_helper.pxi:7080\u001b[0m, in \u001b[0;36mpandas._libs.hashtable.PyObjectHashTable.get_item\u001b[1;34m()\u001b[0m\n",
      "File \u001b[1;32mpandas\\_libs\\hashtable_class_helper.pxi:7088\u001b[0m, in \u001b[0;36mpandas._libs.hashtable.PyObjectHashTable.get_item\u001b[1;34m()\u001b[0m\n",
      "\u001b[1;31mKeyError\u001b[0m: 'Product origin'",
      "\nThe above exception was the direct cause of the following exception:\n",
      "\u001b[1;31mKeyError\u001b[0m                                  Traceback (most recent call last)",
      "Cell \u001b[1;32mIn[32], line 1\u001b[0m\n\u001b[1;32m----> 1\u001b[0m df_all_monthyear \u001b[38;5;241m=\u001b[39m dataset_pervious_monthyear[dataset_pervious_monthyear[\u001b[38;5;124m'\u001b[39m\u001b[38;5;124mProduct origin\u001b[39m\u001b[38;5;124m'\u001b[39m] \u001b[38;5;241m==\u001b[39m \u001b[38;5;124m'\u001b[39m\u001b[38;5;124mAll\u001b[39m\u001b[38;5;124m'\u001b[39m]\n\u001b[0;32m      2\u001b[0m df_addition_discount_pervious \u001b[38;5;241m=\u001b[39m dataset_pervious_monthyear[dataset_pervious_monthyear[\u001b[38;5;124m'\u001b[39m\u001b[38;5;124mProduct\u001b[39m\u001b[38;5;124m'\u001b[39m] \u001b[38;5;241m==\u001b[39m \u001b[38;5;124m'\u001b[39m\u001b[38;5;124m[11223344] RS خصم اضافي للعميل\u001b[39m\u001b[38;5;124m'\u001b[39m]\n\u001b[0;32m      3\u001b[0m df_all_monthyear\u001b[38;5;241m.\u001b[39mdrop(df_addition_discount_pervious\u001b[38;5;241m.\u001b[39mindex, inplace \u001b[38;5;241m=\u001b[39m \u001b[38;5;28;01mTrue\u001b[39;00m)\n",
      "File \u001b[1;32m~\\anaconda3\\Lib\\site-packages\\pandas\\core\\frame.py:3761\u001b[0m, in \u001b[0;36mDataFrame.__getitem__\u001b[1;34m(self, key)\u001b[0m\n\u001b[0;32m   3759\u001b[0m \u001b[38;5;28;01mif\u001b[39;00m \u001b[38;5;28mself\u001b[39m\u001b[38;5;241m.\u001b[39mcolumns\u001b[38;5;241m.\u001b[39mnlevels \u001b[38;5;241m>\u001b[39m \u001b[38;5;241m1\u001b[39m:\n\u001b[0;32m   3760\u001b[0m     \u001b[38;5;28;01mreturn\u001b[39;00m \u001b[38;5;28mself\u001b[39m\u001b[38;5;241m.\u001b[39m_getitem_multilevel(key)\n\u001b[1;32m-> 3761\u001b[0m indexer \u001b[38;5;241m=\u001b[39m \u001b[38;5;28mself\u001b[39m\u001b[38;5;241m.\u001b[39mcolumns\u001b[38;5;241m.\u001b[39mget_loc(key)\n\u001b[0;32m   3762\u001b[0m \u001b[38;5;28;01mif\u001b[39;00m is_integer(indexer):\n\u001b[0;32m   3763\u001b[0m     indexer \u001b[38;5;241m=\u001b[39m [indexer]\n",
      "File \u001b[1;32m~\\anaconda3\\Lib\\site-packages\\pandas\\core\\indexes\\base.py:3655\u001b[0m, in \u001b[0;36mIndex.get_loc\u001b[1;34m(self, key)\u001b[0m\n\u001b[0;32m   3653\u001b[0m     \u001b[38;5;28;01mreturn\u001b[39;00m \u001b[38;5;28mself\u001b[39m\u001b[38;5;241m.\u001b[39m_engine\u001b[38;5;241m.\u001b[39mget_loc(casted_key)\n\u001b[0;32m   3654\u001b[0m \u001b[38;5;28;01mexcept\u001b[39;00m \u001b[38;5;167;01mKeyError\u001b[39;00m \u001b[38;5;28;01mas\u001b[39;00m err:\n\u001b[1;32m-> 3655\u001b[0m     \u001b[38;5;28;01mraise\u001b[39;00m \u001b[38;5;167;01mKeyError\u001b[39;00m(key) \u001b[38;5;28;01mfrom\u001b[39;00m \u001b[38;5;21;01merr\u001b[39;00m\n\u001b[0;32m   3656\u001b[0m \u001b[38;5;28;01mexcept\u001b[39;00m \u001b[38;5;167;01mTypeError\u001b[39;00m:\n\u001b[0;32m   3657\u001b[0m     \u001b[38;5;66;03m# If we have a listlike key, _check_indexing_error will raise\u001b[39;00m\n\u001b[0;32m   3658\u001b[0m     \u001b[38;5;66;03m#  InvalidIndexError. Otherwise we fall through and re-raise\u001b[39;00m\n\u001b[0;32m   3659\u001b[0m     \u001b[38;5;66;03m#  the TypeError.\u001b[39;00m\n\u001b[0;32m   3660\u001b[0m     \u001b[38;5;28mself\u001b[39m\u001b[38;5;241m.\u001b[39m_check_indexing_error(key)\n",
      "\u001b[1;31mKeyError\u001b[0m: 'Product origin'"
     ]
    }
   ],
   "source": [
    "df_all_monthyear = dataset_pervious_monthyear[dataset_pervious_monthyear['Product origin'] == 'All']\n",
    "df_addition_discount_pervious = dataset_pervious_monthyear[dataset_pervious_monthyear['Product'] == '[11223344] RS خصم اضافي للعميل']\n",
    "df_all_monthyear.drop(df_addition_discount_pervious.index, inplace = True)"
   ]
  },
  {
   "cell_type": "markdown",
   "id": "182cdd71",
   "metadata": {},
   "source": [
    "#### Page of zero qunatity"
   ]
  },
  {
   "cell_type": "code",
   "execution_count": 33,
   "id": "87764b7f",
   "metadata": {},
   "outputs": [
    {
     "ename": "FileNotFoundError",
     "evalue": "[Errno 2] No such file or directory: 'Service and other things report.xlsx'",
     "output_type": "error",
     "traceback": [
      "\u001b[1;31m---------------------------------------------------------------------------\u001b[0m",
      "\u001b[1;31mFileNotFoundError\u001b[0m                         Traceback (most recent call last)",
      "Cell \u001b[1;32mIn[33], line 2\u001b[0m\n\u001b[0;32m      1\u001b[0m df_0 \u001b[38;5;241m=\u001b[39m df[df[\u001b[38;5;124m'\u001b[39m\u001b[38;5;124mQuantity\u001b[39m\u001b[38;5;124m'\u001b[39m] \u001b[38;5;241m==\u001b[39m \u001b[38;5;241m0\u001b[39m ]\n\u001b[1;32m----> 2\u001b[0m \u001b[38;5;28;01mwith\u001b[39;00m pd\u001b[38;5;241m.\u001b[39mExcelWriter(\u001b[38;5;124m'\u001b[39m\u001b[38;5;124mService and other things report.xlsx\u001b[39m\u001b[38;5;124m'\u001b[39m, engine\u001b[38;5;241m=\u001b[39m\u001b[38;5;124m'\u001b[39m\u001b[38;5;124mopenpyxl\u001b[39m\u001b[38;5;124m'\u001b[39m, mode\u001b[38;5;241m=\u001b[39m\u001b[38;5;124m'\u001b[39m\u001b[38;5;124ma\u001b[39m\u001b[38;5;124m'\u001b[39m) \u001b[38;5;28;01mas\u001b[39;00m writer:\n\u001b[0;32m      3\u001b[0m     df_0\u001b[38;5;241m.\u001b[39mto_excel(writer, sheet_name\u001b[38;5;241m=\u001b[39m \u001b[38;5;124m'\u001b[39m\u001b[38;5;124mصفر كمية\u001b[39m\u001b[38;5;124m'\u001b[39m,  index \u001b[38;5;241m=\u001b[39m \u001b[38;5;28;01mFalse\u001b[39;00m)\n\u001b[0;32m      4\u001b[0m df\u001b[38;5;241m.\u001b[39mdrop(df_0\u001b[38;5;241m.\u001b[39mindex, inplace \u001b[38;5;241m=\u001b[39m \u001b[38;5;28;01mTrue\u001b[39;00m)\n",
      "File \u001b[1;32m~\\anaconda3\\Lib\\site-packages\\pandas\\io\\excel\\_openpyxl.py:60\u001b[0m, in \u001b[0;36mOpenpyxlWriter.__init__\u001b[1;34m(self, path, engine, date_format, datetime_format, mode, storage_options, if_sheet_exists, engine_kwargs, **kwargs)\u001b[0m\n\u001b[0;32m     56\u001b[0m \u001b[38;5;28;01mfrom\u001b[39;00m \u001b[38;5;21;01mopenpyxl\u001b[39;00m\u001b[38;5;21;01m.\u001b[39;00m\u001b[38;5;21;01mworkbook\u001b[39;00m \u001b[38;5;28;01mimport\u001b[39;00m Workbook\n\u001b[0;32m     58\u001b[0m engine_kwargs \u001b[38;5;241m=\u001b[39m combine_kwargs(engine_kwargs, kwargs)\n\u001b[1;32m---> 60\u001b[0m \u001b[38;5;28msuper\u001b[39m()\u001b[38;5;241m.\u001b[39m\u001b[38;5;21m__init__\u001b[39m(\n\u001b[0;32m     61\u001b[0m     path,\n\u001b[0;32m     62\u001b[0m     mode\u001b[38;5;241m=\u001b[39mmode,\n\u001b[0;32m     63\u001b[0m     storage_options\u001b[38;5;241m=\u001b[39mstorage_options,\n\u001b[0;32m     64\u001b[0m     if_sheet_exists\u001b[38;5;241m=\u001b[39mif_sheet_exists,\n\u001b[0;32m     65\u001b[0m     engine_kwargs\u001b[38;5;241m=\u001b[39mengine_kwargs,\n\u001b[0;32m     66\u001b[0m )\n\u001b[0;32m     68\u001b[0m \u001b[38;5;66;03m# ExcelWriter replaced \"a\" by \"r+\" to allow us to first read the excel file from\u001b[39;00m\n\u001b[0;32m     69\u001b[0m \u001b[38;5;66;03m# the file and later write to it\u001b[39;00m\n\u001b[0;32m     70\u001b[0m \u001b[38;5;28;01mif\u001b[39;00m \u001b[38;5;124m\"\u001b[39m\u001b[38;5;124mr+\u001b[39m\u001b[38;5;124m\"\u001b[39m \u001b[38;5;129;01min\u001b[39;00m \u001b[38;5;28mself\u001b[39m\u001b[38;5;241m.\u001b[39m_mode:  \u001b[38;5;66;03m# Load from existing workbook\u001b[39;00m\n",
      "File \u001b[1;32m~\\anaconda3\\Lib\\site-packages\\pandas\\io\\excel\\_base.py:1219\u001b[0m, in \u001b[0;36mExcelWriter.__init__\u001b[1;34m(self, path, engine, date_format, datetime_format, mode, storage_options, if_sheet_exists, engine_kwargs)\u001b[0m\n\u001b[0;32m   1215\u001b[0m \u001b[38;5;28mself\u001b[39m\u001b[38;5;241m.\u001b[39m_handles \u001b[38;5;241m=\u001b[39m IOHandles(\n\u001b[0;32m   1216\u001b[0m     cast(IO[\u001b[38;5;28mbytes\u001b[39m], path), compression\u001b[38;5;241m=\u001b[39m{\u001b[38;5;124m\"\u001b[39m\u001b[38;5;124mcompression\u001b[39m\u001b[38;5;124m\"\u001b[39m: \u001b[38;5;28;01mNone\u001b[39;00m}\n\u001b[0;32m   1217\u001b[0m )\n\u001b[0;32m   1218\u001b[0m \u001b[38;5;28;01mif\u001b[39;00m \u001b[38;5;129;01mnot\u001b[39;00m \u001b[38;5;28misinstance\u001b[39m(path, ExcelWriter):\n\u001b[1;32m-> 1219\u001b[0m     \u001b[38;5;28mself\u001b[39m\u001b[38;5;241m.\u001b[39m_handles \u001b[38;5;241m=\u001b[39m get_handle(\n\u001b[0;32m   1220\u001b[0m         path, mode, storage_options\u001b[38;5;241m=\u001b[39mstorage_options, is_text\u001b[38;5;241m=\u001b[39m\u001b[38;5;28;01mFalse\u001b[39;00m\n\u001b[0;32m   1221\u001b[0m     )\n\u001b[0;32m   1222\u001b[0m \u001b[38;5;28mself\u001b[39m\u001b[38;5;241m.\u001b[39m_cur_sheet \u001b[38;5;241m=\u001b[39m \u001b[38;5;28;01mNone\u001b[39;00m\n\u001b[0;32m   1224\u001b[0m \u001b[38;5;28;01mif\u001b[39;00m date_format \u001b[38;5;129;01mis\u001b[39;00m \u001b[38;5;28;01mNone\u001b[39;00m:\n",
      "File \u001b[1;32m~\\anaconda3\\Lib\\site-packages\\pandas\\io\\common.py:868\u001b[0m, in \u001b[0;36mget_handle\u001b[1;34m(path_or_buf, mode, encoding, compression, memory_map, is_text, errors, storage_options)\u001b[0m\n\u001b[0;32m    859\u001b[0m         handle \u001b[38;5;241m=\u001b[39m \u001b[38;5;28mopen\u001b[39m(\n\u001b[0;32m    860\u001b[0m             handle,\n\u001b[0;32m    861\u001b[0m             ioargs\u001b[38;5;241m.\u001b[39mmode,\n\u001b[1;32m   (...)\u001b[0m\n\u001b[0;32m    864\u001b[0m             newline\u001b[38;5;241m=\u001b[39m\u001b[38;5;124m\"\u001b[39m\u001b[38;5;124m\"\u001b[39m,\n\u001b[0;32m    865\u001b[0m         )\n\u001b[0;32m    866\u001b[0m     \u001b[38;5;28;01melse\u001b[39;00m:\n\u001b[0;32m    867\u001b[0m         \u001b[38;5;66;03m# Binary mode\u001b[39;00m\n\u001b[1;32m--> 868\u001b[0m         handle \u001b[38;5;241m=\u001b[39m \u001b[38;5;28mopen\u001b[39m(handle, ioargs\u001b[38;5;241m.\u001b[39mmode)\n\u001b[0;32m    869\u001b[0m     handles\u001b[38;5;241m.\u001b[39mappend(handle)\n\u001b[0;32m    871\u001b[0m \u001b[38;5;66;03m# Convert BytesIO or file objects passed with an encoding\u001b[39;00m\n",
      "\u001b[1;31mFileNotFoundError\u001b[0m: [Errno 2] No such file or directory: 'Service and other things report.xlsx'"
     ]
    }
   ],
   "source": [
    "df_0 = df[df['Quantity'] == 0 ]\n",
    "with pd.ExcelWriter('Service and other things report.xlsx', engine='openpyxl', mode='a') as writer:\n",
    "    df_0.to_excel(writer, sheet_name= 'صفر كمية',  index = False)\n",
    "df.drop(df_0.index, inplace = True)"
   ]
  },
  {
   "cell_type": "code",
   "execution_count": 34,
   "id": "ae865b63",
   "metadata": {},
   "outputs": [],
   "source": [
    "df_0 = df_pervious[df_pervious['Quantity'] == 0 ]\n",
    "df_pervious.drop(df_0.index, inplace = True)"
   ]
  },
  {
   "cell_type": "code",
   "execution_count": 35,
   "id": "5199c5bf",
   "metadata": {},
   "outputs": [],
   "source": [
    "df_0 = dataset_pervious_monthyear[dataset_pervious_monthyear['Quantity'] == 0 ]\n",
    "dataset_pervious_monthyear.drop(df_0.index, inplace = True)"
   ]
  },
  {
   "cell_type": "markdown",
   "id": "1767895c",
   "metadata": {},
   "source": [
    "#### Final Total"
   ]
  },
  {
   "cell_type": "code",
   "execution_count": 36,
   "id": "6ed8a4e7",
   "metadata": {},
   "outputs": [],
   "source": [
    "df_final_total = df[df['Product'] == 'الإجمالي النهائي' ]\n",
    "df.drop(df_final_total.index, inplace = True)\n"
   ]
  },
  {
   "cell_type": "code",
   "execution_count": 37,
   "id": "0bead7ef",
   "metadata": {},
   "outputs": [],
   "source": [
    "df_final_total = df_pervious[df_pervious['Product'] == 'الإجمالي النهائي' ]\n",
    "df_pervious.drop(df_final_total.index, inplace = True)"
   ]
  },
  {
   "cell_type": "code",
   "execution_count": 38,
   "id": "6c91be48",
   "metadata": {},
   "outputs": [],
   "source": [
    "df_final_total = dataset_pervious_monthyear[dataset_pervious_monthyear['Product'] == 'الإجمالي النهائي' ]\n",
    "dataset_pervious_monthyear.drop(df_final_total.index, inplace = True)"
   ]
  },
  {
   "cell_type": "markdown",
   "id": "643957e1",
   "metadata": {},
   "source": [
    "# Analytical Part"
   ]
  },
  {
   "cell_type": "markdown",
   "id": "0f1b646e",
   "metadata": {},
   "source": [
    "## Sales Report For Branches "
   ]
  },
  {
   "cell_type": "markdown",
   "id": "84268f10",
   "metadata": {},
   "source": [
    "### Sales Worksheet"
   ]
  },
  {
   "cell_type": "code",
   "execution_count": 39,
   "id": "026959c2",
   "metadata": {},
   "outputs": [],
   "source": [
    "df_pervious.rename(columns= {'مبيعات نقاط بيع راحتي الإحساء': 'الإحساء',\n",
    "                             'راحتي الالكتروني': 'متجر راحتي الالكتروني',\n",
    "                             'قصر البيان الإلكتروني': 'متجر قصر البيان الإلكتروني',\n",
    "                             'الرياض 1 اثاث':'معرض 1 الرياض متجر الالكتروني' }, inplace = True)"
   ]
  },
  {
   "cell_type": "code",
   "execution_count": 40,
   "id": "c0e8f2e8",
   "metadata": {},
   "outputs": [],
   "source": [
    "dataset_pervious_monthyear.rename(columns= {'مبيعات نقاط بيع راحتي الإحساء': 'الإحساء',\n",
    "                             'راحتي الالكتروني': 'متجر راحتي الالكتروني',\n",
    "                             'قصر البيان الإلكتروني': 'متجر قصر البيان الإلكتروني',\n",
    "                             'الرياض 1 اثاث':'معرض 1 الرياض متجر الالكتروني' }, inplace = True)"
   ]
  },
  {
   "cell_type": "code",
   "execution_count": 41,
   "id": "b4bc0a77",
   "metadata": {},
   "outputs": [],
   "source": [
    "# Getting the sales of each branch in the company\n",
    "df_sales= pd.pivot_table(df,index=['فريق المبيعات'], values=(['Subtotal']), aggfunc = 'sum')\n",
    "df_sales.rename(columns ={'Subtotal':'total sales'}, inplace = True)\n",
    "\n",
    "# Getting the branch contribution of the sales of the company\n",
    "df_sales['Sales Percent from the company'] = df_sales['total sales']/ df_sales['total sales'].sum()\n",
    "df_sales.rename(columns = {'total sales': \"إجمالي المبيعات\"\n",
    "                           , 'Sales Percent from the company': 'نسبة الفرع من إجمالي المبيعات' },inplace = True)\n",
    "\n",
    "# Getting the sales of each branch in the company in the previous month\n",
    "df_pervious_sales = pd.pivot_table(df_pervious,index=['فريق المبيعات'], values=(['Subtotal']), aggfunc = 'sum')\n",
    "df_pervious_sales.rename(columns ={'Subtotal':'إجمالي مبيعات الشهر السابق'}, inplace = True)\n",
    "\n",
    "\n",
    "# Merging both the sales of the day and the sales of the previous month\n",
    "df_sales = df_sales.merge(df_pervious_sales, on ='فريق المبيعات', how = 'left')\n",
    "\n",
    "\n",
    "# getting the change of sales for each branch\n",
    "df_sales['معدل التغير عن الشهر السابق'] = (df_sales['إجمالي المبيعات'] - df_sales['إجمالي مبيعات الشهر السابق']) / df_sales['إجمالي مبيعات الشهر السابق']\n",
    "df_sales.drop(columns = {'إجمالي مبيعات الشهر السابق'}, inplace = True)\n",
    "\n",
    "# filling the nan values for the branches that didn't sale anything or the branches that didn't exist in the previous Month\n",
    "df_sales.fillna(0, inplace =  True)\n",
    "\n",
    "\n",
    "# Getting the sales of each branch in the company in this month in the pervious year\n",
    "df_pervious_year_sales = pd.pivot_table(dataset_pervious_monthyear,index=['فريق المبيعات'], values=(['Subtotal']), aggfunc = 'sum')\n",
    "df_pervious_year_sales.rename(columns ={'Subtotal':'إجمالي مبيعات الشهر الحالي للسنة السابقة'}, inplace = True)\n",
    "\n",
    "# Merging both the sales of the day and the sales of this month in the pervious year\n",
    "df_sales = df_sales.merge(df_pervious_year_sales, on ='فريق المبيعات', how = 'left')\n",
    "\n",
    "\n",
    "# getting the change of sales for each branch\n",
    "df_sales['معدل التغير عن الشهر الحالي للسنة السابقة'] = (df_sales['إجمالي المبيعات'] - df_sales['إجمالي مبيعات الشهر الحالي للسنة السابقة']) / df_sales['إجمالي مبيعات الشهر الحالي للسنة السابقة']\n",
    "df_sales.drop(columns = {'إجمالي مبيعات الشهر الحالي للسنة السابقة'}, inplace = True)\n",
    "\n",
    "\n",
    "# filling the nan values for the branches that didn't sale anything or the branches that didn't exist in the previous Month\n",
    "df_sales.fillna(0, inplace =  True)\n",
    "\n",
    "\n",
    "# sorting the branches based on their performance\n",
    "df_sales = df_sales.sort_values(by= ['إجمالي المبيعات'], ascending = False)\n",
    "df_sales.reset_index(inplace = True)\n",
    "\n",
    "\n",
    "# encoding the last column in the dataset and summarize the results of all branches \n",
    "df_sales_final = df_sales.copy()\n",
    "df_sales_final.loc['الاجمالي', 'فريق المبيعات'] =  df_sales['فريق المبيعات'].count()\n",
    "df_sales_final.loc['الاجمالي', 'معدل التغير عن الشهر السابق'] =(df_sales['إجمالي المبيعات'].sum() - df_pervious_sales['إجمالي مبيعات الشهر السابق'].sum())/ df_pervious_sales['إجمالي مبيعات الشهر السابق'].sum()\n",
    "df_sales_final.loc['الاجمالي', 'معدل التغير عن الشهر الحالي للسنة السابقة'] =(df_sales['إجمالي المبيعات'].sum() - df_pervious_year_sales['إجمالي مبيعات الشهر الحالي للسنة السابقة'].sum())/ df_pervious_year_sales['إجمالي مبيعات الشهر الحالي للسنة السابقة'].sum()\n",
    "df_sales_final.loc['الاجمالي', 'نسبة الفرع من إجمالي المبيعات'] = df_sales['نسبة الفرع من إجمالي المبيعات'].sum()\n",
    "df_sales_final.loc['الاجمالي', 'إجمالي المبيعات'] = df_sales['إجمالي المبيعات'].sum()\n",
    "df_sales_final.loc['الاجمالي', 'إجمالي المبيعات'] = df_sales['إجمالي المبيعات'].sum()\n",
    "\n",
    "# getting the order column\n",
    "df_sales_final.reset_index(inplace = True)\n",
    "df_sales_final.rename(columns = {'index': 'الترتيب'}, inplace = True)\n",
    "df_sales_final.set_index('الترتيب', inplace = True)\n",
    "\n",
    "# saving the insights in the sales report \n",
    "df_sales_final.to_excel('sales report.xlsx', sheet_name='مبيعات الفروع')"
   ]
  },
  {
   "cell_type": "markdown",
   "id": "8378bb74",
   "metadata": {},
   "source": [
    "### Profit Worksheet"
   ]
  },
  {
   "cell_type": "code",
   "execution_count": 42,
   "id": "41d881ee",
   "metadata": {},
   "outputs": [],
   "source": [
    "# Getting the profit of each branch in the company\n",
    "df_profit= pd.pivot_table(df,index=['فريق المبيعات'], values=(['profit margin']), aggfunc = 'sum')\n",
    "df_profit.rename(columns ={'profit margin':'total Profit'}, inplace = True)\n",
    "\n",
    "# Getting the branch contribution of the profit of the company\n",
    "df_profit['Profit Percent from the company'] = df_profit['total Profit']/ df_profit['total Profit'].sum()\n",
    "df_profit.rename(columns = {'total Profit': \"إجمالي الربح\"\n",
    "                           , 'Profit Percent from the company': 'نسبة الفرع من إجمالي الأرباح' },inplace = True)\n",
    "\n",
    "# Getting the vat for each branch\n",
    "df_margin_p= pd.pivot_table(df,index=['فريق المبيعات'], values=(['vat']), aggfunc = 'sum')\n",
    "df_margin_p.rename(columns ={'vat':'الربح قبل الضريبة'}, inplace = True)\n",
    "\n",
    "# Adding the vat to the profit dataframe\n",
    "df_profit = df_profit.merge(df_margin_p, on ='فريق المبيعات', how = 'left')\n",
    "\n",
    "# getting the profit margin\n",
    "df_profit['هامش الربح من المبيعات'] =df_profit['إجمالي الربح'] /  df_profit['الربح قبل الضريبة']  \n",
    "df_profit.drop(columns = {'الربح قبل الضريبة'}, inplace = True)\n",
    "\n",
    "# Getting the profit of each branch in the company in the previous month\n",
    "df_pervious_profit = pd.pivot_table(df_pervious,index=['فريق المبيعات'], values=(['profit margin']), aggfunc = 'sum')\n",
    "df_pervious_profit.rename(columns ={'profit margin':'إجمالي ربح الشهر السابق'}, inplace = True)\n",
    "\n",
    "# Merging both the profit of the day and the profit of the previous month\n",
    "df_profit = df_profit.merge(df_pervious_profit, on ='فريق المبيعات', how = 'inner')\n",
    "\n",
    "# getting the change of profit for each branch\n",
    "df_profit['معدل التغير عن الشهر السابق'] = (df_profit['إجمالي الربح'] - df_pervious_profit['إجمالي ربح الشهر السابق']) / df_pervious_profit['إجمالي ربح الشهر السابق']\n",
    "df_profit.drop(columns = {'إجمالي ربح الشهر السابق'}, inplace = True)\n",
    "\n",
    "# filling the nan values for the branches that didn't sale anything\n",
    "df_profit.fillna(0, inplace =  True)\n",
    "\n",
    "# Getting the profit of each branch in the company in the previous month\n",
    "df_perviousyear_profit = pd.pivot_table(dataset_pervious_monthyear,index=['فريق المبيعات'], values=(['profit margin']), aggfunc = 'sum')\n",
    "df_perviousyear_profit.rename(columns ={'profit margin':'إجمالي ربح الشهر الحالي للسنة السابقة'}, inplace = True)\n",
    "\n",
    "# Merging both the profit of the day and the profit of the previous month\n",
    "df_profit = df_profit.merge(df_perviousyear_profit, on ='فريق المبيعات', how = 'left')\n",
    "\n",
    "# getting the change of profit for each branch\n",
    "df_profit['معدل التغير عن الشهر الحالي للسنة السابقة'] = (df_profit['إجمالي الربح'] - df_perviousyear_profit['إجمالي ربح الشهر الحالي للسنة السابقة']) / df_perviousyear_profit['إجمالي ربح الشهر الحالي للسنة السابقة']\n",
    "df_profit.drop(columns = {'إجمالي ربح الشهر الحالي للسنة السابقة'}, inplace = True)\n",
    "\n",
    "# filling the nan values for the branches that didn't sale anything\n",
    "df_profit.fillna(0, inplace =  True)\n",
    "\n",
    "\n",
    "# sorting the branches based on their performance\n",
    "df_profit = df_profit.sort_values(by= ['إجمالي الربح'])\n",
    "df_profit.reset_index(inplace = True)\n",
    "\n",
    "# making a copy of the profit data in order to safely make changes \n",
    "df_profit_final = df_profit.copy()\n",
    "\n",
    "# encoding the last column in the dataset and summarize the results of all branches \n",
    "df_profit_final.loc['الاجمالي', 'فريق المبيعات'] =  df_profit['فريق المبيعات'].count()\n",
    "df_profit_final.loc['الاجمالي', 'معدل التغير عن الشهر السابق'] =(df_profit['إجمالي الربح'].sum() - df_pervious_profit['إجمالي ربح الشهر السابق'].sum())/ df_pervious_profit['إجمالي ربح الشهر السابق'].sum()\n",
    "df_profit_final.loc['الاجمالي', 'معدل التغير عن الشهر الحالي للسنة السابقة'] =(df_profit['إجمالي الربح'].sum() - df_perviousyear_profit['إجمالي ربح الشهر الحالي للسنة السابقة'].sum())/ df_perviousyear_profit['إجمالي ربح الشهر الحالي للسنة السابقة'].sum()\n",
    "df_profit_final.loc['الاجمالي', 'هامش الربح من المبيعات'] = df_profit['إجمالي الربح'].sum() / (df_sales['إجمالي المبيعات'].sum()/1.15)\n",
    "df_profit_final.loc['الاجمالي', 'نسبة الفرع من إجمالي الأرباح'] = df_profit['نسبة الفرع من إجمالي الأرباح'].sum()\n",
    "df_profit_final.loc['الاجمالي', 'إجمالي الربح'] = df_profit['إجمالي الربح'].sum()\n",
    "\n",
    "# getting the order column\n",
    "df_profit_final.reset_index(inplace = True)\n",
    "df_profit_final.rename(columns = {'index': 'الترتيب'}, inplace = True)\n",
    "df_profit_final.set_index('الترتيب', inplace = True)\n",
    "\n",
    "# saving the profit insights in the sales report \n",
    "with pd.ExcelWriter('sales report.xlsx', engine='openpyxl', mode='a') as writer:\n",
    "    df_profit_final.to_excel(writer, sheet_name= 'اكثر المنتجات ربحا')"
   ]
  },
  {
   "cell_type": "code",
   "execution_count": 43,
   "id": "c72d36a7",
   "metadata": {},
   "outputs": [],
   "source": [
    "# Getting the data of branches with profit margins less than 30% \n",
    "df_bad_performance = df_profit_final[df_profit_final['هامش الربح من المبيعات'] < .30]\n",
    "\n",
    "with pd.ExcelWriter('sales report.xlsx', engine='openpyxl', mode='a') as writer:\n",
    "    df_bad_performance.to_excel(writer, sheet_name= 'اقل هامش ربح')"
   ]
  },
  {
   "cell_type": "markdown",
   "id": "43404c94",
   "metadata": {},
   "source": [
    "### Categorizing The Branches "
   ]
  },
  {
   "cell_type": "code",
   "execution_count": 36,
   "id": "42f3bffe",
   "metadata": {},
   "outputs": [],
   "source": [
    "# Getting the profit and the sales for each branch\n",
    "branches_all= pd.pivot_table(df, index = ['فريق المبيعات'], values = ['Subtotal' , 'profit margin'], aggfunc = 'sum')\n",
    "branches_all.reset_index(inplace = True)\n",
    "branches_all.rename(columns = {'Subtotal': 'إجمالي المبيعات',\n",
    "                               'profit margin': 'إجمالي الربح'}, inplace = True)\n",
    "\n",
    "\n",
    "# Getting the total discounts these branches made\n",
    "total_additional_discounts =  pd.pivot_table(df_addition_discount,\n",
    "                                             index = ['فريق المبيعات'], values = ['Subtotal'], aggfunc = 'sum')\n",
    "total_additional_discounts.reset_index(inplace = True)\n",
    "total_additional_discounts.rename(columns = {'Subtotal': 'إجمالي الخصومات الاضافية'}, inplace = True)\n",
    "\n",
    "\n",
    "# Getting the number of products our branches sold\n",
    "products_varriety = pd.pivot_table(df, index = ['فريق المبيعات'], values = ['Product'], aggfunc = 'nunique')\n",
    "products_varriety.reset_index(inplace = True)\n",
    "products_varriety.rename(columns = {'Product': 'عدد المنتجات المختلفة المباعة'}, inplace = True)\n",
    "\n",
    "# add the total discounts and the number of sold products to branches_all dataframe\n",
    "branches_all = branches_all.merge(total_additional_discounts, on = 'فريق المبيعات', how = 'inner')\n",
    "branches_all = branches_all.merge(products_varriety, on = 'فريق المبيعات', how = 'inner')"
   ]
  },
  {
   "cell_type": "code",
   "execution_count": 37,
   "id": "5052141c",
   "metadata": {},
   "outputs": [
    {
     "data": {
      "text/plain": [
       "'الدرجة من 4'"
      ]
     },
     "execution_count": 37,
     "metadata": {},
     "output_type": "execute_result"
    }
   ],
   "source": [
    "# Standarizing our columns \n",
    "percent = branches_all.copy()\n",
    "y = percent['فريق المبيعات']\n",
    "percent.drop(columns = 'فريق المبيعات', inplace = True)\n",
    "Branches = list(percent.columns)\n",
    "\n",
    "# standrizing the columns of the dataframe\n",
    "for x in Branches: \n",
    "    Max_Min_Standardization(percent, x)\n",
    "\n",
    "# getting the performance indicater columns\n",
    "Degree_From(percent)"
   ]
  },
  {
   "cell_type": "code",
   "execution_count": 38,
   "id": "6a5b4280",
   "metadata": {},
   "outputs": [],
   "source": [
    "### Running the Clustering Algorithm"
   ]
  },
  {
   "cell_type": "code",
   "execution_count": 39,
   "id": "8b9d8cff",
   "metadata": {},
   "outputs": [
    {
     "name": "stderr",
     "output_type": "stream",
     "text": [
      "C:\\Users\\Rahaty Store\\anaconda3\\Lib\\site-packages\\sklearn\\cluster\\_kmeans.py:1412: FutureWarning: The default value of `n_init` will change from 10 to 'auto' in 1.4. Set the value of `n_init` explicitly to suppress the warning\n",
      "  super()._check_params_vs_input(X, default_n_init=10)\n",
      "C:\\Users\\Rahaty Store\\anaconda3\\Lib\\site-packages\\sklearn\\cluster\\_kmeans.py:1436: UserWarning: KMeans is known to have a memory leak on Windows with MKL, when there are less chunks than available threads. You can avoid it by setting the environment variable OMP_NUM_THREADS=1.\n",
      "  warnings.warn(\n"
     ]
    }
   ],
   "source": [
    "#initializing the kmeans algorithm\n",
    "kmeans = KMeans(n_clusters = 3, init = 'k-means++', random_state = 42)\n",
    "y_kmeans = kmeans.fit_predict(percent)\n"
   ]
  },
  {
   "cell_type": "markdown",
   "id": "f4b68602",
   "metadata": {},
   "source": [
    "### Visualizing The Results"
   ]
  },
  {
   "cell_type": "code",
   "execution_count": 40,
   "id": "0af5c6fa",
   "metadata": {},
   "outputs": [
    {
     "data": {
      "image/png": "[encoded data removed]",
      "text/plain": [
       "<Figure size 640x480 with 1 Axes>"
      ]
     },
     "metadata": {},
     "output_type": "display_data"
    }
   ],
   "source": [
    "# Visualizing the clusters \n",
    "X = np.array(percent)\n",
    "plt.scatter(X[y_kmeans == 0,0], X[y_kmeans == 0, 1], c = 'red', label = 'Cluster 0')\n",
    "plt.scatter(X[y_kmeans == 1, 0], X[y_kmeans == 1, 1], c = 'blue', label = 'Cluster 1')\n",
    "plt.scatter(X[y_kmeans == 2, 0], X[y_kmeans == 2, 1], c = 'green', label = 'Cluster 2')\n",
    "plt.scatter(kmeans.cluster_centers_[:, 0], kmeans.cluster_centers_[:, 1], s = 300, c = 'yellow', label = 'Centroids')\n",
    "plt.title('Clusters Of Branches') \n",
    "plt.xlabel(\"Total sales\")\n",
    "plt.ylabel(\"Total Profit\")\n",
    "plt.legend()\n",
    "plt.show()"
   ]
  },
  {
   "cell_type": "code",
   "execution_count": 41,
   "id": "d1de8d06",
   "metadata": {},
   "outputs": [],
   "source": [
    "# put the results in a column\n",
    "percent['التصنيف الشهري'] = y_kmeans\n",
    "\n",
    "# Replace the values with the appropriate category\n",
    "percent['التصنيف الشهري'].replace(categorize(kmeans.cluster_centers_[:, 1], 3), inplace = True) \n",
    "\n",
    "percent['فريق المبيعات'] = y \n",
    "#Replace the standarized values with the real values\n",
    "percent[['إجمالي المبيعات', 'إجمالي الربح','إجمالي الخصومات الاضافية', 'عدد المنتجات المختلفة المباعة']] =  branches_all[['إجمالي المبيعات', 'إجمالي الربح','إجمالي الخصومات الاضافية', 'عدد المنتجات المختلفة المباعة']]\n",
    "\n",
    "# ordering the columns\n",
    "cols_list = ['فريق المبيعات', 'إجمالي المبيعات', 'إجمالي الربح', 'إجمالي الخصومات الاضافية', 'عدد المنتجات المختلفة المباعة']\n",
    "percent[cols_list] = branches_all[cols_list].copy() \n",
    "\n",
    "#set the branches as an index\n",
    "percent.set_index('فريق المبيعات', inplace = True)\n",
    "\n",
    "# Save the report\n",
    "percent.sort_values(by = 'النسبة', ascending = False).to_excel('تصنيف الفروع.xlsx')"
   ]
  },
  {
   "cell_type": "markdown",
   "id": "5497d2af",
   "metadata": {},
   "source": [
    "## Product Reports"
   ]
  },
  {
   "cell_type": "markdown",
   "id": "dcc87b46",
   "metadata": {},
   "source": [
    "### Drop additional discounts, services, and deposits from dataframe in order to get accurate results"
   ]
  },
  {
   "cell_type": "code",
   "execution_count": 42,
   "id": "965b392b",
   "metadata": {},
   "outputs": [],
   "source": [
    "# perparing our new dataframe that we will work on \n",
    "df2 = df.copy()\n",
    "\n",
    "# In the Products report, we don't want any additional discounts, deposits, and services to appear. So, we will drop them\n",
    "df2.drop(df_addition_discount.index, inplace = True)\n",
    "df2.drop(df_services.index, errors= 'ignore', inplace = True)\n",
    "df2.drop(df_deposit.index, errors= 'ignore', inplace = True)\n",
    "\n",
    "service = df2[df2['Product'].str.contains('خدمة')]\n",
    "df2.drop(service.index, errors= 'ignore', inplace = True)\n",
    "service =df2[df2['Product'].str.contains('تركيب')]\n",
    "df2.drop(service.index, errors= 'ignore', inplace = True)\n",
    "service =df2[df2['Product'].str.contains('عربون')]\n",
    "df2.drop(service.index, errors= 'ignore', inplace = True)"
   ]
  },
  {
   "cell_type": "code",
   "execution_count": 43,
   "id": "6b0543a7",
   "metadata": {},
   "outputs": [],
   "source": [
    "# getting the returned orders and put it in a special dataframe\n",
    "return_order = df2[df2['Quantity'] < 0]\n",
    "\n",
    "# making a pivot to know the value of returned orders side by side with the quantity returned from each product \n",
    "most_return=pd.pivot_table(return_order, index = ['Barcode', 'Product'], values= ['Quantity', 'Subtotal'], aggfunc = 'sum').sort_values(by = ['Quantity'])\n",
    "most_return.reset_index(inplace = True)\n",
    "\n",
    "# changing the names of the columns \n",
    "most_return.rename(columns = {'Product': 'المنتج', 'Barcode': 'باركود',\n",
    "                    'Quantity': 'عدد الوحدات المسترجعة', \n",
    "                     'Subtotal': 'إجمالي المبيعات'}, inplace = True)\n",
    "\n",
    "# making the barcode is the index of the returned orders  \n",
    "most_return.set_index('باركود' ,inplace = True)\n",
    "\n",
    "# sorting the returned products data frame by the quantity returned and the subtotal of each product\n",
    "most_return = most_return.sort_values(by = ['عدد الوحدات المسترجعة', 'إجمالي المبيعات'])\n",
    "\n",
    "# Saving the returned products data frame\n",
    "most_return.to_excel('متراجعات.xlsx')"
   ]
  },
  {
   "cell_type": "markdown",
   "id": "e51df54b",
   "metadata": {},
   "source": [
    "### Most Sold Worksheet"
   ]
  },
  {
   "cell_type": "code",
   "execution_count": 44,
   "id": "bf61c0fb",
   "metadata": {},
   "outputs": [],
   "source": [
    "# Getting the most sold products \n",
    "df_Product_sold_units = pd.pivot_table(df2,index=['Product'], values=(['Quantity']), aggfunc = 'sum')\n",
    "df_Product_sold_units.rename(columns ={'Quantity':'Sold units'}, inplace = True)\n",
    "\n",
    "# Getting the barcode of the products\n",
    "df_Product_sold_units = df_Product_sold_units.merge(df2[['Barcode', 'Product']].drop_duplicates(), how = 'inner', on = 'Product')"
   ]
  },
  {
   "cell_type": "markdown",
   "id": "6cd9a406",
   "metadata": {},
   "source": [
    "#### Total Sales Worksheet"
   ]
  },
  {
   "cell_type": "code",
   "execution_count": 45,
   "id": "a5802303",
   "metadata": {},
   "outputs": [],
   "source": [
    "# Getting the products according to the revenues we got from selling it\n",
    "df_Product_sales = pd.pivot_table(df2,index=['Product'], values=(['Subtotal']), aggfunc = 'sum')\n",
    "\n",
    "# Change the names of our columns\n",
    "df_Product_sales.rename(columns ={'Subtotal':'Total Sales'}, inplace = True)"
   ]
  },
  {
   "cell_type": "markdown",
   "id": "57713bf2",
   "metadata": {},
   "source": [
    "#### Merging the most sold with the total sales "
   ]
  },
  {
   "cell_type": "code",
   "execution_count": 46,
   "id": "5460a005",
   "metadata": {},
   "outputs": [],
   "source": [
    "# adding the number of our sold units to our total sales column\n",
    "df_Product_sold= df_Product_sold_units.merge(df_Product_sales, how = 'inner', on = 'Product').sort_values(by = ['Sold units'])\n",
    "\n",
    "# reordering the columns for a better appearance \n",
    "df_Product_sold = df_Product_sold[['Product', 'Barcode', 'Sold units', 'Total Sales']]"
   ]
  },
  {
   "cell_type": "code",
   "execution_count": 47,
   "id": "668e9dc5",
   "metadata": {},
   "outputs": [],
   "source": [
    "product_units_sales = df_Product_sold.copy()\n",
    "product_units_sales.rename(columns = {'Product': 'المنتج', 'Barcode': 'باركود',\n",
    "                    'Sold units': 'عدد الوحدات المرتجعة', 'Total Sales': 'إجمالي المبيعات'}, inplace = True)"
   ]
  },
  {
   "cell_type": "markdown",
   "id": "9433bb9d",
   "metadata": {},
   "source": [
    "#### Save Top product according to its Sales"
   ]
  },
  {
   "cell_type": "code",
   "execution_count": 48,
   "id": "3afbe62e",
   "metadata": {},
   "outputs": [],
   "source": [
    "product_units_sales = df_Product_sold\n",
    "product_units_sales.rename(columns = {'Product': 'المنتج', 'Barcode': 'باركود',\n",
    "                    'Sold units': 'عدد الوحدات', 'Total Sales': 'إجمالي المبيعات'}, inplace = True)\n",
    "\n",
    "product_units_sales.set_index('باركود', inplace = True)\n",
    "product_units_sales.sort_values(by= 'إجمالي المبيعات', ascending = False).head(20).to_excel('Products report.xlsx',\n",
    "                                                                                            sheet_name= 'اكثر المنتجات من حيث القيمة')"
   ]
  },
  {
   "cell_type": "markdown",
   "id": "6e736282",
   "metadata": {},
   "source": [
    "#### Save Top product according to its sold units"
   ]
  },
  {
   "cell_type": "code",
   "execution_count": 49,
   "id": "02452925",
   "metadata": {},
   "outputs": [],
   "source": [
    "with pd.ExcelWriter('Products report.xlsx', engine='openpyxl', mode='a') as writer:\n",
    "    product_units_sales.sort_values(by= 'عدد الوحدات', ascending = False).head(20).to_excel(writer, sheet_name= 'اكثر المنتجات مبيعا')"
   ]
  },
  {
   "cell_type": "markdown",
   "id": "89ad3477",
   "metadata": {},
   "source": [
    "#### Save most returned products "
   ]
  },
  {
   "cell_type": "code",
   "execution_count": 50,
   "id": "781c7f49",
   "metadata": {},
   "outputs": [],
   "source": [
    "# save Returned products \n",
    "with pd.ExcelWriter('Products report.xlsx', engine='openpyxl', mode='a') as writer:\n",
    "    most_return.head(20).to_excel(writer, sheet_name= 'اكثر المنتجات ارجاعا')"
   ]
  },
  {
   "cell_type": "markdown",
   "id": "a5aa78e3",
   "metadata": {},
   "source": [
    "#### Save least product sales according to its sold units"
   ]
  },
  {
   "cell_type": "code",
   "execution_count": 52,
   "id": "12f84a1f",
   "metadata": {},
   "outputs": [],
   "source": [
    "least_products = product_units_sales[product_units_sales['عدد الوحدات'] > 0]\n",
    "with pd.ExcelWriter('Products report.xlsx', engine='openpyxl', mode='a') as writer:\n",
    "    least_products.sort_values(by= ['عدد الوحدات', 'إجمالي المبيعات']).head(20).to_excel(writer, sheet_name= 'اقل المنتجات مبيعا')"
   ]
  },
  {
   "cell_type": "markdown",
   "id": "9cba4edb",
   "metadata": {},
   "source": [
    "#### Save least product according to its Sales"
   ]
  },
  {
   "cell_type": "code",
   "execution_count": 53,
   "id": "650856a8",
   "metadata": {},
   "outputs": [
    {
     "name": "stderr",
     "output_type": "stream",
     "text": [
      "C:\\Users\\Rahaty Store\\anaconda3\\Lib\\site-packages\\openpyxl\\workbook\\child.py:99: UserWarning: Title is more than 31 characters. Some applications may not be able to read the file\n",
      "  warnings.warn(\"Title is more than 31 characters. Some applications may not be able to read the file\")\n"
     ]
    }
   ],
   "source": [
    "with pd.ExcelWriter('Products report.xlsx', engine='openpyxl', mode='a') as writer:\n",
    "    least_products[least_products['إجمالي المبيعات'] > 0].sort_values(by= ['إجمالي المبيعات']).head(20).to_excel(writer, sheet_name= 'اقل المنتجات مبيعا من حيث القيمة')"
   ]
  },
  {
   "cell_type": "markdown",
   "id": "54e39211",
   "metadata": {},
   "source": [
    "#### Top products accroding to its profit"
   ]
  },
  {
   "cell_type": "code",
   "execution_count": 54,
   "id": "ac0b0c37",
   "metadata": {},
   "outputs": [
    {
     "name": "stderr",
     "output_type": "stream",
     "text": [
      "C:\\Users\\Rahaty Store\\anaconda3\\Lib\\site-packages\\openpyxl\\workbook\\child.py:99: UserWarning: Title is more than 31 characters. Some applications may not be able to read the file\n",
      "  warnings.warn(\"Title is more than 31 characters. Some applications may not be able to read the file\")\n"
     ]
    }
   ],
   "source": [
    "df_Product_profit = pd.pivot_table(df2,index=['Product'], values=(['profit margin']), aggfunc = 'sum')\n",
    "df_Product_profit.rename(columns ={'profit margin':'Total profit'}, inplace = True)\n",
    "\n",
    "# adding the sold units columns in the dataframe of the profit\n",
    "df_Product_profit = df_Product_sold_units.merge(df_Product_profit, how = 'inner', on = 'Product').sort_values(by = ['Sold units'])\n",
    "df_Product_profit.rename(columns = {'Product': 'المنتج', 'Barcode': 'باركود',\n",
    "                    'Sold units': 'عدد الوحدات المرتجعة', 'Total profit': 'إجمالي الربح'}, inplace = True)\n",
    "\n",
    "# Setting the product and its barcode as an index to our dataframe\n",
    "df_Product_profit.set_index(['باركود', 'المنتج'], inplace = True)\n",
    "\n",
    "#saving the top profit products as a worksheet in the excel file \"products reports\"  \n",
    "with pd.ExcelWriter('Products report.xlsx', engine='openpyxl', mode='a') as writer:\n",
    "    df_Product_profit.sort_values(by= 'إجمالي الربح', ascending = False).head(20).to_excel(writer, sheet_name= 'اكثر المنتجات ربحا')"
   ]
  },
  {
   "cell_type": "markdown",
   "id": "be280b8c",
   "metadata": {},
   "source": [
    "## Service Report"
   ]
  },
  {
   "cell_type": "markdown",
   "id": "ede8b5e2",
   "metadata": {},
   "source": [
    "#### Aggregate products based on sold units"
   ]
  },
  {
   "cell_type": "code",
   "execution_count": 55,
   "id": "11193601",
   "metadata": {},
   "outputs": [],
   "source": [
    "df_services_sold_units = pd.pivot_table(df_services,index=['Product'], values=(['Quantity']), aggfunc = 'sum')\n",
    "df_services_sold_units.rename(columns ={'Quantity':'Sold units'}, inplace = True)\n",
    "\n",
    "#add the barcodes to the products in our dataframe\n",
    "df_services_sold_units = df_services_sold_units.merge(df[['Barcode', 'Product']].drop_duplicates(), how = 'inner', on = 'Product')"
   ]
  },
  {
   "cell_type": "markdown",
   "id": "638ea2d2",
   "metadata": {},
   "source": [
    "#### Aggregate services based on our sold units\n"
   ]
  },
  {
   "cell_type": "code",
   "execution_count": 56,
   "id": "b7867d7b",
   "metadata": {},
   "outputs": [],
   "source": [
    "df_services_sales = pd.pivot_table(df_services,index=['Product'], values=(['Subtotal']), aggfunc = 'sum')\n",
    "df_services_sales.rename(columns ={'Subtotal':'Total Sales'}, inplace = True)"
   ]
  },
  {
   "cell_type": "markdown",
   "id": "cfcee04d",
   "metadata": {},
   "source": [
    "#### Save all products ordered by its sales "
   ]
  },
  {
   "cell_type": "code",
   "execution_count": 57,
   "id": "3da0f62e",
   "metadata": {},
   "outputs": [
    {
     "name": "stderr",
     "output_type": "stream",
     "text": [
      "C:\\Users\\Rahaty Store\\anaconda3\\Lib\\site-packages\\openpyxl\\workbook\\child.py:99: UserWarning: Title is more than 31 characters. Some applications may not be able to read the file\n",
      "  warnings.warn(\"Title is more than 31 characters. Some applications may not be able to read the file\")\n"
     ]
    }
   ],
   "source": [
    "# adding the sold units column to the total sales column\n",
    "df_service_sold= df_services_sold_units.merge(df_services_sales, how = 'inner', on = 'Product').sort_values(by = ['Sold units'])\n",
    "\n",
    "#For better appearance\n",
    "df_service_sold = df_service_sold[['Product', 'Barcode', 'Sold units', 'Total Sales']]\n",
    "\n",
    "# renaming our columns\n",
    "df_service_sold.rename(columns = {'Product': 'الخدمة', 'Barcode': 'باركود',\n",
    "                    'Sold units': 'عدد مرات طلب الخدمة', 'Total Sales': 'إجمالي المبيعات'}, inplace = True)\n",
    "\n",
    "# setting the service as an index\n",
    "df_service_sold.set_index('الخدمة', inplace = True)\n",
    "\n",
    "# saving our report\n",
    "with pd.ExcelWriter('Products report.xlsx', engine='openpyxl', mode='a') as writer:\n",
    "    df_service_sold.sort_values(by= 'إجمالي المبيعات', ascending = False).to_excel(writer, sheet_name= 'ااكثر الخدمات طلبا')"
   ]
  },
  {
   "cell_type": "markdown",
   "id": "44b5d957",
   "metadata": {},
   "source": [
    "# Employees Reports"
   ]
  },
  {
   "cell_type": "markdown",
   "id": "822b3c03",
   "metadata": {},
   "source": [
    "#### Perpare the dataFrame we will work with "
   ]
  },
  {
   "cell_type": "code",
   "execution_count": 58,
   "id": "adfeb2f7",
   "metadata": {},
   "outputs": [],
   "source": [
    "# Setting the quantity column for all additional discounts to zero\n",
    "df_addition_discount.loc[ : ,'Quantity'] = 0\n",
    "df3 =df.copy()\n",
    "df3.loc[list(df_addition_discount.index) ,'Quantity'] = 0\n",
    "\n",
    "# Removve the deposits and services from the dataframe\n",
    "df3.drop(df_services.index, errors= 'ignore', inplace = True)\n",
    "df3.drop(df_deposit.index, errors= 'ignore', inplace = True)\n",
    "\n",
    "\n",
    "service = df3[df3['Product'].str.contains('خدمة')]\n",
    "df3.drop(service.index, errors= 'ignore', inplace = True)\n",
    "service =df3[df3['Product'].str.contains('تركيب')]\n",
    "df3.drop(service.index, errors= 'ignore', inplace = True)\n",
    "service =df3[df3['Product'].str.contains('عربون')]\n",
    "df3.drop(service.index, errors= 'ignore', inplace = True)"
   ]
  },
  {
   "cell_type": "markdown",
   "id": "81fbb160",
   "metadata": {},
   "source": [
    "#### Remove the Websites sales"
   ]
  },
  {
   "cell_type": "code",
   "execution_count": 59,
   "id": "5f9c9a67",
   "metadata": {},
   "outputs": [],
   "source": [
    "xx = df3[df3['فريق المبيعات'] == 'مبيعات نقاط بيع متجر راحتي الالكتروني']\n",
    "df3.drop(xx.index, axis = 0, inplace = True)\n",
    "xx = df3[df3['فريق المبيعات'] == 'المتجر الإلكتروني']\n",
    "df3.drop(xx.index, axis = 0, inplace = True)\n",
    "xx = df3[df3['فريق المبيعات'] == 'راحتي الالكتروني']\n",
    "df3.drop(xx.index, axis = 0, inplace = True)\n",
    "\n"
   ]
  },
  {
   "cell_type": "code",
   "execution_count": 60,
   "id": "e198dfea",
   "metadata": {},
   "outputs": [],
   "source": [
    "xx = df3[df3['فريق المبيعات'] == 'قصر البيان الإلكتروني']\n",
    "df3.drop(xx.index, axis = 0, inplace = True)\n",
    "xx = df3[df3['فريق المبيعات'] == 'الموقع تبوك']\n",
    "df3.drop(xx.index, axis = 0, inplace = True)"
   ]
  },
  {
   "cell_type": "markdown",
   "id": "fa75a43f",
   "metadata": {},
   "source": [
    "#### Remove Branch Whatsup accounts from employees"
   ]
  },
  {
   "cell_type": "code",
   "execution_count": 61,
   "id": "2a119f60",
   "metadata": {},
   "outputs": [],
   "source": [
    "df3.drop(df3[df3['Order Ref/Cashier'].isna()].index, inplace = True)\n",
    "whatsup = df3[df3['Order Ref/Cashier'].str.contains('واتس')]\n",
    "df3.drop(whatsup.index, inplace = True)\n",
    "cashier = df3[df3['Order Ref/Cashier'].str.contains('كاشير')]\n",
    "df3.drop(cashier.index, inplace = True)\n"
   ]
  },
  {
   "cell_type": "markdown",
   "id": "544022c8",
   "metadata": {},
   "source": [
    "##### Employees Sold unit"
   ]
  },
  {
   "cell_type": "code",
   "execution_count": 62,
   "id": "e1d57452",
   "metadata": {},
   "outputs": [],
   "source": [
    "Employee_sold_units = pd.pivot_table(df3,index=['Order Ref/Cashier'], values=(['Quantity']), aggfunc = 'sum')\n",
    "Employee_sold_units.rename(columns ={'Quantity':'Sold units'}, inplace = True)\n",
    "df_Employee_sold_units= Employee_sold_units.merge(df3[['فريق المبيعات',\n",
    "                                                'Order Ref/Cashier']].drop_duplicates(), on ='Order Ref/Cashier', how= 'inner')"
   ]
  },
  {
   "cell_type": "markdown",
   "id": "a6d39078",
   "metadata": {},
   "source": [
    "##### solve the problem of the movement of salesmen from one branch to another at the same week"
   ]
  },
  {
   "cell_type": "code",
   "execution_count": 63,
   "id": "c0e8b2d3",
   "metadata": {},
   "outputs": [],
   "source": [
    "# Aggregating all branches each employee worked for\n",
    "emp_duplicates_df = pd.DataFrame(df_Employee_sold_units.groupby('Order Ref/Cashier')['فريق المبيعات'].apply(lambda x: list(x)))\n",
    "emp_duplicates_df.reset_index(inplace = True)\n",
    "\n",
    "# Mereging the emp_duplicates dataframe with the Employee_sold_units dataframe \n",
    "emp_duplicates_df = emp_duplicates_df.merge(Employee_sold_units, on ='Order Ref/Cashier', how= 'inner')\n",
    "emp_duplicates_df = emp_duplicates_df[['Order Ref/Cashier', 'Sold units', 'فريق المبيعات']]"
   ]
  },
  {
   "cell_type": "code",
   "execution_count": 64,
   "id": "af2d5ac7",
   "metadata": {},
   "outputs": [],
   "source": [
    "list_employee_cor = []\n",
    "employee_dup_index = []\n",
    "employee_dup_indexes = list(df_Employee_sold_units[df_Employee_sold_units['Order Ref/Cashier'].duplicated()].index)\n",
    "employee_dup_names = df_Employee_sold_units.loc[employee_dup_indexes, 'Order Ref/Cashier']\n",
    "\n",
    "# Getting the employees that worked in more than branc from emp_duplicates dataframe\n",
    "for e in employee_dup_names:\n",
    "    list_employee_cor.append(emp_duplicates_df[emp_duplicates_df['Order Ref/Cashier'] == e].index[0])\n",
    "\n",
    "# Getting the employees that worked in more than branch from df_Employee_sold_units dataframe    \n",
    "for u in range(0, len(employee_dup_indexes)):\n",
    "    employee_dup_index.append(employee_dup_indexes[u])    \n",
    "\n",
    "# corecting the duplicates in the df_Employee_sold_units dataframe\n",
    "for i in range(0 , len(list_employee_cor)):\n",
    "    o = list_employee_cor[i]\n",
    "    p = employee_dup_index[i]\n",
    "    df_Employee_sold_units.loc[p, 'فريق المبيعات'] = str(emp_duplicates_df.loc[o, 'فريق المبيعات'])\n",
    "\n",
    "# Dropping the duplicates so that our data frame becomes ready for our analysis\n",
    "df_Employee_sold_units.drop_duplicates(subset = ['Order Ref/Cashier'], keep = 'last', inplace = True)"
   ]
  },
  {
   "cell_type": "markdown",
   "id": "2fc0d320",
   "metadata": {},
   "source": [
    "## Employees Sales Report"
   ]
  },
  {
   "cell_type": "code",
   "execution_count": 65,
   "id": "d71db11a",
   "metadata": {},
   "outputs": [],
   "source": [
    "# aggregating the sales for each employee\n",
    "df_Employee_sales= pd.pivot_table(df,index=['Order Ref/Cashier'],values=(['Subtotal']), aggfunc = 'sum')\n",
    "df_Employee_sales.rename(columns ={'Subtotal':'total sales'}, inplace = True)\n",
    "\n",
    "# add the sold units column for each employee and remove the duplicates by 'inner'\n",
    "df_Employee_sales = df_Employee_sales.merge(df_Employee_sold_units, on= 'Order Ref/Cashier', how = 'inner')\n",
    "\n",
    "# Ordering the columns of our dataframe for better appearance\n",
    "df_Employee_sales = df_Employee_sales[['Order Ref/Cashier', 'فريق المبيعات', 'Sold units', 'total sales']]\n",
    "df_Employee_sales.sort_values(by= 'total sales', ascending = False).head(10)\n",
    "df_Employee_sales.rename(columns = {\"Order Ref/Cashier\": 'موظف المبيعات',\n",
    "                          'Sold units': 'عدد الوحدات المباعة', \n",
    "                          'total sales': 'اجمالي المبيعات'}, inplace = True)"
   ]
  },
  {
   "cell_type": "markdown",
   "id": "3246be1d",
   "metadata": {},
   "source": [
    "#### Save top seller employees according to sold units"
   ]
  },
  {
   "cell_type": "code",
   "execution_count": 66,
   "id": "31bc2878",
   "metadata": {},
   "outputs": [],
   "source": [
    "# aggregating the sold units for each employee\n",
    "Most_sold= pd.pivot_table(df3,index=['Order Ref/Cashier'], values=(['Subtotal']), aggfunc = 'sum')\n",
    "Most_sold.rename(columns ={'Subtotal':'total sales'}, inplace = True)\n",
    "\n",
    "# remove the duplicates \n",
    "Most_sold = Most_sold.merge(df_Employee_sold_units, on= 'Order Ref/Cashier', how = 'inner')\n",
    "\n",
    "# Ordering the columns of our dataframe for better appearance\n",
    "Most_sold = Most_sold[['Order Ref/Cashier', 'فريق المبيعات', 'Sold units', 'total sales']]\n",
    "Most_sold.sort_values(by= 'total sales', ascending = False).head(10)\n",
    "\n",
    "# Renaming the columns for better readability\n",
    "Most_sold.rename(columns = {\"Order Ref/Cashier\": 'موظف المبيعات',\n",
    "                          'Sold units': 'عدد الوحدات المباعة', \n",
    "                          'total sales': 'اجمالي المبيعات'}, inplace = True)\n",
    "\n",
    "# Set the employees column as an index\n",
    "Most_sold.set_index('موظف المبيعات', inplace = True)\n",
    "\n",
    "# sace the top 10 seller employees accroding to their sold units\n",
    "Most_sold.sort_values(by= 'عدد الوحدات المباعة', ascending = False).head(10).to_excel('Employees report.xlsx',\n",
    "                                                                                    sheet_name='اكثر الموظفين بيعا')"
   ]
  },
  {
   "cell_type": "markdown",
   "id": "cfd9695d",
   "metadata": {},
   "source": [
    "#### Save least seller employees"
   ]
  },
  {
   "cell_type": "code",
   "execution_count": 67,
   "id": "6b7a1265",
   "metadata": {},
   "outputs": [],
   "source": [
    "# aggregating the returned products for each employee\n",
    "most_return= pd.pivot_table(df3[df3['Quantity'] < 0],index=['Order Ref/Cashier'], values=['Subtotal', 'Quantity'], aggfunc = 'sum')\n",
    "most_return = most_return.merge(df_Employee_sold_units[['Order Ref/Cashier', 'فريق المبيعات']], on= 'Order Ref/Cashier', how = 'inner')\n",
    "\n",
    "# Rename the columns for better readability\n",
    "most_return.rename(columns = {'Quantity': 'عدد الوحدات المسترجعة',                              \n",
    "                              'Subtotal': 'اجمالي المبلغ',\n",
    "                   'Order Ref/Cashier': 'موظف المبيعات',\n",
    "                   'Sold units': 'عدد الوحدات المسترجعة'}, inplace = True)\n",
    "\n",
    "\n",
    "# Set the employees column as an index\n",
    "most_return.set_index('موظف المبيعات', inplace = True)\n",
    "\n",
    "# sace the top 10 seller employees accroding to their returned products\n",
    "with pd.ExcelWriter('Employees report.xlsx', engine='openpyxl', mode='a') as writer:\n",
    "    most_return.sort_values(by= ['عدد الوحدات المسترجعة', 'اجمالي المبلغ'], ascending = True).head(10).to_excel(writer, sheet_name= 'اكثر الموظفين ارجاعا')"
   ]
  },
  {
   "cell_type": "markdown",
   "id": "dcaaf760",
   "metadata": {},
   "source": [
    "#### Save top seller employees according to amount of money Gained "
   ]
  },
  {
   "cell_type": "code",
   "execution_count": 68,
   "id": "5e639db8",
   "metadata": {},
   "outputs": [
    {
     "name": "stderr",
     "output_type": "stream",
     "text": [
      "C:\\Users\\Rahaty Store\\anaconda3\\Lib\\site-packages\\openpyxl\\workbook\\child.py:99: UserWarning: Title is more than 31 characters. Some applications may not be able to read the file\n",
      "  warnings.warn(\"Title is more than 31 characters. Some applications may not be able to read the file\")\n"
     ]
    }
   ],
   "source": [
    "# sace the top 10 seller employees accroding to their sales\n",
    "with pd.ExcelWriter('Employees report.xlsx', engine='openpyxl', mode='a') as writer:\n",
    "    df_Employee_sales.set_index('موظف المبيعات', inplace = True)\n",
    "    df_Employee_sales.sort_values(by= 'اجمالي المبيعات', ascending = False).head(10).to_excel(writer, sheet_name= 'اكثر الموظفين مبيعا من حيث القيمة')\n",
    "    "
   ]
  },
  {
   "cell_type": "markdown",
   "id": "490facd6",
   "metadata": {},
   "source": [
    "#### Save least seller employees according to amount of money Gained "
   ]
  },
  {
   "cell_type": "code",
   "execution_count": 69,
   "id": "55e48637",
   "metadata": {},
   "outputs": [
    {
     "name": "stderr",
     "output_type": "stream",
     "text": [
      "C:\\Users\\Rahaty Store\\AppData\\Local\\Temp\\ipykernel_6228\\970185673.py:7: SettingWithCopyWarning: \n",
      "A value is trying to be set on a copy of a slice from a DataFrame\n",
      "\n",
      "See the caveats in the documentation: https://pandas.pydata.org/pandas-docs/stable/user_guide/indexing.html#returning-a-view-versus-a-copy\n",
      "  least_seller.drop(whatsup, inplace = True)\n",
      "C:\\Users\\Rahaty Store\\anaconda3\\Lib\\site-packages\\openpyxl\\workbook\\child.py:99: UserWarning: Title is more than 31 characters. Some applications may not be able to read the file\n",
      "  warnings.warn(\"Title is more than 31 characters. Some applications may not be able to read the file\")\n"
     ]
    }
   ],
   "source": [
    "# getting all the employees that sold more than one order\n",
    "least_seller= df_Employee_sales[df_Employee_sales['اجمالي المبيعات'] > 0]\n",
    "least_seller.reset_index(inplace = True)\n",
    "\n",
    "# Removing the whatsup value from the dataframe\n",
    "whatsup= list(least_seller[least_seller['موظف المبيعات'].str.contains('واتس')].index)\n",
    "least_seller.drop(whatsup, inplace = True)\n",
    "\n",
    "# Set the employees column as an index\n",
    "least_seller.set_index('موظف المبيعات', inplace = True)\n",
    "\n",
    "# sace the least 10 employees accroding to their sales\n",
    "with pd.ExcelWriter('Employees report.xlsx', engine='openpyxl', mode='a') as writer:\n",
    "    least_seller.sort_values(by='اجمالي المبيعات').head(10).to_excel(writer, sheet_name= 'اقل الموظفين مبيعا من حيث القيمة')\n",
    "    "
   ]
  },
  {
   "cell_type": "markdown",
   "id": "1335b024",
   "metadata": {},
   "source": [
    "### Best Employee In Each Branch"
   ]
  },
  {
   "cell_type": "code",
   "execution_count": 70,
   "id": "23e06f10",
   "metadata": {},
   "outputs": [],
   "source": [
    "#parpare the table of the whole employees allowing duplication for the salesmen who sell in two places\n",
    "Best_employees = pd.pivot_table(df3,index=['فريق المبيعات','Order Ref/Cashier'], values=['Quantity'], aggfunc = 'sum')\n",
    "Best_employees.reset_index(inplace = True)\n",
    "\n",
    "# aggregating the sales for each employee\n",
    "Best_employees_total = pd.pivot_table(df,index=['فريق المبيعات','Order Ref/Cashier'], values=['Subtotal'], aggfunc = 'sum')\n",
    "Best_employees_total.reset_index(inplace = True)\n",
    "\n",
    "#adding the sold units column\n",
    "Best_employees = Best_employees.merge(Best_employees_total, on =['فريق المبيعات','Order Ref/Cashier'], how = 'inner')\n",
    "\n",
    "# Renaming the columns for better readability\n",
    "Best_employees.rename(columns = {'Quantity': 'عدد الوحدات',\n",
    "                   'Subtotal': 'اجمالي المبيعات',\n",
    "                   'Order Ref/Cashier': 'الموظف'}, inplace = True)\n",
    "\n",
    "# perparing the data dataframe that will store the best employee in eaach branch\n",
    "df_best_per_branch = pd.DataFrame()\n",
    "\n",
    "#getting the list of branches we have\n",
    "listbranches = list(Best_employees['فريق المبيعات'].unique())\n",
    "\n",
    "\n",
    "# getting the top seller in each branch \n",
    "for b in listbranches:\n",
    "    df_best_per_branch = pd.concat([df_best_per_branch, Best_employees[Best_employees['فريق المبيعات'] == b].set_index('الموظف').sort_values(by = 'اجمالي المبيعات', ascending = False).head(1)])"
   ]
  },
  {
   "cell_type": "markdown",
   "id": "2fc79265",
   "metadata": {},
   "source": [
    "#### Save the top seller employee in each branch "
   ]
  },
  {
   "cell_type": "code",
   "execution_count": 71,
   "id": "35b6993c",
   "metadata": {},
   "outputs": [
    {
     "name": "stderr",
     "output_type": "stream",
     "text": [
      "C:\\Users\\Rahaty Store\\anaconda3\\Lib\\site-packages\\openpyxl\\workbook\\child.py:99: UserWarning: Title is more than 31 characters. Some applications may not be able to read the file\n",
      "  warnings.warn(\"Title is more than 31 characters. Some applications may not be able to read the file\")\n"
     ]
    }
   ],
   "source": [
    "with pd.ExcelWriter('Employees report.xlsx', engine='openpyxl', mode='a') as writer:\n",
    "    df_best_per_branch.to_excel(writer, sheet_name= 'افضل بائع في كل فرع')"
   ]
  },
  {
   "cell_type": "markdown",
   "id": "04c9f14f",
   "metadata": {},
   "source": [
    "### Ordering the employees acccording to their branches and their sales amount of money"
   ]
  },
  {
   "cell_type": "code",
   "execution_count": 72,
   "id": "2af6d542",
   "metadata": {},
   "outputs": [],
   "source": [
    "#getting the list of branches we have\n",
    "Branches = list(df3['فريق المبيعات'].unique())\n",
    "\n",
    "# perparing the data dataframe that will store the best employee in eaach branch\n",
    "df_branch_emp = pd.DataFrame()\n",
    "\n",
    "# put the best employees in the df_branch_emp dataframe\n",
    "for b in listbranches:\n",
    "    df_branch_emp = pd.concat([df_branch_emp, Best_employees[Best_employees['فريق المبيعات'] == b].sort_values(by = 'اجمالي المبيعات', ascending = False)])\n",
    "\n",
    "# aggregating the sales for each employee\n",
    "total_branch_sales = pd.DataFrame(pd.pivot_table(df, index=['فريق المبيعات'], values=(['Subtotal']), aggfunc = 'sum'))\n",
    "df_best_per_branch = df_branch_emp.merge(total_branch_sales, how ='inner', on = 'فريق المبيعات')\n",
    "\n",
    "# calculating the percent of sales column\n",
    "df_best_per_branch['نسبة البيع من اجمالي المبيعات'] = df_best_per_branch['اجمالي المبيعات'] / df_best_per_branch['Subtotal'] \n",
    "df_best_per_branch.drop(columns = 'Subtotal', inplace = True )\n",
    "df_best_per_branch.to_excel('Employees per Branch.xlsx')\n",
    "\n",
    "#storing each branch employees in a worksheet in the excel file\n",
    "for b in Branches:\n",
    "    data = df_best_per_branch[df_best_per_branch['فريق المبيعات'] == b]\n",
    "    data.set_index('الموظف', inplace = True)\n",
    "    with pd.ExcelWriter('Employees per Branch.xlsx', engine='openpyxl', mode='a') as writer:\n",
    "        data.sort_values(by= 'اجمالي المبيعات', ascending = False).head(10).to_excel(writer, sheet_name= b) "
   ]
  },
  {
   "cell_type": "markdown",
   "id": "29e37498",
   "metadata": {},
   "source": [
    "## Employees Profit Report"
   ]
  },
  {
   "cell_type": "code",
   "execution_count": 73,
   "id": "fbab44df",
   "metadata": {},
   "outputs": [],
   "source": [
    "# aggregating the porfit for each employee\n",
    "df_Employee_profit= pd.pivot_table(df,index=['Order Ref/Cashier'], values=(['profit margin']), aggfunc = 'sum')\n",
    "df_Employee_profit.rename(columns ={'profit margin':'total profit'}, inplace = True)\n",
    "\n",
    "#adding the sold units column\n",
    "df_Employee_profit = df_Employee_profit.merge(df_Employee_sold_units, on= 'Order Ref/Cashier', how = 'inner')\n",
    "\n",
    "# Ordering the columns of our dataframe for better appearance\n",
    "df_Employee_profit = df_Employee_profit[['Order Ref/Cashier', 'فريق المبيعات', 'Sold units', 'total profit']]\n",
    "\n",
    "# Set the profit column as an index\n",
    "df_Employee_profit.sort_values(by= 'total profit', ascending = False)\n",
    "\n",
    "# Renaming the columns for better readability\n",
    "df_Employee_profit.rename(columns = {\"Order Ref/Cashier\": 'موظف المبيعات',\n",
    "                          'Sold units': 'عدد الوحدات المباعة', \n",
    "                          'total profit': 'اجمالي الربح'}, inplace = True)"
   ]
  },
  {
   "cell_type": "markdown",
   "id": "1f1634e0",
   "metadata": {},
   "source": [
    "#### Save top total sales\n"
   ]
  },
  {
   "cell_type": "code",
   "execution_count": 74,
   "id": "f8d02ce8",
   "metadata": {},
   "outputs": [
    {
     "name": "stderr",
     "output_type": "stream",
     "text": [
      "C:\\Users\\Rahaty Store\\anaconda3\\Lib\\site-packages\\openpyxl\\workbook\\child.py:99: UserWarning: Title is more than 31 characters. Some applications may not be able to read the file\n",
      "  warnings.warn(\"Title is more than 31 characters. Some applications may not be able to read the file\")\n"
     ]
    }
   ],
   "source": [
    "with pd.ExcelWriter('Employees report.xlsx', engine='openpyxl', mode='a') as writer:\n",
    "    df_Employee_profit.set_index('موظف المبيعات', inplace = True)\n",
    "    df_Employee_profit.sort_values(by= 'اجمالي الربح', ascending = False).head(10).to_excel(writer, sheet_name= 'اكثر الموظفين من حيث الربح')"
   ]
  },
  {
   "cell_type": "markdown",
   "id": "f2823130",
   "metadata": {},
   "source": [
    "## Employees Clustering Report"
   ]
  },
  {
   "cell_type": "markdown",
   "id": "454a7a91",
   "metadata": {},
   "source": [
    "### Calculating the variety measure "
   ]
  },
  {
   "cell_type": "code",
   "execution_count": 75,
   "id": "bcb6009f",
   "metadata": {},
   "outputs": [],
   "source": [
    "# Calculating the number of categories each employee sold at least one product from\n",
    "var =  pd.DataFrame(df3.groupby(['Order Ref/Cashier', 'Cat1'])['Cat1'].nunique())\n",
    "var.rename(columns = {'Cat1': 'عدد الوحدات المباعة'}, inplace = True)\n",
    "var.reset_index(inplace = True)\n",
    "values_list = []\n",
    "employees_nameslist= list(var['Order Ref/Cashier'].unique())\n",
    "\n",
    "# Calculating the variety for each employee and put it in the values_list\n",
    "for n in employees_nameslist:\n",
    "    df_temp = var[var['Order Ref/Cashier'] == n]\n",
    "    val = (1- (df_temp['عدد الوحدات المباعة'].max() /  df_temp['عدد الوحدات المباعة'].sum()))\n",
    "    values_list.append(val)"
   ]
  },
  {
   "cell_type": "code",
   "execution_count": 76,
   "id": "ba2da65a",
   "metadata": {},
   "outputs": [],
   "source": [
    "# take a copy of the var dataframe and delete the number of sold units\n",
    "variety = var.copy()\n",
    "variety.drop(columns = {'Cat1', 'عدد الوحدات المباعة'}, inplace = True)\n",
    "variety.drop_duplicates(inplace = True)\n",
    "\n",
    "# put the variety measure in the variety dataframe\n",
    "variety['مقياس التنوع'] = values_list\n",
    "\n",
    "# Renaming the columns for better readability\n",
    "variety.rename(columns = {'Order Ref/Cashier': 'موظف المبيعات'}, inplace = True)"
   ]
  },
  {
   "cell_type": "markdown",
   "id": "69a8653a",
   "metadata": {},
   "source": [
    "### Calculating all the factors, we will assess the salesmen based on"
   ]
  },
  {
   "cell_type": "code",
   "execution_count": 77,
   "id": "8287133d",
   "metadata": {},
   "outputs": [],
   "source": [
    "work_days= pd.pivot_table(df3,\n",
    "                          index = ['Order Ref/Cashier'],\n",
    "                          values = ['day'],\n",
    "                          aggfunc = 'nunique')\n",
    "work_days.reset_index(inplace = True)\n",
    "work_days.rename(columns = {'Order Ref/Cashier':'موظف المبيعات',\n",
    "                               'day': 'عدد ايام العمل'}, inplace = True)\n",
    "\n",
    "profit= pd.pivot_table(df3,\n",
    "                       index = ['Order Ref/Cashier'],\n",
    "                       values = ['profit margin'],\n",
    "                       aggfunc = 'sum')\n",
    "profit.reset_index(inplace = True)\n",
    "profit.rename(columns = {'Order Ref/Cashier':'موظف المبيعات',\n",
    "                               'profit margin': 'الربح'}, inplace = True)\n",
    "\n",
    "\n",
    "mean_profit= pd.pivot_table(df3,\n",
    "                       index = ['Order Ref/Cashier'],\n",
    "                       values = ['profit margin'],\n",
    "                       aggfunc = 'mean')\n",
    "mean_profit.reset_index(inplace = True)\n",
    "mean_profit.rename(columns = {'Order Ref/Cashier':'موظف المبيعات',\n",
    "                              'profit margin': 'متوسط الربح اليومي'}, inplace = True)\n",
    "\n",
    "\n",
    "\n",
    "total_discounts= pd.pivot_table(df3,\n",
    "                       index = ['Order Ref/Cashier'],\n",
    "                       values = ['Total discount'],\n",
    "                       aggfunc = 'sum')\n",
    "total_discounts.reset_index(inplace = True)\n",
    "total_discounts.rename(columns = {'Order Ref/Cashier':'موظف المبيعات',\n",
    "                              'Total discount': 'إجمالي الخصم'}, inplace = True)\n",
    "\n",
    "\n",
    "\n",
    "variety_products= pd.pivot_table(df3,\n",
    "                       index = ['Order Ref/Cashier'],\n",
    "                       values = ['Product'],\n",
    "                       aggfunc = 'nunique')\n",
    "variety_products.reset_index(inplace = True)\n",
    "variety_products.rename(columns = {'Order Ref/Cashier':'موظف المبيعات',\n",
    "                              'Product': 'عدد الاصناف المباعة'}, inplace = True)\n",
    "\n",
    "\n",
    "variety_cat= pd.pivot_table(df3,\n",
    "                       index = ['Order Ref/Cashier'],\n",
    "                       values = ['cat3'],\n",
    "                       aggfunc = 'nunique')\n",
    "variety_cat.reset_index(inplace = True)\n",
    "variety_cat.rename(columns = {'Order Ref/Cashier':'موظف المبيعات',\n",
    "                              'cat3': 'عدد الفئات المباعة'}, inplace = True)\n",
    "\n",
    "\n",
    "\n",
    "total_cost= pd.pivot_table(df3,\n",
    "                       index = ['Order Ref/Cashier'],\n",
    "                       values = ['Cost'],\n",
    "                       aggfunc = 'sum')\n",
    "total_cost.reset_index(inplace = True)\n",
    "total_cost.rename(columns = {'Order Ref/Cashier':'موظف المبيعات',\n",
    "                              'Cost': 'إجمالي تكلفة المنتجات'}, inplace = True)\n",
    "\n",
    "\n",
    "df_addition_discount.loc[:, 'Quantity'] = 1\n",
    "employees_discounts = pd.pivot_table(df_addition_discount,\n",
    "                                     index = ['Order Ref/Cashier', 'فريق المبيعات'],\n",
    "                                     values = ['Quantity','Subtotal'], aggfunc = 'sum')\n",
    "\n",
    "employees_discounts.reset_index(inplace = True)\n",
    "employees_discounts.rename(columns = {'Order Ref/Cashier':'موظف المبيعات',\n",
    "                               'Quantity': 'عدد مرات استخدام الخصم الاضافي',\n",
    "                               'Subtotal': 'إجمالي الخصومات الاضافية'}, inplace = True)\n"
   ]
  },
  {
   "cell_type": "code",
   "execution_count": 78,
   "id": "73223984",
   "metadata": {},
   "outputs": [],
   "source": [
    "# merge all the factors in one dataFrame called all_employees\n",
    "all_employees = df_Employee_sales.merge(work_days, on = 'موظف المبيعات', how = 'inner')\n",
    "all_employees = all_employees.merge(profit, on = ['موظف المبيعات'], how = 'left')\n",
    "all_employees = all_employees.merge(mean_profit, on = ['موظف المبيعات'], how = 'left')\n",
    "all_employees = all_employees.merge(total_discounts, on = ['موظف المبيعات'], how = 'left')\n",
    "all_employees = all_employees.merge(variety_products, on = ['موظف المبيعات'], how = 'left')\n",
    "all_employees = all_employees.merge(variety_cat, on = ['موظف المبيعات'], how = 'left')\n",
    "all_employees = all_employees.merge(total_cost, on = ['موظف المبيعات'], how = 'left')\n",
    "all_employees = all_employees.merge(employees_discounts, on = ['موظف المبيعات', 'فريق المبيعات'], how = 'left')\n",
    "all_employees = all_employees.merge(variety, on = 'موظف المبيعات', how = 'inner')"
   ]
  },
  {
   "cell_type": "code",
   "execution_count": 79,
   "id": "5e8ab45c",
   "metadata": {},
   "outputs": [],
   "source": [
    "# Solve the problem of returned discounts\n",
    "for r in list(all_employees.index):\n",
    "    if all_employees.loc[ r ,'إجمالي الخصومات الاضافية'] == 0:\n",
    "        all_employees.loc[ r ,'عدد مرات استخدام الخصم الاضافي'] = 0\n",
    "        \n",
    "all_employees.fillna(0, inplace = True)"
   ]
  },
  {
   "cell_type": "code",
   "execution_count": 80,
   "id": "cbab88bb",
   "metadata": {},
   "outputs": [],
   "source": [
    "# Calculating extra factors\n",
    "all_employees['إجمالي الخصم'] = all_employees['إجمالي الخصم'] * -1\n",
    "all_employees['إجمالي الخصومات بالخصم الاضافي'] = all_employees['إجمالي الخصومات الاضافية'] + all_employees['إجمالي الخصم'] \n",
    "all_employees['معدل الخصم'] = all_employees['إجمالي الخصومات بالخصم الاضافي'] / all_employees['اجمالي المبيعات']\n",
    "all_employees['معدل الربح'] = (all_employees['اجمالي المبيعات'] - all_employees['إجمالي تكلفة المنتجات']) / all_employees['اجمالي المبيعات']\n",
    "all_employees['متوسط ميبعات اليوم'] = all_employees['اجمالي المبيعات'] / all_employees['عدد ايام العمل']\n",
    "all_employees['متوسط الوحدات المباعة في اليوم'] = all_employees['عدد الوحدات المباعة'] / all_employees['عدد ايام العمل']\n",
    "all_employees['متوسط عدد الفئات المباعة في اليوم'] = all_employees['عدد الفئات المباعة'] / all_employees['عدد ايام العمل']\n",
    "all_employees['متوسط الاصناف المباعة في اليوم'] = all_employees['عدد الاصناف المباعة'] / all_employees['عدد ايام العمل']"
   ]
  },
  {
   "cell_type": "code",
   "execution_count": 81,
   "id": "0f910856",
   "metadata": {},
   "outputs": [],
   "source": [
    "# Solve the problem of returned orders\n",
    "for r in list(all_employees.index):\n",
    "    if all_employees.loc[ r, 'اجمالي المبيعات']   == 0:\n",
    "        all_employees.loc[ r , 'معدل الخصم'] =0\n",
    "        all_employees.loc[ r , 'معدل الربح'] = 0"
   ]
  },
  {
   "cell_type": "markdown",
   "id": "3e26cd32",
   "metadata": {},
   "source": [
    "## Potential Assessment "
   ]
  },
  {
   "cell_type": "code",
   "execution_count": 82,
   "id": "deb55dad",
   "metadata": {},
   "outputs": [],
   "source": [
    "# put all the factors, we will assess the potentail based on\n",
    "assess = all_employees[['متوسط ميبعات اليوم',\n",
    "                         'متوسط الوحدات المباعة في اليوم',\n",
    "                         'معدل الخصم',\n",
    "                         'معدل الربح',\n",
    "                         'متوسط عدد الفئات المباعة في اليوم',\n",
    "                         'متوسط الاصناف المباعة في اليوم']]"
   ]
  },
  {
   "cell_type": "code",
   "execution_count": 83,
   "id": "4426c4e4",
   "metadata": {},
   "outputs": [],
   "source": [
    "# getting a standarized copy of the assess_rate dataframe\n",
    "assess_rate = assess.copy()\n",
    "for f in list(assess_rate.columns):\n",
    "    try:\n",
    "        Max_Min_Standardization(f,assess_rate)\n",
    "    except:\n",
    "        continue\n",
    "\n",
    "name1 = '(نسبة)التمييز الوظيفي'\n",
    "name2 = Degree_From(assess_rate, name1)"
   ]
  },
  {
   "cell_type": "code",
   "execution_count": 84,
   "id": "3ce6e392",
   "metadata": {},
   "outputs": [],
   "source": [
    "# putting the unuse factors in the y dataframe\n",
    "y = assess_rate[[name1, name2]]\n",
    "assess_rate.drop(columns = {name1, name2}, inplace = True)"
   ]
  },
  {
   "cell_type": "markdown",
   "id": "b236f2a3",
   "metadata": {},
   "source": [
    "### Running the Clustering Algorithm"
   ]
  },
  {
   "cell_type": "code",
   "execution_count": 85,
   "id": "d0db2c78",
   "metadata": {},
   "outputs": [
    {
     "name": "stderr",
     "output_type": "stream",
     "text": [
      "C:\\Users\\Rahaty Store\\anaconda3\\Lib\\site-packages\\sklearn\\cluster\\_kmeans.py:1412: FutureWarning: The default value of `n_init` will change from 10 to 'auto' in 1.4. Set the value of `n_init` explicitly to suppress the warning\n",
      "  super()._check_params_vs_input(X, default_n_init=10)\n",
      "C:\\Users\\Rahaty Store\\anaconda3\\Lib\\site-packages\\sklearn\\cluster\\_kmeans.py:1436: UserWarning: KMeans is known to have a memory leak on Windows with MKL, when there are less chunks than available threads. You can avoid it by setting the environment variable OMP_NUM_THREADS=1.\n",
      "  warnings.warn(\n"
     ]
    }
   ],
   "source": [
    "kmeans = KMeans(n_clusters = 3, init = 'k-means++', random_state = 42)\n",
    "y_kmeans = kmeans.fit_predict(assess_rate)"
   ]
  },
  {
   "cell_type": "markdown",
   "id": "ecdd68d2",
   "metadata": {},
   "source": [
    "### Visualizing The Results"
   ]
  },
  {
   "cell_type": "code",
   "execution_count": 86,
   "id": "92ae8568",
   "metadata": {},
   "outputs": [
    {
     "data": {
      "image/png": "[encoded data removed]",
      "text/plain": [
       "<Figure size 640x480 with 1 Axes>"
      ]
     },
     "metadata": {},
     "output_type": "display_data"
    }
   ],
   "source": [
    "X = np.array(assess_rate)\n",
    "plt.scatter(X[y_kmeans == 0,0], X[y_kmeans == 0, 1], c = 'red', label = 'Cluster 1')\n",
    "plt.scatter(X[y_kmeans == 1, 0], X[y_kmeans == 1, 1], c = 'blue', label = 'Cluster 2')\n",
    "plt.scatter(X[y_kmeans == 2, 0], X[y_kmeans == 2, 1], c = 'green', label = 'Cluster 3')\n",
    "plt.scatter(kmeans.cluster_centers_[:, 0], kmeans.cluster_centers_[:, 1], s = 300, c = 'yellow', label = 'Centroids')\n",
    "plt.title('Clusters Of Branches')\n",
    "plt.xlabel('Total Sales')\n",
    "plt.ylabel('number of transactions')\n",
    "plt.legend()\n",
    "plt.show()"
   ]
  },
  {
   "cell_type": "code",
   "execution_count": 87,
   "id": "59cf6ec4",
   "metadata": {},
   "outputs": [],
   "source": [
    "# Putting and replacing the values of the clustering algorithm with our categorize values in the assess_rate dataframe\n",
    "assess_rate['التصنيف الشهري للتميز'] = y_kmeans\n",
    "assess_rate['التصنيف الشهري للتميز'].replace(categorize(kmeans.cluster_centers_[:, 1], 3), inplace = True) \n",
    "assess_rate[list(y.columns)] = y\n",
    "\n",
    "# replacing the standardized values with original values\n",
    "all_employees['التصنيف الشهري للتميز'] = assess_rate['التصنيف الشهري للتميز']"
   ]
  },
  {
   "cell_type": "code",
   "execution_count": 88,
   "id": "381d13bd",
   "metadata": {},
   "outputs": [],
   "source": [
    "#Copy the columns names from assess dataframe to assess_rate dataframe \n",
    "assess_rate[assess.columns] = assess[assess.columns]\n",
    "\n",
    "# remove the duplication of the employees\n",
    "assess_rate[['فريق المبيعات', 'موظف المبيعات']] = all_employees[['فريق المبيعات', 'موظف المبيعات']]\n",
    "\n",
    "# putting the '(نسبة)التمييز الوظيفي' in all_employees dataframe\n",
    "all_employees[['(نسبة)التمييز الوظيفي']] = assess_rate[['(نسبة)التمييز الوظيفي']]\n",
    "\n",
    "# Ordering the columns of the assess_rate dataframe\n",
    "assess_rate = assess_rate[['موظف المبيعات',\n",
    "                         'فريق المبيعات',\n",
    "                         'متوسط ميبعات اليوم',\n",
    "                         'متوسط الوحدات المباعة في اليوم',\n",
    "                         'معدل الخصم',\n",
    "                         'معدل الربح',\n",
    "                         'متوسط عدد الفئات المباعة في اليوم',\n",
    "                         'متوسط الاصناف المباعة في اليوم',\n",
    "                         'الدرجة من 6',\n",
    "                         '(نسبة)التمييز الوظيفي',\n",
    "                         'التصنيف الشهري للتميز']]\n",
    "\n",
    "# ordering the dataset\n",
    "assess_rate = assess_rate.sort_values(by =['التصنيف الشهري للتميز'])"
   ]
  },
  {
   "cell_type": "markdown",
   "id": "f47b6539",
   "metadata": {},
   "source": [
    "## Performance Assessment "
   ]
  },
  {
   "cell_type": "code",
   "execution_count": 89,
   "id": "4400b7b0",
   "metadata": {},
   "outputs": [],
   "source": [
    "Performance = all_employees[['عدد الوحدات المباعة'\n",
    "                , 'اجمالي المبيعات'\n",
    "                ,'الربح'\n",
    "                ,'إجمالي الخصومات الاضافية'\n",
    "                ,'إجمالي الخصومات بالخصم الاضافي'\n",
    "                ,'عدد الاصناف المباعة'\n",
    "                ,'عدد الفئات المباعة']]"
   ]
  },
  {
   "cell_type": "code",
   "execution_count": 90,
   "id": "213963c7",
   "metadata": {},
   "outputs": [],
   "source": [
    "# getting a standarized copy of the assess_rate dataframe\n",
    "Performance_assess = Performance.copy()\n",
    "for x in list(Performance_assess.columns):\n",
    "    try:\n",
    "        Max_Min_Standardization(x,Performance_assess)\n",
    "    except:\n",
    "        continue\n",
    "\n",
    "name1 = '(نسبة)الاداء الوظيفي'\n",
    "name2 = Degree_From(Performance_assess, name1)"
   ]
  },
  {
   "cell_type": "code",
   "execution_count": 91,
   "id": "8c551986",
   "metadata": {},
   "outputs": [
    {
     "name": "stderr",
     "output_type": "stream",
     "text": [
      "C:\\Users\\Rahaty Store\\AppData\\Local\\Temp\\ipykernel_6228\\992025686.py:2: SettingWithCopyWarning: \n",
      "A value is trying to be set on a copy of a slice from a DataFrame.\n",
      "Try using .loc[row_indexer,col_indexer] = value instead\n",
      "\n",
      "See the caveats in the documentation: https://pandas.pydata.org/pandas-docs/stable/user_guide/indexing.html#returning-a-view-versus-a-copy\n",
      "  y[['موظف المبيعات', 'فريق المبيعات']] = all_employees[['موظف المبيعات', 'فريق المبيعات']]\n",
      "C:\\Users\\Rahaty Store\\AppData\\Local\\Temp\\ipykernel_6228\\992025686.py:2: SettingWithCopyWarning: \n",
      "A value is trying to be set on a copy of a slice from a DataFrame.\n",
      "Try using .loc[row_indexer,col_indexer] = value instead\n",
      "\n",
      "See the caveats in the documentation: https://pandas.pydata.org/pandas-docs/stable/user_guide/indexing.html#returning-a-view-versus-a-copy\n",
      "  y[['موظف المبيعات', 'فريق المبيعات']] = all_employees[['موظف المبيعات', 'فريق المبيعات']]\n"
     ]
    }
   ],
   "source": [
    "y = Performance_assess[[name1, name2]] \n",
    "y[['موظف المبيعات', 'فريق المبيعات']] = all_employees[['موظف المبيعات', 'فريق المبيعات']]\n",
    "Performance_assess.drop(columns = {name1, name2}, inplace = True)"
   ]
  },
  {
   "cell_type": "markdown",
   "id": "e710f037",
   "metadata": {},
   "source": [
    "### Running the Clustering Algorithm"
   ]
  },
  {
   "cell_type": "code",
   "execution_count": 92,
   "id": "79148e6b",
   "metadata": {},
   "outputs": [
    {
     "name": "stderr",
     "output_type": "stream",
     "text": [
      "C:\\Users\\Rahaty Store\\anaconda3\\Lib\\site-packages\\sklearn\\cluster\\_kmeans.py:1412: FutureWarning: The default value of `n_init` will change from 10 to 'auto' in 1.4. Set the value of `n_init` explicitly to suppress the warning\n",
      "  super()._check_params_vs_input(X, default_n_init=10)\n",
      "C:\\Users\\Rahaty Store\\anaconda3\\Lib\\site-packages\\sklearn\\cluster\\_kmeans.py:1436: UserWarning: KMeans is known to have a memory leak on Windows with MKL, when there are less chunks than available threads. You can avoid it by setting the environment variable OMP_NUM_THREADS=1.\n",
      "  warnings.warn(\n"
     ]
    }
   ],
   "source": [
    "kmeans = KMeans(n_clusters = 3, init = 'k-means++', random_state = 42)\n",
    "y_kmeans = kmeans.fit_predict(Performance_assess)"
   ]
  },
  {
   "cell_type": "markdown",
   "id": "00381e51",
   "metadata": {},
   "source": [
    "### Visualizing The Results"
   ]
  },
  {
   "cell_type": "code",
   "execution_count": 93,
   "id": "daae9a22",
   "metadata": {},
   "outputs": [
    {
     "data": {
      "image/png": "[encoded data removed]",
      "text/plain": [
       "<Figure size 640x480 with 1 Axes>"
      ]
     },
     "metadata": {},
     "output_type": "display_data"
    }
   ],
   "source": [
    "X = np.array(Performance_assess)\n",
    "plt.scatter(X[y_kmeans == 0,0], X[y_kmeans == 0, 1], c = 'red', label = 'Cluster 1')\n",
    "plt.scatter(X[y_kmeans == 1, 0], X[y_kmeans == 1, 1], c = 'blue', label = 'Cluster 2')\n",
    "plt.scatter(X[y_kmeans == 2, 0], X[y_kmeans == 2, 1], c = 'green', label = 'Cluster 3')\n",
    "plt.scatter(kmeans.cluster_centers_[:, 0], kmeans.cluster_centers_[:, 1], s = 300, c = 'yellow', label = 'Centroids')\n",
    "plt.title('Clusters Of Branches')\n",
    "plt.xlabel('Total Sales')\n",
    "plt.ylabel('number of transactions')\n",
    "plt.legend()\n",
    "plt.show()"
   ]
  },
  {
   "cell_type": "code",
   "execution_count": 94,
   "id": "e3c460ff",
   "metadata": {},
   "outputs": [],
   "source": [
    "# Putting and replacing the values of the clustering algorithm with our categorize values in the assess_rate dataframe\n",
    "Performance_assess['التصنيف الشهري للاداء'] = y_kmeans\n",
    "Performance_assess['التصنيف الشهري للاداء'].replace(categorize(kmeans.cluster_centers_[:, 1], 3), inplace = True) \n",
    "Performance_assess[y.columns] = y\n",
    "\n",
    "# replacing the standardized values with original values\n",
    "all_employees[['التصنيف الشهري للاداء', '(نسبة)الاداء الوظيفي']] = Performance_assess[['التصنيف الشهري للاداء', '(نسبة)الاداء الوظيفي']]"
   ]
  },
  {
   "cell_type": "code",
   "execution_count": 95,
   "id": "c515eeb0",
   "metadata": {},
   "outputs": [],
   "source": [
    "# ordering the dataframe for a better appearance\n",
    "Performance_assess = Performance_assess[['موظف المبيعات',\n",
    "                                    'فريق المبيعات',\n",
    "                                   'عدد الوحدات المباعة',\n",
    "                                    'اجمالي المبيعات',\n",
    "                                    'الربح',\n",
    "                                    'إجمالي الخصومات الاضافية',\n",
    "                                    'إجمالي الخصومات بالخصم الاضافي',\n",
    "                                    'عدد الاصناف المباعة',\n",
    "                                    'عدد الفئات المباعة',\n",
    "                                    'التصنيف الشهري للاداء',\n",
    "                                    '(نسبة)الاداء الوظيفي',\n",
    "                                    'الدرجة من 7']]"
   ]
  },
  {
   "cell_type": "code",
   "execution_count": 96,
   "id": "b3b973a7",
   "metadata": {},
   "outputs": [],
   "source": [
    "# putting some columns from all_employees to Performance_assess\n",
    "columns = ['عدد الوحدات المباعة'\n",
    "                , 'اجمالي المبيعات'\n",
    "                ,'الربح'\n",
    "                ,'إجمالي الخصومات الاضافية'\n",
    "                ,'إجمالي الخصومات بالخصم الاضافي'\n",
    "                ,'عدد الاصناف المباعة'\n",
    "                ,'عدد الفئات المباعة']\n",
    "\n",
    "Performance_assess[columns] = all_employees[columns]"
   ]
  },
  {
   "cell_type": "code",
   "execution_count": 97,
   "id": "18fc5d6b",
   "metadata": {},
   "outputs": [],
   "source": [
    "# ordering the values of Performance_assess dataframe\n",
    "Performance_assess = Performance_assess.sort_values(by = '(نسبة)الاداء الوظيفي', ascending =  False)\n",
    "\n",
    "# merging all the information from the Performance_assess and assess_rate datasets to a new dataset called clustering_agg \n",
    "clustering_agg = Performance_assess.merge(assess_rate, on = ['موظف المبيعات', 'فريق المبيعات'], how = 'inner')\n",
    "clustering_agg = clustering_agg[[ 'موظف المبيعات',\n",
    "                                 'فريق المبيعات', \n",
    "                                 'التصنيف الشهري للتميز',\n",
    "                                 '(نسبة)التمييز الوظيفي',\n",
    "                                 'التصنيف الشهري للاداء',\n",
    "                                '(نسبة)الاداء الوظيفي']]\n",
    "clustering_agg['التقيم النهائي'] = (clustering_agg['(نسبة)التمييز الوظيفي'] + clustering_agg['(نسبة)الاداء الوظيفي'])/2\n",
    "clustering_agg = clustering_agg.sort_values(by = ['التقيم النهائي'], ascending = False)"
   ]
  },
  {
   "cell_type": "code",
   "execution_count": 98,
   "id": "485c26f2",
   "metadata": {},
   "outputs": [],
   "source": [
    "# setting the employee column as an index for our four dataframes\n",
    "Performance_assess.set_index('موظف المبيعات', inplace = True)\n",
    "assess_rate.set_index('موظف المبيعات', inplace = True)\n",
    "all_employees.set_index('موظف المبيعات', inplace = True)\n",
    "clustering_agg.set_index('موظف المبيعات', inplace = True)"
   ]
  },
  {
   "cell_type": "code",
   "execution_count": 99,
   "id": "c7a6900e",
   "metadata": {},
   "outputs": [],
   "source": [
    "# ordering the values of all_employees dataframe\n",
    "all_employees = all_employees.sort_values(by = ['(نسبة)الاداء الوظيفي',\n",
    "                                '(نسبة)التمييز الوظيفي'], ascending = False)"
   ]
  },
  {
   "cell_type": "markdown",
   "id": "1a1f063a",
   "metadata": {},
   "source": [
    "#### Save all our datasets"
   ]
  },
  {
   "cell_type": "code",
   "execution_count": 100,
   "id": "52a5219e",
   "metadata": {},
   "outputs": [],
   "source": [
    "assess_rate.to_excel('clustering employees.xlsx', sheet_name = '(التميز) عوامل التقييم')\n",
    "\n",
    "with pd.ExcelWriter('clustering employees.xlsx', engine='openpyxl', mode='a') as writer:\n",
    "    Performance_assess.to_excel(writer, sheet_name= 'عوامل التقييم (الاداء)') \n",
    "    \n",
    "with pd.ExcelWriter('clustering employees.xlsx', engine='openpyxl', mode='a') as writer:\n",
    "    clustering_agg.to_excel(writer, sheet_name= 'التقييم مجمع')\n",
    "    \n",
    "with pd.ExcelWriter('clustering employees.xlsx', engine='openpyxl', mode='a') as writer:\n",
    "    all_employees.to_excel(writer, sheet_name= 'بيانات تفصلية عن الموظفين')\n"
   ]
  },
  {
   "cell_type": "markdown",
   "id": "296f23cf",
   "metadata": {},
   "source": [
    "## Get the top five products for each branch"
   ]
  },
  {
   "cell_type": "markdown",
   "id": "487d3015",
   "metadata": {},
   "source": [
    "#### Cleaning the main data frame from deposits, services, etc"
   ]
  },
  {
   "cell_type": "code",
   "execution_count": 135,
   "id": "ebfa0c85",
   "metadata": {},
   "outputs": [],
   "source": [
    "df4 = df.copy()\n",
    "df4.drop(df_deposit.index, inplace =True, errors = 'ignore')\n",
    "df4.drop(df_addition_discount.index, inplace = True, errors = 'ignore')\n",
    "df4.drop(df_services.index, inplace = True, errors = 'ignore')\n",
    "df4.drop(df_0.index, inplace = True, errors = 'ignore')\n",
    "ind= df4[df4['Product'].str.contains('توصيل') | df4['Product'].str.contains('نقدية')].index\n",
    "df4.drop(ind, axis = 0, inplace = True)\n",
    "\n",
    "\n",
    "\n",
    "service = df4[df4['Product'].str.contains('خدمة')]\n",
    "df4.drop(service.index, errors= 'ignore', inplace = True)\n",
    "service =df4[df4['Product'].str.contains('تركيب')]\n",
    "df4.drop(service.index, errors= 'ignore', inplace = True)\n",
    "service =df4[df4['Product'].str.contains('عربون')]\n",
    "df4.drop(service.index, errors= 'ignore', inplace = True)\n",
    "service =df4[df4['Product'].str.contains('توصيل')]\n",
    "df4.drop(service.index, errors= 'ignore', inplace = True)\n",
    "service =df4[df4['Product'].str.contains('نقدية')]\n",
    "df4.drop(service.index, errors= 'ignore', inplace = True)"
   ]
  },
  {
   "cell_type": "code",
   "execution_count": 139,
   "id": "aa0d6a9f",
   "metadata": {},
   "outputs": [
    {
     "data": {
      "text/html": [
       "<div>\n",
       "<style scoped>\n",
       "    .dataframe tbody tr th:only-of-type {\n",
       "        vertical-align: middle;\n",
       "    }\n",
       "\n",
       "    .dataframe tbody tr th {\n",
       "        vertical-align: top;\n",
       "    }\n",
       "\n",
       "    .dataframe thead th {\n",
       "        text-align: right;\n",
       "    }\n",
       "</style>\n",
       "<table border=\"1\" class=\"dataframe\">\n",
       "  <thead>\n",
       "    <tr style=\"text-align: right;\">\n",
       "      <th></th>\n",
       "      <th>Branch</th>\n",
       "      <th>رقم الفاتوره</th>\n",
       "      <th>Date</th>\n",
       "      <th>فريق المبيعات</th>\n",
       "      <th>Barcode</th>\n",
       "      <th>Product</th>\n",
       "      <th>Quantity</th>\n",
       "      <th>Discount per Unit (abs)</th>\n",
       "      <th>Discount (%)</th>\n",
       "      <th>Unit Price</th>\n",
       "      <th>...</th>\n",
       "      <th>cat3</th>\n",
       "      <th>none</th>\n",
       "      <th>discount amount</th>\n",
       "      <th>discount percentage</th>\n",
       "      <th>Total discount</th>\n",
       "      <th>price before discount</th>\n",
       "      <th>Cost per unit</th>\n",
       "      <th>vat</th>\n",
       "      <th>profit margin</th>\n",
       "      <th>Profit margin percentage</th>\n",
       "    </tr>\n",
       "  </thead>\n",
       "  <tbody>\n",
       "  </tbody>\n",
       "</table>\n",
       "<p>0 rows × 29 columns</p>\n",
       "</div>"
      ],
      "text/plain": [
       "Empty DataFrame\n",
       "Columns: [Branch, رقم الفاتوره, Date, فريق المبيعات, Barcode, Product, Quantity, Discount per Unit (abs), Discount (%), Unit Price, Cost, Subtotal, Order Ref/Cashier, day, month, year, Product origin, Cat1, cat2, cat3, none, discount amount, discount percentage, Total discount, price before discount, Cost per unit, vat, profit margin, Profit margin percentage]\n",
       "Index: []\n",
       "\n",
       "[0 rows x 29 columns]"
      ]
     },
     "execution_count": 139,
     "metadata": {},
     "output_type": "execute_result"
    }
   ],
   "source": [
    "df4[df4['Product'].str.contains('توصيل')]"
   ]
  },
  {
   "cell_type": "markdown",
   "id": "5f7c0dfc",
   "metadata": {},
   "source": [
    "### Get the top five products for each branch according to sales "
   ]
  },
  {
   "cell_type": "code",
   "execution_count": 140,
   "id": "e3d7c3e6",
   "metadata": {},
   "outputs": [],
   "source": [
    "data_sales = pd.DataFrame()\n",
    "Branches = list(df4['فريق المبيعات'].unique())\n",
    "df.to_excel((str(m[0]) + ' products Per Branch' +'.xlsx'), sheet_name = 'Data')\n",
    "for x in Branches: \n",
    "    try:\n",
    "        branch_team = df4[df4['فريق المبيعات'] == x]\n",
    "        Total_sold = pd.pivot_table(branch_team, index=['فريق المبيعات', 'Product'], values=(['Quantity']), aggfunc = 'sum')\n",
    "        Total_sold.rename(columns ={'Quantity':'sold units'}, inplace = True)\n",
    "        Total_sold = Total_sold.sort_values(by= 'sold units', ascending = False).head(5)\n",
    "    except:\n",
    "        continue\n",
    "    mean_discounts = pd.pivot_table(branch_team, index=['فريق المبيعات', 'Product'], values=(['Total discount']), aggfunc = 'mean')\n",
    "    mean_discounts.rename(columns ={'Total discount':'mean discounts'}, inplace = True)        \n",
    "    total_sales = pd.pivot_table(branch_team, index=['فريق المبيعات', 'Product'], values=(['Subtotal']), aggfunc = 'sum')\n",
    "    total_sales.rename(columns ={'profit margin':'Total sales'}, inplace = True)\n",
    "    df2 = Total_sold.merge(mean_discounts, on= ['فريق المبيعات', 'Product'], how= 'inner')\n",
    "    df2 = df2.merge(total_sales, on= ['فريق المبيعات', 'Product'], how= 'inner')\n",
    "    df2.sort_values(by= 'sold units', ascending = False)\n",
    "    \n",
    "    h = len(df2) + 1\n",
    "    df2.loc[' ', df2.columns] = ' '\n",
    "    df2.loc['  ', df2.columns] = ' '\n",
    "    df2.loc[('فريق المبيعات', 'Product'), df2.columns] = df2.columns\n",
    "    data_sales  = pd.concat([df2, data_sales], ignore_index=False)\n",
    "\n",
    "\n",
    "with pd.ExcelWriter((str(m[0]) + ' products Per Branch' +'.xlsx'), engine='openpyxl', mode='a') as writer:\n",
    "    data_sales.to_excel(writer, sheet_name= 'Sales')   "
   ]
  },
  {
   "cell_type": "code",
   "execution_count": 148,
   "id": "da496072",
   "metadata": {},
   "outputs": [
    {
     "data": {
      "text/html": [
       "<div>\n",
       "<style scoped>\n",
       "    .dataframe tbody tr th:only-of-type {\n",
       "        vertical-align: middle;\n",
       "    }\n",
       "\n",
       "    .dataframe tbody tr th {\n",
       "        vertical-align: top;\n",
       "    }\n",
       "\n",
       "    .dataframe thead th {\n",
       "        text-align: right;\n",
       "    }\n",
       "</style>\n",
       "<table border=\"1\" class=\"dataframe\">\n",
       "  <thead>\n",
       "    <tr style=\"text-align: right;\">\n",
       "      <th></th>\n",
       "      <th></th>\n",
       "      <th>sold units</th>\n",
       "      <th>mean discounts</th>\n",
       "      <th>Subtotal</th>\n",
       "    </tr>\n",
       "    <tr>\n",
       "      <th>فريق المبيعات</th>\n",
       "      <th>Product</th>\n",
       "      <th></th>\n",
       "      <th></th>\n",
       "      <th></th>\n",
       "    </tr>\n",
       "  </thead>\n",
       "  <tbody>\n",
       "    <tr>\n",
       "      <th rowspan=\"5\" valign=\"top\">متجر قصر البيان الإلكتروني</th>\n",
       "      <th>[0004-403] دولاب ماليزى 6 باب ابيض 0004-403</th>\n",
       "      <td>12.0</td>\n",
       "      <td>519.307692</td>\n",
       "      <td>16049.0</td>\n",
       "    </tr>\n",
       "    <tr>\n",
       "      <th>[1270791] طاولة بلازما رمادي ابيض TV SY065-16AG</th>\n",
       "      <td>10.0</td>\n",
       "      <td>151.0</td>\n",
       "      <td>990.0</td>\n",
       "    </tr>\n",
       "    <tr>\n",
       "      <th>[1130122] كرسي كاونتر رمادي CH 560 GR</th>\n",
       "      <td>9.0</td>\n",
       "      <td>787.5</td>\n",
       "      <td>441.0</td>\n",
       "    </tr>\n",
       "    <tr>\n",
       "      <th>[1161612] طاولة شاي بني ذهبي   CT ZM 22281 BG</th>\n",
       "      <td>8.0</td>\n",
       "      <td>272.0</td>\n",
       "      <td>648.0</td>\n",
       "    </tr>\n",
       "    <tr>\n",
       "      <th>[0004-403] دولاب ماليزى 3 باب ابيض 0004-403</th>\n",
       "      <td>7.0</td>\n",
       "      <td>524.333333</td>\n",
       "      <td>4639.0</td>\n",
       "    </tr>\n",
       "    <tr>\n",
       "      <th></th>\n",
       "      <th></th>\n",
       "      <td></td>\n",
       "      <td></td>\n",
       "      <td></td>\n",
       "    </tr>\n",
       "    <tr>\n",
       "      <th></th>\n",
       "      <th></th>\n",
       "      <td></td>\n",
       "      <td></td>\n",
       "      <td></td>\n",
       "    </tr>\n",
       "    <tr>\n",
       "      <th>فريق المبيعات</th>\n",
       "      <th>Product</th>\n",
       "      <td>sold units</td>\n",
       "      <td>mean discounts</td>\n",
       "      <td>Subtotal</td>\n",
       "    </tr>\n",
       "    <tr>\n",
       "      <th rowspan=\"5\" valign=\"top\">راحتي الالكتروني</th>\n",
       "      <th>[414141] شحن سريع</th>\n",
       "      <td>58.0</td>\n",
       "      <td>6.728571</td>\n",
       "      <td>2189.0</td>\n",
       "    </tr>\n",
       "    <tr>\n",
       "      <th>[048] مخدة راحتي RS Happy Dream Pillow 50*70</th>\n",
       "      <td>39.0</td>\n",
       "      <td>17.0</td>\n",
       "      <td>975.0</td>\n",
       "    </tr>\n",
       "    <tr>\n",
       "      <th>[S01] مرايا اسود - BLACK -S01</th>\n",
       "      <td>37.0</td>\n",
       "      <td>1.290323</td>\n",
       "      <td>1665.0</td>\n",
       "    </tr>\n",
       "    <tr>\n",
       "      <th>[1220193] مرايا ستاند ابيض ذهبي MI TH4550 WH+GO</th>\n",
       "      <td>32.0</td>\n",
       "      <td>17.555556</td>\n",
       "      <td>1476.0</td>\n",
       "    </tr>\n",
       "    <tr>\n",
       "      <th>اختلاف اسعار بيع المتجر عن odoo</th>\n",
       "      <td>30.0</td>\n",
       "      <td>0.0</td>\n",
       "      <td>2377.0</td>\n",
       "    </tr>\n",
       "    <tr>\n",
       "      <th></th>\n",
       "      <th></th>\n",
       "      <td></td>\n",
       "      <td></td>\n",
       "      <td></td>\n",
       "    </tr>\n",
       "    <tr>\n",
       "      <th></th>\n",
       "      <th></th>\n",
       "      <td></td>\n",
       "      <td></td>\n",
       "      <td></td>\n",
       "    </tr>\n",
       "    <tr>\n",
       "      <th>فريق المبيعات</th>\n",
       "      <th>Product</th>\n",
       "      <td>sold units</td>\n",
       "      <td>mean discounts</td>\n",
       "      <td>Subtotal</td>\n",
       "    </tr>\n",
       "    <tr>\n",
       "      <th rowspan=\"5\" valign=\"top\">الإحساء</th>\n",
       "      <th>[C0961] مفرش هولمس نفر 4 قطع C0961 ZHEN</th>\n",
       "      <td>193.0</td>\n",
       "      <td>299.225806</td>\n",
       "      <td>18371.0</td>\n",
       "    </tr>\n",
       "    <tr>\n",
       "      <th>[C0962] مفرش هولمس نفرين 6 قطع C0962 ZHENG</th>\n",
       "      <td>74.0</td>\n",
       "      <td>154.506849</td>\n",
       "      <td>10415.0</td>\n",
       "    </tr>\n",
       "    <tr>\n",
       "      <th>[RS-MELOSA-02] مخدة راحتي سادة 50*75 RS-MELOSA-02</th>\n",
       "      <td>69.0</td>\n",
       "      <td>126.837838</td>\n",
       "      <td>2956.0</td>\n",
       "    </tr>\n",
       "    <tr>\n",
       "      <th>[1270814] طاولة بلازما رمادي فاتح TV SY061-16D</th>\n",
       "      <td>46.0</td>\n",
       "      <td>133.106383</td>\n",
       "      <td>4554.0</td>\n",
       "    </tr>\n",
       "    <tr>\n",
       "      <th>[S01] مرايا ابيض -WHITE -S01</th>\n",
       "      <td>41.0</td>\n",
       "      <td>44.666667</td>\n",
       "      <td>1845.0</td>\n",
       "    </tr>\n",
       "    <tr>\n",
       "      <th></th>\n",
       "      <th></th>\n",
       "      <td></td>\n",
       "      <td></td>\n",
       "      <td></td>\n",
       "    </tr>\n",
       "    <tr>\n",
       "      <th></th>\n",
       "      <th></th>\n",
       "      <td></td>\n",
       "      <td></td>\n",
       "      <td></td>\n",
       "    </tr>\n",
       "    <tr>\n",
       "      <th>فريق المبيعات</th>\n",
       "      <th>Product</th>\n",
       "      <td>sold units</td>\n",
       "      <td>mean discounts</td>\n",
       "      <td>Subtotal</td>\n",
       "    </tr>\n",
       "    <tr>\n",
       "      <th rowspan=\"5\" valign=\"top\">فرع تبوك</th>\n",
       "      <th>[048] مخدة راحتي RS Happy Dream Pillow 50*70</th>\n",
       "      <td>33.0</td>\n",
       "      <td>165.3125</td>\n",
       "      <td>60.0</td>\n",
       "    </tr>\n",
       "    <tr>\n",
       "      <th>[1220193] مرايا ستاند ابيض ذهبي MI TH4550 WH+GO</th>\n",
       "      <td>30.0</td>\n",
       "      <td>208.846154</td>\n",
       "      <td>1470.0</td>\n",
       "    </tr>\n",
       "    <tr>\n",
       "      <th>[1270778] طاولة بلازما رمادي TV 1002(1840) FULL CE</th>\n",
       "      <td>22.0</td>\n",
       "      <td>201.0</td>\n",
       "      <td>2618.0</td>\n",
       "    </tr>\n",
       "    <tr>\n",
       "      <th>[RS-MATIA-04] مخدة راحتي مطرز 50*75 RS-MATIA-04</th>\n",
       "      <td>17.0</td>\n",
       "      <td>102.9</td>\n",
       "      <td>850.0</td>\n",
       "    </tr>\n",
       "    <tr>\n",
       "      <th>[1220194] مرايا ستاند ابيض ذهبي MI TH4040 WH+GO</th>\n",
       "      <td>16.0</td>\n",
       "      <td>222.769231</td>\n",
       "      <td>784.0</td>\n",
       "    </tr>\n",
       "    <tr>\n",
       "      <th></th>\n",
       "      <th></th>\n",
       "      <td></td>\n",
       "      <td></td>\n",
       "      <td></td>\n",
       "    </tr>\n",
       "    <tr>\n",
       "      <th></th>\n",
       "      <th></th>\n",
       "      <td></td>\n",
       "      <td></td>\n",
       "      <td></td>\n",
       "    </tr>\n",
       "    <tr>\n",
       "      <th>فريق المبيعات</th>\n",
       "      <th>Product</th>\n",
       "      <td>sold units</td>\n",
       "      <td>mean discounts</td>\n",
       "      <td>Subtotal</td>\n",
       "    </tr>\n",
       "    <tr>\n",
       "      <th rowspan=\"5\" valign=\"top\">معرض 1 الرياض متجر الالكتروني</th>\n",
       "      <th>[048] مخدة راحتي RS Happy Dream Pillow 50*70</th>\n",
       "      <td>69.0</td>\n",
       "      <td>186.076923</td>\n",
       "      <td>477.0</td>\n",
       "    </tr>\n",
       "    <tr>\n",
       "      <th>[952-1175] شجر ذرة غامق حوض بلاستيك صغير MIX 952-1175</th>\n",
       "      <td>40.0</td>\n",
       "      <td>45.257143</td>\n",
       "      <td>1960.0</td>\n",
       "    </tr>\n",
       "    <tr>\n",
       "      <th>[4928/7] معطر 4928/7</th>\n",
       "      <td>32.0</td>\n",
       "      <td>64.0</td>\n",
       "      <td>448.0</td>\n",
       "    </tr>\n",
       "    <tr>\n",
       "      <th>[C0961] مفرش هولمس نفر 4 قطع C0961 ZHEN</th>\n",
       "      <td>31.0</td>\n",
       "      <td>182.285714</td>\n",
       "      <td>3069.0</td>\n",
       "    </tr>\n",
       "    <tr>\n",
       "      <th>[1270768] طاولة بلازما كولمبيا TV TVC1002 (1640) COL</th>\n",
       "      <td>29.0</td>\n",
       "      <td>146.28125</td>\n",
       "      <td>2871.0</td>\n",
       "    </tr>\n",
       "    <tr>\n",
       "      <th></th>\n",
       "      <th></th>\n",
       "      <td></td>\n",
       "      <td></td>\n",
       "      <td></td>\n",
       "    </tr>\n",
       "    <tr>\n",
       "      <th></th>\n",
       "      <th></th>\n",
       "      <td></td>\n",
       "      <td></td>\n",
       "      <td></td>\n",
       "    </tr>\n",
       "    <tr>\n",
       "      <th>فريق المبيعات</th>\n",
       "      <th>Product</th>\n",
       "      <td>sold units</td>\n",
       "      <td>mean discounts</td>\n",
       "      <td>Subtotal</td>\n",
       "    </tr>\n",
       "    <tr>\n",
       "      <th rowspan=\"5\" valign=\"top\">الطائف الصغير 2</th>\n",
       "      <th>[RS-MELOSA-02] مخدة راحتي سادة 50*75 RS-MELOSA-02</th>\n",
       "      <td>16.0</td>\n",
       "      <td>149.555556</td>\n",
       "      <td>687.0</td>\n",
       "    </tr>\n",
       "    <tr>\n",
       "      <th>[H000886] عود ورد  H000886</th>\n",
       "      <td>10.0</td>\n",
       "      <td>30.0</td>\n",
       "      <td>70.0</td>\n",
       "    </tr>\n",
       "    <tr>\n",
       "      <th>[الشرابية] سرير شرائح بيضاوي 90*190</th>\n",
       "      <td>6.0</td>\n",
       "      <td>786.0</td>\n",
       "      <td>1494.0</td>\n",
       "    </tr>\n",
       "    <tr>\n",
       "      <th>[M0476] مرتبة هيبى مون 90*190*18سم - M0476</th>\n",
       "      <td>6.0</td>\n",
       "      <td>522.0</td>\n",
       "      <td>1062.0</td>\n",
       "    </tr>\n",
       "    <tr>\n",
       "      <th>[M0460] مرتبة هيبي مون  80*170*10سم M0460</th>\n",
       "      <td>6.0</td>\n",
       "      <td>98.666667</td>\n",
       "      <td>678.0</td>\n",
       "    </tr>\n",
       "    <tr>\n",
       "      <th></th>\n",
       "      <th></th>\n",
       "      <td></td>\n",
       "      <td></td>\n",
       "      <td></td>\n",
       "    </tr>\n",
       "    <tr>\n",
       "      <th></th>\n",
       "      <th></th>\n",
       "      <td></td>\n",
       "      <td></td>\n",
       "      <td></td>\n",
       "    </tr>\n",
       "    <tr>\n",
       "      <th>فريق المبيعات</th>\n",
       "      <th>Product</th>\n",
       "      <td>sold units</td>\n",
       "      <td>mean discounts</td>\n",
       "      <td>Subtotal</td>\n",
       "    </tr>\n",
       "    <tr>\n",
       "      <th rowspan=\"2\" valign=\"top\">حائل 2</th>\n",
       "      <th>[048] مخدة راحتي RS Happy Dream Pillow 50*70</th>\n",
       "      <td>101.0</td>\n",
       "      <td>120.092593</td>\n",
       "      <td>550.0</td>\n",
       "    </tr>\n",
       "    <tr>\n",
       "      <th>[952-1175] شجر ذرة غامق حوض بلاستيك صغير MIX 952-1175</th>\n",
       "      <td>89.0</td>\n",
       "      <td>76.22807</td>\n",
       "      <td>4372.0</td>\n",
       "    </tr>\n",
       "  </tbody>\n",
       "</table>\n",
       "</div>"
      ],
      "text/plain": [
       "                                                                                  sold units  \\\n",
       "فريق المبيعات                 Product                                                          \n",
       "متجر قصر البيان الإلكتروني    [0004-403] دولاب ماليزى 6 باب ابيض 0004-403               12.0   \n",
       "                              [1270791] طاولة بلازما رمادي ابيض TV SY065-16AG           10.0   \n",
       "                              [1130122] كرسي كاونتر رمادي CH 560 GR                      9.0   \n",
       "                              [1161612] طاولة شاي بني ذهبي   CT ZM 22281 BG              8.0   \n",
       "                              [0004-403] دولاب ماليزى 3 باب ابيض 0004-403                7.0   \n",
       "                                                                                               \n",
       "                                                                                               \n",
       "فريق المبيعات                 Product                                             sold units   \n",
       "راحتي الالكتروني              [414141] شحن سريع                                         58.0   \n",
       "                              [048] مخدة راحتي RS Happy Dream Pillow 50*70              39.0   \n",
       "                              [S01] مرايا اسود - BLACK -S01                             37.0   \n",
       "                              [1220193] مرايا ستاند ابيض ذهبي MI TH4550 WH+GO           32.0   \n",
       "                              اختلاف اسعار بيع المتجر عن odoo                           30.0   \n",
       "                                                                                               \n",
       "                                                                                               \n",
       "فريق المبيعات                 Product                                             sold units   \n",
       "الإحساء                       [C0961] مفرش هولمس نفر 4 قطع C0961 ZHEN                  193.0   \n",
       "                              [C0962] مفرش هولمس نفرين 6 قطع C0962 ZHENG                74.0   \n",
       "                              [RS-MELOSA-02] مخدة راحتي سادة 50*75 RS-MELOSA-02         69.0   \n",
       "                              [1270814] طاولة بلازما رمادي فاتح TV SY061-16D            46.0   \n",
       "                              [S01] مرايا ابيض -WHITE -S01                              41.0   \n",
       "                                                                                               \n",
       "                                                                                               \n",
       "فريق المبيعات                 Product                                             sold units   \n",
       "فرع تبوك                      [048] مخدة راحتي RS Happy Dream Pillow 50*70              33.0   \n",
       "                              [1220193] مرايا ستاند ابيض ذهبي MI TH4550 WH+GO           30.0   \n",
       "                              [1270778] طاولة بلازما رمادي TV 1002(1840) FULL CE        22.0   \n",
       "                              [RS-MATIA-04] مخدة راحتي مطرز 50*75 RS-MATIA-04           17.0   \n",
       "                              [1220194] مرايا ستاند ابيض ذهبي MI TH4040 WH+GO           16.0   \n",
       "                                                                                               \n",
       "                                                                                               \n",
       "فريق المبيعات                 Product                                             sold units   \n",
       "معرض 1 الرياض متجر الالكتروني [048] مخدة راحتي RS Happy Dream Pillow 50*70              69.0   \n",
       "                              [952-1175] شجر ذرة غامق حوض بلاستيك صغير MIX 95...        40.0   \n",
       "                              [4928/7] معطر 4928/7                                      32.0   \n",
       "                              [C0961] مفرش هولمس نفر 4 قطع C0961 ZHEN                   31.0   \n",
       "                              [1270768] طاولة بلازما كولمبيا TV TVC1002 (1640...        29.0   \n",
       "                                                                                               \n",
       "                                                                                               \n",
       "فريق المبيعات                 Product                                             sold units   \n",
       "الطائف الصغير 2               [RS-MELOSA-02] مخدة راحتي سادة 50*75 RS-MELOSA-02         16.0   \n",
       "                              [H000886] عود ورد  H000886                                10.0   \n",
       "                              [الشرابية] سرير شرائح بيضاوي 90*190                        6.0   \n",
       "                              [M0476] مرتبة هيبى مون 90*190*18سم - M0476                 6.0   \n",
       "                              [M0460] مرتبة هيبي مون  80*170*10سم M0460                  6.0   \n",
       "                                                                                               \n",
       "                                                                                               \n",
       "فريق المبيعات                 Product                                             sold units   \n",
       "حائل 2                        [048] مخدة راحتي RS Happy Dream Pillow 50*70             101.0   \n",
       "                              [952-1175] شجر ذرة غامق حوض بلاستيك صغير MIX 95...        89.0   \n",
       "\n",
       "                                                                                  mean discounts  \\\n",
       "فريق المبيعات                 Product                                                              \n",
       "متجر قصر البيان الإلكتروني    [0004-403] دولاب ماليزى 6 باب ابيض 0004-403             519.307692   \n",
       "                              [1270791] طاولة بلازما رمادي ابيض TV SY065-16AG              151.0   \n",
       "                              [1130122] كرسي كاونتر رمادي CH 560 GR                        787.5   \n",
       "                              [1161612] طاولة شاي بني ذهبي   CT ZM 22281 BG                272.0   \n",
       "                              [0004-403] دولاب ماليزى 3 باب ابيض 0004-403             524.333333   \n",
       "                                                                                                   \n",
       "                                                                                                   \n",
       "فريق المبيعات                 Product                                             mean discounts   \n",
       "راحتي الالكتروني              [414141] شحن سريع                                         6.728571   \n",
       "                              [048] مخدة راحتي RS Happy Dream Pillow 50*70                  17.0   \n",
       "                              [S01] مرايا اسود - BLACK -S01                             1.290323   \n",
       "                              [1220193] مرايا ستاند ابيض ذهبي MI TH4550 WH+GO          17.555556   \n",
       "                              اختلاف اسعار بيع المتجر عن odoo                                0.0   \n",
       "                                                                                                   \n",
       "                                                                                                   \n",
       "فريق المبيعات                 Product                                             mean discounts   \n",
       "الإحساء                       [C0961] مفرش هولمس نفر 4 قطع C0961 ZHEN                 299.225806   \n",
       "                              [C0962] مفرش هولمس نفرين 6 قطع C0962 ZHENG              154.506849   \n",
       "                              [RS-MELOSA-02] مخدة راحتي سادة 50*75 RS-MELOSA-02       126.837838   \n",
       "                              [1270814] طاولة بلازما رمادي فاتح TV SY061-16D          133.106383   \n",
       "                              [S01] مرايا ابيض -WHITE -S01                             44.666667   \n",
       "                                                                                                   \n",
       "                                                                                                   \n",
       "فريق المبيعات                 Product                                             mean discounts   \n",
       "فرع تبوك                      [048] مخدة راحتي RS Happy Dream Pillow 50*70              165.3125   \n",
       "                              [1220193] مرايا ستاند ابيض ذهبي MI TH4550 WH+GO         208.846154   \n",
       "                              [1270778] طاولة بلازما رمادي TV 1002(1840) FULL CE           201.0   \n",
       "                              [RS-MATIA-04] مخدة راحتي مطرز 50*75 RS-MATIA-04              102.9   \n",
       "                              [1220194] مرايا ستاند ابيض ذهبي MI TH4040 WH+GO         222.769231   \n",
       "                                                                                                   \n",
       "                                                                                                   \n",
       "فريق المبيعات                 Product                                             mean discounts   \n",
       "معرض 1 الرياض متجر الالكتروني [048] مخدة راحتي RS Happy Dream Pillow 50*70            186.076923   \n",
       "                              [952-1175] شجر ذرة غامق حوض بلاستيك صغير MIX 95...       45.257143   \n",
       "                              [4928/7] معطر 4928/7                                          64.0   \n",
       "                              [C0961] مفرش هولمس نفر 4 قطع C0961 ZHEN                 182.285714   \n",
       "                              [1270768] طاولة بلازما كولمبيا TV TVC1002 (1640...       146.28125   \n",
       "                                                                                                   \n",
       "                                                                                                   \n",
       "فريق المبيعات                 Product                                             mean discounts   \n",
       "الطائف الصغير 2               [RS-MELOSA-02] مخدة راحتي سادة 50*75 RS-MELOSA-02       149.555556   \n",
       "                              [H000886] عود ورد  H000886                                    30.0   \n",
       "                              [الشرابية] سرير شرائح بيضاوي 90*190                          786.0   \n",
       "                              [M0476] مرتبة هيبى مون 90*190*18سم - M0476                   522.0   \n",
       "                              [M0460] مرتبة هيبي مون  80*170*10سم M0460                98.666667   \n",
       "                                                                                                   \n",
       "                                                                                                   \n",
       "فريق المبيعات                 Product                                             mean discounts   \n",
       "حائل 2                        [048] مخدة راحتي RS Happy Dream Pillow 50*70            120.092593   \n",
       "                              [952-1175] شجر ذرة غامق حوض بلاستيك صغير MIX 95...        76.22807   \n",
       "\n",
       "                                                                                  Subtotal  \n",
       "فريق المبيعات                 Product                                                       \n",
       "متجر قصر البيان الإلكتروني    [0004-403] دولاب ماليزى 6 باب ابيض 0004-403          16049.0  \n",
       "                              [1270791] طاولة بلازما رمادي ابيض TV SY065-16AG        990.0  \n",
       "                              [1130122] كرسي كاونتر رمادي CH 560 GR                  441.0  \n",
       "                              [1161612] طاولة شاي بني ذهبي   CT ZM 22281 BG          648.0  \n",
       "                              [0004-403] دولاب ماليزى 3 باب ابيض 0004-403           4639.0  \n",
       "                                                                                            \n",
       "                                                                                            \n",
       "فريق المبيعات                 Product                                             Subtotal  \n",
       "راحتي الالكتروني              [414141] شحن سريع                                     2189.0  \n",
       "                              [048] مخدة راحتي RS Happy Dream Pillow 50*70           975.0  \n",
       "                              [S01] مرايا اسود - BLACK -S01                         1665.0  \n",
       "                              [1220193] مرايا ستاند ابيض ذهبي MI TH4550 WH+GO       1476.0  \n",
       "                              اختلاف اسعار بيع المتجر عن odoo                       2377.0  \n",
       "                                                                                            \n",
       "                                                                                            \n",
       "فريق المبيعات                 Product                                             Subtotal  \n",
       "الإحساء                       [C0961] مفرش هولمس نفر 4 قطع C0961 ZHEN              18371.0  \n",
       "                              [C0962] مفرش هولمس نفرين 6 قطع C0962 ZHENG           10415.0  \n",
       "                              [RS-MELOSA-02] مخدة راحتي سادة 50*75 RS-MELOSA-02     2956.0  \n",
       "                              [1270814] طاولة بلازما رمادي فاتح TV SY061-16D        4554.0  \n",
       "                              [S01] مرايا ابيض -WHITE -S01                          1845.0  \n",
       "                                                                                            \n",
       "                                                                                            \n",
       "فريق المبيعات                 Product                                             Subtotal  \n",
       "فرع تبوك                      [048] مخدة راحتي RS Happy Dream Pillow 50*70            60.0  \n",
       "                              [1220193] مرايا ستاند ابيض ذهبي MI TH4550 WH+GO       1470.0  \n",
       "                              [1270778] طاولة بلازما رمادي TV 1002(1840) FULL CE    2618.0  \n",
       "                              [RS-MATIA-04] مخدة راحتي مطرز 50*75 RS-MATIA-04        850.0  \n",
       "                              [1220194] مرايا ستاند ابيض ذهبي MI TH4040 WH+GO        784.0  \n",
       "                                                                                            \n",
       "                                                                                            \n",
       "فريق المبيعات                 Product                                             Subtotal  \n",
       "معرض 1 الرياض متجر الالكتروني [048] مخدة راحتي RS Happy Dream Pillow 50*70           477.0  \n",
       "                              [952-1175] شجر ذرة غامق حوض بلاستيك صغير MIX 95...    1960.0  \n",
       "                              [4928/7] معطر 4928/7                                   448.0  \n",
       "                              [C0961] مفرش هولمس نفر 4 قطع C0961 ZHEN               3069.0  \n",
       "                              [1270768] طاولة بلازما كولمبيا TV TVC1002 (1640...    2871.0  \n",
       "                                                                                            \n",
       "                                                                                            \n",
       "فريق المبيعات                 Product                                             Subtotal  \n",
       "الطائف الصغير 2               [RS-MELOSA-02] مخدة راحتي سادة 50*75 RS-MELOSA-02      687.0  \n",
       "                              [H000886] عود ورد  H000886                              70.0  \n",
       "                              [الشرابية] سرير شرائح بيضاوي 90*190                   1494.0  \n",
       "                              [M0476] مرتبة هيبى مون 90*190*18سم - M0476            1062.0  \n",
       "                              [M0460] مرتبة هيبي مون  80*170*10سم M0460              678.0  \n",
       "                                                                                            \n",
       "                                                                                            \n",
       "فريق المبيعات                 Product                                             Subtotal  \n",
       "حائل 2                        [048] مخدة راحتي RS Happy Dream Pillow 50*70           550.0  \n",
       "                              [952-1175] شجر ذرة غامق حوض بلاستيك صغير MIX 95...    4372.0  "
      ]
     },
     "execution_count": 148,
     "metadata": {},
     "output_type": "execute_result"
    }
   ],
   "source": [
    "data_sales.head(50)"
   ]
  },
  {
   "cell_type": "markdown",
   "id": "99165777",
   "metadata": {},
   "source": [
    "### Get the top five products for each branch according to sales and profit (individually) "
   ]
  },
  {
   "cell_type": "code",
   "execution_count": 149,
   "id": "07b9f943",
   "metadata": {},
   "outputs": [],
   "source": [
    "temp = pd.DataFrame()\n",
    "Branches = list(df4['فريق المبيعات'].unique())\n",
    "temp.to_excel((str(m[0]) + ' products Per Branch' +'.xlsx'), sheet_name = 'Data')\n",
    "for x in Branches: \n",
    "    try:\n",
    "        branch_team = df4[df4['فريق المبيعات'] == x]\n",
    "        Total_sold = pd.pivot_table(branch_team, index=['فريق المبيعات', 'Product'], values=(['Quantity']), aggfunc = 'sum')\n",
    "        Total_sold.rename(columns ={'Quantity':'sold units'}, inplace = True)\n",
    "        Total_sold = Total_sold.sort_values(by= 'sold units', ascending = False).head(5)\n",
    "    except:\n",
    "        continue\n",
    "    mean_discounts = pd.pivot_table(branch_team, index=['فريق المبيعات', 'Product'], values=(['Total discount']), aggfunc = 'mean')\n",
    "    mean_discounts.rename(columns ={'Total discount':'mean discounts'}, inplace = True)        \n",
    "    total_sales = pd.pivot_table(branch_team, index=['فريق المبيعات', 'Product'], values=(['Subtotal']), aggfunc = 'sum')\n",
    "    total_sales.rename(columns ={'profit margin':'Total sales'}, inplace = True)\n",
    "    total_profit = pd.pivot_table(branch_team, index=['فريق المبيعات', 'Product'], values=(['profit margin']), aggfunc = 'sum')\n",
    "    total_profit.rename(columns ={'profit margin':'Total profit'}, inplace = True)\n",
    "    \n",
    "    df2 = Total_sold.merge(mean_discounts, on= ['فريق المبيعات', 'Product'], how= 'inner')\n",
    "    df2 = df2.merge(total_sales, on= ['فريق المبيعات', 'Product'], how= 'inner')\n",
    "    df2 = df2.merge(total_profit, on= ['فريق المبيعات', 'Product'], how= 'inner')\n",
    "    df2.sort_values(by= 'sold units', ascending = False)\n",
    "    with pd.ExcelWriter((str(m[0]) + ' products Per Branch' +'.xlsx'), engine='openpyxl', mode='a') as writer:\n",
    "        df2.to_excel(writer, sheet_name= x)   \n",
    "    \n",
    "\n"
   ]
  },
  {
   "cell_type": "markdown",
   "id": "5e686b60",
   "metadata": {},
   "source": [
    "### Get the top five products for each branch according to profit "
   ]
  },
  {
   "cell_type": "code",
   "execution_count": 142,
   "id": "76e22c4e",
   "metadata": {},
   "outputs": [],
   "source": [
    "data_profit = pd.DataFrame()\n",
    "for x in Branches: \n",
    "    try:\n",
    "        branch_team = df4[df4['فريق المبيعات'] == x]\n",
    "        Total_sold = pd.pivot_table(branch_team, index=['فريق المبيعات', 'Product'], values=(['Quantity']), aggfunc = 'sum')\n",
    "        Total_sold.rename(columns ={'Quantity':'sold units'}, inplace = True)\n",
    "        Total_sold = Total_sold.sort_values(by= 'sold units', ascending = False).head(5)\n",
    "    except:\n",
    "        continue\n",
    "    mean_discounts = pd.pivot_table(branch_team, index=['فريق المبيعات', 'Product'], values=(['Total discount']), aggfunc = 'mean')\n",
    "    mean_discounts.rename(columns ={'Total discount':'mean discounts'}, inplace = True)        \n",
    "    total_profit = pd.pivot_table(branch_team, index=['فريق المبيعات', 'Product'], values=(['profit margin']), aggfunc = 'sum')\n",
    "    total_profit.rename(columns ={'profit margin':'Total sales'}, inplace = True)\n",
    "    df2 = Total_sold.merge(mean_discounts, on= ['فريق المبيعات', 'Product'], how= 'inner')\n",
    "    df2 = df2.merge(total_profit, on= ['فريق المبيعات', 'Product'], how= 'inner')\n",
    "    df2.sort_values(by= 'sold units', ascending = False)\n",
    "    h = len(df2) + 1\n",
    "    df2.loc[' ', df2.columns] = ' '\n",
    "    df2.loc['  ', df2.columns] = ' '\n",
    "    df2.loc[('فريق المبيعات', 'Product'), df2.columns] = df2.columns\n",
    "    data_profit  = pd.concat([df2, data_profit], ignore_index=False)\n",
    "\n",
    "with pd.ExcelWriter((str(m[0]) + ' products Per Branch' +'.xlsx'), engine='openpyxl', mode='a') as writer:\n",
    "    data_profit.to_excel(writer, sheet_name= 'Profit')  "
   ]
  },
  {
   "cell_type": "markdown",
   "id": "dd2e9d06",
   "metadata": {},
   "source": [
    "# Association Analysis"
   ]
  },
  {
   "cell_type": "markdown",
   "id": "3602680e",
   "metadata": {},
   "source": [
    "## Without Services"
   ]
  },
  {
   "cell_type": "code",
   "execution_count": 105,
   "id": "aa76637e",
   "metadata": {},
   "outputs": [],
   "source": [
    "# Aggregating Products Based On The Order ID and put in list of lists called transaction\n",
    "x = pd.DataFrame(df4.groupby(['Date','رقم الفاتوره'])['Product'].apply(lambda x: list(x)))\n",
    "transactions = x['Product'].values.tolist()\n"
   ]
  },
  {
   "cell_type": "markdown",
   "id": "542529ad",
   "metadata": {},
   "source": [
    "#### Running the apriori"
   ]
  },
  {
   "cell_type": "code",
   "execution_count": 106,
   "id": "ee898cab",
   "metadata": {},
   "outputs": [],
   "source": [
    "rules = apriori(transactions, min_support=0.00030,min_confidence = 0.05,min_lift = 2,min_length = 2)\n",
    "results = list(rules)"
   ]
  },
  {
   "cell_type": "markdown",
   "id": "f8641fc3",
   "metadata": {},
   "source": [
    "#### Cleaning and putting the results in a dataframe"
   ]
  },
  {
   "cell_type": "code",
   "execution_count": 107,
   "id": "987dcae0",
   "metadata": {},
   "outputs": [
    {
     "data": {
      "text/html": [
       "<div>\n",
       "<style scoped>\n",
       "    .dataframe tbody tr th:only-of-type {\n",
       "        vertical-align: middle;\n",
       "    }\n",
       "\n",
       "    .dataframe tbody tr th {\n",
       "        vertical-align: top;\n",
       "    }\n",
       "\n",
       "    .dataframe thead th {\n",
       "        text-align: right;\n",
       "    }\n",
       "</style>\n",
       "<table border=\"1\" class=\"dataframe\">\n",
       "  <thead>\n",
       "    <tr style=\"text-align: right;\">\n",
       "      <th></th>\n",
       "      <th>Left Hand Side</th>\n",
       "      <th>Right Hand Side</th>\n",
       "      <th>Support</th>\n",
       "      <th>Confidence</th>\n",
       "      <th>Lift</th>\n",
       "    </tr>\n",
       "  </thead>\n",
       "  <tbody>\n",
       "    <tr>\n",
       "      <th>24</th>\n",
       "      <td>[RS-Mian-S-10] مفرش ميان نفر 4 ق -RS-Mian-S-10</td>\n",
       "      <td>[048] مخدة راحتي RS Happy Dream Pillow 50*70</td>\n",
       "      <td>0.000475</td>\n",
       "      <td>1.000000</td>\n",
       "      <td>37.241650</td>\n",
       "    </tr>\n",
       "    <tr>\n",
       "      <th>23</th>\n",
       "      <td>[RS-Mian-D-06] مفرش ميان نفرين 7 ق -RS-Mian-D-06</td>\n",
       "      <td>[048] مخدة راحتي RS Happy Dream Pillow 50*70</td>\n",
       "      <td>0.000369</td>\n",
       "      <td>0.777778</td>\n",
       "      <td>28.965728</td>\n",
       "    </tr>\n",
       "    <tr>\n",
       "      <th>83</th>\n",
       "      <td>[M0478] مرتبة هيبى مون 80*160*10سم M0478</td>\n",
       "      <td>[الشرابية] سرير خشب شرائح حواجز 80*160</td>\n",
       "      <td>0.000897</td>\n",
       "      <td>0.772727</td>\n",
       "      <td>697.515152</td>\n",
       "    </tr>\n",
       "    <tr>\n",
       "      <th>79</th>\n",
       "      <td>[M0472] مرتبة هيبى مون 120*190*18سم M0472</td>\n",
       "      <td>[الشرابية] سرير خشب شرائح  120*190</td>\n",
       "      <td>0.001055</td>\n",
       "      <td>0.769231</td>\n",
       "      <td>227.836538</td>\n",
       "    </tr>\n",
       "    <tr>\n",
       "      <th>77</th>\n",
       "      <td>[M0366] مرتبة سليب فايف ستار 120*190 - M0366</td>\n",
       "      <td>[الشرابية] سرير خشب شرائح  120*190</td>\n",
       "      <td>0.000580</td>\n",
       "      <td>0.687500</td>\n",
       "      <td>203.628906</td>\n",
       "    </tr>\n",
       "  </tbody>\n",
       "</table>\n",
       "</div>"
      ],
      "text/plain": [
       "                                      Left Hand Side  \\\n",
       "24    [RS-Mian-S-10] مفرش ميان نفر 4 ق -RS-Mian-S-10   \n",
       "23  [RS-Mian-D-06] مفرش ميان نفرين 7 ق -RS-Mian-D-06   \n",
       "83          [M0478] مرتبة هيبى مون 80*160*10سم M0478   \n",
       "79         [M0472] مرتبة هيبى مون 120*190*18سم M0472   \n",
       "77      [M0366] مرتبة سليب فايف ستار 120*190 - M0366   \n",
       "\n",
       "                                 Right Hand Side   Support  Confidence  \\\n",
       "24  [048] مخدة راحتي RS Happy Dream Pillow 50*70  0.000475    1.000000   \n",
       "23  [048] مخدة راحتي RS Happy Dream Pillow 50*70  0.000369    0.777778   \n",
       "83        [الشرابية] سرير خشب شرائح حواجز 80*160  0.000897    0.772727   \n",
       "79           [الشرابية] سرير خشب شرائح  120*190   0.001055    0.769231   \n",
       "77           [الشرابية] سرير خشب شرائح  120*190   0.000580    0.687500   \n",
       "\n",
       "          Lift  \n",
       "24   37.241650  \n",
       "23   28.965728  \n",
       "83  697.515152  \n",
       "79  227.836538  \n",
       "77  203.628906  "
      ]
     },
     "execution_count": 107,
     "metadata": {},
     "output_type": "execute_result"
    }
   ],
   "source": [
    "def inspect(results):\n",
    "    lhs         = [tuple(result[2][0][0])[0] for result in results]\n",
    "    rhs         = [tuple(result[2][0][1])[0] for result in results]\n",
    "    supports    = [result[1] for result in results]\n",
    "    confidences = [result[2][0][2] for result in results]\n",
    "    lifts       = [result[2][0][3] for result in results]\n",
    "    return list(zip(lhs, rhs, supports, confidences, lifts))\n",
    "ordered_results = pd.DataFrame(inspect(results), columns = ['Left Hand Side', 'Right Hand Side', 'Support', 'Confidence', 'Lift'])\n",
    "ordered_results.sort_values(by =['Confidence', 'Lift'], ascending = False).head(5)"
   ]
  },
  {
   "cell_type": "markdown",
   "id": "025b000f",
   "metadata": {},
   "source": [
    "#### Getting how many times each pairs appeared together in the orders"
   ]
  },
  {
   "cell_type": "code",
   "execution_count": 108,
   "id": "7c72695b",
   "metadata": {},
   "outputs": [],
   "source": [
    "count = [0 for i in range(0, ordered_results.shape[0])]\n",
    "for i in ordered_results.index:\n",
    "    for t in transactions:\n",
    "            if ordered_results.iloc[i, 0] in t:\n",
    "                if ordered_results.iloc[i, 1] in t:\n",
    "                    count[i] +=1\n",
    "\n",
    "                \n",
    "x =  count[0: ordered_results.shape[0]]\n",
    "ordered_results['times together algorithm'] = x"
   ]
  },
  {
   "cell_type": "markdown",
   "id": "711420c3",
   "metadata": {},
   "source": [
    "#### Putting the results in ordered_results dataset"
   ]
  },
  {
   "cell_type": "code",
   "execution_count": 109,
   "id": "1f7aa1f2",
   "metadata": {},
   "outputs": [],
   "source": [
    "ordered_results['times in invoice together'] = round(ordered_results['Support'] * len(transactions))\n",
    "ordered_results['times in invoice together'] = ordered_results['times in invoice together'].astype(int)"
   ]
  },
  {
   "cell_type": "markdown",
   "id": "cfb6f1cc",
   "metadata": {},
   "source": [
    "#### Save the ordered_results dataset"
   ]
  },
  {
   "cell_type": "code",
   "execution_count": 110,
   "id": "3d44c930",
   "metadata": {},
   "outputs": [],
   "source": [
    "ordered_results.sort_values(by =['Confidence', 'Lift']).to_excel('Basket_market_analysis.xlsx', sheet_name= 'بدون خدمات', index = False)"
   ]
  },
  {
   "cell_type": "markdown",
   "id": "18ee5c9c",
   "metadata": {},
   "source": [
    "## With Products"
   ]
  },
  {
   "cell_type": "code",
   "execution_count": 111,
   "id": "ff28ba5c",
   "metadata": {},
   "outputs": [],
   "source": [
    "# Aggregating Products Based On The Order ID and put in list of lists called transaction\n",
    "x = pd.DataFrame(df.groupby(['Date','رقم الفاتوره'])['Product'].apply(lambda x: list(x)))\n",
    "transactions = x['Product'].values.tolist()"
   ]
  },
  {
   "cell_type": "markdown",
   "id": "e5737a67",
   "metadata": {},
   "source": [
    "#### Running the apriori"
   ]
  },
  {
   "cell_type": "code",
   "execution_count": 112,
   "id": "e775ac9f",
   "metadata": {},
   "outputs": [],
   "source": [
    "rules = apriori(transactions, min_support=0.00030,min_confidence = 0.05,min_lift = 2,min_length = 2)\n",
    "results = list(rules)"
   ]
  },
  {
   "cell_type": "markdown",
   "id": "ef862dab",
   "metadata": {},
   "source": [
    "#### Cleaning and putting the results in a dataframe"
   ]
  },
  {
   "cell_type": "code",
   "execution_count": 113,
   "id": "6d10e691",
   "metadata": {},
   "outputs": [
    {
     "data": {
      "text/html": [
       "<div>\n",
       "<style scoped>\n",
       "    .dataframe tbody tr th:only-of-type {\n",
       "        vertical-align: middle;\n",
       "    }\n",
       "\n",
       "    .dataframe tbody tr th {\n",
       "        vertical-align: top;\n",
       "    }\n",
       "\n",
       "    .dataframe thead th {\n",
       "        text-align: right;\n",
       "    }\n",
       "</style>\n",
       "<table border=\"1\" class=\"dataframe\">\n",
       "  <thead>\n",
       "    <tr style=\"text-align: right;\">\n",
       "      <th></th>\n",
       "      <th>Left Hand Side</th>\n",
       "      <th>Right Hand Side</th>\n",
       "      <th>Support</th>\n",
       "      <th>Confidence</th>\n",
       "      <th>Lift</th>\n",
       "    </tr>\n",
       "  </thead>\n",
       "  <tbody>\n",
       "    <tr>\n",
       "      <th>68</th>\n",
       "      <td>[RS-Mian-S-10] مفرش ميان نفر 4 ق -RS-Mian-S-10</td>\n",
       "      <td>[048] مخدة راحتي RS Happy Dream Pillow 50*70</td>\n",
       "      <td>0.000507</td>\n",
       "      <td>1.000000</td>\n",
       "      <td>38.318447</td>\n",
       "    </tr>\n",
       "    <tr>\n",
       "      <th>253</th>\n",
       "      <td>[M0472] مرتبة هيبى مون 120*190*18سم M0472</td>\n",
       "      <td>[الشرابية] سرير خشب شرائح  120*190</td>\n",
       "      <td>0.001166</td>\n",
       "      <td>0.821429</td>\n",
       "      <td>245.607143</td>\n",
       "    </tr>\n",
       "    <tr>\n",
       "      <th>67</th>\n",
       "      <td>[RS-Mian-D-06] مفرش ميان نفرين 7 ق -RS-Mian-D-06</td>\n",
       "      <td>[048] مخدة راحتي RS Happy Dream Pillow 50*70</td>\n",
       "      <td>0.000355</td>\n",
       "      <td>0.777778</td>\n",
       "      <td>29.803236</td>\n",
       "    </tr>\n",
       "    <tr>\n",
       "      <th>257</th>\n",
       "      <td>[M0478] مرتبة هيبى مون 80*160*10سم M0478</td>\n",
       "      <td>[الشرابية] سرير خشب شرائح حواجز 80*160</td>\n",
       "      <td>0.000861</td>\n",
       "      <td>0.772727</td>\n",
       "      <td>726.142857</td>\n",
       "    </tr>\n",
       "    <tr>\n",
       "      <th>87</th>\n",
       "      <td>[3128-4] مرايا -3128-4</td>\n",
       "      <td>[11223344] RS خصم اضافي للعميل</td>\n",
       "      <td>0.000456</td>\n",
       "      <td>0.750000</td>\n",
       "      <td>20.442680</td>\n",
       "    </tr>\n",
       "  </tbody>\n",
       "</table>\n",
       "</div>"
      ],
      "text/plain": [
       "                                       Left Hand Side  \\\n",
       "68     [RS-Mian-S-10] مفرش ميان نفر 4 ق -RS-Mian-S-10   \n",
       "253         [M0472] مرتبة هيبى مون 120*190*18سم M0472   \n",
       "67   [RS-Mian-D-06] مفرش ميان نفرين 7 ق -RS-Mian-D-06   \n",
       "257          [M0478] مرتبة هيبى مون 80*160*10سم M0478   \n",
       "87                             [3128-4] مرايا -3128-4   \n",
       "\n",
       "                                  Right Hand Side   Support  Confidence  \\\n",
       "68   [048] مخدة راحتي RS Happy Dream Pillow 50*70  0.000507    1.000000   \n",
       "253           [الشرابية] سرير خشب شرائح  120*190   0.001166    0.821429   \n",
       "67   [048] مخدة راحتي RS Happy Dream Pillow 50*70  0.000355    0.777778   \n",
       "257        [الشرابية] سرير خشب شرائح حواجز 80*160  0.000861    0.772727   \n",
       "87                 [11223344] RS خصم اضافي للعميل  0.000456    0.750000   \n",
       "\n",
       "           Lift  \n",
       "68    38.318447  \n",
       "253  245.607143  \n",
       "67    29.803236  \n",
       "257  726.142857  \n",
       "87    20.442680  "
      ]
     },
     "execution_count": 113,
     "metadata": {},
     "output_type": "execute_result"
    }
   ],
   "source": [
    "ordered_results = pd.DataFrame(inspect(results), columns = ['Left Hand Side', 'Right Hand Side', 'Support', 'Confidence', 'Lift'])\n",
    "ordered_results.sort_values(by =['Confidence', 'Lift'], ascending = False).head(5)"
   ]
  },
  {
   "cell_type": "markdown",
   "id": "5cf64210",
   "metadata": {},
   "source": [
    "#### Getting how many times each pairs appeared together in the orders"
   ]
  },
  {
   "cell_type": "code",
   "execution_count": 114,
   "id": "3bd251ab",
   "metadata": {},
   "outputs": [],
   "source": [
    "count = [0 for i in range(0, ordered_results.shape[0])]\n",
    "for i in ordered_results.index:\n",
    "    for t in transactions:\n",
    "            if ordered_results.iloc[i, 0] in t:\n",
    "                if ordered_results.iloc[i, 1] in t:\n",
    "                    count[i] +=1\n",
    "\n",
    "                \n",
    "x =  count[0: ordered_results.shape[0]]\n",
    "ordered_results['times together algorithm'] = x"
   ]
  },
  {
   "cell_type": "markdown",
   "id": "28e1a4bc",
   "metadata": {},
   "source": [
    "#### Putting the results in ordered_results dataset"
   ]
  },
  {
   "cell_type": "code",
   "execution_count": 115,
   "id": "b6172bfa",
   "metadata": {},
   "outputs": [],
   "source": [
    "ordered_results['times in invoice together'] = round(ordered_results['Support'] * len(transactions))\n",
    "ordered_results['times in invoice together'] = ordered_results['times in invoice together'].astype(int)"
   ]
  },
  {
   "cell_type": "markdown",
   "id": "c6a89598",
   "metadata": {},
   "source": [
    "#### Save the ordered_results dataset"
   ]
  },
  {
   "cell_type": "code",
   "execution_count": 116,
   "id": "763c7e6a",
   "metadata": {},
   "outputs": [],
   "source": [
    "with pd.ExcelWriter('Basket_market_analysis.xlsx', engine='openpyxl', mode='a') as writer:\n",
    "    ordered_results.sort_values(by =['Confidence', 'Lift']).to_excel(writer, sheet_name= 'بخدمات', index = False)"
   ]
  }
 ],
 "metadata": {
  "kernelspec": {
   "display_name": "Python 3 (ipykernel)",
   "language": "python",
   "name": "python3"
  },
  "language_info": {
   "codemirror_mode": {
    "name": "ipython",
    "version": 3
   },
   "file_extension": ".py",
   "mimetype": "text/x-python",
   "name": "python",
   "nbconvert_exporter": "python",
   "pygments_lexer": "ipython3",
   "version": "3.11.5"
  }
 },
 "nbformat": 4,
 "nbformat_minor": 5
}
