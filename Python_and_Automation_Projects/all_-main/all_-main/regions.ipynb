{
 "cells": [
  {
   "cell_type": "code",
   "execution_count": 1,
   "id": "a69867fb",
   "metadata": {},
   "outputs": [],
   "source": [
    "List_datasets = ['Jan and Feb.xlsx', 'March and April.xlsx',  'May June.xlsx',\n",
    "                 'July and August .xlsx', 'Sep oct.xlsx', 'Nov.xlsx',\n",
    "                'Dec.xlsx']"
   ]
  },
  {
   "cell_type": "markdown",
   "id": "342309a7",
   "metadata": {},
   "source": [
    "# Importing Data And Libraries"
   ]
  },
  {
   "cell_type": "code",
   "execution_count": 2,
   "id": "a260c08b",
   "metadata": {},
   "outputs": [],
   "source": [
    "import os\n",
    "import pandas as pd\n",
    "import numpy as np\n",
    "import matplotlib.pyplot as plt"
   ]
  },
  {
   "cell_type": "code",
   "execution_count": 3,
   "id": "cd09dc9c",
   "metadata": {},
   "outputs": [],
   "source": [
    "from geopy.geocoders import Nominatim\n",
    "import time\n",
    "from pprint import pprint"
   ]
  },
  {
   "cell_type": "code",
   "execution_count": 4,
   "id": "712ffa09",
   "metadata": {},
   "outputs": [],
   "source": [
    "latitude = []\n",
    "longitude = []\n",
    "\n",
    "def get_location_by_address(address):\n",
    "    \"\"\"This function returns a location as raw from an address\n",
    "    will repeat until success\"\"\"\n",
    "    time.sleep(1)\n",
    "    try:\n",
    "        return app.geocode(address).raw\n",
    "    except:\n",
    "        pass"
   ]
  },
  {
   "cell_type": "code",
   "execution_count": 5,
   "id": "076244ef",
   "metadata": {},
   "outputs": [],
   "source": [
    "df_o  = pd.DataFrame()\n",
    "\n",
    "for dataframe in List_datasets:\n",
    "    dataset = pd.read_excel(dataframe)\n",
    "    df_o = pd.concat([df_o, dataset])\n",
    "\n",
    "df = df_o.copy()"
   ]
  },
  {
   "cell_type": "code",
   "execution_count": 6,
   "id": "02bd931e",
   "metadata": {},
   "outputs": [],
   "source": [
    "root_path = 'Desktop/'\n",
    "os.mkdir(os.path.join(root_path, 'مبيعات المناطق'))\n",
    "os.chdir(os.path.join(root_path, 'مبيعات المناطق'))"
   ]
  },
  {
   "cell_type": "markdown",
   "id": "ad48d09b",
   "metadata": {},
   "source": [
    "# Cleaning Part"
   ]
  },
  {
   "cell_type": "markdown",
   "id": "5aab6e94",
   "metadata": {},
   "source": [
    "### Extract the year and the month columns\n"
   ]
  },
  {
   "cell_type": "code",
   "execution_count": 7,
   "id": "c4613e45",
   "metadata": {},
   "outputs": [
    {
     "name": "stderr",
     "output_type": "stream",
     "text": [
      "C:\\Users\\Rahaty Store\\AppData\\Local\\Temp\\ipykernel_15936\\3301682872.py:1: UserWarning: Parsing dates in %d/%m/%Y format when dayfirst=False (the default) was specified. Pass `dayfirst=True` or specify a format to silence this warning.\n",
      "  df['day'] = pd.to_datetime(df['تاريخ الاضافة']).dt.day\n",
      "C:\\Users\\Rahaty Store\\AppData\\Local\\Temp\\ipykernel_15936\\3301682872.py:4: UserWarning: Parsing dates in %d/%m/%Y format when dayfirst=False (the default) was specified. Pass `dayfirst=True` or specify a format to silence this warning.\n",
      "  df['month'] = pd.to_datetime(df['تاريخ الاضافة']).dt.month_name()\n",
      "C:\\Users\\Rahaty Store\\AppData\\Local\\Temp\\ipykernel_15936\\3301682872.py:7: UserWarning: Parsing dates in %d/%m/%Y format when dayfirst=False (the default) was specified. Pass `dayfirst=True` or specify a format to silence this warning.\n",
      "  df['year'] = pd.to_datetime(df['تاريخ الاضافة']).dt.year\n"
     ]
    }
   ],
   "source": [
    "df['day'] = pd.to_datetime(df['تاريخ الاضافة']).dt.day\n",
    "d = list(df['day'].dropna().unique())\n",
    "\n",
    "df['month'] = pd.to_datetime(df['تاريخ الاضافة']).dt.month_name()\n",
    "m = list(df['month'].dropna().unique())\n",
    "\n",
    "df['year'] = pd.to_datetime(df['تاريخ الاضافة']).dt.year\n",
    "y = list(df['year'].dropna().unique())"
   ]
  },
  {
   "cell_type": "code",
   "execution_count": 8,
   "id": "d8c26715",
   "metadata": {},
   "outputs": [],
   "source": [
    "list_of_cities= list(df['المنطقة الجغرافية'].unique())\n",
    "cities_df = pd.DataFrame()\n",
    "cities_df['المنطقة الجغرافية'] = list_of_cities"
   ]
  },
  {
   "cell_type": "code",
   "execution_count": 9,
   "id": "ed941688",
   "metadata": {},
   "outputs": [],
   "source": [
    "latitude = []\n",
    "longitude = []\n",
    "app = Nominatim(user_agent=\"tutorial\")\n",
    "\n",
    "for city in list_of_cities:\n",
    "    try:\n",
    "        location=  app.geocode(' السعودية ' + city).raw\n",
    "        latitude.append(location[\"lat\"])\n",
    "        longitude.append(location[\"lon\"])\n",
    "    except:\n",
    "        latitude.append(0)\n",
    "        longitude.append(0)\n"
   ]
  },
  {
   "cell_type": "code",
   "execution_count": 10,
   "id": "00a864c1",
   "metadata": {},
   "outputs": [],
   "source": [
    "cities_df['lat'] = latitude\n",
    "cities_df['lon'] = longitude\n",
    "df = cities_df.merge(df, on = 'المنطقة الجغرافية', how = 'inner')"
   ]
  },
  {
   "cell_type": "code",
   "execution_count": 11,
   "id": "6141a0f9",
   "metadata": {},
   "outputs": [],
   "source": [
    "invoices= pd.pivot_table(df,index = ['المنطقة الجغرافية'], values=(['رقم الفاتورة']), aggfunc = 'nunique')\n",
    "invoices.rename(columns ={'رقم الفاتورة':'عدد الفواتير'}, inplace = True)\n",
    "\n",
    "Product_sales= pd.pivot_table(df,index = ['المنطقة الجغرافية'], values=(['الاجمالى.1']), aggfunc = 'sum')\n",
    "Product_sales.rename(columns ={'الاجمالى.1':'اجمالي المبيعات'}, inplace = True)\n",
    "\n",
    "quantity= pd.pivot_table(df,index = ['المنطقة الجغرافية'], values=(['الكمية']), aggfunc = 'sum')\n",
    "quantity.rename(columns ={'الكمية':'الوحدات المباعة من المنتجات'}, inplace = True)\n",
    "\n",
    "ship= pd.pivot_table(df,index = ['المنطقة الجغرافية'], values=(['تكلفة الشحن']), aggfunc = 'mean')\n",
    "ship.rename(columns ={'تكلفة الشحن':'متوسط تكلفة الشحن'}, inplace = True)\n",
    "\n",
    "df_sales =  invoices.copy()\n",
    "df_sales =  df_sales.merge(Product_sales, on = 'المنطقة الجغرافية', how = 'left')\n",
    "df_sales =  df_sales.merge(quantity, on = 'المنطقة الجغرافية', how = 'left')\n",
    "df_sales =  df_sales.merge(ship, on = 'المنطقة الجغرافية', how = 'left')\n",
    "\n",
    "df_sales.sort_values(by= \"اجمالي المبيعات\", ascending = False).to_excel('sales report.xlsx', sheet_name='مبيعات المدن')"
   ]
  },
  {
   "cell_type": "code",
   "execution_count": 12,
   "id": "e09bb5d8",
   "metadata": {},
   "outputs": [],
   "source": [
    "df[['المنطقة الجغرافية', 'lat', 'lon']]\n",
    "df_sales.reset_index(inplace = True)\n",
    "df_sales = df_sales.merge(df[['المنطقة الجغرافية', 'lat', 'lon']].drop_duplicates(), on = 'المنطقة الجغرافية', how = 'inner')\n",
    "df_sales.set_index('المنطقة الجغرافية')\n",
    "df_sales['متوسط تكلفة الشحن نسبة'] =(df_sales['متوسط تكلفة الشحن'] - df_sales['متوسط تكلفة الشحن'].min()) / (df_sales['متوسط تكلفة الشحن'].max() - df_sales['متوسط تكلفة الشحن'].min())"
   ]
  },
  {
   "cell_type": "code",
   "execution_count": 13,
   "id": "63daff57",
   "metadata": {},
   "outputs": [],
   "source": [
    "df_sales.to_excel('power_BI.xlsx')"
   ]
  },
  {
   "cell_type": "code",
   "execution_count": 14,
   "id": "8f98cefe",
   "metadata": {},
   "outputs": [],
   "source": [
    "data_sales = pd.DataFrame()\n",
    "regions = list(df['المنطقة الجغرافية'].unique())\n",
    "for x in regions: \n",
    "    try:\n",
    "        region = df[df['المنطقة الجغرافية'] == x]\n",
    "        Total_sold = pd.pivot_table(region, index=['المنطقة الجغرافية', 'اسم المنتج'], values=(['الكمية']), aggfunc = 'sum')\n",
    "        Total_sold.rename(columns ={'الكمية':'sold units'}, inplace = True)\n",
    "        Total_sold = Total_sold.sort_values(by= 'sold units', ascending = False).head(5)\n",
    "    except:\n",
    "        continue  \n",
    "    total_sales = pd.pivot_table(region, index=['المنطقة الجغرافية', 'اسم المنتج'], values=(['الاجمالى.1']), aggfunc = 'sum')\n",
    "    total_sales.rename(columns ={ 'الاجمالى.1':'اجمالي المبيعات'}, inplace = True)\n",
    "    df2 = Total_sold.merge(total_sales, on= ['المنطقة الجغرافية', 'اسم المنتج'], how= 'inner')\n",
    "    df2.sort_values(by= 'اجمالي المبيعات', ascending = False)\n",
    "    \n",
    "    h = len(df2) + 1\n",
    "    df2.loc[' ', df2.columns] = ' '\n",
    "    df2.loc['  ', df2.columns] = ' '\n",
    "    df2.loc[('المنطقة الجغرافية', 'اسم المنتج'), df2.columns] = df2.columns\n",
    "    data_sales  = pd.concat([df2, data_sales], ignore_index=False)\n",
    "    data_sales.merge\n",
    "\n",
    "data_sales.to_excel(' products Per region.xlsx', sheet_name= 'Sales')   "
   ]
  },
  {
   "cell_type": "code",
   "execution_count": 15,
   "id": "6826f390",
   "metadata": {},
   "outputs": [],
   "source": [
    "data_sales = pd.DataFrame()\n",
    "for x in regions: \n",
    "        region = df[df['المنطقة الجغرافية'] == x]\n",
    "        pay_op = pd.pivot_table(region,index = ['المنطقة الجغرافية', 'طريقة الدفع'], values=(['رقم الفاتورة']), aggfunc = 'count')\n",
    "        pay_op.rename(columns ={'رقم الفاتورة':  'عدد مرات الاستخدام'}, inplace = True)\n",
    "        pay_op = pay_op.sort_values(by= 'عدد مرات الاستخدام', ascending = False).head(3)\n",
    "        h = len(pay_op) + 1\n",
    "        pay_op.loc[' ', pay_op.columns] = ' '\n",
    "        pay_op.loc['  ', pay_op.columns] = ' '\n",
    "        pay_op.loc[('المنطقة الجغرافية', 'طريقة الدفع'), pay_op.columns] = pay_op.columns\n",
    "        data_sales  = pd.concat([pay_op, data_sales], ignore_index=False)\n",
    "        \n",
    "        \n",
    "with pd.ExcelWriter((' products Per region.xlsx'), engine='openpyxl', mode='a') as writer:\n",
    "    data_sales.to_excel(writer, sheet_name= 'طرق الدفع')          \n"
   ]
  }
 ],
 "metadata": {
  "kernelspec": {
   "display_name": "Python 3 (ipykernel)",
   "language": "python",
   "name": "python3"
  },
  "language_info": {
   "codemirror_mode": {
    "name": "ipython",
    "version": 3
   },
   "file_extension": ".py",
   "mimetype": "text/x-python",
   "name": "python",
   "nbconvert_exporter": "python",
   "pygments_lexer": "ipython3",
   "version": "3.11.5"
  }
 },
 "nbformat": 4,
 "nbformat_minor": 5
}
